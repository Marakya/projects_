{
 "cells": [
  {
   "cell_type": "code",
   "execution_count": 1,
   "id": "f8bc91e7",
   "metadata": {},
   "outputs": [],
   "source": [
    "import pandas as pd\n",
    "import numpy as np\n",
    "import matplotlib.pyplot as plt\n",
    "\n",
    "import keras\n",
    "from sklearn import preprocessing\n",
    "from keras.models import Sequential\n",
    "from keras.layers import Dense, Dropout, LSTM, Activation, Embedding\n",
    "\n",
    "from tensorflow.keras.optimizers import Adam, RMSprop\n",
    "from keras.layers import Input, Reshape, Dropout\n",
    "from keras import Model\n",
    "\n",
    "# from keras.utils import plot_model\n",
    "from keras.layers import RepeatVector, TimeDistributed\n",
    "from keras.callbacks import ModelCheckpoint, TensorBoard\n",
    "\n",
    "import math\n",
    "from tqdm import tqdm\n",
    "from sklearn.preprocessing import StandardScaler\n",
    "from sklearn.metrics import classification_report, f1_score"
   ]
  },
  {
   "cell_type": "code",
   "execution_count": 2,
   "id": "88bcee10",
   "metadata": {},
   "outputs": [],
   "source": [
    "from sklearn.preprocessing import MinMaxScaler"
   ]
  },
  {
   "cell_type": "code",
   "execution_count": 3,
   "id": "d5d44cd9",
   "metadata": {},
   "outputs": [],
   "source": [
    "import warnings\n",
    "warnings.filterwarnings(\"ignore\")"
   ]
  },
  {
   "cell_type": "code",
   "execution_count": 4,
   "id": "1a2522cf",
   "metadata": {},
   "outputs": [],
   "source": [
    "df = pd.read_csv('datasets/GHL/train_1500000_seed_11_vars_23.csv')[10000:]\n",
    "df_test1 = pd.read_csv('datasets/GHL/40_Lev_corr_Temp_fault_seed_180_vars_23.csv')[10000:]\n"
   ]
  },
  {
   "cell_type": "code",
   "execution_count": 5,
   "id": "f229df4d",
   "metadata": {},
   "outputs": [],
   "source": [
    "y1 = df_test1['ATTACK']\n",
    "\n",
    "# Все нужные признаки по мнению авторов\n",
    "all_cols = ['RT_level', 'RT_temperature.T', 'HT_temperature.T','inj_valve_act', 'heater_act']\n",
    "# Числовые признаки\n",
    "num_cols = ['RT_level', 'RT_temperature.T', 'HT_temperature.T']\n",
    "# Категориальные признаки\n",
    "cat_cols = ['inj_valve_act', 'heater_act']\n",
    "\n",
    "df = df[all_cols]\n",
    "df_test1 = df_test1[all_cols]"
   ]
  },
  {
   "cell_type": "markdown",
   "id": "7b2e0aa4",
   "metadata": {},
   "source": [
    "#### Анализ данных"
   ]
  },
  {
   "cell_type": "code",
   "execution_count": 7,
   "id": "4b4b240e",
   "metadata": {
    "scrolled": true
   },
   "outputs": [],
   "source": [
    "# for i in cat_cols:\n",
    "#     val = list(df[i].unique())\n",
    "#     val1 = list(df_test1[i].unique())    \n",
    "#     print(i, '-- df -', val, '| df_test1 -', val1, '| df_test2 -', val2,'| df_test3 -', val3)"
   ]
  },
  {
   "cell_type": "markdown",
   "id": "7adb6a22",
   "metadata": {},
   "source": [
    "Все категориальные признаки одинаковые и в Train, и в Test выборках"
   ]
  },
  {
   "cell_type": "markdown",
   "id": "e2cbeecc",
   "metadata": {},
   "source": [
    "#### Preprocessing"
   ]
  },
  {
   "cell_type": "code",
   "execution_count": 8,
   "id": "fa7a76dd",
   "metadata": {},
   "outputs": [],
   "source": [
    "def preprocessing(data, window_size=3):\n",
    "    # OneHot Категориальных признаков\n",
    "#     data = pd.get_dummies(data, columns=['boundary.m_flow_in'])\n",
    "    \n",
    "    # Скалирование числовых признаков\n",
    "    sc = StandardScaler()\n",
    "    data_sc = sc.fit_transform(data[num_cols])\n",
    "    data[num_cols] = data_sc\n",
    "    \n",
    "    # Окно\n",
    "    data_w = data.values[np.arange(window_size)[None, :] + np.arange(data.shape[0]-window_size)[:, None]]\n",
    "    return data_w"
   ]
  },
  {
   "cell_type": "code",
   "execution_count": 9,
   "id": "6cdfa205",
   "metadata": {},
   "outputs": [],
   "source": [
    "df_w = preprocessing(df[:500000], window_size=12)\n",
    "df_test1_w = preprocessing(df_test1, window_size=12)\n",
    "\n",
    "df_train_w = preprocessing(df[500000:700000], window_size=12)"
   ]
  },
  {
   "cell_type": "markdown",
   "id": "4fe97849",
   "metadata": {},
   "source": [
    "#### Визуализация"
   ]
  },
  {
   "cell_type": "code",
   "execution_count": null,
   "id": "05e4d35a",
   "metadata": {},
   "outputs": [],
   "source": [
    "def show_ts(data, y):\n",
    "    cols = data.columns\n",
    "    plt.figure(figsize=(15,7))\n",
    "    for col in cols:\n",
    "        plt.plot(data[col], label=col)\n",
    "    plt.legend(loc='upper left')\n",
    "    plt.grid()\n",
    "    plt.show()\n",
    "    plt.close()\n",
    "    \n",
    "    plt.figure(figsize=(15,2))\n",
    "    plt.plot(y)"
   ]
  },
  {
   "cell_type": "code",
   "execution_count": null,
   "id": "3901aeb3",
   "metadata": {
    "scrolled": false
   },
   "outputs": [],
   "source": [
    "for i in [(df_test1, y1), (df_test2, y2), (df_test3, y3), (df_test4, y4)]:\n",
    "    show_ts(i[0], i[1])"
   ]
  },
  {
   "cell_type": "markdown",
   "id": "6dd8e83e",
   "metadata": {},
   "source": [
    "### Модель"
   ]
  },
  {
   "cell_type": "code",
   "execution_count": null,
   "id": "a1e5ed76",
   "metadata": {},
   "outputs": [],
   "source": [
    "def init_model(timesteps, n_features, num_cells=64, dropout_rate=0.1, lr=0.01):\n",
    "    lstm_autoencoder = Sequential()\n",
    "    # Encoder\n",
    "    lstm_autoencoder.add(LSTM(64, activation='tanh', input_shape=(timesteps, n_features), return_sequences=True))\n",
    "    lstm_autoencoder.add(LSTM(8, activation='tanh', return_sequences=False))\n",
    "    lstm_autoencoder.add(RepeatVector(timesteps))\n",
    "    # Decoder\n",
    "    lstm_autoencoder.add(LSTM(8, activation='tanh', return_sequences=True))\n",
    "    lstm_autoencoder.add(LSTM(64, activation='tanh', return_sequences=True))\n",
    "    lstm_autoencoder.add(TimeDistributed(Dense(n_features)))\n",
    "\n",
    "    adam = Adam(lr)\n",
    "    lstm_autoencoder.compile(loss='mse', optimizer=adam)\n",
    "\n",
    "    cp = ModelCheckpoint(filepath=\"lstm_autoencoder_classifier.h5\",\n",
    "                                   save_best_only=True,\n",
    "                                   verbose=0)\n",
    "\n",
    "    tb = TensorBoard(log_dir='./logs',\n",
    "                    histogram_freq=0,\n",
    "                    write_graph=True,\n",
    "                    write_images=True)\n",
    "    return lstm_autoencoder\n",
    "\n",
    "def fit_model(x, model, epochs=5, batch_size=1000, validation_split=0.2):\n",
    "    lstm_autoencoder_history = model.fit(x, x, \n",
    "                        epochs=epochs, \n",
    "                        batch_size=batch_size, \n",
    "                        validation_split=validation_split,\n",
    "                        verbose=1, callbacks = [keras.callbacks.EarlyStopping(monitor='val_loss', min_delta=0, patience=10, verbose=0, mode='auto')]).history\n",
    "    return lstm_autoencoder_history\n",
    "\n",
    "def plt_epoch_error(history):\n",
    "    plt.plot(history['loss'], linewidth=2, label='Train')\n",
    "    plt.plot(history['val_loss'], linewidth=2, label='Valid')\n",
    "    plt.legend(loc='upper right')\n",
    "    plt.title('Model loss')\n",
    "    plt.ylabel('Loss')\n",
    "    plt.xlabel('Epoch')\n",
    "    plt.show()"
   ]
  },
  {
   "cell_type": "code",
   "execution_count": null,
   "id": "754876fd",
   "metadata": {},
   "outputs": [],
   "source": [
    "timesteps = df_w.shape[1]\n",
    "n_features = df_w.shape[2]"
   ]
  },
  {
   "cell_type": "code",
   "execution_count": null,
   "id": "1a614e31",
   "metadata": {},
   "outputs": [],
   "source": [
    "model = init_model(timesteps=timesteps, n_features=n_features)"
   ]
  },
  {
   "cell_type": "code",
   "execution_count": null,
   "id": "cec6d25f",
   "metadata": {
    "scrolled": true
   },
   "outputs": [],
   "source": [
    "history = fit_model(df_w, model)"
   ]
  },
  {
   "cell_type": "code",
   "execution_count": null,
   "id": "8a56f30a",
   "metadata": {},
   "outputs": [],
   "source": [
    "plt_epoch_error(history)"
   ]
  },
  {
   "cell_type": "code",
   "execution_count": null,
   "id": "15f0d1d8",
   "metadata": {},
   "outputs": [],
   "source": [
    "model.save('Gasoil_window_12')"
   ]
  },
  {
   "cell_type": "code",
   "execution_count": 10,
   "id": "268115d8",
   "metadata": {},
   "outputs": [],
   "source": [
    "# Загружаем ранее обученную\n",
    "model = keras.models.load_model('Gasoil_window_12')"
   ]
  },
  {
   "cell_type": "markdown",
   "id": "854d2b39",
   "metadata": {},
   "source": [
    "#### MSE"
   ]
  },
  {
   "cell_type": "code",
   "execution_count": 11,
   "id": "6d718528",
   "metadata": {},
   "outputs": [],
   "source": [
    "def flatten_2(data):\n",
    "    return np.reshape(data, (data.shape[0], data.shape[1]*data.shape[2]))\n",
    "\n",
    "def plt_mse(mse, title='MSE'):\n",
    "    plt.figure(figsize=(10,5))\n",
    "    plt.title(title)\n",
    "    plt.plot(mse)"
   ]
  },
  {
   "cell_type": "code",
   "execution_count": 12,
   "id": "40a14adf",
   "metadata": {},
   "outputs": [
    {
     "name": "stdout",
     "output_type": "stream",
     "text": [
      "6250/6250 [==============================] - 50s 8ms/step\n"
     ]
    }
   ],
   "source": [
    "pred_train = model.predict(df_train_w)"
   ]
  },
  {
   "cell_type": "code",
   "execution_count": 13,
   "id": "9dabffc7",
   "metadata": {},
   "outputs": [],
   "source": [
    "mse_train = np.mean(np.power(flatten_2(df_train_w) - flatten_2(pred_train), 2), axis=1)"
   ]
  },
  {
   "cell_type": "code",
   "execution_count": 14,
   "id": "100066ab",
   "metadata": {
    "scrolled": true
   },
   "outputs": [
    {
     "data": {
      "image/png": "[encoded data removed]",
      "text/plain": [
       "<Figure size 720x360 with 1 Axes>"
      ]
     },
     "metadata": {
      "needs_background": "light"
     },
     "output_type": "display_data"
    }
   ],
   "source": [
    "plt_mse(mse_train, title='MSE_train')"
   ]
  },
  {
   "cell_type": "code",
   "execution_count": 15,
   "id": "76135ca0",
   "metadata": {},
   "outputs": [
    {
     "name": "stdout",
     "output_type": "stream",
     "text": [
      "6080/6080 [==============================] - 49s 8ms/step\n"
     ]
    }
   ],
   "source": [
    "pred_test = model.predict(df_test1_w)"
   ]
  },
  {
   "cell_type": "code",
   "execution_count": 16,
   "id": "91715a35",
   "metadata": {},
   "outputs": [],
   "source": [
    "mse_test1 = np.mean(np.power(flatten_2(df_test1_w) - flatten_2(pred_test), 2), axis=1)"
   ]
  },
  {
   "cell_type": "code",
   "execution_count": 17,
   "id": "5a293234",
   "metadata": {
    "scrolled": true
   },
   "outputs": [
    {
     "data": {
      "image/png": "[encoded data removed]",
      "text/plain": [
       "<Figure size 720x360 with 1 Axes>"
      ]
     },
     "metadata": {
      "needs_background": "light"
     },
     "output_type": "display_data"
    }
   ],
   "source": [
    "plt_mse(mse_test1, title='MSE_test1')"
   ]
  },
  {
   "cell_type": "markdown",
   "id": "00afbfff",
   "metadata": {},
   "source": [
    "### OCSVM"
   ]
  },
  {
   "cell_type": "code",
   "execution_count": 18,
   "id": "6d6fe36c",
   "metadata": {},
   "outputs": [],
   "source": [
    "import math\n",
    "from sklearn import svm"
   ]
  },
  {
   "cell_type": "code",
   "execution_count": 19,
   "id": "1340dd4c",
   "metadata": {},
   "outputs": [],
   "source": [
    "def change_label(label):\n",
    "    arr = []\n",
    "    for i in label: \n",
    "        if i == -1:\n",
    "            arr.append(1)\n",
    "        else:\n",
    "            arr.append(0)\n",
    "    return arr\n",
    "\n",
    "def print_distrib(arr):\n",
    "    labels = {}\n",
    "    for i in arr:\n",
    "        if i in labels.keys():\n",
    "            labels[i] += 1\n",
    "        else:\n",
    "            labels[i] = 1\n",
    "    print(labels)"
   ]
  },
  {
   "cell_type": "markdown",
   "id": "73189ce1",
   "metadata": {},
   "source": [
    "#### В OCSVM будем передавать многомерный вектор с ошибкой реконтрукции"
   ]
  },
  {
   "cell_type": "code",
   "execution_count": 20,
   "id": "e6e4601b",
   "metadata": {},
   "outputs": [],
   "source": [
    "e=(df_train_w - pred_train)**2\n",
    "nsamples, nx, ny = e.shape\n",
    "d2_e = e.reshape((nsamples,nx*ny)) # --- X_train\n",
    "\n",
    "e_t=(df_test1_w - pred_test)**2\n",
    "nsamples, nx, ny = e_t.shape\n",
    "d2_e_t = e_t.reshape((nsamples,nx*ny)) # ---  X_test\n"
   ]
  },
  {
   "cell_type": "code",
   "execution_count": 21,
   "id": "0716cb1d",
   "metadata": {
    "scrolled": true
   },
   "outputs": [
    {
     "name": "stdout",
     "output_type": "stream",
     "text": [
      "FIT....\n",
      "FIT DONE\n",
      "PREDICT...\n",
      "PREDICT DONE\n",
      "{0: 192554, 1: 1992}\n",
      "0.6523172387046733\n",
      "              precision    recall  f1-score   support\n",
      "\n",
      "         0.0       0.99      1.00      1.00    191381\n",
      "         1.0       0.84      0.53      0.65      3165\n",
      "\n",
      "    accuracy                           0.99    194546\n",
      "   macro avg       0.92      0.76      0.82    194546\n",
      "weighted avg       0.99      0.99      0.99    194546\n",
      "\n"
     ]
    }
   ],
   "source": [
    "clf_1 = svm.OneClassSVM(nu=0.000081, kernel=\"rbf\", gamma=0.01)\n",
    "\n",
    "print('FIT....')\n",
    "clf_1.fit(d2_e)\n",
    "print('FIT DONE')\n",
    "print('PREDICT...')\n",
    "y_scores_1 = clf_1.predict(d2_e_t)\n",
    "print('PREDICT DONE')\n",
    "\n",
    "anomaly1 = change_label(y_scores_1)\n",
    "print_distrib(anomaly1)\n",
    "print(f1_score(y1[:len(y1)-12].values, anomaly1))\n",
    "print(classification_report(y1[:len(y1)-12].values, anomaly1))"
   ]
  },
  {
   "cell_type": "markdown",
   "id": "6ad6d658",
   "metadata": {},
   "source": [
    "#### Подбираем гиперпраметры OCSVM"
   ]
  },
  {
   "cell_type": "code",
   "execution_count": null,
   "id": "9434b480",
   "metadata": {
    "scrolled": true
   },
   "outputs": [],
   "source": [
    "from time import time\n",
    "\n",
    "num = 0\n",
    "best_f1 = [0,0]\n",
    "all_models = {}\n",
    "\n",
    "\n",
    "for gamma in np.arange(1., 2., 0.1): # gamma    \n",
    "    for nu in np.arange(0.00005, 0.0002, 0.00001): # NU\n",
    "        start = time()\n",
    "        print(num, \" -- model FIT... -- nu:\", nu, \"| kernel: rbf\", '| gamma:', gamma)\n",
    "        clf_1 = svm.OneClassSVM(nu=nu, kernel=\"rbf\", gamma=gamma)\n",
    "        clf_1.fit(d2_e)\n",
    "        print('FIT DONE')\n",
    "        print('PREDICT...')\n",
    "        y_scores_1 = clf_1.predict(d2_e_t)\n",
    "        print('PREDICT DONE')\n",
    "\n",
    "        anomaly1 = change_label(y_scores_1)\n",
    "        print_distrib(anomaly1)\n",
    "\n",
    "        f1 = f1_score(y1[:len(y1)-12].values, anomaly1)\n",
    "\n",
    "\n",
    "        if f1 > best_f1[1]:\n",
    "            best_f1[0] = num\n",
    "            best_f1[1] = f1\n",
    "            all_models[num] = {'nu':nu, 'kernel':'rbf', 'gamma':gamma}\n",
    "        num+=1\n",
    "\n",
    "        print('-- F1: ', f1, ' -- TIME:', (time() - start))\n",
    "        print('------------------------------------')\n"
   ]
  },
  {
   "cell_type": "code",
   "execution_count": null,
   "id": "20ffb04a",
   "metadata": {},
   "outputs": [],
   "source": [
    "print(best_f1[1])\n",
    "print(all_models[best_f1[0]])"
   ]
  },
  {
   "cell_type": "markdown",
   "id": "373fb5ff",
   "metadata": {},
   "source": [
    "#### Получаем скор на всех аномальных датасетах"
   ]
  },
  {
   "cell_type": "code",
   "execution_count": 22,
   "id": "845f46c0",
   "metadata": {},
   "outputs": [],
   "source": [
    "datasets = []\n",
    "\n",
    "import os\n",
    "for root, dirs, files in os.walk(\"datasets/GHL\"):  \n",
    "    for filename in files:\n",
    "        datasets.append(str(filename))"
   ]
  },
  {
   "cell_type": "code",
   "execution_count": 23,
   "id": "a2e51d31",
   "metadata": {},
   "outputs": [],
   "source": [
    "datasets = datasets[:-1]"
   ]
  },
  {
   "cell_type": "code",
   "execution_count": 24,
   "id": "3dbe0eb8",
   "metadata": {},
   "outputs": [],
   "source": [
    "def get_score(data, model_nn, model_ocsvm, treshold):\n",
    "    path = 'datasets/GHL/' + data\n",
    "    \n",
    "    # подгтовка данных\n",
    "    data_df = pd.read_csv(path)[10000:]\n",
    "    y = data_df['ATTACK']\n",
    "    data_df_ = data_df[all_cols]\n",
    "    data_df_w = preprocessing(data_df_, window_size=12)\n",
    "    \n",
    "    # получаем mse     \n",
    "    pred = model_nn.predict(data_df_w)\n",
    "    \n",
    "    e_t=(data_df_w - pred)**2\n",
    "    nsamples, nx, ny = e_t.shape\n",
    "    d2_e_t = e_t.reshape((nsamples,nx*ny))\n",
    "    \n",
    "    # Порог\n",
    "    mse = np.mean(np.power(flatten_2(data_df_w) - flatten_2(pred), 2), axis=1)\n",
    "    anomaly_treshold = []\n",
    "    for i in mse:\n",
    "        if i > treshold:\n",
    "            anomaly_treshold.append(1.)\n",
    "        else: anomaly_treshold.append(0.)\n",
    "    f1_treshold = f1_score(y[:len(y)-12].values, anomaly_treshold)\n",
    "    \n",
    "    # классифицируем\n",
    "#     mse_rs = np.reshape(mse, (mse.shape[0], 1))\n",
    "    y_scores = model_ocsvm.predict(d2_e_t)\n",
    "    anomaly = change_label(y_scores)\n",
    "    f1_ocsvm = f1_score(y[:len(y)-12].values, anomaly)\n",
    "    return f1_treshold, f1_ocsvm, mse\n"
   ]
  },
  {
   "cell_type": "code",
   "execution_count": 79,
   "id": "db0351a3",
   "metadata": {},
   "outputs": [],
   "source": [
    "from time import time"
   ]
  },
  {
   "cell_type": "code",
   "execution_count": 80,
   "id": "b541bf11",
   "metadata": {
    "scrolled": true
   },
   "outputs": [
    {
     "name": "stdout",
     "output_type": "stream",
     "text": [
      "6080/6080 [==============================] - 60s 10ms/step\n",
      "1 DATA | F1_treshold -- 0.0064 | F1_ocsvm -- 0.0071\n",
      "71.00728273391724\n",
      "--------------\n",
      "6079/6079 [==============================] - 56s 9ms/step\n",
      "2 DATA | F1_treshold -- 0.1751 | F1_ocsvm -- 0.1531\n",
      "63.25466775894165\n",
      "--------------\n",
      "6080/6080 [==============================] - 60s 10ms/step\n",
      "3 DATA | F1_treshold -- 0.1814 | F1_ocsvm -- 0.1683\n",
      "68.6653482913971\n",
      "--------------\n",
      "6078/6078 [==============================] - 62s 10ms/step\n",
      "4 DATA | F1_treshold -- 0.1781 | F1_ocsvm -- 0.1536\n",
      "69.09205532073975\n",
      "--------------\n",
      "6079/6079 [==============================] - 58s 10ms/step\n",
      "5 DATA | F1_treshold -- 0.1402 | F1_ocsvm -- 0.0481\n",
      "62.80219793319702\n",
      "--------------\n",
      "6083/6083 [==============================] - 54s 9ms/step\n",
      "6 DATA | F1_treshold -- 0.1749 | F1_ocsvm -- 0.1344\n",
      "60.76731586456299\n",
      "--------------\n",
      "6085/6085 [==============================] - 56s 9ms/step\n",
      "7 DATA | F1_treshold -- 0.0079 | F1_ocsvm -- 0.006\n",
      "61.93807291984558\n",
      "--------------\n",
      "6080/6080 [==============================] - 52s 8ms/step\n",
      "8 DATA | F1_treshold -- 0.0095 | F1_ocsvm -- 0.0072\n",
      "56.37589621543884\n",
      "--------------\n",
      "6082/6082 [==============================] - 50s 8ms/step\n",
      "9 DATA | F1_treshold -- 0.1793 | F1_ocsvm -- 0.1543\n",
      "55.57853960990906\n",
      "--------------\n",
      "6070/6070 [==============================] - 52s 8ms/step\n",
      "10 DATA | F1_treshold -- 0.0484 | F1_ocsvm -- 0.0235\n",
      "57.48314809799194\n",
      "--------------\n",
      "6084/6084 [==============================] - 51s 8ms/step\n",
      "11 DATA | F1_treshold -- 0.0048 | F1_ocsvm -- 0.0045\n",
      "56.58392572402954\n",
      "--------------\n",
      "6086/6086 [==============================] - 52s 9ms/step\n",
      "12 DATA | F1_treshold -- 0.028 | F1_ocsvm -- 0.0161\n",
      "57.897120237350464\n",
      "--------------\n",
      "6090/6090 [==============================] - 50s 8ms/step\n",
      "13 DATA | F1_treshold -- 0.1743 | F1_ocsvm -- 0.1271\n",
      "55.96479058265686\n",
      "--------------\n",
      "6087/6087 [==============================] - 51s 8ms/step\n",
      "14 DATA | F1_treshold -- 0.179 | F1_ocsvm -- 0.1366\n",
      "56.86220335960388\n",
      "--------------\n",
      "6087/6087 [==============================] - 52s 9ms/step\n",
      "15 DATA | F1_treshold -- 0.0079 | F1_ocsvm -- 0.0075\n",
      "56.60606837272644\n",
      "--------------\n",
      "6077/6077 [==============================] - 54s 9ms/step\n",
      "16 DATA | F1_treshold -- 0.1387 | F1_ocsvm -- 0.0976\n",
      "59.706995248794556\n",
      "--------------\n",
      "6084/6084 [==============================] - 53s 9ms/step\n",
      "17 DATA | F1_treshold -- 0.1725 | F1_ocsvm -- 0.1349\n",
      "84.66488003730774\n",
      "--------------\n",
      "6081/6081 [==============================] - 51s 8ms/step\n",
      "18 DATA | F1_treshold -- 0.1786 | F1_ocsvm -- 0.1571\n",
      "57.151493549346924\n",
      "--------------\n",
      "6089/6089 [==============================] - 54s 9ms/step\n",
      "19 DATA | F1_treshold -- 0.0032 | F1_ocsvm -- 0.0016\n",
      "60.01713418960571\n",
      "--------------\n",
      "6080/6080 [==============================] - 54s 9ms/step\n",
      "20 DATA | F1_treshold -- 0.1804 | F1_ocsvm -- 0.1614\n",
      "59.33736562728882\n",
      "--------------\n",
      "6090/6090 [==============================] - 55s 9ms/step\n",
      "21 DATA | F1_treshold -- 0.0158 | F1_ocsvm -- 0.0123\n",
      "60.2012243270874\n",
      "--------------\n",
      "6082/6082 [==============================] - 55s 9ms/step\n",
      "22 DATA | F1_treshold -- 0.1583 | F1_ocsvm -- 0.1154\n",
      "59.72839021682739\n",
      "--------------\n",
      "6090/6090 [==============================] - 58s 9ms/step\n",
      "23 DATA | F1_treshold -- 0.19 | F1_ocsvm -- 0.188\n",
      "62.34377455711365\n",
      "--------------\n",
      "6088/6088 [==============================] - 61s 10ms/step\n",
      "24 DATA | F1_treshold -- 0.0668 | F1_ocsvm -- 0.0288\n",
      "66.90538930892944\n",
      "--------------\n",
      "6081/6081 [==============================] - 63s 10ms/step\n",
      "25 DATA | F1_treshold -- 0.7393 | F1_ocsvm -- 0.7762\n",
      "67.74414253234863\n",
      "--------------\n",
      "6082/6082 [==============================] - 61s 10ms/step\n",
      "26 DATA | F1_treshold -- 0.4736 | F1_ocsvm -- 0.5126\n",
      "65.56145191192627\n",
      "--------------\n",
      "6079/6079 [==============================] - 61s 10ms/step\n",
      "27 DATA | F1_treshold -- 0.5382 | F1_ocsvm -- 0.5842\n",
      "66.48255753517151\n",
      "--------------\n",
      "6080/6080 [==============================] - 60s 10ms/step\n",
      "28 DATA | F1_treshold -- 0.5612 | F1_ocsvm -- 0.5916\n",
      "64.61820650100708\n",
      "--------------\n",
      "6081/6081 [==============================] - 60s 10ms/step\n",
      "29 DATA | F1_treshold -- 0.6943 | F1_ocsvm -- 0.7371\n",
      "64.98660969734192\n",
      "--------------\n",
      "6085/6085 [==============================] - 62s 10ms/step\n",
      "30 DATA | F1_treshold -- 0.6177 | F1_ocsvm -- 0.6894\n",
      "67.47556638717651\n",
      "--------------\n",
      "6080/6080 [==============================] - 60s 10ms/step\n",
      "31 DATA | F1_treshold -- 0.4984 | F1_ocsvm -- 0.5555\n",
      "64.35040736198425\n",
      "--------------\n",
      "6076/6076 [==============================] - 61s 10ms/step\n",
      "32 DATA | F1_treshold -- 0.6865 | F1_ocsvm -- 0.7287\n",
      "66.72104215621948\n",
      "--------------\n",
      "6082/6082 [==============================] - 65s 11ms/step\n",
      "33 DATA | F1_treshold -- 0.6649 | F1_ocsvm -- 0.7083\n",
      "69.83644080162048\n",
      "--------------\n",
      "6082/6082 [==============================] - 64s 11ms/step\n",
      "34 DATA | F1_treshold -- 0.6358 | F1_ocsvm -- 0.6909\n",
      "70.08005094528198\n",
      "--------------\n",
      "6080/6080 [==============================] - 67s 11ms/step\n",
      "35 DATA | F1_treshold -- 0.6503 | F1_ocsvm -- 0.6955\n",
      "71.84167194366455\n",
      "--------------\n",
      "6081/6081 [==============================] - 65s 11ms/step\n",
      "36 DATA | F1_treshold -- 0.7024 | F1_ocsvm -- 0.767\n",
      "69.41388320922852\n",
      "--------------\n",
      "6081/6081 [==============================] - 66s 11ms/step\n",
      "37 DATA | F1_treshold -- 0.4968 | F1_ocsvm -- 0.5555\n",
      "70.83585333824158\n",
      "--------------\n",
      "6075/6075 [==============================] - 65s 11ms/step\n",
      "38 DATA | F1_treshold -- 0.7934 | F1_ocsvm -- 0.8397\n",
      "71.36138439178467\n",
      "--------------\n",
      "6079/6079 [==============================] - 68s 11ms/step\n",
      "39 DATA | F1_treshold -- 0.5687 | F1_ocsvm -- 0.6009\n",
      "73.01566457748413\n",
      "--------------\n",
      "6080/6080 [==============================] - 67s 11ms/step\n",
      "40 DATA | F1_treshold -- 0.6024 | F1_ocsvm -- 0.6523\n",
      "71.24705815315247\n",
      "--------------\n",
      "6089/6089 [==============================] - 66s 11ms/step\n",
      "41 DATA | F1_treshold -- 0.6333 | F1_ocsvm -- 0.6618\n",
      "71.02154302597046\n",
      "--------------\n",
      "6076/6076 [==============================] - 66s 11ms/step\n",
      "42 DATA | F1_treshold -- 0.7616 | F1_ocsvm -- 0.7906\n",
      "70.54571628570557\n",
      "--------------\n",
      "6080/6080 [==============================] - 66s 11ms/step\n",
      "43 DATA | F1_treshold -- 0.7844 | F1_ocsvm -- 0.8284\n",
      "71.0583975315094\n",
      "--------------\n",
      "6081/6081 [==============================] - 67s 11ms/step\n",
      "44 DATA | F1_treshold -- 0.579 | F1_ocsvm -- 0.6195\n",
      "71.65817379951477\n",
      "--------------\n",
      "6082/6082 [==============================] - 67s 11ms/step\n",
      "45 DATA | F1_treshold -- 0.6199 | F1_ocsvm -- 0.6652\n",
      "71.54682350158691\n",
      "--------------\n",
      "6085/6085 [==============================] - 67s 11ms/step\n",
      "46 DATA | F1_treshold -- 0.5772 | F1_ocsvm -- 0.6634\n",
      "71.58122611045837\n",
      "--------------\n",
      "6077/6077 [==============================] - 68s 11ms/step\n",
      "47 DATA | F1_treshold -- 0.5901 | F1_ocsvm -- 0.6269\n",
      "73.22753500938416\n",
      "--------------\n",
      "6082/6082 [==============================] - 71s 12ms/step\n",
      "48 DATA | F1_treshold -- 0.7044 | F1_ocsvm -- 0.7518\n",
      "76.97359085083008\n",
      "--------------\n"
     ]
    }
   ],
   "source": [
    "treshold = max(mse_train)\n",
    "\n",
    "all_scores = {}\n",
    "all_treshold_scores = {}\n",
    "all_mse = {}\n",
    "\n",
    "for i in range(len(datasets)):\n",
    "    start = time()\n",
    "    f1_treshold, f1_ocsvm, mse = get_score(datasets[i], model, clf_1, treshold)\n",
    "    \n",
    "    all_treshold_scores[i+1] = f1_treshold\n",
    "    all_scores[i+1] = f1_ocsvm\n",
    "    all_mse[i+1] = mse\n",
    "    \n",
    "    print(i+1, 'DATA | F1_treshold --', round(f1_treshold, 4), '| F1_ocsvm --', round(f1_ocsvm, 4))\n",
    "    print(time()-start)\n",
    "    print('--------------')\n",
    "    "
   ]
  },
  {
   "cell_type": "code",
   "execution_count": 81,
   "id": "b7fe655d",
   "metadata": {},
   "outputs": [
    {
     "data": {
      "text/plain": [
       "0.6788753005286097"
      ]
     },
     "execution_count": 81,
     "metadata": {},
     "output_type": "execute_result"
    }
   ],
   "source": [
    "np.mean(list(all_scores.values())[24:])"
   ]
  },
  {
   "cell_type": "code",
   "execution_count": 82,
   "id": "ca51b143",
   "metadata": {},
   "outputs": [
    {
     "data": {
      "text/plain": [
       "0.6322432085649329"
      ]
     },
     "execution_count": 82,
     "metadata": {},
     "output_type": "execute_result"
    }
   ],
   "source": [
    "np.mean(list(all_treshold_scores.values())[24:])"
   ]
  },
  {
   "cell_type": "markdown",
   "id": "dd2bfa52",
   "metadata": {},
   "source": [
    "#### Среднее значение метрики F1_score на 24 последних датасетах - 0.6788 -- OCSVM\n",
    "#### Среднее значение метрики F1_score на 24 последних датасетах - 0.6322 -- Treshold"
   ]
  },
  {
   "cell_type": "markdown",
   "id": "33c95f34",
   "metadata": {},
   "source": [
    "#### Визуализация скора на всех датасетах"
   ]
  },
  {
   "cell_type": "code",
   "execution_count": 83,
   "id": "e9cf96a0",
   "metadata": {},
   "outputs": [
    {
     "data": {
      "image/png": "[encoded data removed]",
      "text/plain": [
       "<Figure size 864x504 with 1 Axes>"
      ]
     },
     "metadata": {
      "needs_background": "light"
     },
     "output_type": "display_data"
    }
   ],
   "source": [
    "plt.figure(figsize=(12, 7))\n",
    "plt.scatter(all_treshold_scores.keys(), all_treshold_scores.values(), color=\"g\", label='Treshold_labels')\n",
    "plt.scatter(all_scores.keys(), all_scores.values(), color=\"r\", label='OCSVM_labels')\n",
    "plt.axvline(24.5)\n",
    "plt.title('F1_scores всех датасетов')\n",
    "plt.xlabel('Номер датасета')\n",
    "plt.ylabel('Скор')\n",
    "plt.legend(loc='upper left')\n",
    "plt.grid()\n",
    "plt.grid(which='minor')"
   ]
  },
  {
   "cell_type": "markdown",
   "id": "9a61c305",
   "metadata": {},
   "source": [
    "#### Визулизация реальных и предсказанных аномалий на рандомном датасете"
   ]
  },
  {
   "cell_type": "code",
   "execution_count": 25,
   "id": "e1d2b68d",
   "metadata": {
    "scrolled": true
   },
   "outputs": [
    {
     "name": "stdout",
     "output_type": "stream",
     "text": [
      "6082/6082 [==============================] - 49s 8ms/step\n",
      "0.7517903397836354\n"
     ]
    }
   ],
   "source": [
    "path = 'datasets/GHL/' + datasets[-1]\n",
    "# подгтовка данных\n",
    "data_df = pd.read_csv(path)[10000:]\n",
    "y = data_df['ATTACK']\n",
    "data_df_ = data_df[all_cols]\n",
    "data_df_w = preprocessing(data_df_, window_size=12)\n",
    "\n",
    "# получаем mse     \n",
    "pred = model.predict(data_df_w)\n",
    "mse = np.mean(np.power(flatten_2(data_df_w) - flatten_2(pred), 2), axis=1)\n",
    "\n",
    "# Подготавливаем данные для OCSVM\n",
    "e_t=(data_df_w - pred)**2\n",
    "nsamples, nx, ny = e_t.shape\n",
    "d2_e_t = e_t.reshape((nsamples,nx*ny))\n",
    "\n",
    "# классифицируем\n",
    "y_scores = clf_1.predict(d2_e_t)\n",
    "anomaly = change_label(y_scores)\n",
    "f1 = f1_score(y[:len(y)-12], anomaly)\n",
    "print(f1)"
   ]
  },
  {
   "cell_type": "code",
   "execution_count": 26,
   "id": "97d9626b",
   "metadata": {},
   "outputs": [],
   "source": [
    "treshold = max(mse_train)\n",
    "\n",
    "anom1 = []\n",
    "\n",
    "for i in mse:\n",
    "    if i > treshold:\n",
    "        anom1.append(1.)\n",
    "    else: anom1.append(0.)"
   ]
  },
  {
   "cell_type": "code",
   "execution_count": 45,
   "id": "b0a02644",
   "metadata": {},
   "outputs": [],
   "source": [
    "f1_ts = round(f1_score(y[:len(y)-12], anom1), 4)"
   ]
  },
  {
   "cell_type": "code",
   "execution_count": 52,
   "id": "1b4c882b",
   "metadata": {
    "scrolled": false
   },
   "outputs": [
    {
     "data": {
      "text/plain": [
       "<matplotlib.legend.Legend at 0x1d428656070>"
      ]
     },
     "execution_count": 52,
     "metadata": {},
     "output_type": "execute_result"
    },
    {
     "data": {
      "image/png": "[encoded data removed]",
      "text/plain": [
       "<Figure size 864x504 with 1 Axes>"
      ]
     },
     "metadata": {
      "needs_background": "light"
     },
     "output_type": "display_data"
    }
   ],
   "source": [
    "title = 'TRESHOLD, f1_score -- ' +str(f1_ts)\n",
    "\n",
    "plt.figure(figsize=(12,7))\n",
    "plt.title(title)\n",
    "plt.plot(anom1, color='r', label='Pred_anomaly')\n",
    "plt.plot(y[:len(y)-12].values, label='True_anomaly')\n",
    "plt.legend(loc='upper left')\n"
   ]
  },
  {
   "cell_type": "code",
   "execution_count": 54,
   "id": "471c4775",
   "metadata": {
    "scrolled": false
   },
   "outputs": [
    {
     "data": {
      "text/plain": [
       "Text(0.5, 1.0, 'OCSVM, f1_score -- 0.7518')"
      ]
     },
     "execution_count": 54,
     "metadata": {},
     "output_type": "execute_result"
    },
    {
     "data": {
      "image/png": "[encoded data removed]",
      "text/plain": [
       "<Figure size 864x504 with 1 Axes>"
      ]
     },
     "metadata": {
      "needs_background": "light"
     },
     "output_type": "display_data"
    }
   ],
   "source": [
    "title = 'OCSVM, f1_score -- ' +str(round(f1,4))\n",
    "\n",
    "plt.figure(figsize=(12,7))\n",
    "plt.plot(anomaly, color='r', label='Pred_anomaly')\n",
    "plt.plot(y[:len(y)-12].values, label='True_anomaly')\n",
    "plt.legend(loc='upper left')\n",
    "plt.title(title)"
   ]
  },
  {
   "cell_type": "markdown",
   "id": "8a494759",
   "metadata": {},
   "source": [
    "### CPD, метрика MAE"
   ]
  },
  {
   "cell_type": "markdown",
   "id": "f8a6ae3e",
   "metadata": {},
   "source": [
    "Для нахождения метрики MAE нам неободимы Реальные метки аномалий, Предсказанные метки и столбец времени Time"
   ]
  },
  {
   "cell_type": "code",
   "execution_count": 75,
   "id": "f5968ce9",
   "metadata": {},
   "outputs": [],
   "source": [
    "pred_a = [int(i) for i in anomaly] # -- Создаем списки предсказанных меток и реальных меток\n",
    "true_a = [int(i) for i in y[:len(y)-12].values]"
   ]
  },
  {
   "cell_type": "code",
   "execution_count": 31,
   "id": "94eef0a0",
   "metadata": {},
   "outputs": [],
   "source": [
    "df = pd.DataFrame(data={'time':np.arange(len(pred_a)), 'true':true_a, 'pred':pred_a}) \n",
    "# Создаем датафрейм, куда в столбец Time просто передаем список чисел от 0 до длины Pred_a (или True_a, разницы нет)"
   ]
  },
  {
   "cell_type": "code",
   "execution_count": 32,
   "id": "46a9e8e9",
   "metadata": {},
   "outputs": [],
   "source": [
    "# Меняем в столбце Time числа на временной тип данных\n",
    "\n",
    "from datetime import datetime\n",
    "\n",
    "for i in df[\"time\"]:\n",
    "    df[\"time\"][i] = datetime.fromtimestamp(i).strftime(\"%Y-%m-%d %I:%M:%S\")\n",
    "    \n",
    "df['time'] = df['time'].astype('datetime64[ns]')"
   ]
  },
  {
   "cell_type": "code",
   "execution_count": 34,
   "id": "1646bce8",
   "metadata": {},
   "outputs": [],
   "source": [
    "# Импортируем Катин файл с классом Metrics\n",
    "from metrics import Metrics"
   ]
  },
  {
   "cell_type": "code",
   "execution_count": 76,
   "id": "81136cd1",
   "metadata": {},
   "outputs": [],
   "source": [
    "# Беру только часть данных \n",
    "current_df = df[140000:160000].reset_index()"
   ]
  },
  {
   "cell_type": "code",
   "execution_count": 77,
   "id": "ce46815a",
   "metadata": {},
   "outputs": [],
   "source": [
    "# Инициализируем экземпляр класса\n",
    "metrics = Metrics(current_df['true'], current_df['pred'], current_df['time'], '1sec')"
   ]
  },
  {
   "cell_type": "code",
   "execution_count": 78,
   "id": "96cd8822",
   "metadata": {
    "scrolled": true
   },
   "outputs": [
    {
     "name": "stderr",
     "output_type": "stream",
     "text": [
      "100%|██████████████████████████████████████████████████████████████████████████| 20000/20000 [00:02<00:00, 9782.51it/s]"
     ]
    },
    {
     "name": "stdout",
     "output_type": "stream",
     "text": [
      "MAE: 0:00:16.951940\n"
     ]
    },
    {
     "name": "stderr",
     "output_type": "stream",
     "text": [
      "\n"
     ]
    },
    {
     "data": {
      "text/plain": [
       "datetime.timedelta(seconds=16, microseconds=951940)"
      ]
     },
     "execution_count": 78,
     "metadata": {},
     "output_type": "execute_result"
    }
   ],
   "source": [
    "# Вызов метода\n",
    "metrics.maerror()"
   ]
  },
  {
   "cell_type": "markdown",
   "id": "5196a0ce",
   "metadata": {},
   "source": [
    "### ROC AUC"
   ]
  },
  {
   "cell_type": "code",
   "execution_count": 38,
   "id": "cf7d4ee4",
   "metadata": {},
   "outputs": [],
   "source": [
    "from sklearn.metrics import roc_auc_score, roc_curve, plot_roc_curve, auc"
   ]
  },
  {
   "cell_type": "code",
   "execution_count": 88,
   "id": "ddfa755a",
   "metadata": {},
   "outputs": [],
   "source": [
    "desicion_func = abs(clf_1.decision_function(d2_e_t))"
   ]
  },
  {
   "cell_type": "code",
   "execution_count": 99,
   "id": "9507940a",
   "metadata": {},
   "outputs": [],
   "source": [
    "fpr,tpr,thresholds = roc_curve(y[:len(y)-12].values, desicion_func)"
   ]
  },
  {
   "cell_type": "code",
   "execution_count": 100,
   "id": "9a70937f",
   "metadata": {
    "scrolled": true
   },
   "outputs": [
    {
     "data": {
      "image/png": "[encoded data removed]",
      "text/plain": [
       "<Figure size 504x360 with 1 Axes>"
      ]
     },
     "metadata": {
      "needs_background": "light"
     },
     "output_type": "display_data"
    }
   ],
   "source": [
    "roc_auc = auc(fpr,tpr)\n",
    "\n",
    "plt.figure(figsize=(7,5))\n",
    "plt.plot(fpr, tpr, label='ROC curve (area = %0.5f)' % roc_auc)\n",
    "plt.plot([0, 1], [0, 1], 'k--')\n",
    "plt.xlim([0.0, 1.0])\n",
    "plt.ylim([0.0, 1.05])\n",
    "plt.xlabel('False Positive Rate')\n",
    "plt.ylabel('True Positive Rate')\n",
    "plt.title('ROC-AUC, метод LSTM-AE OCSVM')\n",
    "plt.legend(loc=\"lower right\")\n",
    "plt.grid()\n",
    "plt.show()"
   ]
  }
 ],
 "metadata": {
  "kernelspec": {
   "display_name": "Python 3 (ipykernel)",
   "language": "python",
   "name": "python3"
  },
  "language_info": {
   "codemirror_mode": {
    "name": "ipython",
    "version": 3
   },
   "file_extension": ".py",
   "mimetype": "text/x-python",
   "name": "python",
   "nbconvert_exporter": "python",
   "pygments_lexer": "ipython3",
   "version": "3.9.7"
  }
 },
 "nbformat": 4,
 "nbformat_minor": 5
}
