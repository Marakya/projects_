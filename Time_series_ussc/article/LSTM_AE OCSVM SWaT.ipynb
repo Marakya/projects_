{
 "cells": [
  {
   "cell_type": "code",
   "execution_count": 1,
   "id": "17700c4a",
   "metadata": {},
   "outputs": [],
   "source": [
    "import pandas as pd\n",
    "import numpy as np\n",
    "import matplotlib.pyplot as plt\n",
    "\n",
    "import keras\n",
    "from sklearn import preprocessing\n",
    "from keras.models import Sequential\n",
    "from keras.layers import Dense, Dropout, LSTM, Activation, Embedding\n",
    "\n",
    "from tensorflow.keras.optimizers import Adam, RMSprop\n",
    "from keras.layers import Input, Reshape, Dropout\n",
    "from keras import Model\n",
    "\n",
    "# from keras.utils import plot_model\n",
    "from keras.layers import RepeatVector, TimeDistributed\n",
    "from keras.callbacks import ModelCheckpoint, TensorBoard\n",
    "\n",
    "import math\n",
    "from tqdm import tqdm\n",
    "from sklearn.preprocessing import StandardScaler"
   ]
  },
  {
   "cell_type": "code",
   "execution_count": 2,
   "id": "100110a5",
   "metadata": {},
   "outputs": [],
   "source": [
    "import warnings\n",
    "warnings.filterwarnings(\"ignore\")"
   ]
  },
  {
   "cell_type": "code",
   "execution_count": 3,
   "id": "3ee089b9",
   "metadata": {},
   "outputs": [],
   "source": [
    "df = pd.read_csv('datasets/SWaT_Dataset_Normal_v1.csv')\n",
    "df_anomaly = pd.read_excel('datasets/SWaT_Dataset_Attack_v0.xlsx')"
   ]
  },
  {
   "cell_type": "markdown",
   "id": "5cbf49ce",
   "metadata": {},
   "source": [
    "### Preprocessing"
   ]
  },
  {
   "cell_type": "code",
   "execution_count": 4,
   "id": "f40cb16d",
   "metadata": {},
   "outputs": [],
   "source": [
    "df1 = df.drop(columns=[' Timestamp', 'Normal/Attack'])\n",
    "df1_anomaly = df_anomaly.drop(columns=[' Timestamp', 'Normal/Attack'])"
   ]
  },
  {
   "cell_type": "code",
   "execution_count": 5,
   "id": "56cc3bd5",
   "metadata": {},
   "outputs": [],
   "source": [
    "# Rename columns\n",
    "def get_rename_df(df):\n",
    "    new_cols = {}\n",
    "    cols = df.columns\n",
    "    for i in range(len(cols)):\n",
    "        new_cols[cols[i]] = cols[i].strip()\n",
    "    df.rename(columns=new_cols, inplace=True)\n",
    "    return df"
   ]
  },
  {
   "cell_type": "code",
   "execution_count": 6,
   "id": "3fb0741d",
   "metadata": {},
   "outputs": [],
   "source": [
    "def get_category(df, cols):\n",
    "    to_one_hot = []\n",
    "    to_scaled = []\n",
    "    to_label = []\n",
    "    for i in cols:\n",
    "        if i == 'Timestamp' or i == 'Normal/Attack':\n",
    "            continue\n",
    "            \n",
    "        values = df[i].unique()\n",
    "        if len(values)>3:\n",
    "            to_scaled.append(i)\n",
    "        elif len(values) == 3:\n",
    "            to_one_hot.append(i)\n",
    "        else:\n",
    "            to_label.append(i)\n",
    "            \n",
    "    return to_one_hot, to_scaled, to_label"
   ]
  },
  {
   "cell_type": "code",
   "execution_count": 7,
   "id": "aef0e6e6",
   "metadata": {},
   "outputs": [],
   "source": [
    "def get_scaled(df, cols):\n",
    "    sc = StandardScaler()\n",
    "    x_scaled = sc.fit_transform(df[cols])\n",
    "    df[cols] = x_scaled\n",
    "    return df"
   ]
  },
  {
   "cell_type": "code",
   "execution_count": 8,
   "id": "5db9ebbf",
   "metadata": {},
   "outputs": [],
   "source": [
    "def preprocessing(df):\n",
    "    df = get_rename_df(df)\n",
    "    \n",
    "    to_one_hot, to_scaled, to_label = get_category(df, df.columns)\n",
    "    \n",
    "    # Скалируем числовые данные     \n",
    "    df = get_scaled(df, to_scaled)\n",
    "    # One_hot для категориальных данных, где значений больше двух\n",
    "    df = pd.get_dummies(df, columns=to_one_hot, drop_first=True)\n",
    "    \n",
    "    return df"
   ]
  },
  {
   "cell_type": "code",
   "execution_count": 9,
   "id": "a6f4e907",
   "metadata": {},
   "outputs": [],
   "source": [
    "df1 = preprocessing(df1)\n",
    "df1_anomaly = preprocessing(df1_anomaly)"
   ]
  },
  {
   "cell_type": "markdown",
   "id": "ade52697",
   "metadata": {},
   "source": [
    "### Окно"
   ]
  },
  {
   "cell_type": "code",
   "execution_count": 50,
   "id": "0ec3eee5",
   "metadata": {},
   "outputs": [],
   "source": [
    "def create_x(arr, n_features=3):\n",
    "    x, y = [], []\n",
    "    for i in range(len(arr)-n_features-1):\n",
    "        a = arr[i:(i+n_features)]\n",
    "        x.append(a)\n",
    "        y.append(arr[i + n_features])\n",
    "    return np.array(x), np.array(y)"
   ]
  },
  {
   "cell_type": "code",
   "execution_count": null,
   "id": "925cd4a1",
   "metadata": {},
   "outputs": [],
   "source": [
    "n_features=200\n",
    "X, y = create_x(y, n_features)"
   ]
  },
  {
   "cell_type": "code",
   "execution_count": 10,
   "id": "10d06111",
   "metadata": {},
   "outputs": [
    {
     "data": {
      "text/plain": [
       "(494988, 12, 57)"
      ]
     },
     "execution_count": 10,
     "metadata": {},
     "output_type": "execute_result"
    }
   ],
   "source": [
    "window_size=12\n",
    "\n",
    "X_window=df1.values[np.arange(window_size)[None, :] + np.arange(df1.shape[0]-window_size)[:, None]]\n",
    "X_window.shape"
   ]
  },
  {
   "cell_type": "code",
   "execution_count": 11,
   "id": "4d717019",
   "metadata": {},
   "outputs": [
    {
     "data": {
      "text/plain": [
       "(449907, 12, 57)"
      ]
     },
     "execution_count": 11,
     "metadata": {},
     "output_type": "execute_result"
    }
   ],
   "source": [
    "X_an_window=df1_anomaly.values[np.arange(window_size)[None, :] + np.arange(df1_anomaly.shape[0]-window_size)[:, None]]\n",
    "X_an_window.shape"
   ]
  },
  {
   "cell_type": "markdown",
   "id": "03279c0e",
   "metadata": {},
   "source": [
    "### Инициализация модели"
   ]
  },
  {
   "cell_type": "code",
   "execution_count": 12,
   "id": "249490f5",
   "metadata": {},
   "outputs": [],
   "source": [
    "def init_model(timesteps, n_features, num_cells=64, dropout_rate=0.1, lr=0.01):\n",
    "    lstm_autoencoder = Sequential()\n",
    "    # Encoder\n",
    "    lstm_autoencoder.add(LSTM(128, activation='tanh', input_shape=(timesteps, n_features), return_sequences=True))\n",
    "    lstm_autoencoder.add(LSTM(16, activation='tanh', return_sequences=False))\n",
    "    lstm_autoencoder.add(RepeatVector(timesteps))\n",
    "    # Decoder\n",
    "    lstm_autoencoder.add(LSTM(16, activation='tanh', return_sequences=True))\n",
    "    lstm_autoencoder.add(LSTM(128, activation='tanh', return_sequences=True))\n",
    "    lstm_autoencoder.add(TimeDistributed(Dense(n_features)))\n",
    "\n",
    "    adam = Adam(lr)\n",
    "    lstm_autoencoder.compile(loss='mse', optimizer=adam)\n",
    "\n",
    "    cp = ModelCheckpoint(filepath=\"lstm_autoencoder_classifier.h5\",\n",
    "                                   save_best_only=True,\n",
    "                                   verbose=0)\n",
    "\n",
    "    tb = TensorBoard(log_dir='./logs',\n",
    "                    histogram_freq=0,\n",
    "                    write_graph=True,\n",
    "                    write_images=True)\n",
    "    return lstm_autoencoder\n",
    "\n",
    "def fit_model(x, model, epochs=10, batch_size=1000, validation_split=0.2):\n",
    "    lstm_autoencoder_history = model.fit(x, x, \n",
    "                        epochs=epochs, \n",
    "                        batch_size=batch_size, \n",
    "                        validation_split=0.2,\n",
    "                        verbose=1, callbacks = [keras.callbacks.EarlyStopping(monitor='val_loss', min_delta=0, patience=10, verbose=0, mode='auto')]).history\n",
    "    return lstm_autoencoder_history\n",
    "\n",
    "def plt_epoch_error(history):\n",
    "    plt.plot(history['loss'], linewidth=2, label='Train')\n",
    "    plt.plot(history['val_loss'], linewidth=2, label='Valid')\n",
    "    plt.legend(loc='upper right')\n",
    "    plt.title('Model loss')\n",
    "    plt.ylabel('Loss')\n",
    "    plt.xlabel('Epoch')\n",
    "    plt.show()"
   ]
  },
  {
   "cell_type": "code",
   "execution_count": 13,
   "id": "5cf8aa07",
   "metadata": {},
   "outputs": [
    {
     "data": {
      "text/plain": [
       "(494988, 12, 57)"
      ]
     },
     "execution_count": 13,
     "metadata": {},
     "output_type": "execute_result"
    }
   ],
   "source": [
    "X_window.shape"
   ]
  },
  {
   "cell_type": "code",
   "execution_count": 12,
   "id": "ae34ade1",
   "metadata": {},
   "outputs": [],
   "source": [
    "X_window_train = X_window[85000:285000] # Для обучения нейронки\n",
    "X_window_val = X_window[285000:] # Для получения MSE, на котором будет учиться OCSVM"
   ]
  },
  {
   "cell_type": "code",
   "execution_count": 15,
   "id": "1a3d9baa",
   "metadata": {},
   "outputs": [],
   "source": [
    "timesteps = X_window_train.shape[1]\n",
    "n_features = X_window_train.shape[2]"
   ]
  },
  {
   "cell_type": "code",
   "execution_count": 146,
   "id": "03927754",
   "metadata": {
    "scrolled": false
   },
   "outputs": [],
   "source": [
    "model = init_model(timesteps=timesteps, n_features=n_features)"
   ]
  },
  {
   "cell_type": "code",
   "execution_count": 147,
   "id": "0dacbe45",
   "metadata": {
    "scrolled": false
   },
   "outputs": [
    {
     "name": "stdout",
     "output_type": "stream",
     "text": [
      "Epoch 1/10\n",
      "160/160 [==============================] - 82s 481ms/step - loss: 0.2344 - val_loss: 0.2022\n",
      "Epoch 2/10\n",
      "160/160 [==============================] - 78s 487ms/step - loss: 0.1318 - val_loss: 0.1468\n",
      "Epoch 3/10\n",
      "160/160 [==============================] - 78s 486ms/step - loss: 0.0743 - val_loss: 0.0604\n",
      "Epoch 4/10\n",
      "160/160 [==============================] - 79s 494ms/step - loss: 0.0253 - val_loss: 0.0387\n",
      "Epoch 5/10\n",
      "160/160 [==============================] - 77s 484ms/step - loss: 0.0104 - val_loss: 0.0308\n",
      "Epoch 6/10\n",
      "160/160 [==============================] - 77s 484ms/step - loss: 0.0063 - val_loss: 0.0279\n",
      "Epoch 7/10\n",
      "160/160 [==============================] - 77s 483ms/step - loss: 0.0049 - val_loss: 0.0232\n",
      "Epoch 8/10\n",
      "160/160 [==============================] - 77s 484ms/step - loss: 0.0044 - val_loss: 0.0215\n",
      "Epoch 9/10\n",
      "160/160 [==============================] - 78s 489ms/step - loss: 0.0040 - val_loss: 0.0203\n",
      "Epoch 10/10\n",
      "160/160 [==============================] - 77s 483ms/step - loss: 0.0036 - val_loss: 0.0191\n"
     ]
    }
   ],
   "source": [
    "history = fit_model(X_window_train, model)"
   ]
  },
  {
   "cell_type": "code",
   "execution_count": 148,
   "id": "84891e4b",
   "metadata": {},
   "outputs": [
    {
     "name": "stderr",
     "output_type": "stream",
     "text": [
      "WARNING:absl:Found untraced functions such as lstm_cell_8_layer_call_fn, lstm_cell_8_layer_call_and_return_conditional_losses, lstm_cell_9_layer_call_fn, lstm_cell_9_layer_call_and_return_conditional_losses, lstm_cell_10_layer_call_fn while saving (showing 5 of 8). These functions will not be directly callable after loading.\n"
     ]
    },
    {
     "name": "stdout",
     "output_type": "stream",
     "text": [
      "INFO:tensorflow:Assets written to: model_with_window_half\\assets\n"
     ]
    },
    {
     "name": "stderr",
     "output_type": "stream",
     "text": [
      "INFO:tensorflow:Assets written to: model_with_window_half\\assets\n",
      "WARNING:absl:<keras.layers.recurrent.LSTMCell object at 0x00000216A95628E0> has the same name 'LSTMCell' as a built-in Keras object. Consider renaming <class 'keras.layers.recurrent.LSTMCell'> to avoid naming conflicts when loading with `tf.keras.models.load_model`. If renaming is not possible, pass the object in the `custom_objects` parameter of the load function.\n",
      "WARNING:absl:<keras.layers.recurrent.LSTMCell object at 0x00000216ACB7E310> has the same name 'LSTMCell' as a built-in Keras object. Consider renaming <class 'keras.layers.recurrent.LSTMCell'> to avoid naming conflicts when loading with `tf.keras.models.load_model`. If renaming is not possible, pass the object in the `custom_objects` parameter of the load function.\n",
      "WARNING:absl:<keras.layers.recurrent.LSTMCell object at 0x00000216ACB1CE50> has the same name 'LSTMCell' as a built-in Keras object. Consider renaming <class 'keras.layers.recurrent.LSTMCell'> to avoid naming conflicts when loading with `tf.keras.models.load_model`. If renaming is not possible, pass the object in the `custom_objects` parameter of the load function.\n",
      "WARNING:absl:<keras.layers.recurrent.LSTMCell object at 0x00000216C558F580> has the same name 'LSTMCell' as a built-in Keras object. Consider renaming <class 'keras.layers.recurrent.LSTMCell'> to avoid naming conflicts when loading with `tf.keras.models.load_model`. If renaming is not possible, pass the object in the `custom_objects` parameter of the load function.\n"
     ]
    }
   ],
   "source": [
    "model.save('model_with_window_half')"
   ]
  },
  {
   "cell_type": "code",
   "execution_count": 13,
   "id": "97485eb8",
   "metadata": {},
   "outputs": [],
   "source": [
    "model = keras.models.load_model('model_with_window_half')"
   ]
  },
  {
   "cell_type": "code",
   "execution_count": 149,
   "id": "8be48c0b",
   "metadata": {
    "scrolled": false
   },
   "outputs": [
    {
     "data": {
      "image/png": "[encoded data removed]",
      "text/plain": [
       "<Figure size 432x288 with 1 Axes>"
      ]
     },
     "metadata": {
      "needs_background": "light"
     },
     "output_type": "display_data"
    }
   ],
   "source": [
    "plt_epoch_error(history)"
   ]
  },
  {
   "cell_type": "markdown",
   "id": "e97d6f25",
   "metadata": {},
   "source": [
    "### MSE "
   ]
  },
  {
   "cell_type": "code",
   "execution_count": 14,
   "id": "e6e00e9b",
   "metadata": {},
   "outputs": [],
   "source": [
    "def get_mse(model, X):\n",
    "    predict = model.predict(X)\n",
    "    \n",
    "    X_reshape = np.reshape(X, (X.shape[0], X.shape[1], 1))\n",
    "    \n",
    "    mse = np.mean(np.power(X_reshape-predict, 2), axis=1)\n",
    "    \n",
    "    return mse, predict, X_reshape\n",
    "\n",
    "def plt_mse(mse, title='MSE'):\n",
    "    plt.figure(figsize=(10,5))\n",
    "    plt.title(title)\n",
    "    plt.plot(mse)"
   ]
  },
  {
   "cell_type": "code",
   "execution_count": 15,
   "id": "30443481",
   "metadata": {},
   "outputs": [],
   "source": [
    "def flatten(X):\n",
    "    flattened_X = np.empty((X.shape[0], X.shape[2]))\n",
    "    for i in range(X.shape[0]):\n",
    "        flattened_X[i] = X[i, (X.shape[1]-1), :]\n",
    "    return(flattened_X) "
   ]
  },
  {
   "cell_type": "code",
   "execution_count": 19,
   "id": "6e97517f",
   "metadata": {},
   "outputs": [
    {
     "name": "stdout",
     "output_type": "stream",
     "text": [
      "6250/6250 [==============================] - 110s 17ms/step\n"
     ]
    }
   ],
   "source": [
    "pred_train = model.predict(X_window_train)"
   ]
  },
  {
   "cell_type": "code",
   "execution_count": 20,
   "id": "84fb30fc",
   "metadata": {},
   "outputs": [],
   "source": [
    "mse_train = np.mean(np.power(flatten(X_window_train) - flatten(pred_train), 2), axis=1)"
   ]
  },
  {
   "cell_type": "code",
   "execution_count": 21,
   "id": "15b20751",
   "metadata": {
    "scrolled": true
   },
   "outputs": [
    {
     "data": {
      "image/png": "[encoded data removed]",
      "text/plain": [
       "<Figure size 720x360 with 1 Axes>"
      ]
     },
     "metadata": {
      "needs_background": "light"
     },
     "output_type": "display_data"
    }
   ],
   "source": [
    "plt_mse(mse_train, title='MSE_train')"
   ]
  },
  {
   "cell_type": "code",
   "execution_count": 16,
   "id": "d1505aa4",
   "metadata": {},
   "outputs": [
    {
     "name": "stdout",
     "output_type": "stream",
     "text": [
      "6563/6563 [==============================] - 84s 12ms/step\n"
     ]
    },
    {
     "data": {
      "image/png": "[encoded data removed]",
      "text/plain": [
       "<Figure size 720x360 with 1 Axes>"
      ]
     },
     "metadata": {
      "needs_background": "light"
     },
     "output_type": "display_data"
    }
   ],
   "source": [
    "pred_val = model.predict(X_window_val)\n",
    "\n",
    "mse_val = np.mean(np.power(flatten(X_window_val) - flatten(pred_val), 2), axis=1)\n",
    "\n",
    "plt_mse(mse_val, title='MSE_val')"
   ]
  },
  {
   "cell_type": "code",
   "execution_count": 17,
   "id": "b063e841",
   "metadata": {},
   "outputs": [
    {
     "name": "stdout",
     "output_type": "stream",
     "text": [
      "14060/14060 [==============================] - 205s 15ms/step\n"
     ]
    }
   ],
   "source": [
    "pred_test = model.predict(X_an_window)"
   ]
  },
  {
   "cell_type": "code",
   "execution_count": 18,
   "id": "a7958bee",
   "metadata": {},
   "outputs": [],
   "source": [
    "mse_test = np.mean(np.power(flatten(X_an_window) - flatten(pred_test), 2), axis=1)"
   ]
  },
  {
   "cell_type": "code",
   "execution_count": 19,
   "id": "952b60ca",
   "metadata": {
    "scrolled": true
   },
   "outputs": [
    {
     "data": {
      "image/png": "[encoded data removed]",
      "text/plain": [
       "<Figure size 720x360 with 1 Axes>"
      ]
     },
     "metadata": {
      "needs_background": "light"
     },
     "output_type": "display_data"
    }
   ],
   "source": [
    "plt_mse(mse_test, title='MSE_test')"
   ]
  },
  {
   "cell_type": "markdown",
   "id": "abd19ca7",
   "metadata": {},
   "source": [
    "#### Возьмем ThreshHold"
   ]
  },
  {
   "cell_type": "code",
   "execution_count": 20,
   "id": "6df07196",
   "metadata": {},
   "outputs": [],
   "source": [
    "trh = max(mse_val)"
   ]
  },
  {
   "cell_type": "code",
   "execution_count": 21,
   "id": "c3011b54",
   "metadata": {},
   "outputs": [],
   "source": [
    "mse_test_list = np.reshape(mse_test, (mse_test.shape[0]))"
   ]
  },
  {
   "cell_type": "code",
   "execution_count": 80,
   "id": "a3aec837",
   "metadata": {},
   "outputs": [],
   "source": [
    "anomaly_trh = []\n",
    "for i in mse_test_list:\n",
    "    if i > trh:\n",
    "        anomaly_trh.append(1)\n",
    "    else:\n",
    "        anomaly_trh.append(0)"
   ]
  },
  {
   "cell_type": "code",
   "execution_count": 81,
   "id": "335b1d40",
   "metadata": {},
   "outputs": [
    {
     "name": "stdout",
     "output_type": "stream",
     "text": [
      "{0: 413858, 1: 36049}\n"
     ]
    }
   ],
   "source": [
    "labels = {}\n",
    "for i in anomaly_trh:\n",
    "    if i in labels.keys():\n",
    "        labels[i] += 1\n",
    "    else:\n",
    "        labels[i] = 1\n",
    "print(labels)"
   ]
  },
  {
   "cell_type": "code",
   "execution_count": 82,
   "id": "bb1339a2",
   "metadata": {},
   "outputs": [],
   "source": [
    "true_anomaly = []\n",
    "for i in list(df_anomaly['Normal/Attack'].values):\n",
    "    if i == 'Normal':\n",
    "        true_anomaly.append(0)\n",
    "    else: true_anomaly.append(1)"
   ]
  },
  {
   "cell_type": "code",
   "execution_count": 83,
   "id": "91f038ef",
   "metadata": {
    "scrolled": true
   },
   "outputs": [
    {
     "name": "stdout",
     "output_type": "stream",
     "text": [
      "              precision    recall  f1-score   support\n",
      "\n",
      "           0       0.95      1.00      0.97    395286\n",
      "           1       0.97      0.64      0.77     54621\n",
      "\n",
      "    accuracy                           0.95    449907\n",
      "   macro avg       0.96      0.82      0.87    449907\n",
      "weighted avg       0.95      0.95      0.95    449907\n",
      "\n"
     ]
    }
   ],
   "source": [
    "from sklearn.metrics import classification_report, f1_score\n",
    "print(classification_report(true_anomaly[:449907], anomaly_trh))"
   ]
  },
  {
   "cell_type": "code",
   "execution_count": 84,
   "id": "9962cfac",
   "metadata": {},
   "outputs": [
    {
     "data": {
      "text/plain": [
       "0.7687217381713908"
      ]
     },
     "execution_count": 84,
     "metadata": {},
     "output_type": "execute_result"
    }
   ],
   "source": [
    "f1_tr = f1_score(true_anomaly[:449907], anomaly_trh)\n",
    "f1_tr"
   ]
  },
  {
   "cell_type": "code",
   "execution_count": 109,
   "id": "6b4e1345",
   "metadata": {},
   "outputs": [
    {
     "data": {
      "text/plain": [
       "<matplotlib.legend.Legend at 0x27abf430a60>"
      ]
     },
     "execution_count": 109,
     "metadata": {},
     "output_type": "execute_result"
    },
    {
     "data": {
      "image/png": "[encoded data removed]",
      "text/plain": [
       "<Figure size 864x504 with 1 Axes>"
      ]
     },
     "metadata": {
      "needs_background": "light"
     },
     "output_type": "display_data"
    }
   ],
   "source": [
    "title = 'SWAT -- TRESHOLD, f1_score -- ' +str(round(f1_tr, 4))\n",
    "\n",
    "plt.figure(figsize=(12,7))\n",
    "plt.title(title)\n",
    "plt.plot(anomaly_trh, color='r', label='Prediction')\n",
    "plt.plot(true_anomaly[:449907], label='True')\n",
    "plt.legend(loc='upper left')"
   ]
  },
  {
   "cell_type": "markdown",
   "id": "12236e30",
   "metadata": {},
   "source": [
    "### OCSVM"
   ]
  },
  {
   "cell_type": "code",
   "execution_count": 37,
   "id": "93d39a3f",
   "metadata": {},
   "outputs": [],
   "source": [
    "import math\n",
    "from sklearn import svm\n",
    "from sklearn.metrics import classification_report, f1_score"
   ]
  },
  {
   "cell_type": "code",
   "execution_count": 60,
   "id": "ac199743",
   "metadata": {},
   "outputs": [],
   "source": [
    "mse_val_rs = np.reshape(mse_val, (mse_val.shape[0], 1))\n",
    "mse_test_rs = np.reshape(mse_test, (mse_test.shape[0], 1))"
   ]
  },
  {
   "cell_type": "code",
   "execution_count": 39,
   "id": "4d0cedd8",
   "metadata": {},
   "outputs": [],
   "source": [
    "def change_label(label):\n",
    "    arr = []\n",
    "    for i in label: \n",
    "        if i == -1:\n",
    "            arr.append(1)\n",
    "        else:\n",
    "            arr.append(0)\n",
    "    return arr"
   ]
  },
  {
   "cell_type": "code",
   "execution_count": 40,
   "id": "a21a6f7d",
   "metadata": {},
   "outputs": [],
   "source": [
    "def print_distrib(arr):\n",
    "    labels = {}\n",
    "    for i in arr:\n",
    "        if i in labels.keys():\n",
    "            labels[i] += 1\n",
    "        else:\n",
    "            labels[i] = 1\n",
    "    print(labels)\n"
   ]
  },
  {
   "cell_type": "markdown",
   "id": "dc8afa20",
   "metadata": {},
   "source": [
    "#### Подбор гиперпараметров OCSVM"
   ]
  },
  {
   "cell_type": "code",
   "execution_count": 31,
   "id": "ee874086",
   "metadata": {},
   "outputs": [],
   "source": [
    "from datetime import datetime\n",
    "import time"
   ]
  },
  {
   "cell_type": "code",
   "execution_count": 331,
   "id": "7ecfbb2b",
   "metadata": {
    "scrolled": true
   },
   "outputs": [
    {
     "name": "stdout",
     "output_type": "stream",
     "text": [
      "0  -- model FIT... -- nu: 0.001 | kernel: rbf | gamma: 0.0001\n",
      "Predict...\n",
      "1 2 3 4 5 6 7 8 9 10 -- F1_average, 10 fold:  0.32214078372289734\n",
      "TIME: 7\n",
      "------------------------------------\n",
      "1  -- model FIT... -- nu: 0.001 | kernel: rbf | gamma: 0.0011\n",
      "Predict...\n",
      "1 2 3 4 5 6 7 8 9 10 -- F1_average, 10 fold:  0.27017796357513035\n",
      "TIME: 7\n",
      "------------------------------------\n",
      "2  -- model FIT... -- nu: 0.001 | kernel: rbf | gamma: 0.0021\n",
      "Predict...\n",
      "1 2 3 4 5 6 7 8 9 10 -- F1_average, 10 fold:  0.27023850862134874\n",
      "TIME: 7\n",
      "------------------------------------\n",
      "3  -- model FIT... -- nu: 0.001 | kernel: rbf | gamma: 0.0031\n",
      "Predict...\n",
      "1 2 3 4 5 6 7 8 9 10 -- F1_average, 10 fold:  0.26782681315205187\n",
      "TIME: 7\n",
      "------------------------------------\n",
      "4  -- model FIT... -- nu: 0.001 | kernel: rbf | gamma: 0.0041\n",
      "Predict...\n",
      "1 2 3 4 5 6 7 8 9 10 -- F1_average, 10 fold:  0.26750954473728855\n",
      "TIME: 7\n",
      "------------------------------------\n",
      "5  -- model FIT... -- nu: 0.001 | kernel: rbf | gamma: 0.0051\n",
      "Predict...\n",
      "1 2 3 4 5 6 7 8 9 10 -- F1_average, 10 fold:  0.26782568085833836\n",
      "TIME: 8\n",
      "------------------------------------\n",
      "6  -- model FIT... -- nu: 0.001 | kernel: rbf | gamma: 0.0061\n",
      "Predict...\n",
      "1 2 3 4 5 6 7 8 9 10 -- F1_average, 10 fold:  0.2678251155032954\n",
      "TIME: 7\n",
      "------------------------------------\n",
      "7  -- model FIT... -- nu: 0.001 | kernel: rbf | gamma: 0.0071\n",
      "Predict...\n",
      "1 2 3 4 5 6 7 8 9 10 -- F1_average, 10 fold:  0.2678557315396851\n",
      "TIME: 7\n",
      "------------------------------------\n",
      "8  -- model FIT... -- nu: 0.001 | kernel: rbf | gamma: 0.0081\n",
      "Predict...\n",
      "1 2 3 4 5 6 7 8 9 10 -- F1_average, 10 fold:  0.2678251155032954\n",
      "TIME: 8\n",
      "------------------------------------\n",
      "9  -- model FIT... -- nu: 0.001 | kernel: rbf | gamma: 0.0091\n",
      "Predict...\n",
      "1 2 3 4 5 6 7 8 9 10 -- F1_average, 10 fold:  0.2678251155032954\n",
      "TIME: 8\n",
      "------------------------------------\n",
      "10  -- model FIT... -- nu: 0.002 | kernel: rbf | gamma: 0.0001\n",
      "Predict...\n",
      "1 2 3 4 5 6 7 8 9 10 -- F1_average, 10 fold:  0.30535166444223366\n",
      "TIME: 14\n",
      "------------------------------------\n",
      "11  -- model FIT... -- nu: 0.002 | kernel: rbf | gamma: 0.0011\n",
      "Predict...\n",
      "1 2 3 4 5 6 7 8 9 10 -- F1_average, 10 fold:  0.27602966823970654\n",
      "TIME: 14\n",
      "------------------------------------\n",
      "12  -- model FIT... -- nu: 0.002 | kernel: rbf | gamma: 0.0021\n",
      "Predict...\n",
      "1 2 3 4 5 6 7 8 9 10 -- F1_average, 10 fold:  0.2749141666435756\n",
      "TIME: 14\n",
      "------------------------------------\n",
      "13  -- model FIT... -- nu: 0.002 | kernel: rbf | gamma: 0.0031\n",
      "Predict...\n",
      "1 2 3 4 5 6 7 8 9 10 -- F1_average, 10 fold:  0.27453548753231655\n",
      "TIME: 14\n",
      "------------------------------------\n",
      "14  -- model FIT... -- nu: 0.002 | kernel: rbf | gamma: 0.0041\n",
      "Predict...\n",
      "1 2 3 4 5 6 7 8 9 10 -- F1_average, 10 fold:  0.27451586793745714\n",
      "TIME: 14\n",
      "------------------------------------\n",
      "15  -- model FIT... -- nu: 0.002 | kernel: rbf | gamma: 0.0051\n",
      "Predict...\n",
      "1 2 3 4 5 6 7 8 9 10 -- F1_average, 10 fold:  0.2745268373973861\n",
      "TIME: 14\n",
      "------------------------------------\n",
      "16  -- model FIT... -- nu: 0.002 | kernel: rbf | gamma: 0.0061\n",
      "Predict...\n",
      "1 2 3 4 5 6 7 8 9 10 -- F1_average, 10 fold:  0.27484156761670675\n",
      "TIME: 14\n",
      "------------------------------------\n",
      "17  -- model FIT... -- nu: 0.002 | kernel: rbf | gamma: 0.0071\n",
      "Predict...\n",
      "1 2 3 4 5 6 7 8 9 10 -- F1_average, 10 fold:  0.27484156761670675\n",
      "TIME: 14\n",
      "------------------------------------\n",
      "18  -- model FIT... -- nu: 0.002 | kernel: rbf | gamma: 0.0081\n",
      "Predict...\n",
      "1 2 3 4 5 6 7 8 9 10 -- F1_average, 10 fold:  0.27484156761670675\n",
      "TIME: 14\n",
      "------------------------------------\n",
      "19  -- model FIT... -- nu: 0.002 | kernel: rbf | gamma: 0.0091\n",
      "Predict...\n",
      "1 2 3 4 5 6 7 8 9 10 -- F1_average, 10 fold:  0.27484156761670675\n",
      "TIME: 14\n",
      "------------------------------------\n",
      "20  -- model FIT... -- nu: 0.003 | kernel: rbf | gamma: 0.0001\n",
      "Predict...\n",
      "1 2 3 4 5 6 7 8 9 10 -- F1_average, 10 fold:  0.30643504679987366\n",
      "TIME: 20\n",
      "------------------------------------\n",
      "21  -- model FIT... -- nu: 0.003 | kernel: rbf | gamma: 0.0011\n",
      "Predict...\n",
      "1 2 3 4 5 6 7 8 9 10 -- F1_average, 10 fold:  0.27808027529626406\n",
      "TIME: 20\n",
      "------------------------------------\n",
      "22  -- model FIT... -- nu: 0.003 | kernel: rbf | gamma: 0.0021\n",
      "Predict...\n",
      "1 2 3 4 5 6 7 8 9 10 -- F1_average, 10 fold:  0.27808027529626406\n",
      "TIME: 20\n",
      "------------------------------------\n",
      "23  -- model FIT... -- nu: 0.003 | kernel: rbf | gamma: 0.0031\n",
      "Predict...\n",
      "1 2 3 4 5 6 7 8 9 10 -- F1_average, 10 fold:  0.27808027529626406\n",
      "TIME: 20\n",
      "------------------------------------\n",
      "24  -- model FIT... -- nu: 0.003 | kernel: rbf | gamma: 0.0041\n",
      "Predict...\n",
      "1 2 3 4 5 6 7 8 9 10 -- F1_average, 10 fold:  0.27808027529626406\n",
      "TIME: 20\n",
      "------------------------------------\n",
      "25  -- model FIT... -- nu: 0.003 | kernel: rbf | gamma: 0.0051\n",
      "Predict...\n",
      "1 2 3 4 5 6 7 8 9 10 -- F1_average, 10 fold:  0.27806490658596017\n",
      "TIME: 20\n",
      "------------------------------------\n",
      "26  -- model FIT... -- nu: 0.003 | kernel: rbf | gamma: 0.0061\n",
      "Predict...\n",
      "1 2 3 4 5 6 7 8 9 10 -- F1_average, 10 fold:  0.2782229715331449\n",
      "TIME: 20\n",
      "------------------------------------\n",
      "27  -- model FIT... -- nu: 0.003 | kernel: rbf | gamma: 0.0071\n",
      "Predict...\n",
      "1 2 3 4 5 6 7 8 9 10 -- F1_average, 10 fold:  0.2782229715331449\n",
      "TIME: 20\n",
      "------------------------------------\n",
      "28  -- model FIT... -- nu: 0.003 | kernel: rbf | gamma: 0.0081\n",
      "Predict...\n",
      "1 2 3 4 5 6 7 8 9 10 -- F1_average, 10 fold:  0.2782229715331449\n",
      "TIME: 20\n",
      "------------------------------------\n",
      "29  -- model FIT... -- nu: 0.003 | kernel: rbf | gamma: 0.0091\n",
      "Predict...\n",
      "1 2 3 4 5 6 7 8 9 10 -- F1_average, 10 fold:  0.2782229715331449\n",
      "TIME: 20\n",
      "------------------------------------\n",
      "30  -- model FIT... -- nu: 0.004 | kernel: rbf | gamma: 0.0001\n",
      "Predict...\n",
      "1 2 3 4 5 6 7 8 9 10 -- F1_average, 10 fold:  0.31529068439538194\n",
      "TIME: 27\n",
      "------------------------------------\n",
      "31  -- model FIT... -- nu: 0.004 | kernel: rbf | gamma: 0.0011\n",
      "Predict...\n",
      "1 2 3 4 5 6 7 8 9 10 -- F1_average, 10 fold:  0.3049198617424567\n",
      "TIME: 27\n",
      "------------------------------------\n",
      "32  -- model FIT... -- nu: 0.004 | kernel: rbf | gamma: 0.0021\n",
      "Predict...\n",
      "1 2 3 4 5 6 7 8 9 10 -- F1_average, 10 fold:  0.30477063885219324\n",
      "TIME: 27\n",
      "------------------------------------\n",
      "33  -- model FIT... -- nu: 0.004 | kernel: rbf | gamma: 0.0031\n",
      "Predict...\n",
      "1 2 3 4 5 6 7 8 9 10 -- F1_average, 10 fold:  0.30342261194803716\n",
      "TIME: 27\n",
      "------------------------------------\n",
      "34  -- model FIT... -- nu: 0.004 | kernel: rbf | gamma: 0.0041\n",
      "Predict...\n",
      "1 2 3 4 5 6 7 8 9 10 -- F1_average, 10 fold:  0.3036895229601152\n",
      "TIME: 27\n",
      "------------------------------------\n",
      "35  -- model FIT... -- nu: 0.004 | kernel: rbf | gamma: 0.0051\n",
      "Predict...\n",
      "1 2 3 4 5 6 7 8 9 10 -- F1_average, 10 fold:  0.3036895229601152\n",
      "TIME: 27\n",
      "------------------------------------\n",
      "36  -- model FIT... -- nu: 0.004 | kernel: rbf | gamma: 0.0061\n",
      "Predict...\n",
      "1 2 3 4 5 6 7 8 9 10 -- F1_average, 10 fold:  0.3036895229601152\n",
      "TIME: 27\n",
      "------------------------------------\n",
      "37  -- model FIT... -- nu: 0.004 | kernel: rbf | gamma: 0.0071\n",
      "Predict...\n",
      "1 2 3 4 5 6 7 8 9 10 -- F1_average, 10 fold:  0.3036895229601152\n",
      "TIME: 27\n",
      "------------------------------------\n",
      "38  -- model FIT... -- nu: 0.004 | kernel: rbf | gamma: 0.0081\n",
      "Predict...\n",
      "1 2 3 4 5 6 7 8 9 10 -- F1_average, 10 fold:  0.3036895229601152\n",
      "TIME: 27\n",
      "------------------------------------\n",
      "39  -- model FIT... -- nu: 0.004 | kernel: rbf | gamma: 0.0091\n",
      "Predict...\n",
      "1 2 3 4 5 6 7 8 9 10 -- F1_average, 10 fold:  0.3036895229601152\n",
      "TIME: 28\n",
      "------------------------------------\n",
      "40  -- model FIT... -- nu: 0.005 | kernel: rbf | gamma: 0.0001\n",
      "Predict...\n",
      "1 2 3 4 5 6 7 8 9 10 -- F1_average, 10 fold:  0.3220133633671809\n",
      "TIME: 33\n",
      "------------------------------------\n",
      "41  -- model FIT... -- nu: 0.005 | kernel: rbf | gamma: 0.0011\n",
      "Predict...\n",
      "1 2 3 4 5 6 7 8 9 10 -- F1_average, 10 fold:  0.3218331561637875\n",
      "TIME: 35\n",
      "------------------------------------\n",
      "42  -- model FIT... -- nu: 0.005 | kernel: rbf | gamma: 0.0021\n",
      "Predict...\n",
      "1 2 3 4 5 6 7 8 9 10 -- F1_average, 10 fold:  0.3222036990288554\n",
      "TIME: 34\n",
      "------------------------------------\n",
      "43  -- model FIT... -- nu: 0.005 | kernel: rbf | gamma: 0.0031\n",
      "Predict...\n",
      "1 2 3 4 5 6 7 8 9 10 -- F1_average, 10 fold:  0.32214899321592977\n",
      "TIME: 33\n",
      "------------------------------------\n",
      "44  -- model FIT... -- nu: 0.005 | kernel: rbf | gamma: 0.0041\n"
     ]
    },
    {
     "name": "stdout",
     "output_type": "stream",
     "text": [
      "Predict...\n",
      "1 2 3 4 5 6 7 8 9 10 -- F1_average, 10 fold:  0.3218673737343348\n",
      "TIME: 34\n",
      "------------------------------------\n",
      "45  -- model FIT... -- nu: 0.005 | kernel: rbf | gamma: 0.0051\n",
      "Predict...\n",
      "1 2 3 4 5 6 7 8 9 10 -- F1_average, 10 fold:  0.32188938194316824\n",
      "TIME: 34\n",
      "------------------------------------\n",
      "46  -- model FIT... -- nu: 0.005 | kernel: rbf | gamma: 0.0061\n",
      "Predict...\n",
      "1 2 3 4 5 6 7 8 9 10 -- F1_average, 10 fold:  0.32188938194316824\n",
      "TIME: 34\n",
      "------------------------------------\n",
      "47  -- model FIT... -- nu: 0.005 | kernel: rbf | gamma: 0.0071\n",
      "Predict...\n",
      "1 2 3 4 5 6 7 8 9 10 -- F1_average, 10 fold:  0.3218673737343348\n",
      "TIME: 34\n",
      "------------------------------------\n",
      "48  -- model FIT... -- nu: 0.005 | kernel: rbf | gamma: 0.0081\n",
      "Predict...\n",
      "1 2 3 4 5 6 7 8 9 10 -- F1_average, 10 fold:  0.3218878835133603\n",
      "TIME: 34\n",
      "------------------------------------\n",
      "49  -- model FIT... -- nu: 0.005 | kernel: rbf | gamma: 0.0091\n",
      "Predict...\n",
      "1 2 3 4 5 6 7 8 9 10 -- F1_average, 10 fold:  0.32186318287297727\n",
      "TIME: 34\n",
      "------------------------------------\n",
      "50  -- model FIT... -- nu: 0.006 | kernel: rbf | gamma: 0.0001\n",
      "Predict...\n",
      "1 2 3 4 5 6 7 8 9 10 -- F1_average, 10 fold:  0.3074442945906567\n",
      "TIME: 40\n",
      "------------------------------------\n",
      "51  -- model FIT... -- nu: 0.006 | kernel: rbf | gamma: 0.0011\n",
      "Predict...\n",
      "1 2 3 4 5 6 7 8 9 10 -- F1_average, 10 fold:  0.31896297336295504\n",
      "TIME: 40\n",
      "------------------------------------\n",
      "52  -- model FIT... -- nu: 0.006 | kernel: rbf | gamma: 0.0021\n",
      "Predict...\n",
      "1 2 3 4 5 6 7 8 9 10 -- F1_average, 10 fold:  0.3185183204305531\n",
      "TIME: 40\n",
      "------------------------------------\n",
      "53  -- model FIT... -- nu: 0.006 | kernel: rbf | gamma: 0.0031\n",
      "Predict...\n",
      "1 2 3 4 5 6 7 8 9 10 -- F1_average, 10 fold:  0.31850846362366775\n",
      "TIME: 40\n",
      "------------------------------------\n",
      "54  -- model FIT... -- nu: 0.006 | kernel: rbf | gamma: 0.0041\n",
      "Predict...\n",
      "1 2 3 4 5 6 7 8 9 10 -- F1_average, 10 fold:  0.3184727636328708\n",
      "TIME: 41\n",
      "------------------------------------\n",
      "55  -- model FIT... -- nu: 0.006 | kernel: rbf | gamma: 0.0051\n",
      "Predict...\n",
      "1 2 3 4 5 6 7 8 9 10 -- F1_average, 10 fold:  0.3184627202961857\n",
      "TIME: 40\n",
      "------------------------------------\n",
      "56  -- model FIT... -- nu: 0.006 | kernel: rbf | gamma: 0.0061\n",
      "Predict...\n",
      "1 2 3 4 5 6 7 8 9 10 -- F1_average, 10 fold:  0.31844416794048647\n",
      "TIME: 41\n",
      "------------------------------------\n",
      "57  -- model FIT... -- nu: 0.006 | kernel: rbf | gamma: 0.0071\n",
      "Predict...\n",
      "1 2 3 4 5 6 7 8 9 10 -- F1_average, 10 fold:  0.31841783460664075\n",
      "TIME: 40\n",
      "------------------------------------\n",
      "58  -- model FIT... -- nu: 0.006 | kernel: rbf | gamma: 0.0081\n",
      "Predict...\n",
      "1 2 3 4 5 6 7 8 9 10 -- F1_average, 10 fold:  0.31863720756925945\n",
      "TIME: 40\n",
      "------------------------------------\n",
      "59  -- model FIT... -- nu: 0.006 | kernel: rbf | gamma: 0.0091\n",
      "Predict...\n",
      "1 2 3 4 5 6 7 8 9 10 -- F1_average, 10 fold:  0.31844416794048647\n",
      "TIME: 41\n",
      "------------------------------------\n",
      "60  -- model FIT... -- nu: 0.007 | kernel: rbf | gamma: 0.0001\n",
      "Predict...\n",
      "1 2 3 4 5 6 7 8 9 10 -- F1_average, 10 fold:  0.3048794949927012\n",
      "TIME: 46\n",
      "------------------------------------\n",
      "61  -- model FIT... -- nu: 0.007 | kernel: rbf | gamma: 0.0011\n",
      "Predict...\n",
      "1 2 3 4 5 6 7 8 9 10 -- F1_average, 10 fold:  0.3209881601441079\n",
      "TIME: 47\n",
      "------------------------------------\n",
      "62  -- model FIT... -- nu: 0.007 | kernel: rbf | gamma: 0.0021\n",
      "Predict...\n",
      "1 2 3 4 5 6 7 8 9 10 -- F1_average, 10 fold:  0.32184942193310856\n",
      "TIME: 47\n",
      "------------------------------------\n",
      "63  -- model FIT... -- nu: 0.007 | kernel: rbf | gamma: 0.0031\n",
      "Predict...\n",
      "1 2 3 4 5 6 7 8 9 10 -- F1_average, 10 fold:  0.322328323699018\n",
      "TIME: 47\n",
      "------------------------------------\n",
      "64  -- model FIT... -- nu: 0.007 | kernel: rbf | gamma: 0.0041\n",
      "Predict...\n",
      "1 2 3 4 5 6 7 8 9 10 -- F1_average, 10 fold:  0.3222652836664185\n",
      "TIME: 47\n",
      "------------------------------------\n",
      "65  -- model FIT... -- nu: 0.007 | kernel: rbf | gamma: 0.0051\n",
      "Predict...\n",
      "1 2 3 4 5 6 7 8 9 10 -- F1_average, 10 fold:  0.3222296301910753\n",
      "TIME: 47\n",
      "------------------------------------\n",
      "66  -- model FIT... -- nu: 0.007 | kernel: rbf | gamma: 0.0061\n",
      "Predict...\n",
      "1 2 3 4 5 6 7 8 9 10 -- F1_average, 10 fold:  0.32218632151984106\n",
      "TIME: 47\n",
      "------------------------------------\n",
      "67  -- model FIT... -- nu: 0.007 | kernel: rbf | gamma: 0.0071\n",
      "Predict...\n",
      "1 2 3 4 5 6 7 8 9 10 -- F1_average, 10 fold:  0.3218813831170244\n",
      "TIME: 48\n",
      "------------------------------------\n",
      "68  -- model FIT... -- nu: 0.007 | kernel: rbf | gamma: 0.0081\n",
      "Predict...\n",
      "1 2 3 4 5 6 7 8 9 10 -- F1_average, 10 fold:  0.3218813831170244\n",
      "TIME: 47\n",
      "------------------------------------\n",
      "69  -- model FIT... -- nu: 0.007 | kernel: rbf | gamma: 0.0091\n",
      "Predict...\n",
      "1 2 3 4 5 6 7 8 9 10 -- F1_average, 10 fold:  0.32202539612516234\n",
      "TIME: 48\n",
      "------------------------------------\n",
      "70  -- model FIT... -- nu: 0.008 | kernel: rbf | gamma: 0.0001\n",
      "Predict...\n",
      "1 2 3 4 5 6 7 8 9 10 -- F1_average, 10 fold:  0.3022148640314501\n",
      "TIME: 53\n",
      "------------------------------------\n",
      "71  -- model FIT... -- nu: 0.008 | kernel: rbf | gamma: 0.0011\n",
      "Predict...\n",
      "1 2 3 4 5 6 7 8 9 10 -- F1_average, 10 fold:  0.3185201389369886\n",
      "TIME: 53\n",
      "------------------------------------\n",
      "72  -- model FIT... -- nu: 0.008 | kernel: rbf | gamma: 0.0021\n",
      "Predict...\n",
      "1 2 3 4 5 6 7 8 9 10 -- F1_average, 10 fold:  0.3189925708646162\n",
      "TIME: 54\n",
      "------------------------------------\n",
      "73  -- model FIT... -- nu: 0.008 | kernel: rbf | gamma: 0.0031\n",
      "Predict...\n",
      "1 2 3 4 5 6 7 8 9 10 -- F1_average, 10 fold:  0.3190976698612768\n",
      "TIME: 55\n",
      "------------------------------------\n",
      "74  -- model FIT... -- nu: 0.008 | kernel: rbf | gamma: 0.0041\n",
      "Predict...\n",
      "1 2 3 4 5 6 7 8 9 10 -- F1_average, 10 fold:  0.3191018832303504\n",
      "TIME: 54\n",
      "------------------------------------\n",
      "75  -- model FIT... -- nu: 0.008 | kernel: rbf | gamma: 0.0051\n",
      "Predict...\n",
      "1 2 3 4 5 6 7 8 9 10 -- F1_average, 10 fold:  0.31915595400130764\n",
      "TIME: 54\n",
      "------------------------------------\n",
      "76  -- model FIT... -- nu: 0.008 | kernel: rbf | gamma: 0.0061\n",
      "Predict...\n",
      "1 2 3 4 5 6 7 8 9 10 -- F1_average, 10 fold:  0.31905084701600844\n",
      "TIME: 57\n",
      "------------------------------------\n",
      "77  -- model FIT... -- nu: 0.008 | kernel: rbf | gamma: 0.0071\n",
      "Predict...\n",
      "1 2 3 4 5 6 7 8 9 10 -- F1_average, 10 fold:  0.31905084701600844\n",
      "TIME: 55\n",
      "------------------------------------\n",
      "78  -- model FIT... -- nu: 0.008 | kernel: rbf | gamma: 0.0081\n",
      "Predict...\n",
      "1 2 3 4 5 6 7 8 9 10 -- F1_average, 10 fold:  0.31905084701600844\n",
      "TIME: 55\n",
      "------------------------------------\n",
      "79  -- model FIT... -- nu: 0.008 | kernel: rbf | gamma: 0.0091\n",
      "Predict...\n",
      "1 2 3 4 5 6 7 8 9 10 -- F1_average, 10 fold:  0.31905084701600844\n",
      "TIME: 55\n",
      "------------------------------------\n",
      "80  -- model FIT... -- nu: 0.009000000000000001 | kernel: rbf | gamma: 0.0001\n",
      "Predict...\n",
      "1 2 3 4 5 6 7 8 9 10 -- F1_average, 10 fold:  0.29898641293993133\n",
      "TIME: 59\n",
      "------------------------------------\n",
      "81  -- model FIT... -- nu: 0.009000000000000001 | kernel: rbf | gamma: 0.0011\n",
      "Predict...\n",
      "1 2 3 4 5 6 7 8 9 10 -- F1_average, 10 fold:  0.31292805816070735\n",
      "TIME: 60\n",
      "------------------------------------\n",
      "82  -- model FIT... -- nu: 0.009000000000000001 | kernel: rbf | gamma: 0.0021\n",
      "Predict...\n",
      "1 2 3 4 5 6 7 8 9 10 -- F1_average, 10 fold:  0.3150097935796668\n",
      "TIME: 61\n",
      "------------------------------------\n",
      "83  -- model FIT... -- nu: 0.009000000000000001 | kernel: rbf | gamma: 0.0031\n",
      "Predict...\n",
      "1 2 3 4 5 6 7 8 9 10 -- F1_average, 10 fold:  0.3143035941350471\n",
      "TIME: 61\n",
      "------------------------------------\n",
      "84  -- model FIT... -- nu: 0.009000000000000001 | kernel: rbf | gamma: 0.0041\n",
      "Predict...\n",
      "1 2 3 4 5 6 7 8 9 10 -- F1_average, 10 fold:  0.3144904852565743\n",
      "TIME: 61\n",
      "------------------------------------\n",
      "85  -- model FIT... -- nu: 0.009000000000000001 | kernel: rbf | gamma: 0.0051\n",
      "Predict...\n",
      "1 2 3 4 5 6 7 8 9 10 -- F1_average, 10 fold:  0.31429014359883206\n",
      "TIME: 62\n",
      "------------------------------------\n",
      "86  -- model FIT... -- nu: 0.009000000000000001 | kernel: rbf | gamma: 0.0061\n",
      "Predict...\n",
      "1 2 3 4 5 6 7 8 9 10 -- F1_average, 10 fold:  0.3142942897286727\n",
      "TIME: 62\n",
      "------------------------------------\n",
      "87  -- model FIT... -- nu: 0.009000000000000001 | kernel: rbf | gamma: 0.0071\n",
      "Predict...\n",
      "1 2 3 4 5 6 7 8 9 10 -- F1_average, 10 fold:  0.3142942897286727\n",
      "TIME: 61\n",
      "------------------------------------\n",
      "88  -- model FIT... -- nu: 0.009000000000000001 | kernel: rbf | gamma: 0.0081\n"
     ]
    },
    {
     "name": "stdout",
     "output_type": "stream",
     "text": [
      "Predict...\n",
      "1 2 3 4 5 6 7 8 9 10 -- F1_average, 10 fold:  0.3142942897286727\n",
      "TIME: 62\n",
      "------------------------------------\n",
      "89  -- model FIT... -- nu: 0.009000000000000001 | kernel: rbf | gamma: 0.0091\n",
      "Predict...\n",
      "1 2 3 4 5 6 7 8 9 10 -- F1_average, 10 fold:  0.3142942897286727\n",
      "TIME: 62\n",
      "------------------------------------\n"
     ]
    }
   ],
   "source": [
    "true_anomaly = true_anomaly[:449907]\n",
    "num = 0\n",
    "best_f1 = [0,0]\n",
    "all_models = {}\n",
    "for i in np.arange(0.001, 0.01, 0.001):                      # Nu\n",
    "#     for j in ['rbf', 'sigmoid', 'poly']:                  # Kernel\n",
    "    for k in np.arange(0.0001, 0.01, 0.001):        # Gamma\n",
    "\n",
    "        start_time = datetime.now()\n",
    "\n",
    "        print(num, \" -- model FIT... -- nu:\", i, \"| kernel: rbf\", '| gamma:', k)\n",
    "        clf_1 = svm.OneClassSVM(nu=i, kernel='rbf', gamma=k)\n",
    "        clf_1.fit(mse_val_rs[:100000])\n",
    "        \n",
    "        print('Predict...')\n",
    "        f1_full = 0\n",
    "        for m in range(10):\n",
    "            print(m+1, end=' ')\n",
    "            y_scores = clf_1.predict(mse_test_rs[45000*m:45000*(m+1)])\n",
    "            anomaly = change_label(y_scores)\n",
    "            f1 = f1_score(true_anomaly[45000*m:45000*(m+1)], anomaly)\n",
    "            f1_full+=f1\n",
    "\n",
    "#       print_distrib(anomaly)\n",
    "#       f1 = f1_score(true_anomaly[:20000], anomaly)\n",
    "        f1_avg = f1_full/10\n",
    "\n",
    "        if f1_avg > best_f1[1]:\n",
    "            best_f1[0] = num\n",
    "            best_f1[1] = f1_avg\n",
    "        all_models[num] = {'nu':i, 'kernel':'rbf', 'gamma':k}\n",
    "        num+=1\n",
    "\n",
    "        print('-- F1_average, 10 fold: ', f1_avg)\n",
    "        print('TIME:', (datetime.now() - start_time).seconds)\n",
    "        print('------------------------------------')\n",
    "        "
   ]
  },
  {
   "cell_type": "code",
   "execution_count": 86,
   "id": "d4d26f65",
   "metadata": {
    "scrolled": true
   },
   "outputs": [
    {
     "name": "stdout",
     "output_type": "stream",
     "text": [
      "FIT....\n",
      "FIT DONE\n",
      "PREDICT...\n",
      "PREDICT DONE\n",
      "{0: 411722, 1: 38185}\n",
      "              precision    recall  f1-score   support\n",
      "\n",
      "           0       0.95      0.99      0.97    395286\n",
      "           1       0.93      0.65      0.77     54621\n",
      "\n",
      "    accuracy                           0.95    449907\n",
      "   macro avg       0.94      0.82      0.87    449907\n",
      "weighted avg       0.95      0.95      0.95    449907\n",
      "\n"
     ]
    }
   ],
   "source": [
    "clf_1 = svm.OneClassSVM(nu=0.002, kernel=\"rbf\", gamma=0.000009)\n",
    "print('FIT....')\n",
    "clf_1.fit(mse_val_rs)\n",
    "print('FIT DONE')\n",
    "print('PREDICT...')\n",
    "y_scores_1 = clf_1.predict(mse_test_rs)\n",
    "print('PREDICT DONE')\n",
    "\n",
    "anomaly = change_label(y_scores_1)\n",
    "print_distrib(anomaly)\n",
    "\n",
    "print(classification_report(true_anomaly[:449907], anomaly))"
   ]
  },
  {
   "cell_type": "code",
   "execution_count": 87,
   "id": "f4230cca",
   "metadata": {},
   "outputs": [
    {
     "data": {
      "text/plain": [
       "0.7687865008727884"
      ]
     },
     "execution_count": 87,
     "metadata": {},
     "output_type": "execute_result"
    }
   ],
   "source": [
    "f1_ocsvm = f1_score(true_anomaly[:449907], anomaly)\n",
    "f1_ocsvm"
   ]
  },
  {
   "cell_type": "code",
   "execution_count": 110,
   "id": "e3619d38",
   "metadata": {},
   "outputs": [
    {
     "data": {
      "text/plain": [
       "<matplotlib.legend.Legend at 0x27abf2583a0>"
      ]
     },
     "execution_count": 110,
     "metadata": {},
     "output_type": "execute_result"
    },
    {
     "data": {
      "image/png": "[encoded data removed]",
      "text/plain": [
       "<Figure size 864x504 with 1 Axes>"
      ]
     },
     "metadata": {
      "needs_background": "light"
     },
     "output_type": "display_data"
    }
   ],
   "source": [
    "title = 'SWAT -- OCSVM, f1_score -- ' +str(round(f1_ocsvm, 4))\n",
    "\n",
    "plt.figure(figsize=(12,7))\n",
    "plt.title(title)\n",
    "plt.plot(anomaly, color='r', label='Prediction')\n",
    "plt.plot(true_anomaly[:449907], label='True')\n",
    "plt.legend(loc='upper left')"
   ]
  },
  {
   "cell_type": "markdown",
   "id": "5eb96f51",
   "metadata": {},
   "source": [
    "#### ROC AUC"
   ]
  },
  {
   "cell_type": "code",
   "execution_count": 66,
   "id": "ec6462cc",
   "metadata": {},
   "outputs": [],
   "source": [
    "from sklearn.metrics import roc_auc_score, roc_curve, plot_roc_curve, auc"
   ]
  },
  {
   "cell_type": "code",
   "execution_count": 64,
   "id": "07c03cfd",
   "metadata": {},
   "outputs": [],
   "source": [
    "desicion_func = abs(clf_1.decision_function(mse_test_rs))"
   ]
  },
  {
   "cell_type": "code",
   "execution_count": 67,
   "id": "f4615e6a",
   "metadata": {},
   "outputs": [
    {
     "name": "stdout",
     "output_type": "stream",
     "text": [
      "0.7768263307468402\n"
     ]
    }
   ],
   "source": [
    "print(roc_auc_score(true_anomaly[:449907], desicion_func))"
   ]
  },
  {
   "cell_type": "code",
   "execution_count": 68,
   "id": "35f14116",
   "metadata": {},
   "outputs": [],
   "source": [
    "fpr,tpr,thresholds = roc_curve(true_anomaly[:449907], desicion_func)\n",
    "# desicion_func = clf_1.decision_function(mse_test_rs)\n",
    "# fpr,tpr,thresholds = roc_curve(true_anomaly[:449907], desicion_func)"
   ]
  },
  {
   "cell_type": "code",
   "execution_count": 69,
   "id": "a3504245",
   "metadata": {},
   "outputs": [
    {
     "data": {
      "image/png": "[encoded data removed]",
      "text/plain": [
       "<Figure size 504x360 with 1 Axes>"
      ]
     },
     "metadata": {
      "needs_background": "light"
     },
     "output_type": "display_data"
    }
   ],
   "source": [
    "roc_auc = auc(fpr,tpr)\n",
    "\n",
    "plt.figure(figsize=(7,5))\n",
    "plt.plot(fpr, tpr, label='ROC curve (area = %0.5f)' % roc_auc)\n",
    "plt.plot([0, 1], [0, 1], 'k--')\n",
    "plt.xlim([0.0, 1.0])\n",
    "plt.ylim([0.0, 1.05])\n",
    "plt.xlabel('False Positive Rate')\n",
    "plt.ylabel('True Positive Rate')\n",
    "plt.title('ROC-AUC, метод LSTM-AE OCSVM')\n",
    "plt.legend(loc=\"lower right\")\n",
    "plt.grid()\n",
    "plt.show()"
   ]
  },
  {
   "cell_type": "markdown",
   "id": "1458e7f4",
   "metadata": {},
   "source": [
    "#### MAE"
   ]
  },
  {
   "cell_type": "code",
   "execution_count": 89,
   "id": "2b669ac0",
   "metadata": {},
   "outputs": [],
   "source": [
    "from metrics import Metrics"
   ]
  },
  {
   "cell_type": "code",
   "execution_count": 92,
   "id": "ec0c0089",
   "metadata": {},
   "outputs": [],
   "source": [
    "time = df_anomaly[' Timestamp'][:449907]"
   ]
  },
  {
   "cell_type": "code",
   "execution_count": 93,
   "id": "4d7bb447",
   "metadata": {},
   "outputs": [],
   "source": [
    "true = true_anomaly[:449907]\n",
    "pred = anomaly"
   ]
  },
  {
   "cell_type": "code",
   "execution_count": 99,
   "id": "263577ee",
   "metadata": {},
   "outputs": [],
   "source": [
    "df_mae = pd.DataFrame(data={'time':np.arange(len(pred)), 'true':true, 'pred':pred}) "
   ]
  },
  {
   "cell_type": "code",
   "execution_count": 100,
   "id": "0be42f87",
   "metadata": {},
   "outputs": [],
   "source": [
    "from datetime import datetime\n",
    "\n",
    "for i in df_mae[\"time\"]:\n",
    "    df_mae[\"time\"][i] = datetime.fromtimestamp(i).strftime(\"%Y-%m-%d %I:%M:%S\")\n",
    "    \n",
    "df_mae['time'] = df_mae['time'].astype('datetime64[ns]')"
   ]
  },
  {
   "cell_type": "code",
   "execution_count": 102,
   "id": "8b58135e",
   "metadata": {},
   "outputs": [],
   "source": [
    "metrics = Metrics(df_mae['true'], df_mae['pred'], df_mae['time'], 10)"
   ]
  },
  {
   "cell_type": "code",
   "execution_count": 103,
   "id": "54492bc9",
   "metadata": {},
   "outputs": [
    {
     "name": "stderr",
     "output_type": "stream",
     "text": [
      "100%|████████████████████████████████████████████████████████████████████████| 449907/449907 [04:24<00:00, 1702.17it/s]"
     ]
    },
    {
     "name": "stdout",
     "output_type": "stream",
     "text": [
      "MAE: 0:32:04.864397\n"
     ]
    },
    {
     "name": "stderr",
     "output_type": "stream",
     "text": [
      "\n"
     ]
    },
    {
     "data": {
      "text/plain": [
       "datetime.timedelta(seconds=1924, microseconds=864397)"
      ]
     },
     "execution_count": 103,
     "metadata": {},
     "output_type": "execute_result"
    }
   ],
   "source": [
    "metrics.maerror()"
   ]
  },
  {
   "cell_type": "code",
   "execution_count": 104,
   "id": "e03bed5d",
   "metadata": {},
   "outputs": [
    {
     "name": "stderr",
     "output_type": "stream",
     "text": [
      "100%|████████████████████████████████████████████████████████████████████████| 100000/100000 [00:58<00:00, 1713.44it/s]"
     ]
    },
    {
     "name": "stdout",
     "output_type": "stream",
     "text": [
      "MAE: 0:20:28.040933\n"
     ]
    },
    {
     "name": "stderr",
     "output_type": "stream",
     "text": [
      "\n"
     ]
    },
    {
     "data": {
      "text/plain": [
       "datetime.timedelta(seconds=1228, microseconds=40933)"
      ]
     },
     "execution_count": 104,
     "metadata": {},
     "output_type": "execute_result"
    }
   ],
   "source": [
    "time = df_anomaly[' Timestamp'][:449907][200000:300000]\n",
    "\n",
    "true = true_anomaly[:449907][200000:300000]\n",
    "pred = anomaly[200000:300000]\n",
    "\n",
    "df_mae = pd.DataFrame(data={'time':np.arange(len(pred)), 'true':true, 'pred':pred}) \n",
    "\n",
    "from datetime import datetime\n",
    "\n",
    "for i in df_mae[\"time\"]:\n",
    "    df_mae[\"time\"][i] = datetime.fromtimestamp(i).strftime(\"%Y-%m-%d %I:%M:%S\")\n",
    "    \n",
    "df_mae['time'] = df_mae['time'].astype('datetime64[ns]')\n",
    "\n",
    "metrics = Metrics(df_mae['true'], df_mae['pred'], df_mae['time'], 10)\n",
    "\n",
    "metrics.maerror()"
   ]
  }
 ],
 "metadata": {
  "kernelspec": {
   "display_name": "Python 3 (ipykernel)",
   "language": "python",
   "name": "python3"
  },
  "language_info": {
   "codemirror_mode": {
    "name": "ipython",
    "version": 3
   },
   "file_extension": ".py",
   "mimetype": "text/x-python",
   "name": "python",
   "nbconvert_exporter": "python",
   "pygments_lexer": "ipython3",
   "version": "3.9.7"
  }
 },
 "nbformat": 4,
 "nbformat_minor": 5
}
