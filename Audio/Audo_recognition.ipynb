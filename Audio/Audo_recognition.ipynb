{
  "cells": [
    {
      "cell_type": "markdown",
      "source": [
        "## Импорт бибилиотек"
      ],
      "metadata": {
        "id": "TgbZfuAux8h5"
      }
    },
    {
      "cell_type": "code",
      "execution_count": 1,
      "metadata": {
        "id": "3RSfHz3gb8Ps"
      },
      "outputs": [],
      "source": [
        "import librosa\n",
        "import pandas as pd\n",
        "import numpy as np\n",
        "import matplotlib.pyplot as plt\n",
        "%matplotlib inline\n",
        "import seaborn as sns\n",
        "import os\n",
        "import pathlib\n",
        "import csv\n",
        "import scipy\n",
        "\n",
        "import pylab as pl\n",
        "import scipy.optimize as opt\n",
        "from sklearn import preprocessing\n",
        "from sklearn.model_selection import train_test_split\n",
        "\n",
        "import csv\n",
        "\n",
        "import warnings\n",
        "warnings.filterwarnings('ignore')"
      ]
    },
    {
      "cell_type": "code",
      "execution_count": null,
      "metadata": {
        "id": "G2t66dL-sGG9"
      },
      "outputs": [],
      "source": []
    },
    {
      "cell_type": "markdown",
      "source": [
        "## Загрузка данных с Гугл Диска"
      ],
      "metadata": {
        "id": "ALOff2lVx334"
      }
    },
    {
      "cell_type": "code",
      "execution_count": 3,
      "metadata": {
        "colab": {
          "base_uri": "https://localhost:8080/"
        },
        "id": "8KrcVhD_g4KG",
        "outputId": "aa234df4-b383-4c77-905c-68ef3398b50e"
      },
      "outputs": [
        {
          "output_type": "stream",
          "name": "stdout",
          "text": [
            "Mounted at /content/drive\n"
          ]
        }
      ],
      "source": [
        "from google.colab import drive\n",
        "drive.mount('/content/drive')"
      ]
    },
    {
      "cell_type": "code",
      "execution_count": 4,
      "metadata": {
        "colab": {
          "base_uri": "https://localhost:8080/"
        },
        "id": "U53HZQ6Ig4KH",
        "outputId": "21b6680c-471e-4969-e2e3-2d3c9bc65d6d"
      },
      "outputs": [
        {
          "output_type": "stream",
          "name": "stdout",
          "text": [
            " Bert_эмбеддинги_анализ.ipynb   Итоговая_Аттестационная_Работа_ДПО_Маяцкая_Е.А..pdf\n",
            "'Colab Notebooks'\t        Код\n",
            "'Copy of МЧС.ipynb'\t        Кортежи.ipynb\n",
            " documents.gdoc\t\t        Множества.ipynb\n",
            " file_1.gdoc\t\t        МЧС.ipynb\n",
            " file_2.gdoc\t\t        Обучение_gpt.ipynb\n",
            " Untitled0.ipynb\t        Отчет_ДПО_Маяцкая_Е.А..pdf\n",
            " Алгоритмы.ipynb\t        Резюме_Маяцкая_Екатерина_Александровна.pdf\n",
            " Данные\t\t\t        Словари.ipynb\n",
            " Задание_AI-ассистент.gdoc      Списки.ipynb\n"
          ]
        }
      ],
      "source": [
        "!ls \"/content/drive/My Drive\""
      ]
    },
    {
      "cell_type": "code",
      "execution_count": 5,
      "metadata": {
        "colab": {
          "base_uri": "https://localhost:8080/"
        },
        "id": "BHvZRIMMg4KG",
        "outputId": "6c1ac71d-1e71-4e19-f7e9-1cb69893c549"
      },
      "outputs": [
        {
          "output_type": "stream",
          "name": "stdout",
          "text": [
            "/content/drive/My Drive\n"
          ]
        }
      ],
      "source": [
        "cd /content/drive/My Drive"
      ]
    },
    {
      "cell_type": "code",
      "execution_count": 6,
      "metadata": {
        "colab": {
          "base_uri": "https://localhost:8080/"
        },
        "id": "l8d9yk93g4KH",
        "outputId": "16dcc1c3-e53d-4674-f255-98af656ae893"
      },
      "outputs": [
        {
          "output_type": "stream",
          "name": "stdout",
          "text": [
            "/content/drive/My Drive/Colab Notebooks\n"
          ]
        }
      ],
      "source": [
        "cd 'Colab Notebooks'"
      ]
    },
    {
      "cell_type": "code",
      "execution_count": 7,
      "metadata": {
        "colab": {
          "base_uri": "https://localhost:8080/"
        },
        "id": "98JMffHDg4KH",
        "outputId": "ef8d95b3-2f06-4dbf-dfa2-620b26986905"
      },
      "outputs": [
        {
          "output_type": "stream",
          "name": "stdout",
          "text": [
            " Audio_features            test_fin.csv\n",
            " Audo_recognition.ipynb    train_bert.ipynb\n",
            " \u001b[0m\u001b[01;34mcatboost_info\u001b[0m/            train_emb.csv\n",
            " CodeWars_DS.ipynb         train_fin.csv\n",
            " \u001b[01;34mdata\u001b[0m/                     Untitled\n",
            " dataset.csv               Untitled0.ipynb\n",
            " fine-Tuning_LLM          'загрузка Llama.ipynb'\n",
            " fine-Tuning_LLM.ipynb     Задачи.ipynb\n",
            " Linear_Regression.ipynb  'Копия блокнота \"BERT+Lstm(end).ipynb\"'\n",
            " lmsys-chatbot-arena.zip  'Копия блокнота \"Untitled94.ipynb\"'\n",
            " lmsys.ipynb              ' МЧС_изм'\n",
            " Log_Regression.ipynb     'МЧС_изм(авт)'\n",
            " Numpy.ipynb               обучение_LLM.ipynb\n",
            " Pandas.ipynb              Получение_эмбеддингов_и_обучение_трансформера.ipynb\n",
            " promt_engenering.ipynb   'Соревнование_LMSYS .ipynb'\n",
            " RAG.ipynb                 Хакатон.ipynb\n",
            " test_emb.csv\n"
          ]
        }
      ],
      "source": [
        "ls"
      ]
    },
    {
      "cell_type": "markdown",
      "source": [
        "## Загрузка данных"
      ],
      "metadata": {
        "id": "waz-UzN8yCbb"
      }
    },
    {
      "cell_type": "markdown",
      "source": [
        "Данные содержат аудио записи человеческой и сгенерированной речи.\n",
        "\n",
        "**Задача:** определить является ли аудио запись реальным человеческим голосом"
      ],
      "metadata": {
        "id": "hUG7oC4EyFwb"
      }
    },
    {
      "cell_type": "code",
      "execution_count": 8,
      "metadata": {
        "colab": {
          "base_uri": "https://localhost:8080/"
        },
        "id": "zyZfz2nRiotU",
        "outputId": "fc7fb6ef-5ca7-4f45-a4af-863913261ac8"
      },
      "outputs": [
        {
          "output_type": "stream",
          "name": "stdout",
          "text": [
            "Human files: 1070\n",
            "Spoof files: 2172\n"
          ]
        }
      ],
      "source": [
        "#Cписки файлов\n",
        "human_dir, _, human_files = next(os.walk('./data/training/real'))\n",
        "spoof_dir, _, spoof_files = next(os.walk('./data/training/fake'))\n",
        "print(f\"Human files: {len(human_files)}\\nSpoof files: {len(spoof_files)}\")"
      ]
    },
    {
      "cell_type": "markdown",
      "source": [
        "Функция расчета признаков аудио сигнала"
      ],
      "metadata": {
        "id": "5908UStvyoRH"
      }
    },
    {
      "cell_type": "markdown",
      "source": [
        "- Средние значения и стандартные отклонения Мел-кепстральных коэффициентов ( по 20 значений);\n",
        "\n",
        "- Среднее значение, стандартное отклонение и skew (наклон) Спектрального центроида\n",
        "\n",
        "- Среднее значение и стандартное отклонение Спектрального спада;"
      ],
      "metadata": {
        "id": "XVUqARtHy3wh"
      }
    },
    {
      "cell_type": "code",
      "execution_count": 2,
      "metadata": {
        "id": "c6EiP6agftCW"
      },
      "outputs": [],
      "source": [
        "def extract_features(directory, file):\n",
        "    name = f'{directory}/{file}'\n",
        "    y, sr = librosa.load(name, mono=True, duration=5)\n",
        "\n",
        "    features = []\n",
        "    features.append(file) # filename\n",
        "    features.extend([np.mean(e) for e in librosa.feature.mfcc(y=y, sr=sr,\n",
        "                                                              n_mfcc=20)])  # mfcc_mean<0..20>\n",
        "    features.extend([np.std(e) for e in librosa.feature.mfcc(y=y, sr=sr,\n",
        "                                                             n_mfcc=20)])   # mfcc_std\n",
        "    features.append(np.mean(librosa.feature.spectral_centroid(y=y, sr=sr).T,\n",
        "                            axis = 0)[0])     # cent_mean\n",
        "    features.append(np.std(librosa.feature.spectral_centroid(y=y,sr=sr).T,\n",
        "                           axis = 0)[0])       # cent_std\n",
        "    features.append(scipy.stats.skew(librosa.feature.spectral_centroid(y=y,sr=sr).T,\n",
        "                                     axis = 0)[0])    # cent_skew\n",
        "    features.append(np.mean(librosa.feature.spectral_rolloff(y=y, sr=sr).T,\n",
        "                            axis = 0)[0])      # rolloff_mean\n",
        "    features.append(np.std(librosa.feature.spectral_rolloff(y=y, sr=sr).T,\n",
        "                           axis = 0)[0])       # rolloff_std\n",
        "\n",
        "\n",
        "    features.append(directory.split('/')[-1])\n",
        "    return features"
      ]
    },
    {
      "cell_type": "code",
      "execution_count": 9,
      "metadata": {
        "colab": {
          "base_uri": "https://localhost:8080/"
        },
        "id": "xUvp5p4visFk",
        "outputId": "e3fc5516-7309-4a89-8a87-ceb278601f4d"
      },
      "outputs": [
        {
          "output_type": "stream",
          "name": "stdout",
          "text": [
            "- [real] Write 1070 rows\n",
            "- [real] Writing complete\n",
            "- [fake] Write 2172 rows\n",
            "- [fake] Writing complete\n"
          ]
        }
      ],
      "source": [
        "buffer = []\n",
        "buffer_size = 5000\n",
        "buffer_counter = 0\n",
        "\n",
        "# Создание заголовка для файла CSV.\n",
        "header = ['filename']\n",
        "header.extend([f'mfcc_mean{i}' for i in range(1, 21)])\n",
        "header.extend([f'mfcc_std{i}' for i in range(1, 21)])\n",
        "header.extend(['cent_mean', 'cent_std', 'cent_skew', 'rolloff_mean', 'rolloff_std',\n",
        "               'label'])\n",
        "\n",
        "with open('dataset.csv', 'w', newline='') as file:\n",
        "    writer = csv.writer(file, delimiter=',')\n",
        "    writer.writerow(header)\n",
        "    for directory, files in [(human_dir, human_files), (spoof_dir, spoof_files)]:\n",
        "        for file in files:\n",
        "            features = extract_features(directory, file)\n",
        "            if buffer_counter + 1 == buffer_size:\n",
        "                buffer.append(features)\n",
        "                writer.writerows(buffer)\n",
        "                print(f\"- [{directory.split('/')[-1]}] Write {len(buffer)} rows\")\n",
        "                buffer = []\n",
        "                buffer_counter = 0\n",
        "            else:\n",
        "                buffer.append(features)\n",
        "                buffer_counter += 1\n",
        "        if buffer:\n",
        "            writer.writerows(buffer)\n",
        "            print(f\"- [{directory.split('/')[-1]}] Write {len(buffer)} rows\")\n",
        "        print(f\"- [{directory.split('/')[-1]}] Writing complete\")\n",
        "        buffer = []\n",
        "        buffer_counter = 0"
      ]
    },
    {
      "cell_type": "code",
      "execution_count": 10,
      "metadata": {
        "id": "3spdqlVrj3c7"
      },
      "outputs": [],
      "source": [
        "df = pd.read_csv('./dataset.csv')"
      ]
    },
    {
      "cell_type": "code",
      "execution_count": 11,
      "metadata": {
        "id": "LeLAEIBps-p-"
      },
      "outputs": [],
      "source": [
        "df = df.sample(frac=1).reset_index()"
      ]
    },
    {
      "cell_type": "code",
      "execution_count": 12,
      "metadata": {
        "colab": {
          "base_uri": "https://localhost:8080/",
          "height": 256
        },
        "id": "uasqHBWbtVDc",
        "outputId": "e1deae60-b957-4f76-c059-378c559bb4ba"
      },
      "outputs": [
        {
          "output_type": "execute_result",
          "data": {
            "text/plain": [
              "   index                                           filename  mfcc_mean1  \\\n",
              "0    814  file29859.wav_16k.wav_norm.wav_mono.wav_silenc...  -174.81064   \n",
              "1    459  file30184.wav_16k.wav_norm.wav_mono.wav_silenc...  -231.52373   \n",
              "2   2206  file1125.mp3.wav_16k.wav_norm.wav_mono.wav_sil...  -172.95280   \n",
              "3   1272  file2680.mp3.wav_16k.wav_norm.wav_mono.wav_sil...  -170.67126   \n",
              "4   2512  file1516.mp3.wav_16k.wav_norm.wav_mono.wav_sil...  -197.92003   \n",
              "\n",
              "   mfcc_mean2  mfcc_mean3  mfcc_mean4  mfcc_mean5  mfcc_mean6  mfcc_mean7  \\\n",
              "0   123.43083  -69.558420   27.034569  -20.427351   -1.620835   -6.929156   \n",
              "1   105.93152  -19.329802   19.742140  -43.234085    8.274216  -27.411758   \n",
              "2   136.23814  -57.396710   36.368298  -31.149292    5.385503  -20.707506   \n",
              "3   164.73079  -40.506172   58.945255    8.136011    1.720430    0.819190   \n",
              "4   140.62096  -59.136734   43.080097  -18.316460    8.591222   -6.429421   \n",
              "\n",
              "   mfcc_mean8  ...  mfcc_std17  mfcc_std18  mfcc_std19  mfcc_std20  \\\n",
              "0  -19.711384  ...    6.435041    6.940960    6.405052    5.127906   \n",
              "1  -12.147648  ...    9.231453    7.437624    6.883217    6.687924   \n",
              "2   -6.337903  ...    8.700924    7.558128    9.876263    8.929201   \n",
              "3    8.259555  ...    8.165613    9.328321    7.841833    8.690800   \n",
              "4  -22.406498  ...    8.210041    5.798946    5.635915    8.110507   \n",
              "\n",
              "     cent_mean     cent_std  cent_skew  rolloff_mean  rolloff_std  label  \n",
              "0  1758.251147   562.764427   1.610835   3310.692335   846.041948   real  \n",
              "1  2543.801584  2013.862851   1.037732   3881.767689  2383.182141   real  \n",
              "2  1590.198710   665.778143   1.461035   2934.626399  1403.795418   fake  \n",
              "3  1334.187791   786.050640   2.172005   2679.889949  1380.975103   fake  \n",
              "4  1429.050947   599.287083   1.694617   2698.772912  1067.745403   fake  \n",
              "\n",
              "[5 rows x 48 columns]"
            ],
            "text/html": [
              "\n",
              "  <div id=\"df-b3f704c7-aeac-4792-b90e-42fa5294011d\" class=\"colab-df-container\">\n",
              "    <div>\n",
              "<style scoped>\n",
              "    .dataframe tbody tr th:only-of-type {\n",
              "        vertical-align: middle;\n",
              "    }\n",
              "\n",
              "    .dataframe tbody tr th {\n",
              "        vertical-align: top;\n",
              "    }\n",
              "\n",
              "    .dataframe thead th {\n",
              "        text-align: right;\n",
              "    }\n",
              "</style>\n",
              "<table border=\"1\" class=\"dataframe\">\n",
              "  <thead>\n",
              "    <tr style=\"text-align: right;\">\n",
              "      <th></th>\n",
              "      <th>index</th>\n",
              "      <th>filename</th>\n",
              "      <th>mfcc_mean1</th>\n",
              "      <th>mfcc_mean2</th>\n",
              "      <th>mfcc_mean3</th>\n",
              "      <th>mfcc_mean4</th>\n",
              "      <th>mfcc_mean5</th>\n",
              "      <th>mfcc_mean6</th>\n",
              "      <th>mfcc_mean7</th>\n",
              "      <th>mfcc_mean8</th>\n",
              "      <th>...</th>\n",
              "      <th>mfcc_std17</th>\n",
              "      <th>mfcc_std18</th>\n",
              "      <th>mfcc_std19</th>\n",
              "      <th>mfcc_std20</th>\n",
              "      <th>cent_mean</th>\n",
              "      <th>cent_std</th>\n",
              "      <th>cent_skew</th>\n",
              "      <th>rolloff_mean</th>\n",
              "      <th>rolloff_std</th>\n",
              "      <th>label</th>\n",
              "    </tr>\n",
              "  </thead>\n",
              "  <tbody>\n",
              "    <tr>\n",
              "      <th>0</th>\n",
              "      <td>814</td>\n",
              "      <td>file29859.wav_16k.wav_norm.wav_mono.wav_silenc...</td>\n",
              "      <td>-174.81064</td>\n",
              "      <td>123.43083</td>\n",
              "      <td>-69.558420</td>\n",
              "      <td>27.034569</td>\n",
              "      <td>-20.427351</td>\n",
              "      <td>-1.620835</td>\n",
              "      <td>-6.929156</td>\n",
              "      <td>-19.711384</td>\n",
              "      <td>...</td>\n",
              "      <td>6.435041</td>\n",
              "      <td>6.940960</td>\n",
              "      <td>6.405052</td>\n",
              "      <td>5.127906</td>\n",
              "      <td>1758.251147</td>\n",
              "      <td>562.764427</td>\n",
              "      <td>1.610835</td>\n",
              "      <td>3310.692335</td>\n",
              "      <td>846.041948</td>\n",
              "      <td>real</td>\n",
              "    </tr>\n",
              "    <tr>\n",
              "      <th>1</th>\n",
              "      <td>459</td>\n",
              "      <td>file30184.wav_16k.wav_norm.wav_mono.wav_silenc...</td>\n",
              "      <td>-231.52373</td>\n",
              "      <td>105.93152</td>\n",
              "      <td>-19.329802</td>\n",
              "      <td>19.742140</td>\n",
              "      <td>-43.234085</td>\n",
              "      <td>8.274216</td>\n",
              "      <td>-27.411758</td>\n",
              "      <td>-12.147648</td>\n",
              "      <td>...</td>\n",
              "      <td>9.231453</td>\n",
              "      <td>7.437624</td>\n",
              "      <td>6.883217</td>\n",
              "      <td>6.687924</td>\n",
              "      <td>2543.801584</td>\n",
              "      <td>2013.862851</td>\n",
              "      <td>1.037732</td>\n",
              "      <td>3881.767689</td>\n",
              "      <td>2383.182141</td>\n",
              "      <td>real</td>\n",
              "    </tr>\n",
              "    <tr>\n",
              "      <th>2</th>\n",
              "      <td>2206</td>\n",
              "      <td>file1125.mp3.wav_16k.wav_norm.wav_mono.wav_sil...</td>\n",
              "      <td>-172.95280</td>\n",
              "      <td>136.23814</td>\n",
              "      <td>-57.396710</td>\n",
              "      <td>36.368298</td>\n",
              "      <td>-31.149292</td>\n",
              "      <td>5.385503</td>\n",
              "      <td>-20.707506</td>\n",
              "      <td>-6.337903</td>\n",
              "      <td>...</td>\n",
              "      <td>8.700924</td>\n",
              "      <td>7.558128</td>\n",
              "      <td>9.876263</td>\n",
              "      <td>8.929201</td>\n",
              "      <td>1590.198710</td>\n",
              "      <td>665.778143</td>\n",
              "      <td>1.461035</td>\n",
              "      <td>2934.626399</td>\n",
              "      <td>1403.795418</td>\n",
              "      <td>fake</td>\n",
              "    </tr>\n",
              "    <tr>\n",
              "      <th>3</th>\n",
              "      <td>1272</td>\n",
              "      <td>file2680.mp3.wav_16k.wav_norm.wav_mono.wav_sil...</td>\n",
              "      <td>-170.67126</td>\n",
              "      <td>164.73079</td>\n",
              "      <td>-40.506172</td>\n",
              "      <td>58.945255</td>\n",
              "      <td>8.136011</td>\n",
              "      <td>1.720430</td>\n",
              "      <td>0.819190</td>\n",
              "      <td>8.259555</td>\n",
              "      <td>...</td>\n",
              "      <td>8.165613</td>\n",
              "      <td>9.328321</td>\n",
              "      <td>7.841833</td>\n",
              "      <td>8.690800</td>\n",
              "      <td>1334.187791</td>\n",
              "      <td>786.050640</td>\n",
              "      <td>2.172005</td>\n",
              "      <td>2679.889949</td>\n",
              "      <td>1380.975103</td>\n",
              "      <td>fake</td>\n",
              "    </tr>\n",
              "    <tr>\n",
              "      <th>4</th>\n",
              "      <td>2512</td>\n",
              "      <td>file1516.mp3.wav_16k.wav_norm.wav_mono.wav_sil...</td>\n",
              "      <td>-197.92003</td>\n",
              "      <td>140.62096</td>\n",
              "      <td>-59.136734</td>\n",
              "      <td>43.080097</td>\n",
              "      <td>-18.316460</td>\n",
              "      <td>8.591222</td>\n",
              "      <td>-6.429421</td>\n",
              "      <td>-22.406498</td>\n",
              "      <td>...</td>\n",
              "      <td>8.210041</td>\n",
              "      <td>5.798946</td>\n",
              "      <td>5.635915</td>\n",
              "      <td>8.110507</td>\n",
              "      <td>1429.050947</td>\n",
              "      <td>599.287083</td>\n",
              "      <td>1.694617</td>\n",
              "      <td>2698.772912</td>\n",
              "      <td>1067.745403</td>\n",
              "      <td>fake</td>\n",
              "    </tr>\n",
              "  </tbody>\n",
              "</table>\n",
              "<p>5 rows × 48 columns</p>\n",
              "</div>\n",
              "    <div class=\"colab-df-buttons\">\n",
              "\n",
              "  <div class=\"colab-df-container\">\n",
              "    <button class=\"colab-df-convert\" onclick=\"convertToInteractive('df-b3f704c7-aeac-4792-b90e-42fa5294011d')\"\n",
              "            title=\"Convert this dataframe to an interactive table.\"\n",
              "            style=\"display:none;\">\n",
              "\n",
              "  <svg xmlns=\"http://www.w3.org/2000/svg\" height=\"24px\" viewBox=\"0 -960 960 960\">\n",
              "    <path d=\"M120-120v-720h720v720H120Zm60-500h600v-160H180v160Zm220 220h160v-160H400v160Zm0 220h160v-160H400v160ZM180-400h160v-160H180v160Zm440 0h160v-160H620v160ZM180-180h160v-160H180v160Zm440 0h160v-160H620v160Z\"/>\n",
              "  </svg>\n",
              "    </button>\n",
              "\n",
              "  <style>\n",
              "    .colab-df-container {\n",
              "      display:flex;\n",
              "      gap: 12px;\n",
              "    }\n",
              "\n",
              "    .colab-df-convert {\n",
              "      background-color: #E8F0FE;\n",
              "      border: none;\n",
              "      border-radius: 50%;\n",
              "      cursor: pointer;\n",
              "      display: none;\n",
              "      fill: #1967D2;\n",
              "      height: 32px;\n",
              "      padding: 0 0 0 0;\n",
              "      width: 32px;\n",
              "    }\n",
              "\n",
              "    .colab-df-convert:hover {\n",
              "      background-color: #E2EBFA;\n",
              "      box-shadow: 0px 1px 2px rgba(60, 64, 67, 0.3), 0px 1px 3px 1px rgba(60, 64, 67, 0.15);\n",
              "      fill: #174EA6;\n",
              "    }\n",
              "\n",
              "    .colab-df-buttons div {\n",
              "      margin-bottom: 4px;\n",
              "    }\n",
              "\n",
              "    [theme=dark] .colab-df-convert {\n",
              "      background-color: #3B4455;\n",
              "      fill: #D2E3FC;\n",
              "    }\n",
              "\n",
              "    [theme=dark] .colab-df-convert:hover {\n",
              "      background-color: #434B5C;\n",
              "      box-shadow: 0px 1px 3px 1px rgba(0, 0, 0, 0.15);\n",
              "      filter: drop-shadow(0px 1px 2px rgba(0, 0, 0, 0.3));\n",
              "      fill: #FFFFFF;\n",
              "    }\n",
              "  </style>\n",
              "\n",
              "    <script>\n",
              "      const buttonEl =\n",
              "        document.querySelector('#df-b3f704c7-aeac-4792-b90e-42fa5294011d button.colab-df-convert');\n",
              "      buttonEl.style.display =\n",
              "        google.colab.kernel.accessAllowed ? 'block' : 'none';\n",
              "\n",
              "      async function convertToInteractive(key) {\n",
              "        const element = document.querySelector('#df-b3f704c7-aeac-4792-b90e-42fa5294011d');\n",
              "        const dataTable =\n",
              "          await google.colab.kernel.invokeFunction('convertToInteractive',\n",
              "                                                    [key], {});\n",
              "        if (!dataTable) return;\n",
              "\n",
              "        const docLinkHtml = 'Like what you see? Visit the ' +\n",
              "          '<a target=\"_blank\" href=https://colab.research.google.com/notebooks/data_table.ipynb>data table notebook</a>'\n",
              "          + ' to learn more about interactive tables.';\n",
              "        element.innerHTML = '';\n",
              "        dataTable['output_type'] = 'display_data';\n",
              "        await google.colab.output.renderOutput(dataTable, element);\n",
              "        const docLink = document.createElement('div');\n",
              "        docLink.innerHTML = docLinkHtml;\n",
              "        element.appendChild(docLink);\n",
              "      }\n",
              "    </script>\n",
              "  </div>\n",
              "\n",
              "\n",
              "<div id=\"df-54f6ec6b-33eb-4ad9-8737-1ed37f9eecb1\">\n",
              "  <button class=\"colab-df-quickchart\" onclick=\"quickchart('df-54f6ec6b-33eb-4ad9-8737-1ed37f9eecb1')\"\n",
              "            title=\"Suggest charts\"\n",
              "            style=\"display:none;\">\n",
              "\n",
              "<svg xmlns=\"http://www.w3.org/2000/svg\" height=\"24px\"viewBox=\"0 0 24 24\"\n",
              "     width=\"24px\">\n",
              "    <g>\n",
              "        <path d=\"M19 3H5c-1.1 0-2 .9-2 2v14c0 1.1.9 2 2 2h14c1.1 0 2-.9 2-2V5c0-1.1-.9-2-2-2zM9 17H7v-7h2v7zm4 0h-2V7h2v10zm4 0h-2v-4h2v4z\"/>\n",
              "    </g>\n",
              "</svg>\n",
              "  </button>\n",
              "\n",
              "<style>\n",
              "  .colab-df-quickchart {\n",
              "      --bg-color: #E8F0FE;\n",
              "      --fill-color: #1967D2;\n",
              "      --hover-bg-color: #E2EBFA;\n",
              "      --hover-fill-color: #174EA6;\n",
              "      --disabled-fill-color: #AAA;\n",
              "      --disabled-bg-color: #DDD;\n",
              "  }\n",
              "\n",
              "  [theme=dark] .colab-df-quickchart {\n",
              "      --bg-color: #3B4455;\n",
              "      --fill-color: #D2E3FC;\n",
              "      --hover-bg-color: #434B5C;\n",
              "      --hover-fill-color: #FFFFFF;\n",
              "      --disabled-bg-color: #3B4455;\n",
              "      --disabled-fill-color: #666;\n",
              "  }\n",
              "\n",
              "  .colab-df-quickchart {\n",
              "    background-color: var(--bg-color);\n",
              "    border: none;\n",
              "    border-radius: 50%;\n",
              "    cursor: pointer;\n",
              "    display: none;\n",
              "    fill: var(--fill-color);\n",
              "    height: 32px;\n",
              "    padding: 0;\n",
              "    width: 32px;\n",
              "  }\n",
              "\n",
              "  .colab-df-quickchart:hover {\n",
              "    background-color: var(--hover-bg-color);\n",
              "    box-shadow: 0 1px 2px rgba(60, 64, 67, 0.3), 0 1px 3px 1px rgba(60, 64, 67, 0.15);\n",
              "    fill: var(--button-hover-fill-color);\n",
              "  }\n",
              "\n",
              "  .colab-df-quickchart-complete:disabled,\n",
              "  .colab-df-quickchart-complete:disabled:hover {\n",
              "    background-color: var(--disabled-bg-color);\n",
              "    fill: var(--disabled-fill-color);\n",
              "    box-shadow: none;\n",
              "  }\n",
              "\n",
              "  .colab-df-spinner {\n",
              "    border: 2px solid var(--fill-color);\n",
              "    border-color: transparent;\n",
              "    border-bottom-color: var(--fill-color);\n",
              "    animation:\n",
              "      spin 1s steps(1) infinite;\n",
              "  }\n",
              "\n",
              "  @keyframes spin {\n",
              "    0% {\n",
              "      border-color: transparent;\n",
              "      border-bottom-color: var(--fill-color);\n",
              "      border-left-color: var(--fill-color);\n",
              "    }\n",
              "    20% {\n",
              "      border-color: transparent;\n",
              "      border-left-color: var(--fill-color);\n",
              "      border-top-color: var(--fill-color);\n",
              "    }\n",
              "    30% {\n",
              "      border-color: transparent;\n",
              "      border-left-color: var(--fill-color);\n",
              "      border-top-color: var(--fill-color);\n",
              "      border-right-color: var(--fill-color);\n",
              "    }\n",
              "    40% {\n",
              "      border-color: transparent;\n",
              "      border-right-color: var(--fill-color);\n",
              "      border-top-color: var(--fill-color);\n",
              "    }\n",
              "    60% {\n",
              "      border-color: transparent;\n",
              "      border-right-color: var(--fill-color);\n",
              "    }\n",
              "    80% {\n",
              "      border-color: transparent;\n",
              "      border-right-color: var(--fill-color);\n",
              "      border-bottom-color: var(--fill-color);\n",
              "    }\n",
              "    90% {\n",
              "      border-color: transparent;\n",
              "      border-bottom-color: var(--fill-color);\n",
              "    }\n",
              "  }\n",
              "</style>\n",
              "\n",
              "  <script>\n",
              "    async function quickchart(key) {\n",
              "      const quickchartButtonEl =\n",
              "        document.querySelector('#' + key + ' button');\n",
              "      quickchartButtonEl.disabled = true;  // To prevent multiple clicks.\n",
              "      quickchartButtonEl.classList.add('colab-df-spinner');\n",
              "      try {\n",
              "        const charts = await google.colab.kernel.invokeFunction(\n",
              "            'suggestCharts', [key], {});\n",
              "      } catch (error) {\n",
              "        console.error('Error during call to suggestCharts:', error);\n",
              "      }\n",
              "      quickchartButtonEl.classList.remove('colab-df-spinner');\n",
              "      quickchartButtonEl.classList.add('colab-df-quickchart-complete');\n",
              "    }\n",
              "    (() => {\n",
              "      let quickchartButtonEl =\n",
              "        document.querySelector('#df-54f6ec6b-33eb-4ad9-8737-1ed37f9eecb1 button');\n",
              "      quickchartButtonEl.style.display =\n",
              "        google.colab.kernel.accessAllowed ? 'block' : 'none';\n",
              "    })();\n",
              "  </script>\n",
              "</div>\n",
              "    </div>\n",
              "  </div>\n"
            ],
            "application/vnd.google.colaboratory.intrinsic+json": {
              "type": "dataframe",
              "variable_name": "df"
            }
          },
          "metadata": {},
          "execution_count": 12
        }
      ],
      "source": [
        "df.head()"
      ]
    },
    {
      "cell_type": "markdown",
      "metadata": {
        "id": "4x1ri9kZtzIM"
      },
      "source": [
        "**В таблице data мы видим:**\n",
        "\n",
        "- столбец ‘filename’, где указан номер и название файла (Аудиофайлы перемешаны);\n",
        "\n",
        "- столбцы ‘mfcc_mean{i}’ и ‘mfcc_std{i}’ - средние значения и стандартные отклонения (по 20 значений) из Мел-кепстральных коэффициентов;\n",
        "\n",
        "- столбцы 'cent_mean', 'cent_std', 'cent_skew' - среднее значение, стандартное отклонение и skew (наклон) из Спектрального центроида;\n",
        "\n",
        "- столбцы 'rolloff_mean', 'rolloff_std' - среднее значение и стандартное отклонение из Спектрального спада ;\n",
        "\n",
        "- столбец ‘label’ метка."
      ]
    },
    {
      "cell_type": "markdown",
      "metadata": {
        "id": "kwxixVOtuBKM"
      },
      "source": [
        "## Посмотрим на эти признаки"
      ]
    },
    {
      "cell_type": "markdown",
      "metadata": {
        "id": "F8-vyzq3uy_O"
      },
      "source": [
        "Мел-кепстральные коэффициенты"
      ]
    },
    {
      "cell_type": "code",
      "execution_count": 17,
      "metadata": {
        "id": "xWi2ru2lvhK8"
      },
      "outputs": [],
      "source": [
        "y_real, sr_real = librosa.load('./data/training/real/file30106.wav_16k.wav_norm.wav_mono.wav_silence.wav', mono=True, duration=5)"
      ]
    },
    {
      "cell_type": "code",
      "execution_count": 15,
      "metadata": {
        "id": "Lg-kuVE9wwrM"
      },
      "outputs": [],
      "source": [
        "y_fake, sr_fake = librosa.load('./data/training/fake/file1254.mp3.wav_16k.wav_norm.wav_mono.wav_silence.wav', mono=True, duration=5)"
      ]
    },
    {
      "cell_type": "code",
      "execution_count": 18,
      "metadata": {
        "colab": {
          "base_uri": "https://localhost:8080/",
          "height": 974
        },
        "id": "3YiwXdjDtsQC",
        "outputId": "6d563029-fab9-4691-e4f6-2d9e7464ded9"
      },
      "outputs": [
        {
          "output_type": "execute_result",
          "data": {
            "text/plain": [
              "Text(0.5, 1.0, 'MFCC_fake')"
            ]
          },
          "metadata": {},
          "execution_count": 18
        },
        {
          "output_type": "display_data",
          "data": {
            "text/plain": [
              "<Figure size 1500x500 with 2 Axes>"
            ],
            "image/png": "[encoded data removed]"
          },
          "metadata": {}
        },
        {
          "output_type": "display_data",
          "data": {
            "text/plain": [
              "<Figure size 1500x500 with 2 Axes>"
            ],
            "image/png": "[encoded data removed]"
          },
          "metadata": {}
        }
      ],
      "source": [
        "# Calculate MFCCs\n",
        "mfccs_1 = librosa.feature.mfcc(y=y_real, sr=sr_real, n_mfcc=20)\n",
        "mfccs_2 = librosa.feature.mfcc(y=y_fake, sr=sr_fake, n_mfcc=20)\n",
        "\n",
        "\n",
        "plt.figure(figsize=(15, 5))\n",
        "librosa.display.specshow(mfccs_1, x_axis='time')\n",
        "plt.colorbar()\n",
        "plt.title('MFCC_real')\n",
        "\n",
        "plt.figure(figsize=(15, 5))\n",
        "librosa.display.specshow(mfccs_2, x_axis='time')\n",
        "plt.colorbar()\n",
        "plt.title('MFCC_fake')"
      ]
    },
    {
      "cell_type": "markdown",
      "metadata": {
        "id": "-68JFOG8yJbr"
      },
      "source": [
        "Средние значения и стандартные отклонения Мел-кепстральных коэффициентов в виде двухмерной таблицы (Dataframes), состоящей из столбцов и строки и в виде графика."
      ]
    },
    {
      "cell_type": "code",
      "execution_count": 19,
      "metadata": {
        "colab": {
          "base_uri": "https://localhost:8080/",
          "height": 1000
        },
        "id": "S3vwAOU5xok_",
        "outputId": "af8ad5e7-3364-4376-98de-11d602aca62d"
      },
      "outputs": [
        {
          "output_type": "execute_result",
          "data": {
            "text/plain": [
              "   mfccs_mean_0  mfccs_mean_1  mfccs_mean_2  mfccs_mean_3  mfccs_mean_4  \\\n",
              "0   -276.661499     82.424698    -13.541506     36.025066    -29.828892   \n",
              "\n",
              "   mfccs_mean_5  mfccs_mean_6  mfccs_mean_7  mfccs_mean_8  mfccs_mean_9  ...  \\\n",
              "0     -4.987404    -41.038216     -9.669691    -16.934845    -13.237288  ...   \n",
              "\n",
              "   mfccs_std_10  mfccs_std_11  mfccs_std_12  mfccs_std_13  mfccs_std_14  \\\n",
              "0      12.92569      9.857436     13.087965      9.829038      9.686344   \n",
              "\n",
              "   mfccs_std_15  mfccs_std_16  mfccs_std_17  mfccs_std_18  mfccs_std_19  \n",
              "0     12.313072      7.617592      9.063581     10.277133     13.601554  \n",
              "\n",
              "[1 rows x 40 columns]"
            ],
            "text/html": [
              "\n",
              "  <div id=\"df-1c5e6b4d-1582-409f-a7d3-49f374bd0cc0\" class=\"colab-df-container\">\n",
              "    <div>\n",
              "<style scoped>\n",
              "    .dataframe tbody tr th:only-of-type {\n",
              "        vertical-align: middle;\n",
              "    }\n",
              "\n",
              "    .dataframe tbody tr th {\n",
              "        vertical-align: top;\n",
              "    }\n",
              "\n",
              "    .dataframe thead th {\n",
              "        text-align: right;\n",
              "    }\n",
              "</style>\n",
              "<table border=\"1\" class=\"dataframe\">\n",
              "  <thead>\n",
              "    <tr style=\"text-align: right;\">\n",
              "      <th></th>\n",
              "      <th>mfccs_mean_0</th>\n",
              "      <th>mfccs_mean_1</th>\n",
              "      <th>mfccs_mean_2</th>\n",
              "      <th>mfccs_mean_3</th>\n",
              "      <th>mfccs_mean_4</th>\n",
              "      <th>mfccs_mean_5</th>\n",
              "      <th>mfccs_mean_6</th>\n",
              "      <th>mfccs_mean_7</th>\n",
              "      <th>mfccs_mean_8</th>\n",
              "      <th>mfccs_mean_9</th>\n",
              "      <th>...</th>\n",
              "      <th>mfccs_std_10</th>\n",
              "      <th>mfccs_std_11</th>\n",
              "      <th>mfccs_std_12</th>\n",
              "      <th>mfccs_std_13</th>\n",
              "      <th>mfccs_std_14</th>\n",
              "      <th>mfccs_std_15</th>\n",
              "      <th>mfccs_std_16</th>\n",
              "      <th>mfccs_std_17</th>\n",
              "      <th>mfccs_std_18</th>\n",
              "      <th>mfccs_std_19</th>\n",
              "    </tr>\n",
              "  </thead>\n",
              "  <tbody>\n",
              "    <tr>\n",
              "      <th>0</th>\n",
              "      <td>-276.661499</td>\n",
              "      <td>82.424698</td>\n",
              "      <td>-13.541506</td>\n",
              "      <td>36.025066</td>\n",
              "      <td>-29.828892</td>\n",
              "      <td>-4.987404</td>\n",
              "      <td>-41.038216</td>\n",
              "      <td>-9.669691</td>\n",
              "      <td>-16.934845</td>\n",
              "      <td>-13.237288</td>\n",
              "      <td>...</td>\n",
              "      <td>12.92569</td>\n",
              "      <td>9.857436</td>\n",
              "      <td>13.087965</td>\n",
              "      <td>9.829038</td>\n",
              "      <td>9.686344</td>\n",
              "      <td>12.313072</td>\n",
              "      <td>7.617592</td>\n",
              "      <td>9.063581</td>\n",
              "      <td>10.277133</td>\n",
              "      <td>13.601554</td>\n",
              "    </tr>\n",
              "  </tbody>\n",
              "</table>\n",
              "<p>1 rows × 40 columns</p>\n",
              "</div>\n",
              "    <div class=\"colab-df-buttons\">\n",
              "\n",
              "  <div class=\"colab-df-container\">\n",
              "    <button class=\"colab-df-convert\" onclick=\"convertToInteractive('df-1c5e6b4d-1582-409f-a7d3-49f374bd0cc0')\"\n",
              "            title=\"Convert this dataframe to an interactive table.\"\n",
              "            style=\"display:none;\">\n",
              "\n",
              "  <svg xmlns=\"http://www.w3.org/2000/svg\" height=\"24px\" viewBox=\"0 -960 960 960\">\n",
              "    <path d=\"M120-120v-720h720v720H120Zm60-500h600v-160H180v160Zm220 220h160v-160H400v160Zm0 220h160v-160H400v160ZM180-400h160v-160H180v160Zm440 0h160v-160H620v160ZM180-180h160v-160H180v160Zm440 0h160v-160H620v160Z\"/>\n",
              "  </svg>\n",
              "    </button>\n",
              "\n",
              "  <style>\n",
              "    .colab-df-container {\n",
              "      display:flex;\n",
              "      gap: 12px;\n",
              "    }\n",
              "\n",
              "    .colab-df-convert {\n",
              "      background-color: #E8F0FE;\n",
              "      border: none;\n",
              "      border-radius: 50%;\n",
              "      cursor: pointer;\n",
              "      display: none;\n",
              "      fill: #1967D2;\n",
              "      height: 32px;\n",
              "      padding: 0 0 0 0;\n",
              "      width: 32px;\n",
              "    }\n",
              "\n",
              "    .colab-df-convert:hover {\n",
              "      background-color: #E2EBFA;\n",
              "      box-shadow: 0px 1px 2px rgba(60, 64, 67, 0.3), 0px 1px 3px 1px rgba(60, 64, 67, 0.15);\n",
              "      fill: #174EA6;\n",
              "    }\n",
              "\n",
              "    .colab-df-buttons div {\n",
              "      margin-bottom: 4px;\n",
              "    }\n",
              "\n",
              "    [theme=dark] .colab-df-convert {\n",
              "      background-color: #3B4455;\n",
              "      fill: #D2E3FC;\n",
              "    }\n",
              "\n",
              "    [theme=dark] .colab-df-convert:hover {\n",
              "      background-color: #434B5C;\n",
              "      box-shadow: 0px 1px 3px 1px rgba(0, 0, 0, 0.15);\n",
              "      filter: drop-shadow(0px 1px 2px rgba(0, 0, 0, 0.3));\n",
              "      fill: #FFFFFF;\n",
              "    }\n",
              "  </style>\n",
              "\n",
              "    <script>\n",
              "      const buttonEl =\n",
              "        document.querySelector('#df-1c5e6b4d-1582-409f-a7d3-49f374bd0cc0 button.colab-df-convert');\n",
              "      buttonEl.style.display =\n",
              "        google.colab.kernel.accessAllowed ? 'block' : 'none';\n",
              "\n",
              "      async function convertToInteractive(key) {\n",
              "        const element = document.querySelector('#df-1c5e6b4d-1582-409f-a7d3-49f374bd0cc0');\n",
              "        const dataTable =\n",
              "          await google.colab.kernel.invokeFunction('convertToInteractive',\n",
              "                                                    [key], {});\n",
              "        if (!dataTable) return;\n",
              "\n",
              "        const docLinkHtml = 'Like what you see? Visit the ' +\n",
              "          '<a target=\"_blank\" href=https://colab.research.google.com/notebooks/data_table.ipynb>data table notebook</a>'\n",
              "          + ' to learn more about interactive tables.';\n",
              "        element.innerHTML = '';\n",
              "        dataTable['output_type'] = 'display_data';\n",
              "        await google.colab.output.renderOutput(dataTable, element);\n",
              "        const docLink = document.createElement('div');\n",
              "        docLink.innerHTML = docLinkHtml;\n",
              "        element.appendChild(docLink);\n",
              "      }\n",
              "    </script>\n",
              "  </div>\n",
              "\n",
              "    </div>\n",
              "  </div>\n"
            ],
            "application/vnd.google.colaboratory.intrinsic+json": {
              "type": "dataframe",
              "variable_name": "mfccs_df"
            }
          },
          "metadata": {},
          "execution_count": 19
        },
        {
          "output_type": "display_data",
          "data": {
            "text/plain": [
              "<Figure size 1500x500 with 1 Axes>"
            ],
            "image/png": "[encoded data removed]"
          },
          "metadata": {}
        },
        {
          "output_type": "display_data",
          "data": {
            "text/plain": [
              "<Figure size 1500x500 with 1 Axes>"
            ],
            "image/png": "[encoded data removed]"
          },
          "metadata": {}
        }
      ],
      "source": [
        "# Feature Generation\n",
        "# MFCCs\n",
        "mfccs = librosa.feature.mfcc(y=y_real, sr=sr_real, n_mfcc=20)\n",
        "mfccs_mean=np.mean(mfccs,axis=1)\n",
        "mfccs_std=np.std(mfccs,axis=1)\n",
        "\n",
        "coeffs=np.arange(0,20)\n",
        "plt.figure(figsize=(15,5))\n",
        "plt.title('Mean MFCCs')\n",
        "sns.barplot(x=coeffs,y=mfccs_mean)\n",
        "\n",
        "plt.figure(figsize=(15,5))\n",
        "plt.title('SD MFCCs')\n",
        "sns.barplot(x=coeffs,y=mfccs_std)\n",
        "# Generate the chroma Dataframe\n",
        "mfccs_df=pd.DataFrame()\n",
        "for i in range(0,20):\n",
        "    mfccs_df['mfccs_mean_'+str(i)]=mfccs_mean[i]\n",
        "for i in range(0,20):\n",
        "    mfccs_df['mfccs_std_'+str(i)]=mfccs_mean[i]\n",
        "mfccs_df.loc[0]=np.concatenate((mfccs_mean,mfccs_std),axis=0)\n",
        "mfccs_df"
      ]
    },
    {
      "cell_type": "markdown",
      "metadata": {
        "id": "NUEKQwH9yRGj"
      },
      "source": [
        "Спектральный центроид - Spectral Centroid\n",
        "\n",
        "Спектральный центроид относится к спектральным (частотным) признакам. =\n",
        "\n",
        "Спектральный центроид указывает, на какой частоте сосредоточена энергия спектра ( энергия напряжения) или, другими словами, указывает, где расположен “центр масс” для звука."
      ]
    },
    {
      "cell_type": "markdown",
      "metadata": {
        "id": "WA-HL2maynNX"
      },
      "source": [
        "Среднее значение, стандартное отклонение и skew (наклон) Спектрального центроида"
      ]
    },
    {
      "cell_type": "code",
      "execution_count": 20,
      "metadata": {
        "colab": {
          "base_uri": "https://localhost:8080/"
        },
        "id": "7n0JITX0yWRO",
        "outputId": "d0434251-3d8e-4e35-d463-c90fa9adc675"
      },
      "outputs": [
        {
          "output_type": "stream",
          "name": "stdout",
          "text": [
            "Mean: 2488.5581532566525\n",
            "SD: 1698.6104951185384\n",
            "Skewness: 0.9766937304309661\n"
          ]
        }
      ],
      "source": [
        "cent = librosa.feature.spectral_centroid(y=y_real, sr=sr_real)\n",
        "cent_mean=np.mean(cent)\n",
        "cent_std=np.std(cent)\n",
        "cent_skew=scipy.stats.skew(cent,axis=1)[0]\n",
        "print('Mean: '+str(cent_mean))\n",
        "print('SD: '+str(cent_std))\n",
        "print('Skewness: '+str(cent_skew))"
      ]
    },
    {
      "cell_type": "code",
      "execution_count": 21,
      "metadata": {
        "colab": {
          "base_uri": "https://localhost:8080/"
        },
        "id": "zIqjS5JruDrl",
        "outputId": "ecf4ed11-0419-459e-d2b1-c2a865656ddd"
      },
      "outputs": [
        {
          "output_type": "stream",
          "name": "stdout",
          "text": [
            "Mean: 1540.4792101254927\n",
            "SD: 1192.4161486825149\n",
            "Skewness: 1.2116111087523327\n"
          ]
        }
      ],
      "source": [
        "cent = librosa.feature.spectral_centroid(y=y_fake, sr=sr_fake)\n",
        "cent_mean=np.mean(cent)\n",
        "cent_std=np.std(cent)\n",
        "cent_skew=scipy.stats.skew(cent,axis=1)[0]\n",
        "print('Mean: '+str(cent_mean))\n",
        "print('SD: '+str(cent_std))\n",
        "print('Skewness: '+str(cent_skew))"
      ]
    },
    {
      "cell_type": "markdown",
      "metadata": {
        "id": "77RX9FfwytDv"
      },
      "source": [
        "Спектральный спад - Spectral Rolloff"
      ]
    },
    {
      "cell_type": "markdown",
      "metadata": {
        "id": "q4VOwf4rytWz"
      },
      "source": [
        "Спектральный спад относится к спектральным (частотным) признакам. Это мера формы сигнала, представляющая собой частоту, в которой высокие частоты снижаются до 0. Чтобы получить ее, нужно рассчитать долю элементов в спектре мощности, где 85% ее мощности находится на более низких частотах."
      ]
    },
    {
      "cell_type": "markdown",
      "metadata": {
        "id": "pcIukZiSy0UX"
      },
      "source": [
        "Среднее значение и стандартное отклонение Спектрального спада"
      ]
    },
    {
      "cell_type": "code",
      "execution_count": 22,
      "metadata": {
        "colab": {
          "base_uri": "https://localhost:8080/"
        },
        "id": "XgYJU5HOtsSJ",
        "outputId": "972bd1fd-e6a3-4c1e-edbc-9e90b6a9b446"
      },
      "outputs": [
        {
          "output_type": "stream",
          "name": "stdout",
          "text": [
            "Mean: 4077.850341796875\n",
            "SD: 1992.27426275485\n",
            "Skewness: 0.175704011850206\n"
          ]
        }
      ],
      "source": [
        "rolloff = librosa.feature.spectral_rolloff(y=y_real, sr=sr_real)\n",
        "rolloff_mean=np.mean(rolloff)\n",
        "rolloff_std=np.std(rolloff)\n",
        "rolloff_skew=scipy.stats.skew(rolloff,axis=1)[0]\n",
        "print('Mean: '+str(rolloff_mean))\n",
        "print('SD: '+str(rolloff_std))\n",
        "print('Skewness: '+str(rolloff_skew))"
      ]
    },
    {
      "cell_type": "code",
      "execution_count": 23,
      "metadata": {
        "colab": {
          "base_uri": "https://localhost:8080/"
        },
        "id": "oC6nFeTbtsTo",
        "outputId": "f35bae29-91f0-42a4-fca6-9a8ab84328ec"
      },
      "outputs": [
        {
          "output_type": "stream",
          "name": "stdout",
          "text": [
            "Mean: 2930.870819091797\n",
            "SD: 1865.7141905827839\n",
            "Skewness: 0.4991568310777706\n"
          ]
        }
      ],
      "source": [
        "rolloff = librosa.feature.spectral_rolloff(y=y_fake, sr=sr_fake)\n",
        "rolloff_mean=np.mean(rolloff)\n",
        "rolloff_std=np.std(rolloff)\n",
        "rolloff_skew=scipy.stats.skew(rolloff,axis=1)[0]\n",
        "print('Mean: '+str(rolloff_mean))\n",
        "print('SD: '+str(rolloff_std))\n",
        "print('Skewness: '+str(rolloff_skew))"
      ]
    },
    {
      "cell_type": "markdown",
      "metadata": {
        "id": "Q_AxxyjBzAtG"
      },
      "source": [
        "Видно, что данные характеристики отличаются в заависимости от типа сигнала (реальный/сгенерированный)"
      ]
    },
    {
      "cell_type": "markdown",
      "metadata": {
        "id": "vqE36f9NzIdX"
      },
      "source": [
        "## Обучение модели классификатора"
      ]
    },
    {
      "cell_type": "code",
      "execution_count": 24,
      "metadata": {
        "id": "b_F0q3WczLGf"
      },
      "outputs": [],
      "source": [
        "y = df['label'].values"
      ]
    },
    {
      "cell_type": "code",
      "execution_count": 25,
      "metadata": {
        "id": "fbMcFk-dzLI6"
      },
      "outputs": [],
      "source": [
        "X = df.drop(['label', 'filename','index'], axis=1)"
      ]
    },
    {
      "cell_type": "code",
      "execution_count": 26,
      "metadata": {
        "colab": {
          "base_uri": "https://localhost:8080/",
          "height": 236
        },
        "id": "bBYwZMRMzz1E",
        "outputId": "4bce59f8-f58e-4c39-82d2-afe75709f283"
      },
      "outputs": [
        {
          "output_type": "execute_result",
          "data": {
            "text/plain": [
              "   mfcc_mean1  mfcc_mean2  mfcc_mean3  mfcc_mean4  mfcc_mean5  mfcc_mean6  \\\n",
              "0  -174.81064   123.43083  -69.558420   27.034569  -20.427351   -1.620835   \n",
              "1  -231.52373   105.93152  -19.329802   19.742140  -43.234085    8.274216   \n",
              "2  -172.95280   136.23814  -57.396710   36.368298  -31.149292    5.385503   \n",
              "3  -170.67126   164.73079  -40.506172   58.945255    8.136011    1.720430   \n",
              "4  -197.92003   140.62096  -59.136734   43.080097  -18.316460    8.591222   \n",
              "\n",
              "   mfcc_mean7  mfcc_mean8  mfcc_mean9  mfcc_mean10  ...  mfcc_std16  \\\n",
              "0   -6.929156  -19.711384   -1.412925     1.976937  ...    6.940263   \n",
              "1  -27.411758  -12.147648  -25.614860     4.193884  ...   10.045878   \n",
              "2  -20.707506   -6.337903  -10.594726    -8.513454  ...    7.893628   \n",
              "3    0.819190    8.259555   -7.957178     8.875194  ...   11.490403   \n",
              "4   -6.429421  -22.406498   -9.399740    -9.699448  ...    6.449655   \n",
              "\n",
              "   mfcc_std17  mfcc_std18  mfcc_std19  mfcc_std20    cent_mean     cent_std  \\\n",
              "0    6.435041    6.940960    6.405052    5.127906  1758.251147   562.764427   \n",
              "1    9.231453    7.437624    6.883217    6.687924  2543.801584  2013.862851   \n",
              "2    8.700924    7.558128    9.876263    8.929201  1590.198710   665.778143   \n",
              "3    8.165613    9.328321    7.841833    8.690800  1334.187791   786.050640   \n",
              "4    8.210041    5.798946    5.635915    8.110507  1429.050947   599.287083   \n",
              "\n",
              "   cent_skew  rolloff_mean  rolloff_std  \n",
              "0   1.610835   3310.692335   846.041948  \n",
              "1   1.037732   3881.767689  2383.182141  \n",
              "2   1.461035   2934.626399  1403.795418  \n",
              "3   2.172005   2679.889949  1380.975103  \n",
              "4   1.694617   2698.772912  1067.745403  \n",
              "\n",
              "[5 rows x 45 columns]"
            ],
            "text/html": [
              "\n",
              "  <div id=\"df-3944f3a3-6ae4-4ae2-b706-e85bf685c126\" class=\"colab-df-container\">\n",
              "    <div>\n",
              "<style scoped>\n",
              "    .dataframe tbody tr th:only-of-type {\n",
              "        vertical-align: middle;\n",
              "    }\n",
              "\n",
              "    .dataframe tbody tr th {\n",
              "        vertical-align: top;\n",
              "    }\n",
              "\n",
              "    .dataframe thead th {\n",
              "        text-align: right;\n",
              "    }\n",
              "</style>\n",
              "<table border=\"1\" class=\"dataframe\">\n",
              "  <thead>\n",
              "    <tr style=\"text-align: right;\">\n",
              "      <th></th>\n",
              "      <th>mfcc_mean1</th>\n",
              "      <th>mfcc_mean2</th>\n",
              "      <th>mfcc_mean3</th>\n",
              "      <th>mfcc_mean4</th>\n",
              "      <th>mfcc_mean5</th>\n",
              "      <th>mfcc_mean6</th>\n",
              "      <th>mfcc_mean7</th>\n",
              "      <th>mfcc_mean8</th>\n",
              "      <th>mfcc_mean9</th>\n",
              "      <th>mfcc_mean10</th>\n",
              "      <th>...</th>\n",
              "      <th>mfcc_std16</th>\n",
              "      <th>mfcc_std17</th>\n",
              "      <th>mfcc_std18</th>\n",
              "      <th>mfcc_std19</th>\n",
              "      <th>mfcc_std20</th>\n",
              "      <th>cent_mean</th>\n",
              "      <th>cent_std</th>\n",
              "      <th>cent_skew</th>\n",
              "      <th>rolloff_mean</th>\n",
              "      <th>rolloff_std</th>\n",
              "    </tr>\n",
              "  </thead>\n",
              "  <tbody>\n",
              "    <tr>\n",
              "      <th>0</th>\n",
              "      <td>-174.81064</td>\n",
              "      <td>123.43083</td>\n",
              "      <td>-69.558420</td>\n",
              "      <td>27.034569</td>\n",
              "      <td>-20.427351</td>\n",
              "      <td>-1.620835</td>\n",
              "      <td>-6.929156</td>\n",
              "      <td>-19.711384</td>\n",
              "      <td>-1.412925</td>\n",
              "      <td>1.976937</td>\n",
              "      <td>...</td>\n",
              "      <td>6.940263</td>\n",
              "      <td>6.435041</td>\n",
              "      <td>6.940960</td>\n",
              "      <td>6.405052</td>\n",
              "      <td>5.127906</td>\n",
              "      <td>1758.251147</td>\n",
              "      <td>562.764427</td>\n",
              "      <td>1.610835</td>\n",
              "      <td>3310.692335</td>\n",
              "      <td>846.041948</td>\n",
              "    </tr>\n",
              "    <tr>\n",
              "      <th>1</th>\n",
              "      <td>-231.52373</td>\n",
              "      <td>105.93152</td>\n",
              "      <td>-19.329802</td>\n",
              "      <td>19.742140</td>\n",
              "      <td>-43.234085</td>\n",
              "      <td>8.274216</td>\n",
              "      <td>-27.411758</td>\n",
              "      <td>-12.147648</td>\n",
              "      <td>-25.614860</td>\n",
              "      <td>4.193884</td>\n",
              "      <td>...</td>\n",
              "      <td>10.045878</td>\n",
              "      <td>9.231453</td>\n",
              "      <td>7.437624</td>\n",
              "      <td>6.883217</td>\n",
              "      <td>6.687924</td>\n",
              "      <td>2543.801584</td>\n",
              "      <td>2013.862851</td>\n",
              "      <td>1.037732</td>\n",
              "      <td>3881.767689</td>\n",
              "      <td>2383.182141</td>\n",
              "    </tr>\n",
              "    <tr>\n",
              "      <th>2</th>\n",
              "      <td>-172.95280</td>\n",
              "      <td>136.23814</td>\n",
              "      <td>-57.396710</td>\n",
              "      <td>36.368298</td>\n",
              "      <td>-31.149292</td>\n",
              "      <td>5.385503</td>\n",
              "      <td>-20.707506</td>\n",
              "      <td>-6.337903</td>\n",
              "      <td>-10.594726</td>\n",
              "      <td>-8.513454</td>\n",
              "      <td>...</td>\n",
              "      <td>7.893628</td>\n",
              "      <td>8.700924</td>\n",
              "      <td>7.558128</td>\n",
              "      <td>9.876263</td>\n",
              "      <td>8.929201</td>\n",
              "      <td>1590.198710</td>\n",
              "      <td>665.778143</td>\n",
              "      <td>1.461035</td>\n",
              "      <td>2934.626399</td>\n",
              "      <td>1403.795418</td>\n",
              "    </tr>\n",
              "    <tr>\n",
              "      <th>3</th>\n",
              "      <td>-170.67126</td>\n",
              "      <td>164.73079</td>\n",
              "      <td>-40.506172</td>\n",
              "      <td>58.945255</td>\n",
              "      <td>8.136011</td>\n",
              "      <td>1.720430</td>\n",
              "      <td>0.819190</td>\n",
              "      <td>8.259555</td>\n",
              "      <td>-7.957178</td>\n",
              "      <td>8.875194</td>\n",
              "      <td>...</td>\n",
              "      <td>11.490403</td>\n",
              "      <td>8.165613</td>\n",
              "      <td>9.328321</td>\n",
              "      <td>7.841833</td>\n",
              "      <td>8.690800</td>\n",
              "      <td>1334.187791</td>\n",
              "      <td>786.050640</td>\n",
              "      <td>2.172005</td>\n",
              "      <td>2679.889949</td>\n",
              "      <td>1380.975103</td>\n",
              "    </tr>\n",
              "    <tr>\n",
              "      <th>4</th>\n",
              "      <td>-197.92003</td>\n",
              "      <td>140.62096</td>\n",
              "      <td>-59.136734</td>\n",
              "      <td>43.080097</td>\n",
              "      <td>-18.316460</td>\n",
              "      <td>8.591222</td>\n",
              "      <td>-6.429421</td>\n",
              "      <td>-22.406498</td>\n",
              "      <td>-9.399740</td>\n",
              "      <td>-9.699448</td>\n",
              "      <td>...</td>\n",
              "      <td>6.449655</td>\n",
              "      <td>8.210041</td>\n",
              "      <td>5.798946</td>\n",
              "      <td>5.635915</td>\n",
              "      <td>8.110507</td>\n",
              "      <td>1429.050947</td>\n",
              "      <td>599.287083</td>\n",
              "      <td>1.694617</td>\n",
              "      <td>2698.772912</td>\n",
              "      <td>1067.745403</td>\n",
              "    </tr>\n",
              "  </tbody>\n",
              "</table>\n",
              "<p>5 rows × 45 columns</p>\n",
              "</div>\n",
              "    <div class=\"colab-df-buttons\">\n",
              "\n",
              "  <div class=\"colab-df-container\">\n",
              "    <button class=\"colab-df-convert\" onclick=\"convertToInteractive('df-3944f3a3-6ae4-4ae2-b706-e85bf685c126')\"\n",
              "            title=\"Convert this dataframe to an interactive table.\"\n",
              "            style=\"display:none;\">\n",
              "\n",
              "  <svg xmlns=\"http://www.w3.org/2000/svg\" height=\"24px\" viewBox=\"0 -960 960 960\">\n",
              "    <path d=\"M120-120v-720h720v720H120Zm60-500h600v-160H180v160Zm220 220h160v-160H400v160Zm0 220h160v-160H400v160ZM180-400h160v-160H180v160Zm440 0h160v-160H620v160ZM180-180h160v-160H180v160Zm440 0h160v-160H620v160Z\"/>\n",
              "  </svg>\n",
              "    </button>\n",
              "\n",
              "  <style>\n",
              "    .colab-df-container {\n",
              "      display:flex;\n",
              "      gap: 12px;\n",
              "    }\n",
              "\n",
              "    .colab-df-convert {\n",
              "      background-color: #E8F0FE;\n",
              "      border: none;\n",
              "      border-radius: 50%;\n",
              "      cursor: pointer;\n",
              "      display: none;\n",
              "      fill: #1967D2;\n",
              "      height: 32px;\n",
              "      padding: 0 0 0 0;\n",
              "      width: 32px;\n",
              "    }\n",
              "\n",
              "    .colab-df-convert:hover {\n",
              "      background-color: #E2EBFA;\n",
              "      box-shadow: 0px 1px 2px rgba(60, 64, 67, 0.3), 0px 1px 3px 1px rgba(60, 64, 67, 0.15);\n",
              "      fill: #174EA6;\n",
              "    }\n",
              "\n",
              "    .colab-df-buttons div {\n",
              "      margin-bottom: 4px;\n",
              "    }\n",
              "\n",
              "    [theme=dark] .colab-df-convert {\n",
              "      background-color: #3B4455;\n",
              "      fill: #D2E3FC;\n",
              "    }\n",
              "\n",
              "    [theme=dark] .colab-df-convert:hover {\n",
              "      background-color: #434B5C;\n",
              "      box-shadow: 0px 1px 3px 1px rgba(0, 0, 0, 0.15);\n",
              "      filter: drop-shadow(0px 1px 2px rgba(0, 0, 0, 0.3));\n",
              "      fill: #FFFFFF;\n",
              "    }\n",
              "  </style>\n",
              "\n",
              "    <script>\n",
              "      const buttonEl =\n",
              "        document.querySelector('#df-3944f3a3-6ae4-4ae2-b706-e85bf685c126 button.colab-df-convert');\n",
              "      buttonEl.style.display =\n",
              "        google.colab.kernel.accessAllowed ? 'block' : 'none';\n",
              "\n",
              "      async function convertToInteractive(key) {\n",
              "        const element = document.querySelector('#df-3944f3a3-6ae4-4ae2-b706-e85bf685c126');\n",
              "        const dataTable =\n",
              "          await google.colab.kernel.invokeFunction('convertToInteractive',\n",
              "                                                    [key], {});\n",
              "        if (!dataTable) return;\n",
              "\n",
              "        const docLinkHtml = 'Like what you see? Visit the ' +\n",
              "          '<a target=\"_blank\" href=https://colab.research.google.com/notebooks/data_table.ipynb>data table notebook</a>'\n",
              "          + ' to learn more about interactive tables.';\n",
              "        element.innerHTML = '';\n",
              "        dataTable['output_type'] = 'display_data';\n",
              "        await google.colab.output.renderOutput(dataTable, element);\n",
              "        const docLink = document.createElement('div');\n",
              "        docLink.innerHTML = docLinkHtml;\n",
              "        element.appendChild(docLink);\n",
              "      }\n",
              "    </script>\n",
              "  </div>\n",
              "\n",
              "\n",
              "<div id=\"df-0e5a4bf3-3238-4cfb-ab24-be299ce61d19\">\n",
              "  <button class=\"colab-df-quickchart\" onclick=\"quickchart('df-0e5a4bf3-3238-4cfb-ab24-be299ce61d19')\"\n",
              "            title=\"Suggest charts\"\n",
              "            style=\"display:none;\">\n",
              "\n",
              "<svg xmlns=\"http://www.w3.org/2000/svg\" height=\"24px\"viewBox=\"0 0 24 24\"\n",
              "     width=\"24px\">\n",
              "    <g>\n",
              "        <path d=\"M19 3H5c-1.1 0-2 .9-2 2v14c0 1.1.9 2 2 2h14c1.1 0 2-.9 2-2V5c0-1.1-.9-2-2-2zM9 17H7v-7h2v7zm4 0h-2V7h2v10zm4 0h-2v-4h2v4z\"/>\n",
              "    </g>\n",
              "</svg>\n",
              "  </button>\n",
              "\n",
              "<style>\n",
              "  .colab-df-quickchart {\n",
              "      --bg-color: #E8F0FE;\n",
              "      --fill-color: #1967D2;\n",
              "      --hover-bg-color: #E2EBFA;\n",
              "      --hover-fill-color: #174EA6;\n",
              "      --disabled-fill-color: #AAA;\n",
              "      --disabled-bg-color: #DDD;\n",
              "  }\n",
              "\n",
              "  [theme=dark] .colab-df-quickchart {\n",
              "      --bg-color: #3B4455;\n",
              "      --fill-color: #D2E3FC;\n",
              "      --hover-bg-color: #434B5C;\n",
              "      --hover-fill-color: #FFFFFF;\n",
              "      --disabled-bg-color: #3B4455;\n",
              "      --disabled-fill-color: #666;\n",
              "  }\n",
              "\n",
              "  .colab-df-quickchart {\n",
              "    background-color: var(--bg-color);\n",
              "    border: none;\n",
              "    border-radius: 50%;\n",
              "    cursor: pointer;\n",
              "    display: none;\n",
              "    fill: var(--fill-color);\n",
              "    height: 32px;\n",
              "    padding: 0;\n",
              "    width: 32px;\n",
              "  }\n",
              "\n",
              "  .colab-df-quickchart:hover {\n",
              "    background-color: var(--hover-bg-color);\n",
              "    box-shadow: 0 1px 2px rgba(60, 64, 67, 0.3), 0 1px 3px 1px rgba(60, 64, 67, 0.15);\n",
              "    fill: var(--button-hover-fill-color);\n",
              "  }\n",
              "\n",
              "  .colab-df-quickchart-complete:disabled,\n",
              "  .colab-df-quickchart-complete:disabled:hover {\n",
              "    background-color: var(--disabled-bg-color);\n",
              "    fill: var(--disabled-fill-color);\n",
              "    box-shadow: none;\n",
              "  }\n",
              "\n",
              "  .colab-df-spinner {\n",
              "    border: 2px solid var(--fill-color);\n",
              "    border-color: transparent;\n",
              "    border-bottom-color: var(--fill-color);\n",
              "    animation:\n",
              "      spin 1s steps(1) infinite;\n",
              "  }\n",
              "\n",
              "  @keyframes spin {\n",
              "    0% {\n",
              "      border-color: transparent;\n",
              "      border-bottom-color: var(--fill-color);\n",
              "      border-left-color: var(--fill-color);\n",
              "    }\n",
              "    20% {\n",
              "      border-color: transparent;\n",
              "      border-left-color: var(--fill-color);\n",
              "      border-top-color: var(--fill-color);\n",
              "    }\n",
              "    30% {\n",
              "      border-color: transparent;\n",
              "      border-left-color: var(--fill-color);\n",
              "      border-top-color: var(--fill-color);\n",
              "      border-right-color: var(--fill-color);\n",
              "    }\n",
              "    40% {\n",
              "      border-color: transparent;\n",
              "      border-right-color: var(--fill-color);\n",
              "      border-top-color: var(--fill-color);\n",
              "    }\n",
              "    60% {\n",
              "      border-color: transparent;\n",
              "      border-right-color: var(--fill-color);\n",
              "    }\n",
              "    80% {\n",
              "      border-color: transparent;\n",
              "      border-right-color: var(--fill-color);\n",
              "      border-bottom-color: var(--fill-color);\n",
              "    }\n",
              "    90% {\n",
              "      border-color: transparent;\n",
              "      border-bottom-color: var(--fill-color);\n",
              "    }\n",
              "  }\n",
              "</style>\n",
              "\n",
              "  <script>\n",
              "    async function quickchart(key) {\n",
              "      const quickchartButtonEl =\n",
              "        document.querySelector('#' + key + ' button');\n",
              "      quickchartButtonEl.disabled = true;  // To prevent multiple clicks.\n",
              "      quickchartButtonEl.classList.add('colab-df-spinner');\n",
              "      try {\n",
              "        const charts = await google.colab.kernel.invokeFunction(\n",
              "            'suggestCharts', [key], {});\n",
              "      } catch (error) {\n",
              "        console.error('Error during call to suggestCharts:', error);\n",
              "      }\n",
              "      quickchartButtonEl.classList.remove('colab-df-spinner');\n",
              "      quickchartButtonEl.classList.add('colab-df-quickchart-complete');\n",
              "    }\n",
              "    (() => {\n",
              "      let quickchartButtonEl =\n",
              "        document.querySelector('#df-0e5a4bf3-3238-4cfb-ab24-be299ce61d19 button');\n",
              "      quickchartButtonEl.style.display =\n",
              "        google.colab.kernel.accessAllowed ? 'block' : 'none';\n",
              "    })();\n",
              "  </script>\n",
              "</div>\n",
              "    </div>\n",
              "  </div>\n"
            ],
            "application/vnd.google.colaboratory.intrinsic+json": {
              "type": "dataframe",
              "variable_name": "X"
            }
          },
          "metadata": {},
          "execution_count": 26
        }
      ],
      "source": [
        "X.head()"
      ]
    },
    {
      "cell_type": "markdown",
      "metadata": {
        "id": "enLHq5m5ztT7"
      },
      "source": [
        "стандартизация"
      ]
    },
    {
      "cell_type": "code",
      "execution_count": 27,
      "metadata": {
        "id": "954ZcWHQznnb"
      },
      "outputs": [],
      "source": [
        "from sklearn import preprocessing\n",
        "X= preprocessing.StandardScaler().fit(X).transform(X)"
      ]
    },
    {
      "cell_type": "code",
      "execution_count": 28,
      "metadata": {
        "colab": {
          "base_uri": "https://localhost:8080/"
        },
        "id": "qoC8p3EYzvX8",
        "outputId": "c5670a28-0088-4ac8-8956-afc3d92e3bf5"
      },
      "outputs": [
        {
          "output_type": "stream",
          "name": "stdout",
          "text": [
            "Train set: (2593, 45) (2593,)\n",
            "Test set: (649, 45) (649,)\n"
          ]
        }
      ],
      "source": [
        "from sklearn.model_selection import train_test_split\n",
        "# Разделение набора данных на тренировочные и тестовые наборы (train/test split)\n",
        "X_train, X_test, y_train, y_test = train_test_split( X, y, test_size=0.2,\n",
        "                                                            random_state=41)\n",
        "\n",
        "# размер тренировочных и тестовых наборов (количество строк, колонок):\n",
        "print ('Train set:', X_train.shape, y_train.shape)\n",
        "print ('Test set:', X_test.shape, y_test.shape)\n",
        "\n",
        "from sklearn import svm\n",
        "clf = svm.SVC(kernel='rbf')   #  функция ядра - RBF (радиальная базисная функция)\n",
        "clf.fit(X_train, y_train)     # Обучение модели на тренировочном наборе\n",
        "yhat = clf.predict(X_test)    # для прогнозирования новых значений:"
      ]
    },
    {
      "cell_type": "code",
      "execution_count": 29,
      "metadata": {
        "colab": {
          "base_uri": "https://localhost:8080/"
        },
        "id": "MR1-Ojrr0Wnh",
        "outputId": "f6da850f-4872-4692-924a-e1b26c62ff58"
      },
      "outputs": [
        {
          "output_type": "stream",
          "name": "stdout",
          "text": [
            "Prediction: ['fake' 'real' 'real' 'fake' 'fake']\n",
            "Real Value: ['fake' 'real' 'real' 'fake' 'fake']\n"
          ]
        }
      ],
      "source": [
        "print(\"Prediction:\", yhat[0:5])\n",
        "print(\"Real Value:\", y_test[0:5])"
      ]
    },
    {
      "cell_type": "code",
      "execution_count": 30,
      "metadata": {
        "colab": {
          "base_uri": "https://localhost:8080/"
        },
        "id": "6Fll10f50h-Y",
        "outputId": "b2a7a54c-bc11-44ff-bcb6-eb84fab80e0d"
      },
      "outputs": [
        {
          "output_type": "stream",
          "name": "stdout",
          "text": [
            "Train set Accuracy:  0.9949865021210953\n",
            "Test set Accuracy:  0.9830508474576272\n"
          ]
        }
      ],
      "source": [
        "from sklearn import metrics\n",
        "print(\"Train set Accuracy: \", metrics.accuracy_score(y_train, clf.predict(X_train)))\n",
        "print(\"Test set Accuracy: \",metrics.accuracy_score(y_test, yhat) )"
      ]
    },
    {
      "cell_type": "code",
      "execution_count": 31,
      "metadata": {
        "colab": {
          "base_uri": "https://localhost:8080/"
        },
        "id": "aO6mm4UM0mlQ",
        "outputId": "505c43c0-3a53-4cfe-9993-af75191004f2"
      },
      "outputs": [
        {
          "output_type": "stream",
          "name": "stdout",
          "text": [
            "REPORT :\n",
            "\n",
            "              precision    recall  f1-score   support\n",
            "\n",
            "        fake       0.98      0.99      0.99       452\n",
            "        real       0.98      0.96      0.97       197\n",
            "\n",
            "    accuracy                           0.98       649\n",
            "   macro avg       0.98      0.98      0.98       649\n",
            "weighted avg       0.98      0.98      0.98       649\n",
            "\n"
          ]
        }
      ],
      "source": [
        "from sklearn.metrics import classification_report,confusion_matrix\n",
        "\n",
        "print('REPORT :\\n')\n",
        "print(classification_report(y_test,yhat))"
      ]
    }
  ],
  "metadata": {
    "colab": {
      "provenance": []
    },
    "kernelspec": {
      "display_name": "Python 3",
      "name": "python3"
    },
    "language_info": {
      "name": "python"
    }
  },
  "nbformat": 4,
  "nbformat_minor": 0
}