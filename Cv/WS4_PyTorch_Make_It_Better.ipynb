{
  "metadata": {
    "kernelspec": {
      "language": "python",
      "display_name": "Python 3",
      "name": "python3"
    },
    "language_info": {
      "name": "python",
      "version": "3.10.12",
      "mimetype": "text/x-python",
      "codemirror_mode": {
        "name": "ipython",
        "version": 3
      },
      "pygments_lexer": "ipython3",
      "nbconvert_exporter": "python",
      "file_extension": ".py"
    },
    "kaggle": {
      "accelerator": "nvidiaTeslaT4",
      "dataSources": [],
      "dockerImageVersionId": 30588,
      "isInternetEnabled": true,
      "language": "python",
      "sourceType": "notebook",
      "isGpuEnabled": true
    },
    "colab": {
      "provenance": []
    }
  },
  "nbformat_minor": 0,
  "nbformat": 4,
  "cells": [
    {
      "cell_type": "markdown",
      "source": [
        "\n",
        "# Методы улучшения точности точности архитектур в PyTorch"
      ],
      "metadata": {
        "id": "IHwpLik7g6Pa"
      }
    },
    {
      "cell_type": "markdown",
      "source": [
        "## Загрузка необходимых библиотек"
      ],
      "metadata": {
        "id": "ZZRVOYf3gzDX"
      }
    },
    {
      "cell_type": "code",
      "source": [
        "pip install torchsummary"
      ],
      "metadata": {
        "execution": {
          "iopub.status.busy": "2023-12-01T05:52:46.421473Z",
          "iopub.execute_input": "2023-12-01T05:52:46.421996Z",
          "iopub.status.idle": "2023-12-01T05:53:00.828761Z",
          "shell.execute_reply.started": "2023-12-01T05:52:46.421968Z",
          "shell.execute_reply": "2023-12-01T05:53:00.827338Z"
        },
        "trusted": true,
        "id": "iPpIMj0QgRUt",
        "outputId": "ae926c8c-5207-44b0-e721-fc3b57f51e12"
      },
      "execution_count": null,
      "outputs": [
        {
          "name": "stdout",
          "text": "Collecting torchsummary\n  Downloading torchsummary-1.5.1-py3-none-any.whl (2.8 kB)\nInstalling collected packages: torchsummary\nSuccessfully installed torchsummary-1.5.1\nNote: you may need to restart the kernel to use updated packages.\n",
          "output_type": "stream"
        }
      ]
    },
    {
      "cell_type": "code",
      "source": [
        "import random\n",
        "import numpy as np\n",
        "import matplotlib.pyplot as plt\n",
        "\n",
        "import os\n",
        "import copy\n",
        "import time\n",
        "\n",
        "import torch\n",
        "import torch.nn as nn\n",
        "import torch.nn.functional as F\n",
        "import torch.optim as optim\n",
        "import torch.utils.data as data\n",
        "\n",
        "import torchvision\n",
        "from torchvision import transforms, datasets\n",
        "import torchvision.transforms as T\n",
        "\n",
        "from torchsummary import summary\n",
        "\n",
        "from sklearn.metrics import confusion_matrix\n",
        "from sklearn.metrics import ConfusionMatrixDisplay\n",
        "\n",
        "from tqdm.notebook import tqdm, trange\n",
        "\n",
        "import pandas as pd\n",
        "\n",
        "\n",
        "\n",
        "def torch_stats():\n",
        "    torch_version = \".\".join(torch.__version__.split(\".\")[:2])\n",
        "    print('torch version:',torch_version)\n",
        "\n",
        "    device = torch.device('cuda' if torch.cuda.is_available() else 'cpu')\n",
        "    print('Using device:', device)\n",
        "    dtype = torch.float32\n",
        "\n",
        "    if device.type == 'cuda':\n",
        "        cuda_version  = torch.__version__.split(\"+\")[-1]\n",
        "        print(\"cuda: \", cuda_version)\n",
        "\n",
        "        torch.set_default_tensor_type(torch.cuda.FloatTensor)\n",
        "        print('Cuda is available:',torch.cuda.is_available())\n",
        "\n",
        "        n_devices = torch.cuda.device_count()\n",
        "        print('number of devices: %d'%(n_devices))\n",
        "\n",
        "        for cnt_device in range(n_devices):\n",
        "            print(torch.cuda.get_device_name(cnt_device))\n",
        "            print('Memory Usage:')\n",
        "            print('Allocated:',\n",
        "                  round(torch.cuda.memory_allocated(cnt_device)/1024**3,1),'GB')\n",
        "            print('Cached:   ',\n",
        "                  round(torch.cuda.memory_reserved(cnt_device)/1024**3,1), 'GB')\n",
        "\n",
        "\n",
        "    torch.set_default_dtype(dtype) # float32\n",
        "    print('default data type:',dtype)\n",
        "\n",
        "    num_workers=os.cpu_count()\n",
        "    print ('available number of workers (CPU cores):',num_workers)\n",
        "\n",
        "    return device, dtype, num_workers\n",
        "#-------------------------------\n",
        "def torch_seed(seed = 42, deterministic = True):\n",
        "    random.seed(seed) # random and transforms\n",
        "    np.random.seed(seed) #numpy\n",
        "    torch.manual_seed(seed) #cpu\n",
        "    torch.cuda.manual_seed(seed) #gpu\n",
        "    torch.backends.cudnn.deterministic=deterministic #cudnn\n",
        "\n",
        "\n",
        "\n",
        "device, dtype, num_workers = torch_stats()\n",
        "torch_seed(seed = 35, deterministic = True)"
      ],
      "metadata": {
        "execution": {
          "iopub.status.busy": "2023-12-01T05:53:06.218543Z",
          "iopub.execute_input": "2023-12-01T05:53:06.218920Z",
          "iopub.status.idle": "2023-12-01T05:53:13.375158Z",
          "shell.execute_reply.started": "2023-12-01T05:53:06.218892Z",
          "shell.execute_reply": "2023-12-01T05:53:13.374213Z"
        },
        "trusted": true,
        "id": "arkBZTuIgRUw",
        "outputId": "7109d8ec-8c43-407d-d305-a76437642cb3"
      },
      "execution_count": null,
      "outputs": [
        {
          "name": "stderr",
          "text": "/opt/conda/lib/python3.10/site-packages/scipy/__init__.py:146: UserWarning: A NumPy version >=1.16.5 and <1.23.0 is required for this version of SciPy (detected version 1.24.3\n  warnings.warn(f\"A NumPy version >={np_minversion} and <{np_maxversion}\"\n",
          "output_type": "stream"
        },
        {
          "name": "stdout",
          "text": "torch version: 2.0\nUsing device: cuda\ncuda:  2.0.0\nCuda is available: True\nnumber of devices: 2\nTesla T4\nMemory Usage:\nAllocated: 0.0 GB\nCached:    0.0 GB\nTesla T4\nMemory Usage:\nAllocated: 0.0 GB\nCached:    0.0 GB\ndefault data type: torch.float32\navailable number of workers (CPU cores): 4\n",
          "output_type": "stream"
        }
      ]
    },
    {
      "cell_type": "markdown",
      "source": [
        "![image.png](data:image/png;base64,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)"
      ],
      "metadata": {
        "id": "z-a1U9PZhPxs"
      }
    },
    {
      "cell_type": "markdown",
      "source": [
        "## 1. Добавить слой Inception к архитектуре LeNet"
      ],
      "metadata": {
        "id": "SDJXPL74gRUx"
      }
    },
    {
      "cell_type": "markdown",
      "source": [
        "Создадим блок Inception"
      ],
      "metadata": {
        "id": "L-5jX80ahf5T"
      }
    },
    {
      "cell_type": "code",
      "source": [
        "class InceptionModule(nn.Module):\n",
        "    def __init__(self, in_channels, out1x1, red3x3, out3x3, red5x5, out5x5, out1x1pool):\n",
        "        super(InceptionModule, self).__init__()\n",
        "\n",
        "        self.branch1 = nn.Conv2d(in_channels, out1x1, kernel_size=1)\n",
        "\n",
        "        self.branch2 = nn.Sequential(\n",
        "            nn.Conv2d(in_channels, red3x3, kernel_size=1),\n",
        "            nn.ReLU(),\n",
        "            nn.Conv2d(red3x3, out3x3, kernel_size=3, padding=1)\n",
        "        )\n",
        "\n",
        "        self.branch3 = nn.Sequential(\n",
        "            nn.Conv2d(in_channels, red5x5, kernel_size=1),\n",
        "            nn.ReLU(),\n",
        "            nn.Conv2d(red5x5, out5x5, kernel_size=5, padding=2)\n",
        "        )\n",
        "\n",
        "        self.branch4 = nn.Sequential(\n",
        "            nn.MaxPool2d(kernel_size=3, stride=1, padding=1),\n",
        "            nn.Conv2d(in_channels, out1x1pool, kernel_size=1)\n",
        "        )\n",
        "\n",
        "    def forward(self, x):\n",
        "\n",
        "        in_channels = x.size(1)\n",
        "\n",
        "        out1 = self.branch1(x)\n",
        "        out2 = self.branch2(x)\n",
        "        out3 = self.branch3(x)\n",
        "        out4 = self.branch4(x)\n",
        "\n",
        "\n",
        "        return torch.cat([out1, out2, out3, out4], 1)"
      ],
      "metadata": {
        "execution": {
          "iopub.status.busy": "2023-12-01T05:53:24.929595Z",
          "iopub.execute_input": "2023-12-01T05:53:24.930110Z",
          "iopub.status.idle": "2023-12-01T05:53:24.940143Z",
          "shell.execute_reply.started": "2023-12-01T05:53:24.930076Z",
          "shell.execute_reply": "2023-12-01T05:53:24.939180Z"
        },
        "trusted": true,
        "id": "4atO_hTZgRUy"
      },
      "execution_count": null,
      "outputs": []
    },
    {
      "cell_type": "markdown",
      "source": [
        "Добавим InceptionModule в конец архитектуры LeNet"
      ],
      "metadata": {
        "id": "fssLI_zVhjB0"
      }
    },
    {
      "cell_type": "code",
      "source": [
        "class LeNetWithInception(nn.Module):\n",
        "    def __init__(self, in_channels, n_classes):\n",
        "        super(LeNetWithInception, self).__init__()\n",
        "\n",
        "        self.in_channels = in_channels\n",
        "        self.n_classes   = n_classes\n",
        "\n",
        "        # Convolution with stride 2\n",
        "        self.conv1   = nn.Conv2d(in_channels  = self.in_channels,\n",
        "                                 out_channels = 6,\n",
        "                                 kernel_size  = 5,\n",
        "                                 stride       = 2,\n",
        "                                 padding      = 2,\n",
        "                                 dilation     = 1)\n",
        "\n",
        "\n",
        "        # Cascade Convolution\n",
        "        conv2_1   = nn.Conv2d(in_channels     = 6,\n",
        "                                 out_channels = 16,\n",
        "                                 kernel_size  = 3,\n",
        "                                 padding      = 1)\n",
        "\n",
        "        conv2_2   = nn.Conv2d(in_channels     = 16,\n",
        "                                 out_channels = 16,\n",
        "                                 kernel_size  = 3,\n",
        "                                 padding      = 1)\n",
        "\n",
        "        self.conv2 = nn.Sequential(conv2_1,\n",
        "                                   nn.ReLU(),\n",
        "                                   conv2_2,\n",
        "                                   nn.BatchNorm2d(16))\n",
        "\n",
        "        # Spatially-Separable Convolution\n",
        "        conv3_1 = nn.Conv2d(in_channels  = 16,\n",
        "                            out_channels = 32,\n",
        "                            kernel_size  = (3,1),\n",
        "                            padding      = 1)\n",
        "\n",
        "        conv3_2 = nn.Conv2d(in_channels  = 32,\n",
        "                            out_channels = 32,\n",
        "                            kernel_size  = (1,3),\n",
        "                            padding      = 1)\n",
        "\n",
        "        self.conv3 = nn.Sequential(conv3_1,\n",
        "                                   nn.ReLU(),\n",
        "                                   conv3_2)\n",
        "\n",
        "        self.inception = InceptionModule(in_channels=64, out1x1=32, red3x3=16, out3x3=32, red5x5=16, out5x5=32, out1x1pool=64)\n",
        "\n",
        "        # self.inception = InceptionModule(in_channels=32)\n",
        "\n",
        "        # Residual bottleneck layer\n",
        "        conv1x1_1 = nn.Conv2d(in_channels  = 32,\n",
        "                              out_channels = 16,\n",
        "                              kernel_size  = 1)\n",
        "\n",
        "        conv3x3  = nn.Conv2d(in_channels  = 16,\n",
        "                             out_channels = 16,\n",
        "                             kernel_size  = 3,\n",
        "                             padding      = 1)\n",
        "\n",
        "        conv1x1_2 = nn.Conv2d(in_channels  = 16,\n",
        "                              out_channels = 32,\n",
        "                              kernel_size  = 1)\n",
        "\n",
        "        self.main_block = nn.Sequential(conv1x1_1,\n",
        "                                        nn.BatchNorm2d(16),\n",
        "                                        nn.ReLU(),\n",
        "                                        conv3x3,\n",
        "                                        nn.BatchNorm2d(16),\n",
        "                                        nn.ReLU(),\n",
        "                                        conv1x1_2,\n",
        "                                        nn.BatchNorm2d(32))\n",
        "\n",
        "        # Depthwise Separable Convolution\n",
        "        depth_conv = nn.Conv2d(in_channels  = 32,\n",
        "                               out_channels = 32,\n",
        "                               kernel_size  = 3,\n",
        "                               groups       = 16,\n",
        "                               padding      = 1)\n",
        "\n",
        "        point_conv = nn.Conv2d(in_channels  = 32,\n",
        "                               out_channels = 64,\n",
        "                               kernel_size  = 1)\n",
        "\n",
        "        self.conv5 = nn.Sequential(depth_conv,\n",
        "                                   nn.BatchNorm2d(32),\n",
        "                                   nn.ReLU(),\n",
        "                                   point_conv)\n",
        "\n",
        "\n",
        "        #normalization\n",
        "        self.bn1 = nn.BatchNorm2d(6)\n",
        "\n",
        "        # pooling\n",
        "        self.maxpool = nn.MaxPool2d(kernel_size = 2,\n",
        "                                    stride      = 2)\n",
        "\n",
        "        # Global Average Pooling\n",
        "        self.gap = nn.AdaptiveAvgPool2d((1,1))\n",
        "\n",
        "        # classification\n",
        "        self.fc_out = nn.Linear(in_features = 160,\n",
        "                                out_features = self.n_classes)\n",
        "\n",
        "    def conv_reduce_channels(self, x):\n",
        "        return nn.Conv2d(x.shape[1], 64, kernel_size=1)(x)\n",
        "\n",
        "    def forward(self, x):\n",
        "\n",
        "        # 1-st layer\n",
        "        x = self.conv1(x)\n",
        "        x = self.bn1(x)\n",
        "        x = torch.relu(x)\n",
        "\n",
        "        #2-nd layer\n",
        "        x = self.conv2(x)\n",
        "        x = torch.relu(x)\n",
        "        x = self.maxpool(x)\n",
        "\n",
        "        #3-nd layer\n",
        "        x = self.conv3(x)\n",
        "        x = torch.relu(x)\n",
        "        x = self.maxpool(x)\n",
        "\n",
        "\n",
        "        # x = self.inception(x)\n",
        "        # x = torch.relu(x)\n",
        "        # x = self.conv_reduce_channels(x)\n",
        "\n",
        "\n",
        "        # print(x.shape[1])\n",
        "        #4-th layer\n",
        "        h = self.main_block(x)\n",
        "        x = x+h\n",
        "        x = torch.relu(x)\n",
        "\n",
        "\n",
        "        #5-th layer\n",
        "        x = self.conv5(x)\n",
        "        x = torch.relu(x)\n",
        "        # print(x.shape)\n",
        "\n",
        "        x = self.inception(x)\n",
        "        x = torch.relu(x)\n",
        "        # x = self.conv_reduce_channels(x)\n",
        "        # print(x.shape)\n",
        "\n",
        "        # 1-st fc layer\n",
        "        x = self.gap(x)\n",
        "        h = torch.flatten(x, 1)\n",
        "        x = self.fc_out(h)\n",
        "\n",
        "        return x#torch.softmax(x, dim=1)"
      ],
      "metadata": {
        "execution": {
          "iopub.status.busy": "2023-12-01T05:53:29.333124Z",
          "iopub.execute_input": "2023-12-01T05:53:29.333559Z",
          "iopub.status.idle": "2023-12-01T05:53:29.354652Z",
          "shell.execute_reply.started": "2023-12-01T05:53:29.333526Z",
          "shell.execute_reply": "2023-12-01T05:53:29.353634Z"
        },
        "trusted": true,
        "id": "yU_IzY4sgRUy"
      },
      "execution_count": null,
      "outputs": []
    },
    {
      "cell_type": "code",
      "source": [
        "model =LeNetWithInception(3,10)\n",
        "\n",
        "# from torchsummary import summary\n",
        "summary(model, input_size = (3,32,32))"
      ],
      "metadata": {
        "execution": {
          "iopub.status.busy": "2023-12-01T05:53:33.139551Z",
          "iopub.execute_input": "2023-12-01T05:53:33.139892Z",
          "iopub.status.idle": "2023-12-01T05:53:47.462298Z",
          "shell.execute_reply.started": "2023-12-01T05:53:33.139867Z",
          "shell.execute_reply": "2023-12-01T05:53:47.461300Z"
        },
        "trusted": true,
        "id": "ql97Q0jxgRUz",
        "outputId": "6b667fa3-d279-4485-b101-244124a17b59"
      },
      "execution_count": null,
      "outputs": [
        {
          "name": "stdout",
          "text": "----------------------------------------------------------------\n        Layer (type)               Output Shape         Param #\n================================================================\n            Conv2d-1            [-1, 6, 16, 16]             456\n       BatchNorm2d-2            [-1, 6, 16, 16]              12\n            Conv2d-3           [-1, 16, 16, 16]             880\n              ReLU-4           [-1, 16, 16, 16]               0\n            Conv2d-5           [-1, 16, 16, 16]           2,320\n       BatchNorm2d-6           [-1, 16, 16, 16]              32\n         MaxPool2d-7             [-1, 16, 8, 8]               0\n            Conv2d-8            [-1, 32, 8, 10]           1,568\n              ReLU-9            [-1, 32, 8, 10]               0\n           Conv2d-10           [-1, 32, 10, 10]           3,104\n        MaxPool2d-11             [-1, 32, 5, 5]               0\n           Conv2d-12             [-1, 16, 5, 5]             528\n      BatchNorm2d-13             [-1, 16, 5, 5]              32\n             ReLU-14             [-1, 16, 5, 5]               0\n           Conv2d-15             [-1, 16, 5, 5]           2,320\n      BatchNorm2d-16             [-1, 16, 5, 5]              32\n             ReLU-17             [-1, 16, 5, 5]               0\n           Conv2d-18             [-1, 32, 5, 5]             544\n      BatchNorm2d-19             [-1, 32, 5, 5]              64\n           Conv2d-20             [-1, 32, 5, 5]             608\n      BatchNorm2d-21             [-1, 32, 5, 5]              64\n             ReLU-22             [-1, 32, 5, 5]               0\n           Conv2d-23             [-1, 64, 5, 5]           2,112\n           Conv2d-24             [-1, 32, 5, 5]           2,080\n           Conv2d-25             [-1, 16, 5, 5]           1,040\n             ReLU-26             [-1, 16, 5, 5]               0\n           Conv2d-27             [-1, 32, 5, 5]           4,640\n           Conv2d-28             [-1, 16, 5, 5]           1,040\n             ReLU-29             [-1, 16, 5, 5]               0\n           Conv2d-30             [-1, 32, 5, 5]          12,832\n        MaxPool2d-31             [-1, 64, 5, 5]               0\n           Conv2d-32             [-1, 64, 5, 5]           4,160\n  InceptionModule-33            [-1, 160, 5, 5]               0\nAdaptiveAvgPool2d-34            [-1, 160, 1, 1]               0\n           Linear-35                   [-1, 10]           1,610\n================================================================\nTotal params: 42,078\nTrainable params: 42,078\nNon-trainable params: 0\n----------------------------------------------------------------\nInput size (MB): 0.01\nForward/backward pass size (MB): 0.37\nParams size (MB): 0.16\nEstimated Total Size (MB): 0.55\n----------------------------------------------------------------\n",
          "output_type": "stream"
        }
      ]
    },
    {
      "cell_type": "code",
      "source": [
        "params = list(model.named_parameters())\n",
        "\n",
        "# print(params)\n",
        "for idx in range(len(params)):\n",
        "    print(params[idx][0],'\\t', params[idx][1].size())\n",
        "print('\\n',10*'--')\n",
        "num_params = sum(p.numel() for p in model.parameters() if p.requires_grad)\n",
        "print('Number of trainable parameters for the model: %d' % (num_params))\n",
        "\n",
        "num_params = sum(p.numel() for p in model.parameters() )\n",
        "print('Number of all parameters for the model: %d' % (num_params))"
      ],
      "metadata": {
        "execution": {
          "iopub.status.busy": "2023-12-01T05:53:51.001059Z",
          "iopub.execute_input": "2023-12-01T05:53:51.001927Z",
          "iopub.status.idle": "2023-12-01T05:53:51.010323Z",
          "shell.execute_reply.started": "2023-12-01T05:53:51.001895Z",
          "shell.execute_reply": "2023-12-01T05:53:51.009354Z"
        },
        "trusted": true,
        "id": "xN4xuuEYgRUz",
        "outputId": "15be666c-084d-4dd0-9411-6425f10dcf54"
      },
      "execution_count": null,
      "outputs": [
        {
          "name": "stdout",
          "text": "conv1.weight \t torch.Size([6, 3, 5, 5])\nconv1.bias \t torch.Size([6])\nconv2.0.weight \t torch.Size([16, 6, 3, 3])\nconv2.0.bias \t torch.Size([16])\nconv2.2.weight \t torch.Size([16, 16, 3, 3])\nconv2.2.bias \t torch.Size([16])\nconv2.3.weight \t torch.Size([16])\nconv2.3.bias \t torch.Size([16])\nconv3.0.weight \t torch.Size([32, 16, 3, 1])\nconv3.0.bias \t torch.Size([32])\nconv3.2.weight \t torch.Size([32, 32, 1, 3])\nconv3.2.bias \t torch.Size([32])\ninception.branch1.weight \t torch.Size([32, 64, 1, 1])\ninception.branch1.bias \t torch.Size([32])\ninception.branch2.0.weight \t torch.Size([16, 64, 1, 1])\ninception.branch2.0.bias \t torch.Size([16])\ninception.branch2.2.weight \t torch.Size([32, 16, 3, 3])\ninception.branch2.2.bias \t torch.Size([32])\ninception.branch3.0.weight \t torch.Size([16, 64, 1, 1])\ninception.branch3.0.bias \t torch.Size([16])\ninception.branch3.2.weight \t torch.Size([32, 16, 5, 5])\ninception.branch3.2.bias \t torch.Size([32])\ninception.branch4.1.weight \t torch.Size([64, 64, 1, 1])\ninception.branch4.1.bias \t torch.Size([64])\nmain_block.0.weight \t torch.Size([16, 32, 1, 1])\nmain_block.0.bias \t torch.Size([16])\nmain_block.1.weight \t torch.Size([16])\nmain_block.1.bias \t torch.Size([16])\nmain_block.3.weight \t torch.Size([16, 16, 3, 3])\nmain_block.3.bias \t torch.Size([16])\nmain_block.4.weight \t torch.Size([16])\nmain_block.4.bias \t torch.Size([16])\nmain_block.6.weight \t torch.Size([32, 16, 1, 1])\nmain_block.6.bias \t torch.Size([32])\nmain_block.7.weight \t torch.Size([32])\nmain_block.7.bias \t torch.Size([32])\nconv5.0.weight \t torch.Size([32, 2, 3, 3])\nconv5.0.bias \t torch.Size([32])\nconv5.1.weight \t torch.Size([32])\nconv5.1.bias \t torch.Size([32])\nconv5.3.weight \t torch.Size([64, 32, 1, 1])\nconv5.3.bias \t torch.Size([64])\nbn1.weight \t torch.Size([6])\nbn1.bias \t torch.Size([6])\nfc_out.weight \t torch.Size([10, 160])\nfc_out.bias \t torch.Size([10])\n\n --------------------\nNumber of trainable parameters for the model: 42078\nNumber of all parameters for the model: 42078\n",
          "output_type": "stream"
        }
      ]
    },
    {
      "cell_type": "code",
      "source": [
        "X = torch.randn(1, 3, 32, 32) # Batch Size x Channels x Wide x Height\n",
        "out = model(X)\n",
        "print(out.data.cpu().numpy(), '\\n max position (Class index):', out.argmax().item())\n"
      ],
      "metadata": {
        "execution": {
          "iopub.status.busy": "2023-12-01T05:53:53.837470Z",
          "iopub.execute_input": "2023-12-01T05:53:53.837841Z",
          "iopub.status.idle": "2023-12-01T05:53:53.884731Z",
          "shell.execute_reply.started": "2023-12-01T05:53:53.837811Z",
          "shell.execute_reply": "2023-12-01T05:53:53.883629Z"
        },
        "trusted": true,
        "id": "1CYl1M-pgRU0",
        "outputId": "882be779-0534-4dfe-8b3c-996bc3da1862"
      },
      "execution_count": null,
      "outputs": [
        {
          "name": "stdout",
          "text": "[[ 0.15538615 -0.07752912  0.09143008 -0.21054366 -0.10863276 -0.07180751\n  -0.0289988   0.00433118 -0.14855477  0.00528275]] \n max position (Class index): 0\n",
          "output_type": "stream"
        }
      ]
    },
    {
      "cell_type": "code",
      "source": [
        "mean = torch.tensor([0.485, 0.456, 0.406])\n",
        "std  = torch.tensor([0.229, 0.224, 0.225])\n",
        "\n",
        "train_transforms = transforms.Compose([\n",
        "                            transforms.Resize(36),\n",
        "                            transforms.RandomRotation(5),\n",
        "                            transforms.RandomHorizontalFlip(0.5),\n",
        "                            transforms.RandomCrop(32, padding=2),\n",
        "                            transforms.ColorJitter(brightness=0.5,\n",
        "                                                   contrast=0.5,\n",
        "                                                   saturation=0.5,\n",
        "                                                   hue=0.5),\n",
        "                            transforms.ToTensor(),\n",
        "                            transforms.Normalize(mean=mean, std=std)\n",
        "                                      ])\n",
        "\n",
        "test_transforms = transforms.Compose([\n",
        "                           transforms.ToTensor(),\n",
        "                           transforms.Normalize(mean=mean, std=std)\n",
        "                                     ])"
      ],
      "metadata": {
        "execution": {
          "iopub.status.busy": "2023-12-01T05:53:55.458653Z",
          "iopub.execute_input": "2023-12-01T05:53:55.459295Z",
          "iopub.status.idle": "2023-12-01T05:53:55.466707Z",
          "shell.execute_reply.started": "2023-12-01T05:53:55.459262Z",
          "shell.execute_reply": "2023-12-01T05:53:55.465799Z"
        },
        "trusted": true,
        "id": "L7d8E2bkgRU0"
      },
      "execution_count": null,
      "outputs": []
    },
    {
      "cell_type": "code",
      "source": [
        "trainset = torchvision.datasets.CIFAR10(root      = './data',\n",
        "                                        train     = True,\n",
        "                                        download  = True,\n",
        "                                        transform = train_transforms)\n",
        "\n",
        "\n",
        "testset = torchvision.datasets.CIFAR10(root      = './data',\n",
        "                                       train     = False,\n",
        "                                       download  = True,\n",
        "                                       transform = test_transforms)\n",
        "\n",
        "\n",
        "names_classes = trainset.classes\n",
        "print(names_classes)\n"
      ],
      "metadata": {
        "execution": {
          "iopub.status.busy": "2023-12-01T05:53:57.514804Z",
          "iopub.execute_input": "2023-12-01T05:53:57.515561Z",
          "iopub.status.idle": "2023-12-01T05:54:04.330833Z",
          "shell.execute_reply.started": "2023-12-01T05:53:57.515521Z",
          "shell.execute_reply": "2023-12-01T05:54:04.329881Z"
        },
        "trusted": true,
        "id": "B6iLVDUrgRU0",
        "outputId": "e4153534-8c4c-40c4-eeb8-053307bcd19c"
      },
      "execution_count": null,
      "outputs": [
        {
          "name": "stdout",
          "text": "Downloading https://www.cs.toronto.edu/~kriz/cifar-10-python.tar.gz to ./data/cifar-10-python.tar.gz\n",
          "output_type": "stream"
        },
        {
          "name": "stderr",
          "text": "100%|██████████| 170498071/170498071 [00:03<00:00, 54144508.36it/s]\n",
          "output_type": "stream"
        },
        {
          "name": "stdout",
          "text": "Extracting ./data/cifar-10-python.tar.gz to ./data\nFiles already downloaded and verified\n['airplane', 'automobile', 'bird', 'cat', 'deer', 'dog', 'frog', 'horse', 'ship', 'truck']\n",
          "output_type": "stream"
        }
      ]
    },
    {
      "cell_type": "code",
      "source": [
        "VALID_RATIO = 0.9\n",
        "\n",
        "n_train_examples = int(len(trainset) * VALID_RATIO)\n",
        "\n",
        "n_valid_examples = len(trainset) - n_train_examples\n",
        "\n",
        "if torch.cuda.is_available():\n",
        "    kwarg = {'generator':torch.Generator(device='cuda')}\n",
        "    print('cuda')\n",
        "else:\n",
        "     kwarg = {'num_workers':num_workers}\n",
        "\n",
        "trainset, validset = data.random_split(trainset,\n",
        "                                       [n_train_examples,\n",
        "                                        n_valid_examples],\n",
        "                                       **kwarg)\n",
        "\n",
        "validset = copy.deepcopy(validset)\n",
        "validset.dataset.transform = test_transforms"
      ],
      "metadata": {
        "execution": {
          "iopub.status.busy": "2023-12-01T05:55:39.248495Z",
          "iopub.execute_input": "2023-12-01T05:55:39.248861Z",
          "iopub.status.idle": "2023-12-01T05:55:39.458050Z",
          "shell.execute_reply.started": "2023-12-01T05:55:39.248832Z",
          "shell.execute_reply": "2023-12-01T05:55:39.456985Z"
        },
        "trusted": true,
        "id": "2yr01ZFzgRU0",
        "outputId": "05014c10-69b2-4e1c-ef8b-5bbf34f86895"
      },
      "execution_count": null,
      "outputs": [
        {
          "name": "stdout",
          "text": "cuda\n",
          "output_type": "stream"
        }
      ]
    },
    {
      "cell_type": "code",
      "source": [
        "BATCH_SIZE = 64\n",
        "\n",
        "if torch.cuda.is_available():\n",
        "    kwarg = {'generator':torch.Generator(device='cuda')}\n",
        "else:\n",
        "     kwarg = {'num_workers':0}\n",
        "\n",
        "trainloader = data.DataLoader(trainset,\n",
        "                              shuffle=True,\n",
        "                              batch_size=BATCH_SIZE,\n",
        "                              **kwarg)\n",
        "\n",
        "validloader = data.DataLoader(validset,batch_size=BATCH_SIZE, **kwarg)\n",
        "\n",
        "testloader  = data.DataLoader(testset,batch_size=BATCH_SIZE, **kwarg)"
      ],
      "metadata": {
        "execution": {
          "iopub.status.busy": "2023-12-01T05:55:44.373971Z",
          "iopub.execute_input": "2023-12-01T05:55:44.374394Z",
          "iopub.status.idle": "2023-12-01T05:55:44.380391Z",
          "shell.execute_reply.started": "2023-12-01T05:55:44.374364Z",
          "shell.execute_reply": "2023-12-01T05:55:44.379397Z"
        },
        "trusted": true,
        "id": "BOJM4XG0gRU1"
      },
      "execution_count": null,
      "outputs": []
    },
    {
      "cell_type": "code",
      "source": [
        "def imshow(images, mean=mean, std=std):\n",
        "    img = torchvision.utils.make_grid(images).to(device)\n",
        "    img = img.transpose(2,0).transpose(0,1)\n",
        "    img = (img * torch.as_tensor(std).to(device)\n",
        "               + torch.as_tensor(mean).to(device) )# unnormalize\n",
        "    img = img.data.cpu().numpy()\n",
        "\n",
        "    plt.figure(figsize=(16,12))\n",
        "    plt.imshow(img); plt.axis('off'); plt.show()\n",
        "\n",
        "\n",
        "images, labels = next(iter(trainloader))\n",
        "\n",
        "imshow(images)\n",
        "\n",
        "print('first raw classes',' '.join('%5s' % names_classes[labels[j]] for j in range(BATCH_SIZE//8)))\n",
        "\n",
        "print(images.shape)"
      ],
      "metadata": {
        "execution": {
          "iopub.status.busy": "2023-12-01T05:55:46.387160Z",
          "iopub.execute_input": "2023-12-01T05:55:46.387540Z",
          "iopub.status.idle": "2023-12-01T05:55:46.767319Z",
          "shell.execute_reply.started": "2023-12-01T05:55:46.387509Z",
          "shell.execute_reply": "2023-12-01T05:55:46.766195Z"
        },
        "trusted": true,
        "id": "e6CT5rkygRU1",
        "outputId": "cd50b7e4-656d-4e53-e556-f3edf0bdf287"
      },
      "execution_count": null,
      "outputs": [
        {
          "output_type": "display_data",
          "data": {
            "text/plain": "<Figure size 1600x1200 with 1 Axes>",
            "image/png": "[encoded data removed]"
          },
          "metadata": {}
        },
        {
          "name": "stdout",
          "text": "first raw classes   cat   cat horse   cat truck automobile automobile   cat\ntorch.Size([64, 3, 32, 32])\n",
          "output_type": "stream"
        }
      ]
    },
    {
      "cell_type": "code",
      "source": [
        "def init_weights(m):\n",
        "    if isinstance(m, nn.Linear) or isinstance(m, nn.Conv2d):\n",
        "        nn.init.kaiming_normal_(m.weight)\n",
        "        m.bias.data.fill_(0)\n",
        "\n",
        "model.apply(init_weights);"
      ],
      "metadata": {
        "execution": {
          "iopub.status.busy": "2023-12-01T05:55:50.264770Z",
          "iopub.execute_input": "2023-12-01T05:55:50.265533Z",
          "iopub.status.idle": "2023-12-01T05:55:50.272462Z",
          "shell.execute_reply.started": "2023-12-01T05:55:50.265483Z",
          "shell.execute_reply": "2023-12-01T05:55:50.271442Z"
        },
        "trusted": true,
        "id": "gF7UICOGgRU1"
      },
      "execution_count": null,
      "outputs": []
    },
    {
      "cell_type": "code",
      "source": [
        "def accuracy(y_pred, y):\n",
        "    cls_pred = y_pred.argmax(1, keepdim=True)\n",
        "    correct_cls = cls_pred.eq(y.view_as(cls_pred)).sum()\n",
        "    acc = correct_cls.float() / y.shape[0]\n",
        "    return acc"
      ],
      "metadata": {
        "execution": {
          "iopub.status.busy": "2023-12-01T05:55:52.195834Z",
          "iopub.execute_input": "2023-12-01T05:55:52.196156Z",
          "iopub.status.idle": "2023-12-01T05:55:52.201429Z",
          "shell.execute_reply.started": "2023-12-01T05:55:52.196129Z",
          "shell.execute_reply": "2023-12-01T05:55:52.200467Z"
        },
        "trusted": true,
        "id": "jyCNls9LgRU1"
      },
      "execution_count": null,
      "outputs": []
    },
    {
      "cell_type": "code",
      "source": [
        "LR = 0.0004\n",
        "LR_PERIOD = 4\n",
        "LR_DECAY  = 0.95\n",
        "\n",
        "criterion = nn.CrossEntropyLoss()\n",
        "optimizer = torch.optim.Adam(model.parameters(), lr=LR)\n",
        "\n",
        "model     = model.to(device)\n",
        "criterion = criterion.to(device)\n",
        "metric = accuracy\n",
        "scheduler = torch.optim.lr_scheduler.StepLR(optimizer,\n",
        "                                            step_size = LR_PERIOD,\n",
        "                                            gamma     = LR_DECAY)"
      ],
      "metadata": {
        "execution": {
          "iopub.status.busy": "2023-12-01T05:55:55.215382Z",
          "iopub.execute_input": "2023-12-01T05:55:55.215684Z",
          "iopub.status.idle": "2023-12-01T05:55:55.224146Z",
          "shell.execute_reply.started": "2023-12-01T05:55:55.215651Z",
          "shell.execute_reply": "2023-12-01T05:55:55.222982Z"
        },
        "trusted": true,
        "id": "tksKGHwigRU1"
      },
      "execution_count": null,
      "outputs": []
    },
    {
      "cell_type": "code",
      "source": [
        "def train(model, dataloader, optimizer, criterion, metric, device):\n",
        "\n",
        "    epoch_loss = 0\n",
        "    epoch_acc  = 0\n",
        "\n",
        "    model.train()\n",
        "\n",
        "    for (x, y) in tqdm(dataloader, desc=\"Training\", leave=False):\n",
        "\n",
        "        x = x.to(device)\n",
        "        y = y.to(device)\n",
        "\n",
        "        optimizer.zero_grad()\n",
        "\n",
        "        y_pred = model.forward(x)\n",
        "\n",
        "        loss = criterion(y_pred, y)\n",
        "        acc  = metric( y_pred, y)\n",
        "\n",
        "        loss.backward()\n",
        "        optimizer.step()\n",
        "\n",
        "        epoch_loss += loss.item()\n",
        "        epoch_acc  += acc.item()\n",
        "\n",
        "    return epoch_loss / len(dataloader), epoch_acc / len(dataloader)"
      ],
      "metadata": {
        "execution": {
          "iopub.status.busy": "2023-12-01T05:55:57.346415Z",
          "iopub.execute_input": "2023-12-01T05:55:57.347337Z",
          "iopub.status.idle": "2023-12-01T05:55:57.353941Z",
          "shell.execute_reply.started": "2023-12-01T05:55:57.347305Z",
          "shell.execute_reply": "2023-12-01T05:55:57.353069Z"
        },
        "trusted": true,
        "id": "MZ3MLLNpgRU1"
      },
      "execution_count": null,
      "outputs": []
    },
    {
      "cell_type": "code",
      "source": [
        "def evaluate(model, dataloader, criterion, metric, device):\n",
        "\n",
        "    epoch_loss = 0\n",
        "    epoch_acc  = 0\n",
        "\n",
        "    model.eval()\n",
        "\n",
        "    with torch.no_grad():\n",
        "\n",
        "        for (x, y) in tqdm(dataloader, desc=\"Evaluating\", leave=False):\n",
        "\n",
        "            x = x.to(device)\n",
        "            y = y.to(device)\n",
        "\n",
        "            y_pred = model.forward(x)\n",
        "\n",
        "            loss = criterion(y_pred, y)\n",
        "            acc  = metric( y_pred, y)\n",
        "\n",
        "            epoch_loss += loss.item()\n",
        "            epoch_acc  += acc.item()\n",
        "\n",
        "    return epoch_loss / len(dataloader), epoch_acc / len(dataloader)"
      ],
      "metadata": {
        "execution": {
          "iopub.status.busy": "2023-12-01T05:54:25.764711Z",
          "iopub.execute_input": "2023-12-01T05:54:25.765505Z",
          "iopub.status.idle": "2023-12-01T05:54:25.772297Z",
          "shell.execute_reply.started": "2023-12-01T05:54:25.765475Z",
          "shell.execute_reply": "2023-12-01T05:54:25.771300Z"
        },
        "trusted": true,
        "id": "yo42yeBSgRU1"
      },
      "execution_count": null,
      "outputs": []
    },
    {
      "cell_type": "code",
      "source": [
        "def epoch_time(start_time, end_time):\n",
        "    elapsed_time = end_time - start_time\n",
        "    elapsed_mins = int(elapsed_time / 60)\n",
        "    elapsed_secs = int(elapsed_time - (elapsed_mins * 60))\n",
        "    return elapsed_mins, elapsed_secs"
      ],
      "metadata": {
        "execution": {
          "iopub.status.busy": "2023-12-01T05:54:27.730044Z",
          "iopub.execute_input": "2023-12-01T05:54:27.731151Z",
          "iopub.status.idle": "2023-12-01T05:54:27.736356Z",
          "shell.execute_reply.started": "2023-12-01T05:54:27.731111Z",
          "shell.execute_reply": "2023-12-01T05:54:27.735386Z"
        },
        "trusted": true,
        "id": "EK7o_kofgRU1"
      },
      "execution_count": null,
      "outputs": []
    },
    {
      "cell_type": "code",
      "source": [],
      "metadata": {
        "id": "BqmfWUZogRU2"
      },
      "execution_count": null,
      "outputs": []
    },
    {
      "cell_type": "code",
      "source": [
        "EPOCHS = 50\n",
        "\n",
        "train_loss = torch.zeros(EPOCHS)\n",
        "valid_loss = torch.zeros(EPOCHS)\n",
        "train_acc  = torch.zeros(EPOCHS)\n",
        "valid_acc  = torch.zeros(EPOCHS)\n",
        "\n",
        "best_valid_loss = float('inf')\n",
        "best_epoch = 0\n",
        "\n",
        "for epoch in trange(EPOCHS, desc=\"Epochs\"):\n",
        "\n",
        "    start_time = time.monotonic()\n",
        "\n",
        "    train_loss[epoch], train_acc[epoch] = train(model,\n",
        "                                                trainloader,\n",
        "                                                optimizer,\n",
        "                                                criterion,\n",
        "                                                metric,\n",
        "                                                device)\n",
        "\n",
        "    scheduler.step()\n",
        "\n",
        "    valid_loss[epoch], valid_acc[epoch] = evaluate(model,\n",
        "                                                   validloader,\n",
        "                                                   criterion,\n",
        "                                                   metric,\n",
        "                                                   device)\n",
        "\n",
        "    if valid_loss[epoch] < best_valid_loss:\n",
        "        best_valid_loss = valid_loss[epoch]\n",
        "        best_epoch = epoch\n",
        "        torch.save(model.state_dict(), 'best_model.pt')\n",
        "\n",
        "    epoch_mins, epoch_secs = epoch_time(start_time, time.monotonic())\n",
        "    if epoch%2 == 1:    # print every 2 epochs:\n",
        "        print(f'Epoch: {epoch+1:02} | Epoch Time: {epoch_mins}m {epoch_secs}s')\n",
        "        print(f'\\tTrain Loss: {train_loss[epoch]:.3f} | Train Acc: {train_acc[epoch]*100:.2f}%')\n",
        "        print(f'\\t Val. Loss: {valid_loss[epoch]:.3f} |  Val. Acc: {valid_acc[epoch]*100:.2f}%')"
      ],
      "metadata": {
        "execution": {
          "iopub.status.busy": "2023-12-01T05:56:21.126037Z",
          "iopub.execute_input": "2023-12-01T05:56:21.126428Z",
          "iopub.status.idle": "2023-12-01T07:04:25.532299Z",
          "shell.execute_reply.started": "2023-12-01T05:56:21.126395Z",
          "shell.execute_reply": "2023-12-01T07:04:25.531200Z"
        },
        "trusted": true,
        "colab": {
          "referenced_widgets": [
            "fb917cc0abc941bbb9d6865f1ba152d4",
            ""
          ]
        },
        "id": "8F4N1cWcgRU2",
        "outputId": "41fc2176-c463-48c7-d214-d6818cddcc23"
      },
      "execution_count": null,
      "outputs": [
        {
          "output_type": "display_data",
          "data": {
            "text/plain": "Epochs:   0%|          | 0/50 [00:00<?, ?it/s]",
            "application/vnd.jupyter.widget-view+json": {
              "version_major": 2,
              "version_minor": 0,
              "model_id": "fb917cc0abc941bbb9d6865f1ba152d4"
            }
          },
          "metadata": {}
        },
        {
          "output_type": "display_data",
          "data": {
            "text/plain": "Training:   0%|          | 0/570 [00:00<?, ?it/s]",
            "application/vnd.jupyter.widget-view+json": {
              "version_major": 2,
              "version_minor": 0,
              "model_id": ""
            }
          },
          "metadata": {}
        },
        {
          "output_type": "display_data",
          "data": {
            "text/plain": "Evaluating:   0%|          | 0/64 [00:00<?, ?it/s]",
            "application/vnd.jupyter.widget-view+json": {
              "version_major": 2,
              "version_minor": 0,
              "model_id": ""
            }
          },
          "metadata": {}
        },
        {
          "output_type": "display_data",
          "data": {
            "text/plain": "Training:   0%|          | 0/570 [00:00<?, ?it/s]",
            "application/vnd.jupyter.widget-view+json": {
              "version_major": 2,
              "version_minor": 0,
              "model_id": ""
            }
          },
          "metadata": {}
        },
        {
          "output_type": "display_data",
          "data": {
            "text/plain": "Evaluating:   0%|          | 0/64 [00:00<?, ?it/s]",
            "application/vnd.jupyter.widget-view+json": {
              "version_major": 2,
              "version_minor": 0,
              "model_id": ""
            }
          },
          "metadata": {}
        },
        {
          "name": "stdout",
          "text": "Epoch: 02 | Epoch Time: 1m 22s\n\tTrain Loss: 1.915 | Train Acc: 29.27%\n\t Val. Loss: 1.841 |  Val. Acc: 32.18%\n",
          "output_type": "stream"
        },
        {
          "output_type": "display_data",
          "data": {
            "text/plain": "Training:   0%|          | 0/570 [00:00<?, ?it/s]",
            "application/vnd.jupyter.widget-view+json": {
              "version_major": 2,
              "version_minor": 0,
              "model_id": ""
            }
          },
          "metadata": {}
        },
        {
          "output_type": "display_data",
          "data": {
            "text/plain": "Evaluating:   0%|          | 0/64 [00:00<?, ?it/s]",
            "application/vnd.jupyter.widget-view+json": {
              "version_major": 2,
              "version_minor": 0,
              "model_id": ""
            }
          },
          "metadata": {}
        },
        {
          "output_type": "display_data",
          "data": {
            "text/plain": "Training:   0%|          | 0/570 [00:00<?, ?it/s]",
            "application/vnd.jupyter.widget-view+json": {
              "version_major": 2,
              "version_minor": 0,
              "model_id": ""
            }
          },
          "metadata": {}
        },
        {
          "output_type": "display_data",
          "data": {
            "text/plain": "Evaluating:   0%|          | 0/64 [00:00<?, ?it/s]",
            "application/vnd.jupyter.widget-view+json": {
              "version_major": 2,
              "version_minor": 0,
              "model_id": ""
            }
          },
          "metadata": {}
        },
        {
          "name": "stdout",
          "text": "Epoch: 04 | Epoch Time: 1m 23s\n\tTrain Loss: 1.762 | Train Acc: 35.82%\n\t Val. Loss: 1.748 |  Val. Acc: 36.87%\n",
          "output_type": "stream"
        },
        {
          "output_type": "display_data",
          "data": {
            "text/plain": "Training:   0%|          | 0/570 [00:00<?, ?it/s]",
            "application/vnd.jupyter.widget-view+json": {
              "version_major": 2,
              "version_minor": 0,
              "model_id": ""
            }
          },
          "metadata": {}
        },
        {
          "output_type": "display_data",
          "data": {
            "text/plain": "Evaluating:   0%|          | 0/64 [00:00<?, ?it/s]",
            "application/vnd.jupyter.widget-view+json": {
              "version_major": 2,
              "version_minor": 0,
              "model_id": ""
            }
          },
          "metadata": {}
        },
        {
          "output_type": "display_data",
          "data": {
            "text/plain": "Training:   0%|          | 0/570 [00:00<?, ?it/s]",
            "application/vnd.jupyter.widget-view+json": {
              "version_major": 2,
              "version_minor": 0,
              "model_id": ""
            }
          },
          "metadata": {}
        },
        {
          "output_type": "display_data",
          "data": {
            "text/plain": "Evaluating:   0%|          | 0/64 [00:00<?, ?it/s]",
            "application/vnd.jupyter.widget-view+json": {
              "version_major": 2,
              "version_minor": 0,
              "model_id": ""
            }
          },
          "metadata": {}
        },
        {
          "name": "stdout",
          "text": "Epoch: 06 | Epoch Time: 1m 22s\n\tTrain Loss: 1.660 | Train Acc: 39.47%\n\t Val. Loss: 1.634 |  Val. Acc: 40.90%\n",
          "output_type": "stream"
        },
        {
          "output_type": "display_data",
          "data": {
            "text/plain": "Training:   0%|          | 0/570 [00:00<?, ?it/s]",
            "application/vnd.jupyter.widget-view+json": {
              "version_major": 2,
              "version_minor": 0,
              "model_id": ""
            }
          },
          "metadata": {}
        },
        {
          "output_type": "display_data",
          "data": {
            "text/plain": "Evaluating:   0%|          | 0/64 [00:00<?, ?it/s]",
            "application/vnd.jupyter.widget-view+json": {
              "version_major": 2,
              "version_minor": 0,
              "model_id": ""
            }
          },
          "metadata": {}
        },
        {
          "output_type": "display_data",
          "data": {
            "text/plain": "Training:   0%|          | 0/570 [00:00<?, ?it/s]",
            "application/vnd.jupyter.widget-view+json": {
              "version_major": 2,
              "version_minor": 0,
              "model_id": ""
            }
          },
          "metadata": {}
        },
        {
          "output_type": "display_data",
          "data": {
            "text/plain": "Evaluating:   0%|          | 0/64 [00:00<?, ?it/s]",
            "application/vnd.jupyter.widget-view+json": {
              "version_major": 2,
              "version_minor": 0,
              "model_id": ""
            }
          },
          "metadata": {}
        },
        {
          "name": "stdout",
          "text": "Epoch: 08 | Epoch Time: 1m 21s\n\tTrain Loss: 1.593 | Train Acc: 42.65%\n\t Val. Loss: 1.614 |  Val. Acc: 42.46%\n",
          "output_type": "stream"
        },
        {
          "output_type": "display_data",
          "data": {
            "text/plain": "Training:   0%|          | 0/570 [00:00<?, ?it/s]",
            "application/vnd.jupyter.widget-view+json": {
              "version_major": 2,
              "version_minor": 0,
              "model_id": ""
            }
          },
          "metadata": {}
        },
        {
          "output_type": "display_data",
          "data": {
            "text/plain": "Evaluating:   0%|          | 0/64 [00:00<?, ?it/s]",
            "application/vnd.jupyter.widget-view+json": {
              "version_major": 2,
              "version_minor": 0,
              "model_id": ""
            }
          },
          "metadata": {}
        },
        {
          "output_type": "display_data",
          "data": {
            "text/plain": "Training:   0%|          | 0/570 [00:00<?, ?it/s]",
            "application/vnd.jupyter.widget-view+json": {
              "version_major": 2,
              "version_minor": 0,
              "model_id": ""
            }
          },
          "metadata": {}
        },
        {
          "output_type": "display_data",
          "data": {
            "text/plain": "Evaluating:   0%|          | 0/64 [00:00<?, ?it/s]",
            "application/vnd.jupyter.widget-view+json": {
              "version_major": 2,
              "version_minor": 0,
              "model_id": ""
            }
          },
          "metadata": {}
        },
        {
          "name": "stdout",
          "text": "Epoch: 10 | Epoch Time: 1m 21s\n\tTrain Loss: 1.539 | Train Acc: 44.85%\n\t Val. Loss: 1.510 |  Val. Acc: 46.02%\n",
          "output_type": "stream"
        },
        {
          "output_type": "display_data",
          "data": {
            "text/plain": "Training:   0%|          | 0/570 [00:00<?, ?it/s]",
            "application/vnd.jupyter.widget-view+json": {
              "version_major": 2,
              "version_minor": 0,
              "model_id": ""
            }
          },
          "metadata": {}
        },
        {
          "output_type": "display_data",
          "data": {
            "text/plain": "Evaluating:   0%|          | 0/64 [00:00<?, ?it/s]",
            "application/vnd.jupyter.widget-view+json": {
              "version_major": 2,
              "version_minor": 0,
              "model_id": ""
            }
          },
          "metadata": {}
        },
        {
          "output_type": "display_data",
          "data": {
            "text/plain": "Training:   0%|          | 0/570 [00:00<?, ?it/s]",
            "application/vnd.jupyter.widget-view+json": {
              "version_major": 2,
              "version_minor": 0,
              "model_id": ""
            }
          },
          "metadata": {}
        },
        {
          "output_type": "display_data",
          "data": {
            "text/plain": "Evaluating:   0%|          | 0/64 [00:00<?, ?it/s]",
            "application/vnd.jupyter.widget-view+json": {
              "version_major": 2,
              "version_minor": 0,
              "model_id": ""
            }
          },
          "metadata": {}
        },
        {
          "name": "stdout",
          "text": "Epoch: 12 | Epoch Time: 1m 22s\n\tTrain Loss: 1.491 | Train Acc: 46.51%\n\t Val. Loss: 1.435 |  Val. Acc: 48.70%\n",
          "output_type": "stream"
        },
        {
          "output_type": "display_data",
          "data": {
            "text/plain": "Training:   0%|          | 0/570 [00:00<?, ?it/s]",
            "application/vnd.jupyter.widget-view+json": {
              "version_major": 2,
              "version_minor": 0,
              "model_id": ""
            }
          },
          "metadata": {}
        },
        {
          "output_type": "display_data",
          "data": {
            "text/plain": "Evaluating:   0%|          | 0/64 [00:00<?, ?it/s]",
            "application/vnd.jupyter.widget-view+json": {
              "version_major": 2,
              "version_minor": 0,
              "model_id": ""
            }
          },
          "metadata": {}
        },
        {
          "output_type": "display_data",
          "data": {
            "text/plain": "Training:   0%|          | 0/570 [00:00<?, ?it/s]",
            "application/vnd.jupyter.widget-view+json": {
              "version_major": 2,
              "version_minor": 0,
              "model_id": ""
            }
          },
          "metadata": {}
        },
        {
          "output_type": "display_data",
          "data": {
            "text/plain": "Evaluating:   0%|          | 0/64 [00:00<?, ?it/s]",
            "application/vnd.jupyter.widget-view+json": {
              "version_major": 2,
              "version_minor": 0,
              "model_id": ""
            }
          },
          "metadata": {}
        },
        {
          "name": "stdout",
          "text": "Epoch: 14 | Epoch Time: 1m 21s\n\tTrain Loss: 1.447 | Train Acc: 48.68%\n\t Val. Loss: 1.424 |  Val. Acc: 50.66%\n",
          "output_type": "stream"
        },
        {
          "output_type": "display_data",
          "data": {
            "text/plain": "Training:   0%|          | 0/570 [00:00<?, ?it/s]",
            "application/vnd.jupyter.widget-view+json": {
              "version_major": 2,
              "version_minor": 0,
              "model_id": ""
            }
          },
          "metadata": {}
        },
        {
          "output_type": "display_data",
          "data": {
            "text/plain": "Evaluating:   0%|          | 0/64 [00:00<?, ?it/s]",
            "application/vnd.jupyter.widget-view+json": {
              "version_major": 2,
              "version_minor": 0,
              "model_id": ""
            }
          },
          "metadata": {}
        },
        {
          "output_type": "display_data",
          "data": {
            "text/plain": "Training:   0%|          | 0/570 [00:00<?, ?it/s]",
            "application/vnd.jupyter.widget-view+json": {
              "version_major": 2,
              "version_minor": 0,
              "model_id": ""
            }
          },
          "metadata": {}
        },
        {
          "output_type": "display_data",
          "data": {
            "text/plain": "Evaluating:   0%|          | 0/64 [00:00<?, ?it/s]",
            "application/vnd.jupyter.widget-view+json": {
              "version_major": 2,
              "version_minor": 0,
              "model_id": ""
            }
          },
          "metadata": {}
        },
        {
          "name": "stdout",
          "text": "Epoch: 16 | Epoch Time: 1m 21s\n\tTrain Loss: 1.413 | Train Acc: 49.66%\n\t Val. Loss: 1.390 |  Val. Acc: 51.43%\n",
          "output_type": "stream"
        },
        {
          "output_type": "display_data",
          "data": {
            "text/plain": "Training:   0%|          | 0/570 [00:00<?, ?it/s]",
            "application/vnd.jupyter.widget-view+json": {
              "version_major": 2,
              "version_minor": 0,
              "model_id": ""
            }
          },
          "metadata": {}
        },
        {
          "output_type": "display_data",
          "data": {
            "text/plain": "Evaluating:   0%|          | 0/64 [00:00<?, ?it/s]",
            "application/vnd.jupyter.widget-view+json": {
              "version_major": 2,
              "version_minor": 0,
              "model_id": ""
            }
          },
          "metadata": {}
        },
        {
          "output_type": "display_data",
          "data": {
            "text/plain": "Training:   0%|          | 0/570 [00:00<?, ?it/s]",
            "application/vnd.jupyter.widget-view+json": {
              "version_major": 2,
              "version_minor": 0,
              "model_id": ""
            }
          },
          "metadata": {}
        },
        {
          "output_type": "display_data",
          "data": {
            "text/plain": "Evaluating:   0%|          | 0/64 [00:00<?, ?it/s]",
            "application/vnd.jupyter.widget-view+json": {
              "version_major": 2,
              "version_minor": 0,
              "model_id": ""
            }
          },
          "metadata": {}
        },
        {
          "name": "stdout",
          "text": "Epoch: 18 | Epoch Time: 1m 21s\n\tTrain Loss: 1.380 | Train Acc: 50.80%\n\t Val. Loss: 1.353 |  Val. Acc: 52.09%\n",
          "output_type": "stream"
        },
        {
          "output_type": "display_data",
          "data": {
            "text/plain": "Training:   0%|          | 0/570 [00:00<?, ?it/s]",
            "application/vnd.jupyter.widget-view+json": {
              "version_major": 2,
              "version_minor": 0,
              "model_id": ""
            }
          },
          "metadata": {}
        },
        {
          "output_type": "display_data",
          "data": {
            "text/plain": "Evaluating:   0%|          | 0/64 [00:00<?, ?it/s]",
            "application/vnd.jupyter.widget-view+json": {
              "version_major": 2,
              "version_minor": 0,
              "model_id": ""
            }
          },
          "metadata": {}
        },
        {
          "output_type": "display_data",
          "data": {
            "text/plain": "Training:   0%|          | 0/570 [00:00<?, ?it/s]",
            "application/vnd.jupyter.widget-view+json": {
              "version_major": 2,
              "version_minor": 0,
              "model_id": ""
            }
          },
          "metadata": {}
        },
        {
          "output_type": "display_data",
          "data": {
            "text/plain": "Evaluating:   0%|          | 0/64 [00:00<?, ?it/s]",
            "application/vnd.jupyter.widget-view+json": {
              "version_major": 2,
              "version_minor": 0,
              "model_id": ""
            }
          },
          "metadata": {}
        },
        {
          "name": "stdout",
          "text": "Epoch: 20 | Epoch Time: 1m 21s\n\tTrain Loss: 1.357 | Train Acc: 52.04%\n\t Val. Loss: 1.342 |  Val. Acc: 51.74%\n",
          "output_type": "stream"
        },
        {
          "output_type": "display_data",
          "data": {
            "text/plain": "Training:   0%|          | 0/570 [00:00<?, ?it/s]",
            "application/vnd.jupyter.widget-view+json": {
              "version_major": 2,
              "version_minor": 0,
              "model_id": ""
            }
          },
          "metadata": {}
        },
        {
          "output_type": "display_data",
          "data": {
            "text/plain": "Evaluating:   0%|          | 0/64 [00:00<?, ?it/s]",
            "application/vnd.jupyter.widget-view+json": {
              "version_major": 2,
              "version_minor": 0,
              "model_id": ""
            }
          },
          "metadata": {}
        },
        {
          "output_type": "display_data",
          "data": {
            "text/plain": "Training:   0%|          | 0/570 [00:00<?, ?it/s]",
            "application/vnd.jupyter.widget-view+json": {
              "version_major": 2,
              "version_minor": 0,
              "model_id": ""
            }
          },
          "metadata": {}
        },
        {
          "output_type": "display_data",
          "data": {
            "text/plain": "Evaluating:   0%|          | 0/64 [00:00<?, ?it/s]",
            "application/vnd.jupyter.widget-view+json": {
              "version_major": 2,
              "version_minor": 0,
              "model_id": ""
            }
          },
          "metadata": {}
        },
        {
          "name": "stdout",
          "text": "Epoch: 22 | Epoch Time: 1m 21s\n\tTrain Loss: 1.333 | Train Acc: 52.28%\n\t Val. Loss: 1.336 |  Val. Acc: 53.27%\n",
          "output_type": "stream"
        },
        {
          "output_type": "display_data",
          "data": {
            "text/plain": "Training:   0%|          | 0/570 [00:00<?, ?it/s]",
            "application/vnd.jupyter.widget-view+json": {
              "version_major": 2,
              "version_minor": 0,
              "model_id": ""
            }
          },
          "metadata": {}
        },
        {
          "output_type": "display_data",
          "data": {
            "text/plain": "Evaluating:   0%|          | 0/64 [00:00<?, ?it/s]",
            "application/vnd.jupyter.widget-view+json": {
              "version_major": 2,
              "version_minor": 0,
              "model_id": ""
            }
          },
          "metadata": {}
        },
        {
          "output_type": "display_data",
          "data": {
            "text/plain": "Training:   0%|          | 0/570 [00:00<?, ?it/s]",
            "application/vnd.jupyter.widget-view+json": {
              "version_major": 2,
              "version_minor": 0,
              "model_id": ""
            }
          },
          "metadata": {}
        },
        {
          "output_type": "display_data",
          "data": {
            "text/plain": "Evaluating:   0%|          | 0/64 [00:00<?, ?it/s]",
            "application/vnd.jupyter.widget-view+json": {
              "version_major": 2,
              "version_minor": 0,
              "model_id": ""
            }
          },
          "metadata": {}
        },
        {
          "name": "stdout",
          "text": "Epoch: 24 | Epoch Time: 1m 21s\n\tTrain Loss: 1.313 | Train Acc: 53.25%\n\t Val. Loss: 1.296 |  Val. Acc: 54.33%\n",
          "output_type": "stream"
        },
        {
          "output_type": "display_data",
          "data": {
            "text/plain": "Training:   0%|          | 0/570 [00:00<?, ?it/s]",
            "application/vnd.jupyter.widget-view+json": {
              "version_major": 2,
              "version_minor": 0,
              "model_id": ""
            }
          },
          "metadata": {}
        },
        {
          "output_type": "display_data",
          "data": {
            "text/plain": "Evaluating:   0%|          | 0/64 [00:00<?, ?it/s]",
            "application/vnd.jupyter.widget-view+json": {
              "version_major": 2,
              "version_minor": 0,
              "model_id": ""
            }
          },
          "metadata": {}
        },
        {
          "output_type": "display_data",
          "data": {
            "text/plain": "Training:   0%|          | 0/570 [00:00<?, ?it/s]",
            "application/vnd.jupyter.widget-view+json": {
              "version_major": 2,
              "version_minor": 0,
              "model_id": ""
            }
          },
          "metadata": {}
        },
        {
          "output_type": "display_data",
          "data": {
            "text/plain": "Evaluating:   0%|          | 0/64 [00:00<?, ?it/s]",
            "application/vnd.jupyter.widget-view+json": {
              "version_major": 2,
              "version_minor": 0,
              "model_id": ""
            }
          },
          "metadata": {}
        },
        {
          "name": "stdout",
          "text": "Epoch: 26 | Epoch Time: 1m 21s\n\tTrain Loss: 1.303 | Train Acc: 54.04%\n\t Val. Loss: 1.291 |  Val. Acc: 54.51%\n",
          "output_type": "stream"
        },
        {
          "output_type": "display_data",
          "data": {
            "text/plain": "Training:   0%|          | 0/570 [00:00<?, ?it/s]",
            "application/vnd.jupyter.widget-view+json": {
              "version_major": 2,
              "version_minor": 0,
              "model_id": ""
            }
          },
          "metadata": {}
        },
        {
          "output_type": "display_data",
          "data": {
            "text/plain": "Evaluating:   0%|          | 0/64 [00:00<?, ?it/s]",
            "application/vnd.jupyter.widget-view+json": {
              "version_major": 2,
              "version_minor": 0,
              "model_id": ""
            }
          },
          "metadata": {}
        },
        {
          "output_type": "display_data",
          "data": {
            "text/plain": "Training:   0%|          | 0/570 [00:00<?, ?it/s]",
            "application/vnd.jupyter.widget-view+json": {
              "version_major": 2,
              "version_minor": 0,
              "model_id": ""
            }
          },
          "metadata": {}
        },
        {
          "output_type": "display_data",
          "data": {
            "text/plain": "Evaluating:   0%|          | 0/64 [00:00<?, ?it/s]",
            "application/vnd.jupyter.widget-view+json": {
              "version_major": 2,
              "version_minor": 0,
              "model_id": ""
            }
          },
          "metadata": {}
        },
        {
          "name": "stdout",
          "text": "Epoch: 28 | Epoch Time: 1m 21s\n\tTrain Loss: 1.284 | Train Acc: 54.37%\n\t Val. Loss: 1.274 |  Val. Acc: 54.79%\n",
          "output_type": "stream"
        },
        {
          "output_type": "display_data",
          "data": {
            "text/plain": "Training:   0%|          | 0/570 [00:00<?, ?it/s]",
            "application/vnd.jupyter.widget-view+json": {
              "version_major": 2,
              "version_minor": 0,
              "model_id": ""
            }
          },
          "metadata": {}
        },
        {
          "output_type": "display_data",
          "data": {
            "text/plain": "Evaluating:   0%|          | 0/64 [00:00<?, ?it/s]",
            "application/vnd.jupyter.widget-view+json": {
              "version_major": 2,
              "version_minor": 0,
              "model_id": ""
            }
          },
          "metadata": {}
        },
        {
          "output_type": "display_data",
          "data": {
            "text/plain": "Training:   0%|          | 0/570 [00:00<?, ?it/s]",
            "application/vnd.jupyter.widget-view+json": {
              "version_major": 2,
              "version_minor": 0,
              "model_id": ""
            }
          },
          "metadata": {}
        },
        {
          "output_type": "display_data",
          "data": {
            "text/plain": "Evaluating:   0%|          | 0/64 [00:00<?, ?it/s]",
            "application/vnd.jupyter.widget-view+json": {
              "version_major": 2,
              "version_minor": 0,
              "model_id": ""
            }
          },
          "metadata": {}
        },
        {
          "name": "stdout",
          "text": "Epoch: 30 | Epoch Time: 1m 21s\n\tTrain Loss: 1.257 | Train Acc: 55.45%\n\t Val. Loss: 1.234 |  Val. Acc: 55.96%\n",
          "output_type": "stream"
        },
        {
          "output_type": "display_data",
          "data": {
            "text/plain": "Training:   0%|          | 0/570 [00:00<?, ?it/s]",
            "application/vnd.jupyter.widget-view+json": {
              "version_major": 2,
              "version_minor": 0,
              "model_id": ""
            }
          },
          "metadata": {}
        },
        {
          "output_type": "display_data",
          "data": {
            "text/plain": "Evaluating:   0%|          | 0/64 [00:00<?, ?it/s]",
            "application/vnd.jupyter.widget-view+json": {
              "version_major": 2,
              "version_minor": 0,
              "model_id": ""
            }
          },
          "metadata": {}
        },
        {
          "output_type": "display_data",
          "data": {
            "text/plain": "Training:   0%|          | 0/570 [00:00<?, ?it/s]",
            "application/vnd.jupyter.widget-view+json": {
              "version_major": 2,
              "version_minor": 0,
              "model_id": ""
            }
          },
          "metadata": {}
        },
        {
          "output_type": "display_data",
          "data": {
            "text/plain": "Evaluating:   0%|          | 0/64 [00:00<?, ?it/s]",
            "application/vnd.jupyter.widget-view+json": {
              "version_major": 2,
              "version_minor": 0,
              "model_id": ""
            }
          },
          "metadata": {}
        },
        {
          "name": "stdout",
          "text": "Epoch: 32 | Epoch Time: 1m 21s\n\tTrain Loss: 1.250 | Train Acc: 55.75%\n\t Val. Loss: 1.239 |  Val. Acc: 56.27%\n",
          "output_type": "stream"
        },
        {
          "output_type": "display_data",
          "data": {
            "text/plain": "Training:   0%|          | 0/570 [00:00<?, ?it/s]",
            "application/vnd.jupyter.widget-view+json": {
              "version_major": 2,
              "version_minor": 0,
              "model_id": ""
            }
          },
          "metadata": {}
        },
        {
          "output_type": "display_data",
          "data": {
            "text/plain": "Evaluating:   0%|          | 0/64 [00:00<?, ?it/s]",
            "application/vnd.jupyter.widget-view+json": {
              "version_major": 2,
              "version_minor": 0,
              "model_id": ""
            }
          },
          "metadata": {}
        },
        {
          "output_type": "display_data",
          "data": {
            "text/plain": "Training:   0%|          | 0/570 [00:00<?, ?it/s]",
            "application/vnd.jupyter.widget-view+json": {
              "version_major": 2,
              "version_minor": 0,
              "model_id": ""
            }
          },
          "metadata": {}
        },
        {
          "output_type": "display_data",
          "data": {
            "text/plain": "Evaluating:   0%|          | 0/64 [00:00<?, ?it/s]",
            "application/vnd.jupyter.widget-view+json": {
              "version_major": 2,
              "version_minor": 0,
              "model_id": ""
            }
          },
          "metadata": {}
        },
        {
          "name": "stdout",
          "text": "Epoch: 34 | Epoch Time: 1m 21s\n\tTrain Loss: 1.234 | Train Acc: 56.16%\n\t Val. Loss: 1.220 |  Val. Acc: 57.43%\n",
          "output_type": "stream"
        },
        {
          "output_type": "display_data",
          "data": {
            "text/plain": "Training:   0%|          | 0/570 [00:00<?, ?it/s]",
            "application/vnd.jupyter.widget-view+json": {
              "version_major": 2,
              "version_minor": 0,
              "model_id": ""
            }
          },
          "metadata": {}
        },
        {
          "output_type": "display_data",
          "data": {
            "text/plain": "Evaluating:   0%|          | 0/64 [00:00<?, ?it/s]",
            "application/vnd.jupyter.widget-view+json": {
              "version_major": 2,
              "version_minor": 0,
              "model_id": ""
            }
          },
          "metadata": {}
        },
        {
          "output_type": "display_data",
          "data": {
            "text/plain": "Training:   0%|          | 0/570 [00:00<?, ?it/s]",
            "application/vnd.jupyter.widget-view+json": {
              "version_major": 2,
              "version_minor": 0,
              "model_id": ""
            }
          },
          "metadata": {}
        },
        {
          "output_type": "display_data",
          "data": {
            "text/plain": "Evaluating:   0%|          | 0/64 [00:00<?, ?it/s]",
            "application/vnd.jupyter.widget-view+json": {
              "version_major": 2,
              "version_minor": 0,
              "model_id": ""
            }
          },
          "metadata": {}
        },
        {
          "name": "stdout",
          "text": "Epoch: 36 | Epoch Time: 1m 21s\n\tTrain Loss: 1.221 | Train Acc: 56.93%\n\t Val. Loss: 1.205 |  Val. Acc: 58.00%\n",
          "output_type": "stream"
        },
        {
          "output_type": "display_data",
          "data": {
            "text/plain": "Training:   0%|          | 0/570 [00:00<?, ?it/s]",
            "application/vnd.jupyter.widget-view+json": {
              "version_major": 2,
              "version_minor": 0,
              "model_id": ""
            }
          },
          "metadata": {}
        },
        {
          "output_type": "display_data",
          "data": {
            "text/plain": "Evaluating:   0%|          | 0/64 [00:00<?, ?it/s]",
            "application/vnd.jupyter.widget-view+json": {
              "version_major": 2,
              "version_minor": 0,
              "model_id": ""
            }
          },
          "metadata": {}
        },
        {
          "output_type": "display_data",
          "data": {
            "text/plain": "Training:   0%|          | 0/570 [00:00<?, ?it/s]",
            "application/vnd.jupyter.widget-view+json": {
              "version_major": 2,
              "version_minor": 0,
              "model_id": ""
            }
          },
          "metadata": {}
        },
        {
          "output_type": "display_data",
          "data": {
            "text/plain": "Evaluating:   0%|          | 0/64 [00:00<?, ?it/s]",
            "application/vnd.jupyter.widget-view+json": {
              "version_major": 2,
              "version_minor": 0,
              "model_id": ""
            }
          },
          "metadata": {}
        },
        {
          "name": "stdout",
          "text": "Epoch: 38 | Epoch Time: 1m 21s\n\tTrain Loss: 1.207 | Train Acc: 57.27%\n\t Val. Loss: 1.179 |  Val. Acc: 58.28%\n",
          "output_type": "stream"
        },
        {
          "output_type": "display_data",
          "data": {
            "text/plain": "Training:   0%|          | 0/570 [00:00<?, ?it/s]",
            "application/vnd.jupyter.widget-view+json": {
              "version_major": 2,
              "version_minor": 0,
              "model_id": ""
            }
          },
          "metadata": {}
        },
        {
          "output_type": "display_data",
          "data": {
            "text/plain": "Evaluating:   0%|          | 0/64 [00:00<?, ?it/s]",
            "application/vnd.jupyter.widget-view+json": {
              "version_major": 2,
              "version_minor": 0,
              "model_id": ""
            }
          },
          "metadata": {}
        },
        {
          "output_type": "display_data",
          "data": {
            "text/plain": "Training:   0%|          | 0/570 [00:00<?, ?it/s]",
            "application/vnd.jupyter.widget-view+json": {
              "version_major": 2,
              "version_minor": 0,
              "model_id": ""
            }
          },
          "metadata": {}
        },
        {
          "output_type": "display_data",
          "data": {
            "text/plain": "Evaluating:   0%|          | 0/64 [00:00<?, ?it/s]",
            "application/vnd.jupyter.widget-view+json": {
              "version_major": 2,
              "version_minor": 0,
              "model_id": ""
            }
          },
          "metadata": {}
        },
        {
          "name": "stdout",
          "text": "Epoch: 40 | Epoch Time: 1m 21s\n\tTrain Loss: 1.200 | Train Acc: 57.33%\n\t Val. Loss: 1.193 |  Val. Acc: 57.73%\n",
          "output_type": "stream"
        },
        {
          "output_type": "display_data",
          "data": {
            "text/plain": "Training:   0%|          | 0/570 [00:00<?, ?it/s]",
            "application/vnd.jupyter.widget-view+json": {
              "version_major": 2,
              "version_minor": 0,
              "model_id": ""
            }
          },
          "metadata": {}
        },
        {
          "output_type": "display_data",
          "data": {
            "text/plain": "Evaluating:   0%|          | 0/64 [00:00<?, ?it/s]",
            "application/vnd.jupyter.widget-view+json": {
              "version_major": 2,
              "version_minor": 0,
              "model_id": ""
            }
          },
          "metadata": {}
        },
        {
          "output_type": "display_data",
          "data": {
            "text/plain": "Training:   0%|          | 0/570 [00:00<?, ?it/s]",
            "application/vnd.jupyter.widget-view+json": {
              "version_major": 2,
              "version_minor": 0,
              "model_id": ""
            }
          },
          "metadata": {}
        },
        {
          "output_type": "display_data",
          "data": {
            "text/plain": "Evaluating:   0%|          | 0/64 [00:00<?, ?it/s]",
            "application/vnd.jupyter.widget-view+json": {
              "version_major": 2,
              "version_minor": 0,
              "model_id": ""
            }
          },
          "metadata": {}
        },
        {
          "name": "stdout",
          "text": "Epoch: 42 | Epoch Time: 1m 21s\n\tTrain Loss: 1.191 | Train Acc: 58.15%\n\t Val. Loss: 1.181 |  Val. Acc: 58.31%\n",
          "output_type": "stream"
        },
        {
          "output_type": "display_data",
          "data": {
            "text/plain": "Training:   0%|          | 0/570 [00:00<?, ?it/s]",
            "application/vnd.jupyter.widget-view+json": {
              "version_major": 2,
              "version_minor": 0,
              "model_id": ""
            }
          },
          "metadata": {}
        },
        {
          "output_type": "display_data",
          "data": {
            "text/plain": "Evaluating:   0%|          | 0/64 [00:00<?, ?it/s]",
            "application/vnd.jupyter.widget-view+json": {
              "version_major": 2,
              "version_minor": 0,
              "model_id": ""
            }
          },
          "metadata": {}
        },
        {
          "output_type": "display_data",
          "data": {
            "text/plain": "Training:   0%|          | 0/570 [00:00<?, ?it/s]",
            "application/vnd.jupyter.widget-view+json": {
              "version_major": 2,
              "version_minor": 0,
              "model_id": ""
            }
          },
          "metadata": {}
        },
        {
          "output_type": "display_data",
          "data": {
            "text/plain": "Evaluating:   0%|          | 0/64 [00:00<?, ?it/s]",
            "application/vnd.jupyter.widget-view+json": {
              "version_major": 2,
              "version_minor": 0,
              "model_id": ""
            }
          },
          "metadata": {}
        },
        {
          "name": "stdout",
          "text": "Epoch: 44 | Epoch Time: 1m 21s\n\tTrain Loss: 1.175 | Train Acc: 58.19%\n\t Val. Loss: 1.171 |  Val. Acc: 59.18%\n",
          "output_type": "stream"
        },
        {
          "output_type": "display_data",
          "data": {
            "text/plain": "Training:   0%|          | 0/570 [00:00<?, ?it/s]",
            "application/vnd.jupyter.widget-view+json": {
              "version_major": 2,
              "version_minor": 0,
              "model_id": ""
            }
          },
          "metadata": {}
        },
        {
          "output_type": "display_data",
          "data": {
            "text/plain": "Evaluating:   0%|          | 0/64 [00:00<?, ?it/s]",
            "application/vnd.jupyter.widget-view+json": {
              "version_major": 2,
              "version_minor": 0,
              "model_id": ""
            }
          },
          "metadata": {}
        },
        {
          "output_type": "display_data",
          "data": {
            "text/plain": "Training:   0%|          | 0/570 [00:00<?, ?it/s]",
            "application/vnd.jupyter.widget-view+json": {
              "version_major": 2,
              "version_minor": 0,
              "model_id": ""
            }
          },
          "metadata": {}
        },
        {
          "output_type": "display_data",
          "data": {
            "text/plain": "Evaluating:   0%|          | 0/64 [00:00<?, ?it/s]",
            "application/vnd.jupyter.widget-view+json": {
              "version_major": 2,
              "version_minor": 0,
              "model_id": ""
            }
          },
          "metadata": {}
        },
        {
          "name": "stdout",
          "text": "Epoch: 46 | Epoch Time: 1m 21s\n\tTrain Loss: 1.170 | Train Acc: 58.83%\n\t Val. Loss: 1.146 |  Val. Acc: 59.77%\n",
          "output_type": "stream"
        },
        {
          "output_type": "display_data",
          "data": {
            "text/plain": "Training:   0%|          | 0/570 [00:00<?, ?it/s]",
            "application/vnd.jupyter.widget-view+json": {
              "version_major": 2,
              "version_minor": 0,
              "model_id": ""
            }
          },
          "metadata": {}
        },
        {
          "output_type": "display_data",
          "data": {
            "text/plain": "Evaluating:   0%|          | 0/64 [00:00<?, ?it/s]",
            "application/vnd.jupyter.widget-view+json": {
              "version_major": 2,
              "version_minor": 0,
              "model_id": ""
            }
          },
          "metadata": {}
        },
        {
          "output_type": "display_data",
          "data": {
            "text/plain": "Training:   0%|          | 0/570 [00:00<?, ?it/s]",
            "application/vnd.jupyter.widget-view+json": {
              "version_major": 2,
              "version_minor": 0,
              "model_id": ""
            }
          },
          "metadata": {}
        },
        {
          "output_type": "display_data",
          "data": {
            "text/plain": "Evaluating:   0%|          | 0/64 [00:00<?, ?it/s]",
            "application/vnd.jupyter.widget-view+json": {
              "version_major": 2,
              "version_minor": 0,
              "model_id": ""
            }
          },
          "metadata": {}
        },
        {
          "name": "stdout",
          "text": "Epoch: 48 | Epoch Time: 1m 21s\n\tTrain Loss: 1.156 | Train Acc: 59.26%\n\t Val. Loss: 1.169 |  Val. Acc: 59.51%\n",
          "output_type": "stream"
        },
        {
          "output_type": "display_data",
          "data": {
            "text/plain": "Training:   0%|          | 0/570 [00:00<?, ?it/s]",
            "application/vnd.jupyter.widget-view+json": {
              "version_major": 2,
              "version_minor": 0,
              "model_id": ""
            }
          },
          "metadata": {}
        },
        {
          "output_type": "display_data",
          "data": {
            "text/plain": "Evaluating:   0%|          | 0/64 [00:00<?, ?it/s]",
            "application/vnd.jupyter.widget-view+json": {
              "version_major": 2,
              "version_minor": 0,
              "model_id": ""
            }
          },
          "metadata": {}
        },
        {
          "output_type": "display_data",
          "data": {
            "text/plain": "Training:   0%|          | 0/570 [00:00<?, ?it/s]",
            "application/vnd.jupyter.widget-view+json": {
              "version_major": 2,
              "version_minor": 0,
              "model_id": ""
            }
          },
          "metadata": {}
        },
        {
          "output_type": "display_data",
          "data": {
            "text/plain": "Evaluating:   0%|          | 0/64 [00:00<?, ?it/s]",
            "application/vnd.jupyter.widget-view+json": {
              "version_major": 2,
              "version_minor": 0,
              "model_id": ""
            }
          },
          "metadata": {}
        },
        {
          "name": "stdout",
          "text": "Epoch: 50 | Epoch Time: 1m 21s\n\tTrain Loss: 1.145 | Train Acc: 59.72%\n\t Val. Loss: 1.125 |  Val. Acc: 59.96%\n",
          "output_type": "stream"
        }
      ]
    },
    {
      "cell_type": "markdown",
      "source": [
        "После добавления Inception метрика увеличилась!"
      ],
      "metadata": {
        "id": "pGAraUCFlD-A"
      }
    },
    {
      "cell_type": "code",
      "source": [
        "torch.load('best_model.pt')"
      ],
      "metadata": {
        "id": "dls0uUFGgRU2"
      },
      "execution_count": null,
      "outputs": []
    },
    {
      "cell_type": "code",
      "source": [
        "def plot_results(train_loss, valid_loss, train_acc, valid_acc ):\n",
        "    fig,axs = plt.subplots(1,2,figsize = (12,4))\n",
        "    axs[0].plot(train_loss.cpu().numpy(), label = 'train')\n",
        "    axs[0].plot(valid_loss.cpu().numpy(), label = 'validation')\n",
        "    axs[0].set_title('loss')\n",
        "    axs[0].legend()\n",
        "    axs[1].plot(train_acc.cpu().numpy(), label = 'train')\n",
        "    axs[1].plot(valid_acc.cpu().numpy(), label = 'validation')\n",
        "    axs[1].set_title('accuracy')\n",
        "    axs[1].legend()\n",
        "    plt.show()\n",
        "\n",
        "plot_results(train_loss, valid_loss, train_acc, valid_loss )"
      ],
      "metadata": {
        "execution": {
          "iopub.status.busy": "2023-12-01T07:05:18.969304Z",
          "iopub.execute_input": "2023-12-01T07:05:18.969703Z",
          "iopub.status.idle": "2023-12-01T07:05:19.480136Z",
          "shell.execute_reply.started": "2023-12-01T07:05:18.969671Z",
          "shell.execute_reply": "2023-12-01T07:05:19.479224Z"
        },
        "trusted": true,
        "id": "XxNGmMsOgRU2",
        "outputId": "6808562b-7a96-4124-ad5d-292f38937a4d"
      },
      "execution_count": null,
      "outputs": [
        {
          "output_type": "display_data",
          "data": {
            "text/plain": "<Figure size 1200x400 with 2 Axes>",
            "image/png": "[encoded data removed]"
          },
          "metadata": {}
        }
      ]
    },
    {
      "cell_type": "code",
      "source": [
        "model.load_state_dict(torch.load('best_model.pt'))\n",
        "test_loss, test_acc = evaluate(model, testloader, criterion, accuracy, device)\n",
        "print(f'best epoch {best_epoch}: Test Loss: {test_loss:.3f} | Test Acc: {test_acc*100:.2f}%')"
      ],
      "metadata": {
        "execution": {
          "iopub.status.busy": "2023-12-01T07:05:50.275871Z",
          "iopub.execute_input": "2023-12-01T07:05:50.276214Z",
          "iopub.status.idle": "2023-12-01T07:05:53.759744Z",
          "shell.execute_reply.started": "2023-12-01T07:05:50.276180Z",
          "shell.execute_reply": "2023-12-01T07:05:53.758820Z"
        },
        "trusted": true,
        "colab": {
          "referenced_widgets": [
            ""
          ]
        },
        "id": "QskZDt0ngRU2",
        "outputId": "a1298e9a-4590-4d56-841f-2c43437d16a9"
      },
      "execution_count": null,
      "outputs": [
        {
          "output_type": "display_data",
          "data": {
            "text/plain": "Evaluating:   0%|          | 0/157 [00:00<?, ?it/s]",
            "application/vnd.jupyter.widget-view+json": {
              "version_major": 2,
              "version_minor": 0,
              "model_id": ""
            }
          },
          "metadata": {}
        },
        {
          "name": "stdout",
          "text": "best epoch 49: Test Loss: 1.129 | Test Acc: 60.19%\n",
          "output_type": "stream"
        }
      ]
    },
    {
      "cell_type": "markdown",
      "source": [
        "С использованием блока Inception accuracy увеличилась с 54% до 60%!"
      ],
      "metadata": {
        "id": "HY32RH1TgRU2"
      }
    },
    {
      "cell_type": "code",
      "source": [
        "model.eval()\n",
        "\n",
        "n_classes = 10\n",
        "n_samples = len(testset)\n",
        "\n",
        "class_correct = torch.zeros(n_classes)\n",
        "class_total   = torch.zeros(n_classes)\n",
        "\n",
        "labels   = []\n",
        "predicts = []\n",
        "\n",
        "with torch.no_grad():\n",
        "\n",
        "    for x,y in tqdm(testloader):\n",
        "        x = x.to(device)\n",
        "        y = y.to('cpu')\n",
        "\n",
        "        y_pred = model.forward(x).to('cpu')\n",
        "\n",
        "        cls_pred = torch.argmax(y_pred, dim=1)\n",
        "\n",
        "        c = (cls_pred == y).squeeze() # one-hot vector\n",
        "\n",
        "        for i in range(x.shape[0]):\n",
        "            label = y[i]\n",
        "            class_correct[label] += c[i].item()\n",
        "            class_total[label]   += 1\n",
        "\n",
        "        labels.append(y)\n",
        "        predicts.append(cls_pred)\n",
        "\n",
        "labels   = torch.cat(labels, dim = 0) # make it 1d array\n",
        "predicts = torch.cat(predicts, dim = 0) # make it 1d array\n",
        "\n",
        "for i in range(n_classes):\n",
        "    print('Accuracy of %5s : %2d %%' % (\n",
        "        names_classes[i], 100 * class_correct[i] / class_total[i]))"
      ],
      "metadata": {
        "execution": {
          "iopub.status.busy": "2023-12-01T07:05:55.866506Z",
          "iopub.execute_input": "2023-12-01T07:05:55.866890Z",
          "iopub.status.idle": "2023-12-01T07:05:59.795865Z",
          "shell.execute_reply.started": "2023-12-01T07:05:55.866858Z",
          "shell.execute_reply": "2023-12-01T07:05:59.794986Z"
        },
        "trusted": true,
        "colab": {
          "referenced_widgets": [
            "1602afd8e7ac4ca5ba213b8fa06e3c02"
          ]
        },
        "id": "6w5TsTxJgRU2",
        "outputId": "09c4b0e7-e992-43e5-f7c5-86a034801a83"
      },
      "execution_count": null,
      "outputs": [
        {
          "output_type": "display_data",
          "data": {
            "text/plain": "  0%|          | 0/157 [00:00<?, ?it/s]",
            "application/vnd.jupyter.widget-view+json": {
              "version_major": 2,
              "version_minor": 0,
              "model_id": "1602afd8e7ac4ca5ba213b8fa06e3c02"
            }
          },
          "metadata": {}
        },
        {
          "name": "stdout",
          "text": "Accuracy of airplane : 68 %\nAccuracy of automobile : 76 %\nAccuracy of  bird : 38 %\nAccuracy of   cat : 25 %\nAccuracy of  deer : 45 %\nAccuracy of   dog : 42 %\nAccuracy of  frog : 81 %\nAccuracy of horse : 73 %\nAccuracy of  ship : 76 %\nAccuracy of truck : 74 %\n",
          "output_type": "stream"
        }
      ]
    },
    {
      "cell_type": "markdown",
      "source": [
        "Также accuracy по классам, особенно хорошо распознает frog, ship, truck"
      ],
      "metadata": {
        "id": "tziWzfyDlPTx"
      }
    },
    {
      "cell_type": "markdown",
      "source": [
        "## 2. Постарайтесь найти архитектуру улучшающую точность"
      ],
      "metadata": {
        "id": "_F3OvLHpgRU3"
      }
    },
    {
      "cell_type": "markdown",
      "source": [
        "Добавим в архитектру слои Dropout и также MaxPool2d, которых не было с исходной архитектуре,  чтобы улучшить рузельтат, Dropout поможет избавтиться от переобучения и выделять более общие признаки, а MaxPool2d для выделения наиболее важной информации"
      ],
      "metadata": {
        "id": "uDwJG8pklZ7J"
      }
    },
    {
      "cell_type": "code",
      "source": [
        "import torch\n",
        "import torch.nn as nn\n",
        "import torch.nn.functional as F\n",
        "\n",
        "class LeNetImproved(nn.Module):\n",
        "    def __init__(self, in_channels, n_classes):\n",
        "        super(LeNetImproved, self).__init__()\n",
        "\n",
        "        self.conv1 = nn.Conv2d(in_channels, 32, kernel_size=5, stride=1, padding=2)\n",
        "        self.bn1 = nn.BatchNorm2d(32)\n",
        "        self.relu1 = nn.ReLU()\n",
        "\n",
        "        self.conv2 = nn.Conv2d(32, 64, kernel_size=3, stride=1, padding=1)\n",
        "        self.bn2 = nn.BatchNorm2d(64)\n",
        "        self.relu2 = nn.ReLU()\n",
        "        self.dropout1 = nn.Dropout2d(p=0.3)\n",
        "\n",
        "        self.conv3 = nn.Conv2d(64, 128, kernel_size=3, stride=1, padding=1)\n",
        "        self.bn3 = nn.BatchNorm2d(128)\n",
        "        self.relu3 = nn.ReLU()\n",
        "        self.maxpool2 = nn.MaxPool2d(kernel_size=2, stride=2)\n",
        "\n",
        "        self.conv4 = nn.Conv2d(128, 256, kernel_size=3, stride=1, padding=1)\n",
        "        self.bn4 = nn.BatchNorm2d(256)\n",
        "        self.relu4 = nn.ReLU()\n",
        "        self.maxpool3 = nn.MaxPool2d(kernel_size=2, stride=2)\n",
        "\n",
        "        self.avgpool = nn.AdaptiveAvgPool2d((1, 1))\n",
        "\n",
        "        self.fc1 = nn.Linear(256, 128)\n",
        "        self.relu_fc = nn.ReLU()\n",
        "        self.fc2 = nn.Linear(128, n_classes)\n",
        "\n",
        "    def forward(self, x):\n",
        "        x = self.conv1(x)\n",
        "        x = self.bn1(x)\n",
        "        x = self.relu1(x)\n",
        "\n",
        "        x = self.conv2(x)\n",
        "        x = self.bn2(x)\n",
        "        x = self.relu2(x)\n",
        "        x = self.dropout1(x)\n",
        "\n",
        "        x = self.conv3(x)\n",
        "        x = self.bn3(x)\n",
        "        x = self.relu3(x)\n",
        "        x = self.maxpool2(x)\n",
        "\n",
        "        x = self.conv4(x)\n",
        "        x = self.bn4(x)\n",
        "        x = self.relu4(x)\n",
        "        x = self.maxpool3(x)\n",
        "\n",
        "        x = self.avgpool(x)\n",
        "        x = x.view(x.size(0), -1)\n",
        "\n",
        "        x = self.fc1(x)\n",
        "        x = self.relu_fc(x)\n",
        "        x = self.fc2(x)\n",
        "\n",
        "        return x"
      ],
      "metadata": {
        "execution": {
          "iopub.status.busy": "2023-12-01T07:06:01.872149Z",
          "iopub.execute_input": "2023-12-01T07:06:01.872585Z",
          "iopub.status.idle": "2023-12-01T07:06:01.888354Z",
          "shell.execute_reply.started": "2023-12-01T07:06:01.872553Z",
          "shell.execute_reply": "2023-12-01T07:06:01.887343Z"
        },
        "trusted": true,
        "id": "7xr7cnSagRU3"
      },
      "execution_count": null,
      "outputs": []
    },
    {
      "cell_type": "code",
      "source": [
        "model = LeNetImproved(3,10)\n",
        "\n",
        "# from torchsummary import summary\n",
        "summary(model, input_size = (3,32,32))"
      ],
      "metadata": {
        "execution": {
          "iopub.status.busy": "2023-12-01T07:06:04.920094Z",
          "iopub.execute_input": "2023-12-01T07:06:04.920982Z",
          "iopub.status.idle": "2023-12-01T07:06:04.955360Z",
          "shell.execute_reply.started": "2023-12-01T07:06:04.920946Z",
          "shell.execute_reply": "2023-12-01T07:06:04.954490Z"
        },
        "trusted": true,
        "id": "_9kk-GpXgRU3",
        "outputId": "0ed06bdc-3f8b-4169-bf67-6746e488859d"
      },
      "execution_count": null,
      "outputs": [
        {
          "name": "stdout",
          "text": "----------------------------------------------------------------\n        Layer (type)               Output Shape         Param #\n================================================================\n            Conv2d-1           [-1, 32, 32, 32]           2,432\n       BatchNorm2d-2           [-1, 32, 32, 32]              64\n              ReLU-3           [-1, 32, 32, 32]               0\n            Conv2d-4           [-1, 64, 32, 32]          18,496\n       BatchNorm2d-5           [-1, 64, 32, 32]             128\n              ReLU-6           [-1, 64, 32, 32]               0\n         Dropout2d-7           [-1, 64, 32, 32]               0\n            Conv2d-8          [-1, 128, 32, 32]          73,856\n       BatchNorm2d-9          [-1, 128, 32, 32]             256\n             ReLU-10          [-1, 128, 32, 32]               0\n        MaxPool2d-11          [-1, 128, 16, 16]               0\n           Conv2d-12          [-1, 256, 16, 16]         295,168\n      BatchNorm2d-13          [-1, 256, 16, 16]             512\n             ReLU-14          [-1, 256, 16, 16]               0\n        MaxPool2d-15            [-1, 256, 8, 8]               0\nAdaptiveAvgPool2d-16            [-1, 256, 1, 1]               0\n           Linear-17                  [-1, 128]          32,896\n             ReLU-18                  [-1, 128]               0\n           Linear-19                   [-1, 10]           1,290\n================================================================\nTotal params: 425,098\nTrainable params: 425,098\nNon-trainable params: 0\n----------------------------------------------------------------\nInput size (MB): 0.01\nForward/backward pass size (MB): 7.63\nParams size (MB): 1.62\nEstimated Total Size (MB): 9.26\n----------------------------------------------------------------\n",
          "output_type": "stream"
        }
      ]
    },
    {
      "cell_type": "code",
      "source": [
        "params = list(model.named_parameters())\n",
        "\n",
        "# print(params)\n",
        "for idx in range(len(params)):\n",
        "    print(params[idx][0],'\\t', params[idx][1].size())\n",
        "print('\\n',10*'--')\n",
        "num_params = sum(p.numel() for p in model.parameters() if p.requires_grad)\n",
        "print('Number of trainable parameters for the model: %d' % (num_params))\n",
        "\n",
        "num_params = sum(p.numel() for p in model.parameters() )\n",
        "print('Number of all parameters for the model: %d' % (num_params))"
      ],
      "metadata": {
        "execution": {
          "iopub.status.busy": "2023-12-01T07:06:12.792157Z",
          "iopub.execute_input": "2023-12-01T07:06:12.793197Z",
          "iopub.status.idle": "2023-12-01T07:06:12.801380Z",
          "shell.execute_reply.started": "2023-12-01T07:06:12.793133Z",
          "shell.execute_reply": "2023-12-01T07:06:12.800374Z"
        },
        "trusted": true,
        "id": "Kvf-W32agRU3",
        "outputId": "06bb4a9c-d338-4725-924a-cb657133b270"
      },
      "execution_count": null,
      "outputs": [
        {
          "name": "stdout",
          "text": "conv1.weight \t torch.Size([32, 3, 5, 5])\nconv1.bias \t torch.Size([32])\nbn1.weight \t torch.Size([32])\nbn1.bias \t torch.Size([32])\nconv2.weight \t torch.Size([64, 32, 3, 3])\nconv2.bias \t torch.Size([64])\nbn2.weight \t torch.Size([64])\nbn2.bias \t torch.Size([64])\nconv3.weight \t torch.Size([128, 64, 3, 3])\nconv3.bias \t torch.Size([128])\nbn3.weight \t torch.Size([128])\nbn3.bias \t torch.Size([128])\nconv4.weight \t torch.Size([256, 128, 3, 3])\nconv4.bias \t torch.Size([256])\nbn4.weight \t torch.Size([256])\nbn4.bias \t torch.Size([256])\nfc1.weight \t torch.Size([128, 256])\nfc1.bias \t torch.Size([128])\nfc2.weight \t torch.Size([10, 128])\nfc2.bias \t torch.Size([10])\n\n --------------------\nNumber of trainable parameters for the model: 425098\nNumber of all parameters for the model: 425098\n",
          "output_type": "stream"
        }
      ]
    },
    {
      "cell_type": "code",
      "source": [
        "def init_weights(m):\n",
        "    if isinstance(m, nn.Linear) or isinstance(m, nn.Conv2d):\n",
        "        nn.init.kaiming_normal_(m.weight)\n",
        "        m.bias.data.fill_(0)\n",
        "\n",
        "model.apply(init_weights);"
      ],
      "metadata": {
        "execution": {
          "iopub.status.busy": "2023-12-01T07:06:15.257997Z",
          "iopub.execute_input": "2023-12-01T07:06:15.258758Z",
          "iopub.status.idle": "2023-12-01T07:06:15.266032Z",
          "shell.execute_reply.started": "2023-12-01T07:06:15.258725Z",
          "shell.execute_reply": "2023-12-01T07:06:15.264941Z"
        },
        "trusted": true,
        "id": "GcM2kfJ6gRU3"
      },
      "execution_count": null,
      "outputs": []
    },
    {
      "cell_type": "code",
      "source": [
        "LR = 0.0004\n",
        "LR_PERIOD = 4\n",
        "LR_DECAY  = 0.95\n",
        "\n",
        "criterion = nn.CrossEntropyLoss()\n",
        "optimizer = torch.optim.Adam(model.parameters(), lr=LR)\n",
        "\n",
        "model     = model.to(device)\n",
        "criterion = criterion.to(device)\n",
        "metric = accuracy\n",
        "scheduler = torch.optim.lr_scheduler.StepLR(optimizer,\n",
        "                                            step_size = LR_PERIOD,\n",
        "                                            gamma     = LR_DECAY)"
      ],
      "metadata": {
        "execution": {
          "iopub.status.busy": "2023-12-01T07:06:16.759474Z",
          "iopub.execute_input": "2023-12-01T07:06:16.759817Z",
          "iopub.status.idle": "2023-12-01T07:06:16.767111Z",
          "shell.execute_reply.started": "2023-12-01T07:06:16.759792Z",
          "shell.execute_reply": "2023-12-01T07:06:16.766144Z"
        },
        "trusted": true,
        "id": "dzLUNEtagRU3"
      },
      "execution_count": null,
      "outputs": []
    },
    {
      "cell_type": "code",
      "source": [
        "EPOCHS = 30\n",
        "\n",
        "train_loss = torch.zeros(EPOCHS)\n",
        "valid_loss = torch.zeros(EPOCHS)\n",
        "train_acc  = torch.zeros(EPOCHS)\n",
        "valid_acc  = torch.zeros(EPOCHS)\n",
        "\n",
        "best_valid_loss = float('inf')\n",
        "best_epoch = 0\n",
        "\n",
        "for epoch in trange(EPOCHS, desc=\"Epochs\"):\n",
        "\n",
        "    start_time = time.monotonic()\n",
        "\n",
        "    train_loss[epoch], train_acc[epoch] = train(model,\n",
        "                                                trainloader,\n",
        "                                                optimizer,\n",
        "                                                criterion,\n",
        "                                                metric,\n",
        "                                                device)\n",
        "\n",
        "    scheduler.step()\n",
        "\n",
        "    valid_loss[epoch], valid_acc[epoch] = evaluate(model,\n",
        "                                                   validloader,\n",
        "                                                   criterion,\n",
        "                                                   metric,\n",
        "                                                   device)\n",
        "\n",
        "    if valid_loss[epoch] < best_valid_loss:\n",
        "        best_valid_loss = valid_loss[epoch]\n",
        "        best_epoch = epoch\n",
        "        torch.save(model.state_dict(), 'best_model.pt')\n",
        "\n",
        "    epoch_mins, epoch_secs = epoch_time(start_time, time.monotonic())\n",
        "    if epoch%2 == 1:    # print every 2 epochs:\n",
        "        print(f'Epoch: {epoch+1:02} | Epoch Time: {epoch_mins}m {epoch_secs}s')\n",
        "        print(f'\\tTrain Loss: {train_loss[epoch]:.3f} | Train Acc: {train_acc[epoch]*100:.2f}%')\n",
        "        print(f'\\t Val. Loss: {valid_loss[epoch]:.3f} |  Val. Acc: {valid_acc[epoch]*100:.2f}%')"
      ],
      "metadata": {
        "execution": {
          "iopub.status.busy": "2023-12-01T07:06:18.896899Z",
          "iopub.execute_input": "2023-12-01T07:06:18.897648Z",
          "iopub.status.idle": "2023-12-01T07:50:59.857265Z",
          "shell.execute_reply.started": "2023-12-01T07:06:18.897615Z",
          "shell.execute_reply": "2023-12-01T07:50:59.856227Z"
        },
        "trusted": true,
        "colab": {
          "referenced_widgets": [
            "d2f1bf9fab50496d8e257cc992c87c85",
            ""
          ]
        },
        "id": "z0PrkKfVgRU3",
        "outputId": "5d47eba3-4277-4be4-e9d6-76946d81eb68"
      },
      "execution_count": null,
      "outputs": [
        {
          "output_type": "display_data",
          "data": {
            "text/plain": "Epochs:   0%|          | 0/30 [00:00<?, ?it/s]",
            "application/vnd.jupyter.widget-view+json": {
              "version_major": 2,
              "version_minor": 0,
              "model_id": "d2f1bf9fab50496d8e257cc992c87c85"
            }
          },
          "metadata": {}
        },
        {
          "output_type": "display_data",
          "data": {
            "text/plain": "Training:   0%|          | 0/570 [00:00<?, ?it/s]",
            "application/vnd.jupyter.widget-view+json": {
              "version_major": 2,
              "version_minor": 0,
              "model_id": ""
            }
          },
          "metadata": {}
        },
        {
          "output_type": "display_data",
          "data": {
            "text/plain": "Evaluating:   0%|          | 0/64 [00:00<?, ?it/s]",
            "application/vnd.jupyter.widget-view+json": {
              "version_major": 2,
              "version_minor": 0,
              "model_id": ""
            }
          },
          "metadata": {}
        },
        {
          "output_type": "display_data",
          "data": {
            "text/plain": "Training:   0%|          | 0/570 [00:00<?, ?it/s]",
            "application/vnd.jupyter.widget-view+json": {
              "version_major": 2,
              "version_minor": 0,
              "model_id": ""
            }
          },
          "metadata": {}
        },
        {
          "output_type": "display_data",
          "data": {
            "text/plain": "Evaluating:   0%|          | 0/64 [00:00<?, ?it/s]",
            "application/vnd.jupyter.widget-view+json": {
              "version_major": 2,
              "version_minor": 0,
              "model_id": ""
            }
          },
          "metadata": {}
        },
        {
          "name": "stdout",
          "text": "Epoch: 02 | Epoch Time: 1m 29s\n\tTrain Loss: 1.818 | Train Acc: 33.24%\n\t Val. Loss: 1.768 |  Val. Acc: 36.60%\n",
          "output_type": "stream"
        },
        {
          "output_type": "display_data",
          "data": {
            "text/plain": "Training:   0%|          | 0/570 [00:00<?, ?it/s]",
            "application/vnd.jupyter.widget-view+json": {
              "version_major": 2,
              "version_minor": 0,
              "model_id": ""
            }
          },
          "metadata": {}
        },
        {
          "output_type": "display_data",
          "data": {
            "text/plain": "Evaluating:   0%|          | 0/64 [00:00<?, ?it/s]",
            "application/vnd.jupyter.widget-view+json": {
              "version_major": 2,
              "version_minor": 0,
              "model_id": ""
            }
          },
          "metadata": {}
        },
        {
          "output_type": "display_data",
          "data": {
            "text/plain": "Training:   0%|          | 0/570 [00:00<?, ?it/s]",
            "application/vnd.jupyter.widget-view+json": {
              "version_major": 2,
              "version_minor": 0,
              "model_id": ""
            }
          },
          "metadata": {}
        },
        {
          "output_type": "display_data",
          "data": {
            "text/plain": "Evaluating:   0%|          | 0/64 [00:00<?, ?it/s]",
            "application/vnd.jupyter.widget-view+json": {
              "version_major": 2,
              "version_minor": 0,
              "model_id": ""
            }
          },
          "metadata": {}
        },
        {
          "name": "stdout",
          "text": "Epoch: 04 | Epoch Time: 1m 29s\n\tTrain Loss: 1.611 | Train Acc: 41.67%\n\t Val. Loss: 1.569 |  Val. Acc: 44.82%\n",
          "output_type": "stream"
        },
        {
          "output_type": "display_data",
          "data": {
            "text/plain": "Training:   0%|          | 0/570 [00:00<?, ?it/s]",
            "application/vnd.jupyter.widget-view+json": {
              "version_major": 2,
              "version_minor": 0,
              "model_id": ""
            }
          },
          "metadata": {}
        },
        {
          "output_type": "display_data",
          "data": {
            "text/plain": "Evaluating:   0%|          | 0/64 [00:00<?, ?it/s]",
            "application/vnd.jupyter.widget-view+json": {
              "version_major": 2,
              "version_minor": 0,
              "model_id": ""
            }
          },
          "metadata": {}
        },
        {
          "output_type": "display_data",
          "data": {
            "text/plain": "Training:   0%|          | 0/570 [00:00<?, ?it/s]",
            "application/vnd.jupyter.widget-view+json": {
              "version_major": 2,
              "version_minor": 0,
              "model_id": ""
            }
          },
          "metadata": {}
        },
        {
          "output_type": "display_data",
          "data": {
            "text/plain": "Evaluating:   0%|          | 0/64 [00:00<?, ?it/s]",
            "application/vnd.jupyter.widget-view+json": {
              "version_major": 2,
              "version_minor": 0,
              "model_id": ""
            }
          },
          "metadata": {}
        },
        {
          "name": "stdout",
          "text": "Epoch: 06 | Epoch Time: 1m 29s\n\tTrain Loss: 1.497 | Train Acc: 46.27%\n\t Val. Loss: 1.430 |  Val. Acc: 48.67%\n",
          "output_type": "stream"
        },
        {
          "output_type": "display_data",
          "data": {
            "text/plain": "Training:   0%|          | 0/570 [00:00<?, ?it/s]",
            "application/vnd.jupyter.widget-view+json": {
              "version_major": 2,
              "version_minor": 0,
              "model_id": ""
            }
          },
          "metadata": {}
        },
        {
          "output_type": "display_data",
          "data": {
            "text/plain": "Evaluating:   0%|          | 0/64 [00:00<?, ?it/s]",
            "application/vnd.jupyter.widget-view+json": {
              "version_major": 2,
              "version_minor": 0,
              "model_id": ""
            }
          },
          "metadata": {}
        },
        {
          "output_type": "display_data",
          "data": {
            "text/plain": "Training:   0%|          | 0/570 [00:00<?, ?it/s]",
            "application/vnd.jupyter.widget-view+json": {
              "version_major": 2,
              "version_minor": 0,
              "model_id": ""
            }
          },
          "metadata": {}
        },
        {
          "output_type": "display_data",
          "data": {
            "text/plain": "Evaluating:   0%|          | 0/64 [00:00<?, ?it/s]",
            "application/vnd.jupyter.widget-view+json": {
              "version_major": 2,
              "version_minor": 0,
              "model_id": ""
            }
          },
          "metadata": {}
        },
        {
          "name": "stdout",
          "text": "Epoch: 08 | Epoch Time: 1m 29s\n\tTrain Loss: 1.418 | Train Acc: 49.28%\n\t Val. Loss: 1.369 |  Val. Acc: 51.97%\n",
          "output_type": "stream"
        },
        {
          "output_type": "display_data",
          "data": {
            "text/plain": "Training:   0%|          | 0/570 [00:00<?, ?it/s]",
            "application/vnd.jupyter.widget-view+json": {
              "version_major": 2,
              "version_minor": 0,
              "model_id": ""
            }
          },
          "metadata": {}
        },
        {
          "output_type": "display_data",
          "data": {
            "text/plain": "Evaluating:   0%|          | 0/64 [00:00<?, ?it/s]",
            "application/vnd.jupyter.widget-view+json": {
              "version_major": 2,
              "version_minor": 0,
              "model_id": ""
            }
          },
          "metadata": {}
        },
        {
          "output_type": "display_data",
          "data": {
            "text/plain": "Training:   0%|          | 0/570 [00:00<?, ?it/s]",
            "application/vnd.jupyter.widget-view+json": {
              "version_major": 2,
              "version_minor": 0,
              "model_id": ""
            }
          },
          "metadata": {}
        },
        {
          "output_type": "display_data",
          "data": {
            "text/plain": "Evaluating:   0%|          | 0/64 [00:00<?, ?it/s]",
            "application/vnd.jupyter.widget-view+json": {
              "version_major": 2,
              "version_minor": 0,
              "model_id": ""
            }
          },
          "metadata": {}
        },
        {
          "name": "stdout",
          "text": "Epoch: 10 | Epoch Time: 1m 29s\n\tTrain Loss: 1.348 | Train Acc: 51.57%\n\t Val. Loss: 1.244 |  Val. Acc: 55.85%\n",
          "output_type": "stream"
        },
        {
          "output_type": "display_data",
          "data": {
            "text/plain": "Training:   0%|          | 0/570 [00:00<?, ?it/s]",
            "application/vnd.jupyter.widget-view+json": {
              "version_major": 2,
              "version_minor": 0,
              "model_id": ""
            }
          },
          "metadata": {}
        },
        {
          "output_type": "display_data",
          "data": {
            "text/plain": "Evaluating:   0%|          | 0/64 [00:00<?, ?it/s]",
            "application/vnd.jupyter.widget-view+json": {
              "version_major": 2,
              "version_minor": 0,
              "model_id": ""
            }
          },
          "metadata": {}
        },
        {
          "output_type": "display_data",
          "data": {
            "text/plain": "Training:   0%|          | 0/570 [00:00<?, ?it/s]",
            "application/vnd.jupyter.widget-view+json": {
              "version_major": 2,
              "version_minor": 0,
              "model_id": ""
            }
          },
          "metadata": {}
        },
        {
          "output_type": "display_data",
          "data": {
            "text/plain": "Evaluating:   0%|          | 0/64 [00:00<?, ?it/s]",
            "application/vnd.jupyter.widget-view+json": {
              "version_major": 2,
              "version_minor": 0,
              "model_id": ""
            }
          },
          "metadata": {}
        },
        {
          "name": "stdout",
          "text": "Epoch: 12 | Epoch Time: 1m 29s\n\tTrain Loss: 1.293 | Train Acc: 53.97%\n\t Val. Loss: 1.219 |  Val. Acc: 57.10%\n",
          "output_type": "stream"
        },
        {
          "output_type": "display_data",
          "data": {
            "text/plain": "Training:   0%|          | 0/570 [00:00<?, ?it/s]",
            "application/vnd.jupyter.widget-view+json": {
              "version_major": 2,
              "version_minor": 0,
              "model_id": ""
            }
          },
          "metadata": {}
        },
        {
          "output_type": "display_data",
          "data": {
            "text/plain": "Evaluating:   0%|          | 0/64 [00:00<?, ?it/s]",
            "application/vnd.jupyter.widget-view+json": {
              "version_major": 2,
              "version_minor": 0,
              "model_id": ""
            }
          },
          "metadata": {}
        },
        {
          "output_type": "display_data",
          "data": {
            "text/plain": "Training:   0%|          | 0/570 [00:00<?, ?it/s]",
            "application/vnd.jupyter.widget-view+json": {
              "version_major": 2,
              "version_minor": 0,
              "model_id": ""
            }
          },
          "metadata": {}
        },
        {
          "output_type": "display_data",
          "data": {
            "text/plain": "Evaluating:   0%|          | 0/64 [00:00<?, ?it/s]",
            "application/vnd.jupyter.widget-view+json": {
              "version_major": 2,
              "version_minor": 0,
              "model_id": ""
            }
          },
          "metadata": {}
        },
        {
          "name": "stdout",
          "text": "Epoch: 14 | Epoch Time: 1m 29s\n\tTrain Loss: 1.252 | Train Acc: 55.41%\n\t Val. Loss: 1.183 |  Val. Acc: 58.38%\n",
          "output_type": "stream"
        },
        {
          "output_type": "display_data",
          "data": {
            "text/plain": "Training:   0%|          | 0/570 [00:00<?, ?it/s]",
            "application/vnd.jupyter.widget-view+json": {
              "version_major": 2,
              "version_minor": 0,
              "model_id": ""
            }
          },
          "metadata": {}
        },
        {
          "output_type": "display_data",
          "data": {
            "text/plain": "Evaluating:   0%|          | 0/64 [00:00<?, ?it/s]",
            "application/vnd.jupyter.widget-view+json": {
              "version_major": 2,
              "version_minor": 0,
              "model_id": ""
            }
          },
          "metadata": {}
        },
        {
          "output_type": "display_data",
          "data": {
            "text/plain": "Training:   0%|          | 0/570 [00:00<?, ?it/s]",
            "application/vnd.jupyter.widget-view+json": {
              "version_major": 2,
              "version_minor": 0,
              "model_id": ""
            }
          },
          "metadata": {}
        },
        {
          "output_type": "display_data",
          "data": {
            "text/plain": "Evaluating:   0%|          | 0/64 [00:00<?, ?it/s]",
            "application/vnd.jupyter.widget-view+json": {
              "version_major": 2,
              "version_minor": 0,
              "model_id": ""
            }
          },
          "metadata": {}
        },
        {
          "name": "stdout",
          "text": "Epoch: 16 | Epoch Time: 1m 29s\n\tTrain Loss: 1.213 | Train Acc: 57.02%\n\t Val. Loss: 1.155 |  Val. Acc: 59.45%\n",
          "output_type": "stream"
        },
        {
          "output_type": "display_data",
          "data": {
            "text/plain": "Training:   0%|          | 0/570 [00:00<?, ?it/s]",
            "application/vnd.jupyter.widget-view+json": {
              "version_major": 2,
              "version_minor": 0,
              "model_id": ""
            }
          },
          "metadata": {}
        },
        {
          "output_type": "display_data",
          "data": {
            "text/plain": "Evaluating:   0%|          | 0/64 [00:00<?, ?it/s]",
            "application/vnd.jupyter.widget-view+json": {
              "version_major": 2,
              "version_minor": 0,
              "model_id": ""
            }
          },
          "metadata": {}
        },
        {
          "output_type": "display_data",
          "data": {
            "text/plain": "Training:   0%|          | 0/570 [00:00<?, ?it/s]",
            "application/vnd.jupyter.widget-view+json": {
              "version_major": 2,
              "version_minor": 0,
              "model_id": ""
            }
          },
          "metadata": {}
        },
        {
          "output_type": "display_data",
          "data": {
            "text/plain": "Evaluating:   0%|          | 0/64 [00:00<?, ?it/s]",
            "application/vnd.jupyter.widget-view+json": {
              "version_major": 2,
              "version_minor": 0,
              "model_id": ""
            }
          },
          "metadata": {}
        },
        {
          "name": "stdout",
          "text": "Epoch: 18 | Epoch Time: 1m 29s\n\tTrain Loss: 1.185 | Train Acc: 58.03%\n\t Val. Loss: 1.195 |  Val. Acc: 57.69%\n",
          "output_type": "stream"
        },
        {
          "output_type": "display_data",
          "data": {
            "text/plain": "Training:   0%|          | 0/570 [00:00<?, ?it/s]",
            "application/vnd.jupyter.widget-view+json": {
              "version_major": 2,
              "version_minor": 0,
              "model_id": ""
            }
          },
          "metadata": {}
        },
        {
          "output_type": "display_data",
          "data": {
            "text/plain": "Evaluating:   0%|          | 0/64 [00:00<?, ?it/s]",
            "application/vnd.jupyter.widget-view+json": {
              "version_major": 2,
              "version_minor": 0,
              "model_id": ""
            }
          },
          "metadata": {}
        },
        {
          "output_type": "display_data",
          "data": {
            "text/plain": "Training:   0%|          | 0/570 [00:00<?, ?it/s]",
            "application/vnd.jupyter.widget-view+json": {
              "version_major": 2,
              "version_minor": 0,
              "model_id": ""
            }
          },
          "metadata": {}
        },
        {
          "output_type": "display_data",
          "data": {
            "text/plain": "Evaluating:   0%|          | 0/64 [00:00<?, ?it/s]",
            "application/vnd.jupyter.widget-view+json": {
              "version_major": 2,
              "version_minor": 0,
              "model_id": ""
            }
          },
          "metadata": {}
        },
        {
          "name": "stdout",
          "text": "Epoch: 20 | Epoch Time: 1m 29s\n\tTrain Loss: 1.153 | Train Acc: 59.43%\n\t Val. Loss: 1.072 |  Val. Acc: 61.50%\n",
          "output_type": "stream"
        },
        {
          "output_type": "display_data",
          "data": {
            "text/plain": "Training:   0%|          | 0/570 [00:00<?, ?it/s]",
            "application/vnd.jupyter.widget-view+json": {
              "version_major": 2,
              "version_minor": 0,
              "model_id": ""
            }
          },
          "metadata": {}
        },
        {
          "output_type": "display_data",
          "data": {
            "text/plain": "Evaluating:   0%|          | 0/64 [00:00<?, ?it/s]",
            "application/vnd.jupyter.widget-view+json": {
              "version_major": 2,
              "version_minor": 0,
              "model_id": ""
            }
          },
          "metadata": {}
        },
        {
          "output_type": "display_data",
          "data": {
            "text/plain": "Training:   0%|          | 0/570 [00:00<?, ?it/s]",
            "application/vnd.jupyter.widget-view+json": {
              "version_major": 2,
              "version_minor": 0,
              "model_id": ""
            }
          },
          "metadata": {}
        },
        {
          "output_type": "display_data",
          "data": {
            "text/plain": "Evaluating:   0%|          | 0/64 [00:00<?, ?it/s]",
            "application/vnd.jupyter.widget-view+json": {
              "version_major": 2,
              "version_minor": 0,
              "model_id": ""
            }
          },
          "metadata": {}
        },
        {
          "name": "stdout",
          "text": "Epoch: 22 | Epoch Time: 1m 29s\n\tTrain Loss: 1.128 | Train Acc: 60.07%\n\t Val. Loss: 1.095 |  Val. Acc: 60.92%\n",
          "output_type": "stream"
        },
        {
          "output_type": "display_data",
          "data": {
            "text/plain": "Training:   0%|          | 0/570 [00:00<?, ?it/s]",
            "application/vnd.jupyter.widget-view+json": {
              "version_major": 2,
              "version_minor": 0,
              "model_id": ""
            }
          },
          "metadata": {}
        },
        {
          "output_type": "display_data",
          "data": {
            "text/plain": "Evaluating:   0%|          | 0/64 [00:00<?, ?it/s]",
            "application/vnd.jupyter.widget-view+json": {
              "version_major": 2,
              "version_minor": 0,
              "model_id": ""
            }
          },
          "metadata": {}
        },
        {
          "output_type": "display_data",
          "data": {
            "text/plain": "Training:   0%|          | 0/570 [00:00<?, ?it/s]",
            "application/vnd.jupyter.widget-view+json": {
              "version_major": 2,
              "version_minor": 0,
              "model_id": ""
            }
          },
          "metadata": {}
        },
        {
          "output_type": "display_data",
          "data": {
            "text/plain": "Evaluating:   0%|          | 0/64 [00:00<?, ?it/s]",
            "application/vnd.jupyter.widget-view+json": {
              "version_major": 2,
              "version_minor": 0,
              "model_id": ""
            }
          },
          "metadata": {}
        },
        {
          "name": "stdout",
          "text": "Epoch: 24 | Epoch Time: 1m 29s\n\tTrain Loss: 1.103 | Train Acc: 61.15%\n\t Val. Loss: 1.067 |  Val. Acc: 62.03%\n",
          "output_type": "stream"
        },
        {
          "output_type": "display_data",
          "data": {
            "text/plain": "Training:   0%|          | 0/570 [00:00<?, ?it/s]",
            "application/vnd.jupyter.widget-view+json": {
              "version_major": 2,
              "version_minor": 0,
              "model_id": ""
            }
          },
          "metadata": {}
        },
        {
          "output_type": "display_data",
          "data": {
            "text/plain": "Evaluating:   0%|          | 0/64 [00:00<?, ?it/s]",
            "application/vnd.jupyter.widget-view+json": {
              "version_major": 2,
              "version_minor": 0,
              "model_id": ""
            }
          },
          "metadata": {}
        },
        {
          "output_type": "display_data",
          "data": {
            "text/plain": "Training:   0%|          | 0/570 [00:00<?, ?it/s]",
            "application/vnd.jupyter.widget-view+json": {
              "version_major": 2,
              "version_minor": 0,
              "model_id": ""
            }
          },
          "metadata": {}
        },
        {
          "output_type": "display_data",
          "data": {
            "text/plain": "Evaluating:   0%|          | 0/64 [00:00<?, ?it/s]",
            "application/vnd.jupyter.widget-view+json": {
              "version_major": 2,
              "version_minor": 0,
              "model_id": ""
            }
          },
          "metadata": {}
        },
        {
          "name": "stdout",
          "text": "Epoch: 26 | Epoch Time: 1m 29s\n\tTrain Loss: 1.086 | Train Acc: 61.82%\n\t Val. Loss: 1.109 |  Val. Acc: 60.94%\n",
          "output_type": "stream"
        },
        {
          "output_type": "display_data",
          "data": {
            "text/plain": "Training:   0%|          | 0/570 [00:00<?, ?it/s]",
            "application/vnd.jupyter.widget-view+json": {
              "version_major": 2,
              "version_minor": 0,
              "model_id": ""
            }
          },
          "metadata": {}
        },
        {
          "output_type": "display_data",
          "data": {
            "text/plain": "Evaluating:   0%|          | 0/64 [00:00<?, ?it/s]",
            "application/vnd.jupyter.widget-view+json": {
              "version_major": 2,
              "version_minor": 0,
              "model_id": ""
            }
          },
          "metadata": {}
        },
        {
          "output_type": "display_data",
          "data": {
            "text/plain": "Training:   0%|          | 0/570 [00:00<?, ?it/s]",
            "application/vnd.jupyter.widget-view+json": {
              "version_major": 2,
              "version_minor": 0,
              "model_id": ""
            }
          },
          "metadata": {}
        },
        {
          "output_type": "display_data",
          "data": {
            "text/plain": "Evaluating:   0%|          | 0/64 [00:00<?, ?it/s]",
            "application/vnd.jupyter.widget-view+json": {
              "version_major": 2,
              "version_minor": 0,
              "model_id": ""
            }
          },
          "metadata": {}
        },
        {
          "name": "stdout",
          "text": "Epoch: 28 | Epoch Time: 1m 29s\n\tTrain Loss: 1.064 | Train Acc: 62.63%\n\t Val. Loss: 1.048 |  Val. Acc: 62.77%\n",
          "output_type": "stream"
        },
        {
          "output_type": "display_data",
          "data": {
            "text/plain": "Training:   0%|          | 0/570 [00:00<?, ?it/s]",
            "application/vnd.jupyter.widget-view+json": {
              "version_major": 2,
              "version_minor": 0,
              "model_id": ""
            }
          },
          "metadata": {}
        },
        {
          "output_type": "display_data",
          "data": {
            "text/plain": "Evaluating:   0%|          | 0/64 [00:00<?, ?it/s]",
            "application/vnd.jupyter.widget-view+json": {
              "version_major": 2,
              "version_minor": 0,
              "model_id": ""
            }
          },
          "metadata": {}
        },
        {
          "output_type": "display_data",
          "data": {
            "text/plain": "Training:   0%|          | 0/570 [00:00<?, ?it/s]",
            "application/vnd.jupyter.widget-view+json": {
              "version_major": 2,
              "version_minor": 0,
              "model_id": ""
            }
          },
          "metadata": {}
        },
        {
          "output_type": "display_data",
          "data": {
            "text/plain": "Evaluating:   0%|          | 0/64 [00:00<?, ?it/s]",
            "application/vnd.jupyter.widget-view+json": {
              "version_major": 2,
              "version_minor": 0,
              "model_id": ""
            }
          },
          "metadata": {}
        },
        {
          "name": "stdout",
          "text": "Epoch: 30 | Epoch Time: 1m 29s\n\tTrain Loss: 1.050 | Train Acc: 62.70%\n\t Val. Loss: 0.986 |  Val. Acc: 64.88%\n",
          "output_type": "stream"
        }
      ]
    },
    {
      "cell_type": "markdown",
      "source": [
        "Метрика на val достигла 59%, что выше по сравлению с исходным вариантом на 5%"
      ],
      "metadata": {
        "id": "JysIBakemt3V"
      }
    },
    {
      "cell_type": "code",
      "source": [
        "def plot_results(train_loss, valid_loss, train_acc, valid_acc ):\n",
        "    fig,axs = plt.subplots(1,2,figsize = (12,4))\n",
        "    axs[0].plot(train_loss.cpu().numpy(), label = 'train')\n",
        "    axs[0].plot(valid_loss.cpu().numpy(), label = 'validation')\n",
        "    axs[0].set_title('loss')\n",
        "    axs[0].legend()\n",
        "    axs[1].plot(train_acc.cpu().numpy(), label = 'train')\n",
        "    axs[1].plot(valid_acc.cpu().numpy(), label = 'validation')\n",
        "    axs[1].set_title('accuracy')\n",
        "    axs[1].legend()\n",
        "    plt.show()\n",
        "\n",
        "plot_results(train_loss, valid_loss, train_acc, valid_loss )\n"
      ],
      "metadata": {
        "execution": {
          "iopub.status.busy": "2023-12-01T07:55:00.156431Z",
          "iopub.execute_input": "2023-12-01T07:55:00.157016Z",
          "iopub.status.idle": "2023-12-01T07:55:00.666532Z",
          "shell.execute_reply.started": "2023-12-01T07:55:00.156981Z",
          "shell.execute_reply": "2023-12-01T07:55:00.665584Z"
        },
        "trusted": true,
        "id": "KBS7qz0hgRU3",
        "outputId": "bf1338f2-56dc-4e4e-f79f-efa692e0fd71"
      },
      "execution_count": null,
      "outputs": [
        {
          "output_type": "display_data",
          "data": {
            "text/plain": "<Figure size 1200x400 with 2 Axes>",
            "image/png": "[encoded data removed]"
          },
          "metadata": {}
        }
      ]
    },
    {
      "cell_type": "code",
      "source": [
        "model.load_state_dict(torch.load('best_model.pt'))\n",
        "test_loss, test_acc = evaluate(model, testloader, criterion, accuracy, device)\n",
        "print(f'best epoch {best_epoch}: Test Loss: {test_loss:.3f} | Test Acc: {test_acc*100:.2f}%')"
      ],
      "metadata": {
        "execution": {
          "iopub.status.busy": "2023-12-01T07:55:04.593288Z",
          "iopub.execute_input": "2023-12-01T07:55:04.593962Z",
          "iopub.status.idle": "2023-12-01T07:55:08.788367Z",
          "shell.execute_reply.started": "2023-12-01T07:55:04.593927Z",
          "shell.execute_reply": "2023-12-01T07:55:08.787360Z"
        },
        "trusted": true,
        "colab": {
          "referenced_widgets": [
            ""
          ]
        },
        "id": "IO2a0e4FgRU7",
        "outputId": "dbd94aa8-a883-48bf-8a86-92057b45c4ed"
      },
      "execution_count": null,
      "outputs": [
        {
          "output_type": "display_data",
          "data": {
            "text/plain": "Evaluating:   0%|          | 0/157 [00:00<?, ?it/s]",
            "application/vnd.jupyter.widget-view+json": {
              "version_major": 2,
              "version_minor": 0,
              "model_id": ""
            }
          },
          "metadata": {}
        },
        {
          "name": "stdout",
          "text": "best epoch 28: Test Loss: 1.241 | Test Acc: 58.77%\n",
          "output_type": "stream"
        }
      ]
    },
    {
      "cell_type": "markdown",
      "source": [
        "Также видим улучшение метрики, значит, проведенные изменения оказали положительное влияние"
      ],
      "metadata": {
        "id": "leKuj7Qem1sp"
      }
    },
    {
      "cell_type": "code",
      "source": [
        "model.eval()\n",
        "\n",
        "n_classes = 10\n",
        "n_samples = len(testset)\n",
        "\n",
        "class_correct = torch.zeros(n_classes)\n",
        "class_total   = torch.zeros(n_classes)\n",
        "\n",
        "labels   = []\n",
        "predicts = []\n",
        "\n",
        "with torch.no_grad():\n",
        "\n",
        "    for x,y in tqdm(testloader):\n",
        "        x = x.to(device)\n",
        "        y = y.to('cpu')\n",
        "\n",
        "        y_pred = model.forward(x).to('cpu')\n",
        "\n",
        "        cls_pred = torch.argmax(y_pred, dim=1)\n",
        "\n",
        "        c = (cls_pred == y).squeeze() # one-hot vector\n",
        "\n",
        "        for i in range(x.shape[0]):\n",
        "            label = y[i]\n",
        "            class_correct[label] += c[i].item()\n",
        "            class_total[label]   += 1\n",
        "\n",
        "        labels.append(y)\n",
        "        predicts.append(cls_pred)\n",
        "\n",
        "labels   = torch.cat(labels, dim = 0) # make it 1d array\n",
        "predicts = torch.cat(predicts, dim = 0) # make it 1d array\n",
        "\n",
        "for i in range(n_classes):\n",
        "    print('Accuracy of %5s : %2d %%' % (\n",
        "        names_classes[i], 100 * class_correct[i] / class_total[i]))"
      ],
      "metadata": {
        "execution": {
          "iopub.status.busy": "2023-12-01T07:55:11.092111Z",
          "iopub.execute_input": "2023-12-01T07:55:11.093084Z",
          "iopub.status.idle": "2023-12-01T07:55:15.778326Z",
          "shell.execute_reply.started": "2023-12-01T07:55:11.093034Z",
          "shell.execute_reply": "2023-12-01T07:55:15.777107Z"
        },
        "trusted": true,
        "colab": {
          "referenced_widgets": [
            "c7650cb422c247118c1e0b0fd2072100"
          ]
        },
        "id": "RvxfMCmjgRU7",
        "outputId": "caa0a3d5-b253-42af-b613-68e0849b7c35"
      },
      "execution_count": null,
      "outputs": [
        {
          "output_type": "display_data",
          "data": {
            "text/plain": "  0%|          | 0/157 [00:00<?, ?it/s]",
            "application/vnd.jupyter.widget-view+json": {
              "version_major": 2,
              "version_minor": 0,
              "model_id": "c7650cb422c247118c1e0b0fd2072100"
            }
          },
          "metadata": {}
        },
        {
          "name": "stdout",
          "text": "Accuracy of airplane : 61 %\nAccuracy of automobile : 77 %\nAccuracy of  bird : 47 %\nAccuracy of   cat : 18 %\nAccuracy of  deer : 42 %\nAccuracy of   dog : 26 %\nAccuracy of  frog : 91 %\nAccuracy of horse : 53 %\nAccuracy of  ship : 80 %\nAccuracy of truck : 89 %\n",
          "output_type": "stream"
        }
      ]
    },
    {
      "cell_type": "markdown",
      "source": [
        "## 3. Для набора FashionMNIST"
      ],
      "metadata": {
        "id": "cJE_LZTxgRU8"
      }
    },
    {
      "cell_type": "code",
      "source": [
        "import torch\n",
        "import torch.nn as nn\n",
        "import torch.nn.functional as F\n",
        "\n",
        "class LeNetImproved(nn.Module):\n",
        "    def __init__(self, in_channels, n_classes):\n",
        "        super(LeNetImproved, self).__init__()\n",
        "\n",
        "        self.conv1 = nn.Conv2d(in_channels, 32, kernel_size=5, stride=1, padding=2)\n",
        "        self.bn1 = nn.BatchNorm2d(32)\n",
        "        self.relu1 = nn.ReLU()\n",
        "\n",
        "        self.conv2 = nn.Conv2d(32, 64, kernel_size=3, stride=1, padding=1)\n",
        "        self.bn2 = nn.BatchNorm2d(64)\n",
        "        self.relu2 = nn.ReLU()\n",
        "        self.dropout1 = nn.Dropout2d(p=0.3)\n",
        "\n",
        "        self.conv3 = nn.Conv2d(64, 128, kernel_size=3, stride=1, padding=1)\n",
        "        self.bn3 = nn.BatchNorm2d(128)\n",
        "        self.relu3 = nn.ReLU()\n",
        "        self.maxpool2 = nn.MaxPool2d(kernel_size=2, stride=2)\n",
        "\n",
        "        self.conv4 = nn.Conv2d(128, 256, kernel_size=3, stride=1, padding=1)\n",
        "        self.bn4 = nn.BatchNorm2d(256)\n",
        "        self.relu4 = nn.ReLU()\n",
        "        self.maxpool3 = nn.MaxPool2d(kernel_size=2, stride=2)\n",
        "\n",
        "        self.avgpool = nn.AdaptiveAvgPool2d((1, 1))\n",
        "\n",
        "        self.fc1 = nn.Linear(256, 128)\n",
        "        self.relu_fc = nn.ReLU()\n",
        "        self.fc2 = nn.Linear(128, n_classes)\n",
        "\n",
        "    def forward(self, x):\n",
        "        x = self.conv1(x)\n",
        "        x = self.bn1(x)\n",
        "        x = self.relu1(x)\n",
        "\n",
        "        x = self.conv2(x)\n",
        "        x = self.bn2(x)\n",
        "        x = self.relu2(x)\n",
        "        x = self.dropout1(x)\n",
        "\n",
        "        x = self.conv3(x)\n",
        "        x = self.bn3(x)\n",
        "        x = self.relu3(x)\n",
        "        x = self.maxpool2(x)\n",
        "\n",
        "        x = self.conv4(x)\n",
        "        x = self.bn4(x)\n",
        "        x = self.relu4(x)\n",
        "        x = self.maxpool3(x)\n",
        "\n",
        "        x = self.avgpool(x)\n",
        "        x = x.view(x.size(0), -1)\n",
        "\n",
        "        x = self.fc1(x)\n",
        "        x = self.relu_fc(x)\n",
        "        x = self.fc2(x)\n",
        "\n",
        "        return x"
      ],
      "metadata": {
        "execution": {
          "iopub.status.busy": "2023-12-01T07:55:16.732370Z",
          "iopub.execute_input": "2023-12-01T07:55:16.732754Z",
          "iopub.status.idle": "2023-12-01T07:55:16.747478Z",
          "shell.execute_reply.started": "2023-12-01T07:55:16.732723Z",
          "shell.execute_reply": "2023-12-01T07:55:16.746449Z"
        },
        "trusted": true,
        "id": "R_qdyXHTgRU8"
      },
      "execution_count": null,
      "outputs": []
    },
    {
      "cell_type": "code",
      "source": [
        "model = LeNetImproved(1,10)\n",
        "\n",
        "# from torchsummary import summary\n",
        "summary(model, input_size = (1,32,32))"
      ],
      "metadata": {
        "execution": {
          "iopub.status.busy": "2023-12-01T07:55:19.546046Z",
          "iopub.execute_input": "2023-12-01T07:55:19.546431Z",
          "iopub.status.idle": "2023-12-01T07:55:19.562688Z",
          "shell.execute_reply.started": "2023-12-01T07:55:19.546402Z",
          "shell.execute_reply": "2023-12-01T07:55:19.561746Z"
        },
        "trusted": true,
        "id": "kTR5W3N5gRU8",
        "outputId": "1eeeb14c-1b10-4017-d184-ea35ba197bde"
      },
      "execution_count": null,
      "outputs": [
        {
          "name": "stdout",
          "text": "----------------------------------------------------------------\n        Layer (type)               Output Shape         Param #\n================================================================\n            Conv2d-1           [-1, 32, 32, 32]             832\n       BatchNorm2d-2           [-1, 32, 32, 32]              64\n              ReLU-3           [-1, 32, 32, 32]               0\n            Conv2d-4           [-1, 64, 32, 32]          18,496\n       BatchNorm2d-5           [-1, 64, 32, 32]             128\n              ReLU-6           [-1, 64, 32, 32]               0\n         Dropout2d-7           [-1, 64, 32, 32]               0\n            Conv2d-8          [-1, 128, 32, 32]          73,856\n       BatchNorm2d-9          [-1, 128, 32, 32]             256\n             ReLU-10          [-1, 128, 32, 32]               0\n        MaxPool2d-11          [-1, 128, 16, 16]               0\n           Conv2d-12          [-1, 256, 16, 16]         295,168\n      BatchNorm2d-13          [-1, 256, 16, 16]             512\n             ReLU-14          [-1, 256, 16, 16]               0\n        MaxPool2d-15            [-1, 256, 8, 8]               0\nAdaptiveAvgPool2d-16            [-1, 256, 1, 1]               0\n           Linear-17                  [-1, 128]          32,896\n             ReLU-18                  [-1, 128]               0\n           Linear-19                   [-1, 10]           1,290\n================================================================\nTotal params: 423,498\nTrainable params: 423,498\nNon-trainable params: 0\n----------------------------------------------------------------\nInput size (MB): 0.00\nForward/backward pass size (MB): 7.63\nParams size (MB): 1.62\nEstimated Total Size (MB): 9.25\n----------------------------------------------------------------\n",
          "output_type": "stream"
        }
      ]
    },
    {
      "cell_type": "code",
      "source": [
        "mean = torch.tensor([0.485, 0.456, 0.406])\n",
        "std  = torch.tensor([0.229, 0.224, 0.225])\n",
        "\n",
        "train_transforms = transforms.Compose([\n",
        "                            transforms.ToTensor(),\n",
        "\n",
        "                                      ])\n",
        "\n",
        "test_transforms = transforms.Compose([\n",
        "                           transforms.ToTensor(),\n",
        "                                     ])"
      ],
      "metadata": {
        "execution": {
          "iopub.status.busy": "2023-12-01T07:55:23.746225Z",
          "iopub.execute_input": "2023-12-01T07:55:23.747312Z",
          "iopub.status.idle": "2023-12-01T07:55:23.753352Z",
          "shell.execute_reply.started": "2023-12-01T07:55:23.747278Z",
          "shell.execute_reply": "2023-12-01T07:55:23.752441Z"
        },
        "trusted": true,
        "id": "Q-ZavxapgRU8"
      },
      "execution_count": null,
      "outputs": []
    },
    {
      "cell_type": "markdown",
      "source": [
        "Загружаем данные"
      ],
      "metadata": {
        "id": "TmoCIj51o_bX"
      }
    },
    {
      "cell_type": "code",
      "source": [
        "trainset = torchvision.datasets.MNIST(root      = './data',\n",
        "                                        train     = True,\n",
        "                                        download  = True,\n",
        "                                        transform = train_transforms)\n",
        "\n",
        "\n",
        "testset = torchvision.datasets.MNIST(root      = './data',\n",
        "                                       train     = False,\n",
        "                                       download  = True,\n",
        "                                       transform = test_transforms)\n",
        "\n",
        "\n",
        "names_classes = trainset.classes\n",
        "print(names_classes)"
      ],
      "metadata": {
        "execution": {
          "iopub.status.busy": "2023-12-01T07:55:25.159868Z",
          "iopub.execute_input": "2023-12-01T07:55:25.160282Z",
          "iopub.status.idle": "2023-12-01T07:55:26.203199Z",
          "shell.execute_reply.started": "2023-12-01T07:55:25.160248Z",
          "shell.execute_reply": "2023-12-01T07:55:26.202204Z"
        },
        "trusted": true,
        "id": "v3sLJrjfgRU8",
        "outputId": "6e5d1066-4fa5-457a-8cd7-5544f6e5d24a"
      },
      "execution_count": null,
      "outputs": [
        {
          "name": "stdout",
          "text": "Downloading http://yann.lecun.com/exdb/mnist/train-images-idx3-ubyte.gz\nDownloading http://yann.lecun.com/exdb/mnist/train-images-idx3-ubyte.gz to ./data/MNIST/raw/train-images-idx3-ubyte.gz\n",
          "output_type": "stream"
        },
        {
          "name": "stderr",
          "text": "100%|██████████| 9912422/9912422 [00:00<00:00, 96740120.21it/s]\n",
          "output_type": "stream"
        },
        {
          "name": "stdout",
          "text": "Extracting ./data/MNIST/raw/train-images-idx3-ubyte.gz to ./data/MNIST/raw\n\nDownloading http://yann.lecun.com/exdb/mnist/train-labels-idx1-ubyte.gz\nDownloading http://yann.lecun.com/exdb/mnist/train-labels-idx1-ubyte.gz to ./data/MNIST/raw/train-labels-idx1-ubyte.gz\n",
          "output_type": "stream"
        },
        {
          "name": "stderr",
          "text": "100%|██████████| 28881/28881 [00:00<00:00, 46024199.78it/s]",
          "output_type": "stream"
        },
        {
          "name": "stdout",
          "text": "Extracting ./data/MNIST/raw/train-labels-idx1-ubyte.gz to ./data/MNIST/raw\n\nDownloading http://yann.lecun.com/exdb/mnist/t10k-images-idx3-ubyte.gz\nDownloading http://yann.lecun.com/exdb/mnist/t10k-images-idx3-ubyte.gz to ./data/MNIST/raw/t10k-images-idx3-ubyte.gz\n",
          "output_type": "stream"
        },
        {
          "name": "stderr",
          "text": "\n100%|██████████| 1648877/1648877 [00:00<00:00, 21416003.41it/s]\n",
          "output_type": "stream"
        },
        {
          "name": "stdout",
          "text": "Extracting ./data/MNIST/raw/t10k-images-idx3-ubyte.gz to ./data/MNIST/raw\n\nDownloading http://yann.lecun.com/exdb/mnist/t10k-labels-idx1-ubyte.gz\nDownloading http://yann.lecun.com/exdb/mnist/t10k-labels-idx1-ubyte.gz to ./data/MNIST/raw/t10k-labels-idx1-ubyte.gz\n",
          "output_type": "stream"
        },
        {
          "name": "stderr",
          "text": "100%|██████████| 4542/4542 [00:00<00:00, 20729628.69it/s]\n",
          "output_type": "stream"
        },
        {
          "name": "stdout",
          "text": "Extracting ./data/MNIST/raw/t10k-labels-idx1-ubyte.gz to ./data/MNIST/raw\n\n['0 - zero', '1 - one', '2 - two', '3 - three', '4 - four', '5 - five', '6 - six', '7 - seven', '8 - eight', '9 - nine']\n",
          "output_type": "stream"
        }
      ]
    },
    {
      "cell_type": "code",
      "source": [
        "VALID_RATIO = 0.9\n",
        "\n",
        "n_train_examples = int(len(trainset) * VALID_RATIO)\n",
        "\n",
        "n_valid_examples = len(trainset) - n_train_examples\n",
        "\n",
        "if torch.cuda.is_available():\n",
        "    kwarg = {'generator':torch.Generator(device='cuda')}\n",
        "else:\n",
        "     kwarg = {'num_workers':num_workers}\n",
        "\n",
        "trainset, validset = data.random_split(trainset,\n",
        "                                       [n_train_examples,\n",
        "                                        n_valid_examples],\n",
        "                                       **kwarg)\n",
        "\n",
        "validset = copy.deepcopy(validset)\n",
        "validset.dataset.transform = test_transforms"
      ],
      "metadata": {
        "execution": {
          "iopub.status.busy": "2023-12-01T07:55:30.073627Z",
          "iopub.execute_input": "2023-12-01T07:55:30.074549Z",
          "iopub.status.idle": "2023-12-01T07:55:30.095280Z",
          "shell.execute_reply.started": "2023-12-01T07:55:30.074512Z",
          "shell.execute_reply": "2023-12-01T07:55:30.094507Z"
        },
        "trusted": true,
        "id": "JkVVxlMdgRU8"
      },
      "execution_count": null,
      "outputs": []
    },
    {
      "cell_type": "code",
      "source": [
        "print(f'Number of training examples: {len(trainset)}')\n",
        "print(f'Number of validation examples: {len(validset)}')\n",
        "print(f'Number of testing examples: {len(testset)}')"
      ],
      "metadata": {
        "execution": {
          "iopub.status.busy": "2023-12-01T07:55:32.170231Z",
          "iopub.execute_input": "2023-12-01T07:55:32.170539Z",
          "iopub.status.idle": "2023-12-01T07:55:32.175944Z",
          "shell.execute_reply.started": "2023-12-01T07:55:32.170512Z",
          "shell.execute_reply": "2023-12-01T07:55:32.175058Z"
        },
        "trusted": true,
        "id": "I1Wy0uLsgRU8",
        "outputId": "c691d622-51fb-4f95-fffa-816eb81b1f82"
      },
      "execution_count": null,
      "outputs": [
        {
          "name": "stdout",
          "text": "Number of training examples: 54000\nNumber of validation examples: 6000\nNumber of testing examples: 10000\n",
          "output_type": "stream"
        }
      ]
    },
    {
      "cell_type": "code",
      "source": [
        "BATCH_SIZE = 64\n",
        "\n",
        "if torch.cuda.is_available():\n",
        "    kwarg = {'generator':torch.Generator(device='cuda')}\n",
        "else:\n",
        "     kwarg = {'num_workers':0}\n",
        "\n",
        "trainloader = data.DataLoader(trainset,\n",
        "                              shuffle=True,\n",
        "                              batch_size=BATCH_SIZE,\n",
        "                              **kwarg)\n",
        "\n",
        "validloader = data.DataLoader(validset,batch_size=BATCH_SIZE, **kwarg)\n",
        "\n",
        "testloader  = data.DataLoader(testset,batch_size=BATCH_SIZE, **kwarg)"
      ],
      "metadata": {
        "execution": {
          "iopub.status.busy": "2023-12-01T07:55:33.844110Z",
          "iopub.execute_input": "2023-12-01T07:55:33.844493Z",
          "iopub.status.idle": "2023-12-01T07:55:33.851198Z",
          "shell.execute_reply.started": "2023-12-01T07:55:33.844462Z",
          "shell.execute_reply": "2023-12-01T07:55:33.850231Z"
        },
        "trusted": true,
        "id": "JjdYcY-dgRU8"
      },
      "execution_count": null,
      "outputs": []
    },
    {
      "cell_type": "code",
      "source": [
        "def imshow(images, mean=mean, std=std):\n",
        "    img = torchvision.utils.make_grid(images).to(device)\n",
        "    img = img.transpose(2,0).transpose(0,1)\n",
        "    img = (img * torch.as_tensor(std).to(device)\n",
        "               + torch.as_tensor(mean).to(device) )# unnormalize\n",
        "    img = img.data.cpu().numpy()\n",
        "\n",
        "    plt.figure(figsize=(16,12))\n",
        "    plt.imshow(img); plt.axis('off'); plt.show()\n",
        "\n",
        "\n",
        "images, labels = next(iter(trainloader))\n",
        "\n",
        "imshow(images)\n",
        "\n",
        "print('first raw classes',' '.join('%5s' % names_classes[labels[j]] for j in range(BATCH_SIZE//8)))\n",
        "\n",
        "print(images.shape)"
      ],
      "metadata": {
        "execution": {
          "iopub.status.busy": "2023-12-01T07:55:35.372255Z",
          "iopub.execute_input": "2023-12-01T07:55:35.373376Z",
          "iopub.status.idle": "2023-12-01T07:55:35.604907Z",
          "shell.execute_reply.started": "2023-12-01T07:55:35.373313Z",
          "shell.execute_reply": "2023-12-01T07:55:35.604010Z"
        },
        "trusted": true,
        "id": "635ALHVagRU9",
        "outputId": "9879adbb-1943-4abc-f960-0113874416fb"
      },
      "execution_count": null,
      "outputs": [
        {
          "output_type": "display_data",
          "data": {
            "text/plain": "<Figure size 1600x1200 with 1 Axes>",
            "image/png": "[encoded data removed]"
          },
          "metadata": {}
        },
        {
          "name": "stdout",
          "text": "first raw classes 3 - three 6 - six 8 - eight 4 - four 0 - zero 6 - six 0 - zero 2 - two\ntorch.Size([64, 1, 28, 28])\n",
          "output_type": "stream"
        }
      ]
    },
    {
      "cell_type": "code",
      "source": [
        "def init_weights(m):\n",
        "    if isinstance(m, nn.Linear) or isinstance(m, nn.Conv2d):\n",
        "        nn.init.kaiming_normal_(m.weight)\n",
        "        m.bias.data.fill_(0)\n",
        "\n",
        "model.apply(init_weights);"
      ],
      "metadata": {
        "execution": {
          "iopub.status.busy": "2023-12-01T07:55:38.288145Z",
          "iopub.execute_input": "2023-12-01T07:55:38.288849Z",
          "iopub.status.idle": "2023-12-01T07:55:38.295547Z",
          "shell.execute_reply.started": "2023-12-01T07:55:38.288815Z",
          "shell.execute_reply": "2023-12-01T07:55:38.294609Z"
        },
        "trusted": true,
        "id": "ZFQtK34QgRU9"
      },
      "execution_count": null,
      "outputs": []
    },
    {
      "cell_type": "code",
      "source": [
        "LR = 0.0004\n",
        "LR_PERIOD = 4\n",
        "LR_DECAY  = 0.95\n",
        "\n",
        "criterion = nn.CrossEntropyLoss()\n",
        "optimizer = torch.optim.Adam(model.parameters(), lr=LR)\n",
        "\n",
        "model     = model.to(device)\n",
        "criterion = criterion.to(device)\n",
        "metric = accuracy\n",
        "scheduler = torch.optim.lr_scheduler.StepLR(optimizer,\n",
        "                                            step_size = LR_PERIOD,\n",
        "                                            gamma     = LR_DECAY)"
      ],
      "metadata": {
        "execution": {
          "iopub.status.busy": "2023-12-01T07:55:39.754496Z",
          "iopub.execute_input": "2023-12-01T07:55:39.755280Z",
          "iopub.status.idle": "2023-12-01T07:55:39.762966Z",
          "shell.execute_reply.started": "2023-12-01T07:55:39.755246Z",
          "shell.execute_reply": "2023-12-01T07:55:39.761885Z"
        },
        "trusted": true,
        "id": "_ToIMHydgRU9"
      },
      "execution_count": null,
      "outputs": []
    },
    {
      "cell_type": "code",
      "source": [
        "EPOCHS = 10\n",
        "\n",
        "train_loss = torch.zeros(EPOCHS)\n",
        "valid_loss = torch.zeros(EPOCHS)\n",
        "train_acc  = torch.zeros(EPOCHS)\n",
        "valid_acc  = torch.zeros(EPOCHS)\n",
        "\n",
        "best_valid_loss = float('inf')\n",
        "best_epoch = 0\n",
        "\n",
        "for epoch in trange(EPOCHS, desc=\"Epochs\"):\n",
        "\n",
        "    start_time = time.monotonic()\n",
        "\n",
        "    train_loss[epoch], train_acc[epoch] = train(model,\n",
        "                                                trainloader,\n",
        "                                                optimizer,\n",
        "                                                criterion,\n",
        "                                                metric,\n",
        "                                                device)\n",
        "\n",
        "    scheduler.step()\n",
        "\n",
        "    valid_loss[epoch], valid_acc[epoch] = evaluate(model,\n",
        "                                                   validloader,\n",
        "                                                   criterion,\n",
        "                                                   metric,\n",
        "                                                   device)\n",
        "\n",
        "    if valid_loss[epoch] < best_valid_loss:\n",
        "        best_valid_loss = valid_loss[epoch]\n",
        "        best_epoch = epoch\n",
        "        torch.save(model.state_dict(), 'best_model.pt')\n",
        "\n",
        "    epoch_mins, epoch_secs = epoch_time(start_time, time.monotonic())\n",
        "    if epoch%2 == 1:    # print every 2 epochs:\n",
        "        print(f'Epoch: {epoch+1:02} | Epoch Time: {epoch_mins}m {epoch_secs}s')\n",
        "        print(f'\\tTrain Loss: {train_loss[epoch]:.3f} | Train Acc: {train_acc[epoch]*100:.2f}%')\n",
        "        print(f'\\t Val. Loss: {valid_loss[epoch]:.3f} |  Val. Acc: {valid_acc[epoch]*100:.2f}%')"
      ],
      "metadata": {
        "execution": {
          "iopub.status.busy": "2023-12-01T07:55:42.507547Z",
          "iopub.execute_input": "2023-12-01T07:55:42.507920Z",
          "iopub.status.idle": "2023-12-01T07:59:05.166197Z",
          "shell.execute_reply.started": "2023-12-01T07:55:42.507889Z",
          "shell.execute_reply": "2023-12-01T07:59:05.165211Z"
        },
        "trusted": true,
        "colab": {
          "referenced_widgets": [
            "1af38079f0a44e36be4d5f7cf0d203ba",
            ""
          ]
        },
        "id": "SN5f64tHgRU9",
        "outputId": "d5e81ce9-9472-436e-a0aa-294d1bd07b06"
      },
      "execution_count": null,
      "outputs": [
        {
          "output_type": "display_data",
          "data": {
            "text/plain": "Epochs:   0%|          | 0/10 [00:00<?, ?it/s]",
            "application/vnd.jupyter.widget-view+json": {
              "version_major": 2,
              "version_minor": 0,
              "model_id": "1af38079f0a44e36be4d5f7cf0d203ba"
            }
          },
          "metadata": {}
        },
        {
          "output_type": "display_data",
          "data": {
            "text/plain": "Training:   0%|          | 0/844 [00:00<?, ?it/s]",
            "application/vnd.jupyter.widget-view+json": {
              "version_major": 2,
              "version_minor": 0,
              "model_id": ""
            }
          },
          "metadata": {}
        },
        {
          "output_type": "display_data",
          "data": {
            "text/plain": "Evaluating:   0%|          | 0/94 [00:00<?, ?it/s]",
            "application/vnd.jupyter.widget-view+json": {
              "version_major": 2,
              "version_minor": 0,
              "model_id": ""
            }
          },
          "metadata": {}
        },
        {
          "output_type": "display_data",
          "data": {
            "text/plain": "Training:   0%|          | 0/844 [00:00<?, ?it/s]",
            "application/vnd.jupyter.widget-view+json": {
              "version_major": 2,
              "version_minor": 0,
              "model_id": ""
            }
          },
          "metadata": {}
        },
        {
          "output_type": "display_data",
          "data": {
            "text/plain": "Evaluating:   0%|          | 0/94 [00:00<?, ?it/s]",
            "application/vnd.jupyter.widget-view+json": {
              "version_major": 2,
              "version_minor": 0,
              "model_id": ""
            }
          },
          "metadata": {}
        },
        {
          "name": "stdout",
          "text": "Epoch: 02 | Epoch Time: 0m 20s\n\tTrain Loss: 0.139 | Train Acc: 95.99%\n\t Val. Loss: 0.114 |  Val. Acc: 96.38%\n",
          "output_type": "stream"
        },
        {
          "output_type": "display_data",
          "data": {
            "text/plain": "Training:   0%|          | 0/844 [00:00<?, ?it/s]",
            "application/vnd.jupyter.widget-view+json": {
              "version_major": 2,
              "version_minor": 0,
              "model_id": ""
            }
          },
          "metadata": {}
        },
        {
          "output_type": "display_data",
          "data": {
            "text/plain": "Evaluating:   0%|          | 0/94 [00:00<?, ?it/s]",
            "application/vnd.jupyter.widget-view+json": {
              "version_major": 2,
              "version_minor": 0,
              "model_id": ""
            }
          },
          "metadata": {}
        },
        {
          "output_type": "display_data",
          "data": {
            "text/plain": "Training:   0%|          | 0/844 [00:00<?, ?it/s]",
            "application/vnd.jupyter.widget-view+json": {
              "version_major": 2,
              "version_minor": 0,
              "model_id": ""
            }
          },
          "metadata": {}
        },
        {
          "output_type": "display_data",
          "data": {
            "text/plain": "Evaluating:   0%|          | 0/94 [00:00<?, ?it/s]",
            "application/vnd.jupyter.widget-view+json": {
              "version_major": 2,
              "version_minor": 0,
              "model_id": ""
            }
          },
          "metadata": {}
        },
        {
          "name": "stdout",
          "text": "Epoch: 04 | Epoch Time: 0m 20s\n\tTrain Loss: 0.077 | Train Acc: 97.76%\n\t Val. Loss: 0.080 |  Val. Acc: 97.41%\n",
          "output_type": "stream"
        },
        {
          "output_type": "display_data",
          "data": {
            "text/plain": "Training:   0%|          | 0/844 [00:00<?, ?it/s]",
            "application/vnd.jupyter.widget-view+json": {
              "version_major": 2,
              "version_minor": 0,
              "model_id": ""
            }
          },
          "metadata": {}
        },
        {
          "output_type": "display_data",
          "data": {
            "text/plain": "Evaluating:   0%|          | 0/94 [00:00<?, ?it/s]",
            "application/vnd.jupyter.widget-view+json": {
              "version_major": 2,
              "version_minor": 0,
              "model_id": ""
            }
          },
          "metadata": {}
        },
        {
          "output_type": "display_data",
          "data": {
            "text/plain": "Training:   0%|          | 0/844 [00:00<?, ?it/s]",
            "application/vnd.jupyter.widget-view+json": {
              "version_major": 2,
              "version_minor": 0,
              "model_id": ""
            }
          },
          "metadata": {}
        },
        {
          "output_type": "display_data",
          "data": {
            "text/plain": "Evaluating:   0%|          | 0/94 [00:00<?, ?it/s]",
            "application/vnd.jupyter.widget-view+json": {
              "version_major": 2,
              "version_minor": 0,
              "model_id": ""
            }
          },
          "metadata": {}
        },
        {
          "name": "stdout",
          "text": "Epoch: 06 | Epoch Time: 0m 20s\n\tTrain Loss: 0.056 | Train Acc: 98.29%\n\t Val. Loss: 0.058 |  Val. Acc: 98.35%\n",
          "output_type": "stream"
        },
        {
          "output_type": "display_data",
          "data": {
            "text/plain": "Training:   0%|          | 0/844 [00:00<?, ?it/s]",
            "application/vnd.jupyter.widget-view+json": {
              "version_major": 2,
              "version_minor": 0,
              "model_id": ""
            }
          },
          "metadata": {}
        },
        {
          "output_type": "display_data",
          "data": {
            "text/plain": "Evaluating:   0%|          | 0/94 [00:00<?, ?it/s]",
            "application/vnd.jupyter.widget-view+json": {
              "version_major": 2,
              "version_minor": 0,
              "model_id": ""
            }
          },
          "metadata": {}
        },
        {
          "output_type": "display_data",
          "data": {
            "text/plain": "Training:   0%|          | 0/844 [00:00<?, ?it/s]",
            "application/vnd.jupyter.widget-view+json": {
              "version_major": 2,
              "version_minor": 0,
              "model_id": ""
            }
          },
          "metadata": {}
        },
        {
          "output_type": "display_data",
          "data": {
            "text/plain": "Evaluating:   0%|          | 0/94 [00:00<?, ?it/s]",
            "application/vnd.jupyter.widget-view+json": {
              "version_major": 2,
              "version_minor": 0,
              "model_id": ""
            }
          },
          "metadata": {}
        },
        {
          "name": "stdout",
          "text": "Epoch: 08 | Epoch Time: 0m 20s\n\tTrain Loss: 0.046 | Train Acc: 98.58%\n\t Val. Loss: 0.045 |  Val. Acc: 98.73%\n",
          "output_type": "stream"
        },
        {
          "output_type": "display_data",
          "data": {
            "text/plain": "Training:   0%|          | 0/844 [00:00<?, ?it/s]",
            "application/vnd.jupyter.widget-view+json": {
              "version_major": 2,
              "version_minor": 0,
              "model_id": ""
            }
          },
          "metadata": {}
        },
        {
          "output_type": "display_data",
          "data": {
            "text/plain": "Evaluating:   0%|          | 0/94 [00:00<?, ?it/s]",
            "application/vnd.jupyter.widget-view+json": {
              "version_major": 2,
              "version_minor": 0,
              "model_id": ""
            }
          },
          "metadata": {}
        },
        {
          "output_type": "display_data",
          "data": {
            "text/plain": "Training:   0%|          | 0/844 [00:00<?, ?it/s]",
            "application/vnd.jupyter.widget-view+json": {
              "version_major": 2,
              "version_minor": 0,
              "model_id": ""
            }
          },
          "metadata": {}
        },
        {
          "output_type": "display_data",
          "data": {
            "text/plain": "Evaluating:   0%|          | 0/94 [00:00<?, ?it/s]",
            "application/vnd.jupyter.widget-view+json": {
              "version_major": 2,
              "version_minor": 0,
              "model_id": ""
            }
          },
          "metadata": {}
        },
        {
          "name": "stdout",
          "text": "Epoch: 10 | Epoch Time: 0m 20s\n\tTrain Loss: 0.037 | Train Acc: 98.86%\n\t Val. Loss: 0.033 |  Val. Acc: 98.97%\n",
          "output_type": "stream"
        }
      ]
    },
    {
      "cell_type": "code",
      "source": [
        "def plot_results(train_loss, valid_loss, train_acc, valid_acc ):\n",
        "    fig,axs = plt.subplots(1,2,figsize = (12,4))\n",
        "    axs[0].plot(train_loss.cpu().numpy(), label = 'train')\n",
        "    axs[0].plot(valid_loss.cpu().numpy(), label = 'validation')\n",
        "    axs[0].set_title('loss')\n",
        "    axs[0].legend()\n",
        "    axs[1].plot(train_acc.cpu().numpy(), label = 'train')\n",
        "    axs[1].plot(valid_acc.cpu().numpy(), label = 'validation')\n",
        "    axs[1].set_title('accuracy')\n",
        "    axs[1].legend()\n",
        "    plt.show()\n",
        "\n",
        "plot_results(train_loss, valid_loss, train_acc, valid_loss )\n"
      ],
      "metadata": {
        "execution": {
          "iopub.status.busy": "2023-12-01T08:03:49.175973Z",
          "iopub.execute_input": "2023-12-01T08:03:49.176995Z",
          "iopub.status.idle": "2023-12-01T08:03:49.639062Z",
          "shell.execute_reply.started": "2023-12-01T08:03:49.176955Z",
          "shell.execute_reply": "2023-12-01T08:03:49.638104Z"
        },
        "trusted": true,
        "id": "O2AVMkQ8gRU9",
        "outputId": "9fd57f1c-20e7-4622-bdbe-ce8228b9dfef"
      },
      "execution_count": null,
      "outputs": [
        {
          "output_type": "display_data",
          "data": {
            "text/plain": "<Figure size 1200x400 with 2 Axes>",
            "image/png": "[encoded data removed]"
          },
          "metadata": {}
        }
      ]
    },
    {
      "cell_type": "code",
      "source": [
        "model.load_state_dict(torch.load('best_model.pt'))\n",
        "test_loss, test_acc = evaluate(model, testloader, criterion, accuracy, device)\n",
        "print(f'best epoch {best_epoch}: Test Loss: {test_loss:.3f} | Test Acc: {test_acc*100:.2f}%')"
      ],
      "metadata": {
        "execution": {
          "iopub.status.busy": "2023-12-01T08:03:52.271662Z",
          "iopub.execute_input": "2023-12-01T08:03:52.272539Z",
          "iopub.status.idle": "2023-12-01T08:03:54.297567Z",
          "shell.execute_reply.started": "2023-12-01T08:03:52.272505Z",
          "shell.execute_reply": "2023-12-01T08:03:54.296679Z"
        },
        "trusted": true,
        "colab": {
          "referenced_widgets": [
            ""
          ]
        },
        "id": "0ujHJYSPgRU9",
        "outputId": "c7290315-c7ee-4da9-a682-e483e08bb8e2"
      },
      "execution_count": null,
      "outputs": [
        {
          "output_type": "display_data",
          "data": {
            "text/plain": "Evaluating:   0%|          | 0/157 [00:00<?, ?it/s]",
            "application/vnd.jupyter.widget-view+json": {
              "version_major": 2,
              "version_minor": 0,
              "model_id": ""
            }
          },
          "metadata": {}
        },
        {
          "name": "stdout",
          "text": "best epoch 9: Test Loss: 0.035 | Test Acc: 98.89%\n",
          "output_type": "stream"
        }
      ]
    },
    {
      "cell_type": "markdown",
      "source": [
        "Достигли точности 98% на данных MNIST!!"
      ],
      "metadata": {
        "id": "ejm2090IpDBG"
      }
    }
  ]
}