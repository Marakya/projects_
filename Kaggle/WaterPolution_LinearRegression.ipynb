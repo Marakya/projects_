{
 "cells": [
  {
   "cell_type": "code",
   "execution_count": 21,
   "id": "712fa048",
   "metadata": {},
   "outputs": [],
   "source": [
    "import numpy as np\n",
    "import pandas as pd\n",
    "\n",
    "import matplotlib\n",
    "import matplotlib.image as img\n",
    "import matplotlib.pyplot as plt\n",
    "import seaborn as sns; sns.set()\n",
    "from scipy import stats\n",
    "%matplotlib inline\n",
    "\n",
    "import warnings\n",
    "warnings.filterwarnings('ignore')\n",
    "\n",
    "from sklearn.preprocessing import MinMaxScaler\n",
    "from sklearn.preprocessing import StandardScaler"
   ]
  },
  {
   "cell_type": "code",
   "execution_count": 2,
   "id": "c7411f82",
   "metadata": {},
   "outputs": [],
   "source": [
    "train = pd.read_csv(\"Train.csv\")\n",
    "test = pd.read_csv(\"Test.csv\")\n",
    "target = pd.read_csv(\"Target.csv\")\n",
    "submission = pd.read_csv(\"Submission.csv\")"
   ]
  },
  {
   "cell_type": "code",
   "execution_count": 3,
   "id": "c8cf2291",
   "metadata": {},
   "outputs": [],
   "source": [
    "df = pd.concat([train, test])"
   ]
  },
  {
   "cell_type": "code",
   "execution_count": 4,
   "id": "4be81b63",
   "metadata": {},
   "outputs": [],
   "source": [
    "df = df.merge(target, how='left')"
   ]
  },
  {
   "cell_type": "code",
   "execution_count": null,
   "id": "fd12fa24",
   "metadata": {},
   "outputs": [],
   "source": []
  },
  {
   "cell_type": "code",
   "execution_count": 189,
   "id": "639c2e23",
   "metadata": {},
   "outputs": [
    {
     "data": {
      "text/html": [
       "<div>\n",
       "<style scoped>\n",
       "    .dataframe tbody tr th:only-of-type {\n",
       "        vertical-align: middle;\n",
       "    }\n",
       "\n",
       "    .dataframe tbody tr th {\n",
       "        vertical-align: top;\n",
       "    }\n",
       "\n",
       "    .dataframe thead th {\n",
       "        text-align: right;\n",
       "    }\n",
       "</style>\n",
       "<table border=\"1\" class=\"dataframe\">\n",
       "  <thead>\n",
       "    <tr style=\"text-align: right;\">\n",
       "      <th></th>\n",
       "      <th>index</th>\n",
       "      <th>code</th>\n",
       "      <th>year</th>\n",
       "      <th>period</th>\n",
       "      <th>id</th>\n",
       "      <th>Country</th>\n",
       "      <th>population</th>\n",
       "      <th>tourists</th>\n",
       "      <th>venue</th>\n",
       "      <th>rate</th>\n",
       "      <th>food</th>\n",
       "      <th>glass</th>\n",
       "      <th>metal</th>\n",
       "      <th>other</th>\n",
       "      <th>paper</th>\n",
       "      <th>plastic</th>\n",
       "      <th>leather</th>\n",
       "      <th>green_waste</th>\n",
       "      <th>waste_recycling</th>\n",
       "      <th>polution</th>\n",
       "    </tr>\n",
       "  </thead>\n",
       "  <tbody>\n",
       "    <tr>\n",
       "      <th>0</th>\n",
       "      <td>19</td>\n",
       "      <td>EEA_3161-01-1</td>\n",
       "      <td>2009</td>\n",
       "      <td>2009-01--2009-12</td>\n",
       "      <td>FRDR179</td>\n",
       "      <td>France</td>\n",
       "      <td>122.299437</td>\n",
       "      <td>71176346.0</td>\n",
       "      <td>3.0</td>\n",
       "      <td>0.000000</td>\n",
       "      <td>32.0</td>\n",
       "      <td>10.0</td>\n",
       "      <td>3.0</td>\n",
       "      <td>26.0</td>\n",
       "      <td>20.0</td>\n",
       "      <td>9.0</td>\n",
       "      <td>0.0</td>\n",
       "      <td>0.0</td>\n",
       "      <td>22.26</td>\n",
       "      <td>0.693147</td>\n",
       "    </tr>\n",
       "    <tr>\n",
       "      <th>1</th>\n",
       "      <td>20</td>\n",
       "      <td>EEA_3161-05-5</td>\n",
       "      <td>2009</td>\n",
       "      <td>2009-01--2009-12</td>\n",
       "      <td>FRDR179</td>\n",
       "      <td>France</td>\n",
       "      <td>122.299437</td>\n",
       "      <td>71176346.0</td>\n",
       "      <td>3.0</td>\n",
       "      <td>0.000000</td>\n",
       "      <td>32.0</td>\n",
       "      <td>10.0</td>\n",
       "      <td>3.0</td>\n",
       "      <td>26.0</td>\n",
       "      <td>20.0</td>\n",
       "      <td>9.0</td>\n",
       "      <td>0.0</td>\n",
       "      <td>0.0</td>\n",
       "      <td>22.26</td>\n",
       "      <td>0.218495</td>\n",
       "    </tr>\n",
       "    <tr>\n",
       "      <th>2</th>\n",
       "      <td>27</td>\n",
       "      <td>EEA_3161-01-1</td>\n",
       "      <td>2009</td>\n",
       "      <td>2009-01--2009-12</td>\n",
       "      <td>FRDR174</td>\n",
       "      <td>France</td>\n",
       "      <td>122.299437</td>\n",
       "      <td>71176346.0</td>\n",
       "      <td>3.0</td>\n",
       "      <td>0.000000</td>\n",
       "      <td>32.0</td>\n",
       "      <td>10.0</td>\n",
       "      <td>3.0</td>\n",
       "      <td>26.0</td>\n",
       "      <td>20.0</td>\n",
       "      <td>9.0</td>\n",
       "      <td>0.0</td>\n",
       "      <td>0.0</td>\n",
       "      <td>22.26</td>\n",
       "      <td>0.693147</td>\n",
       "    </tr>\n",
       "    <tr>\n",
       "      <th>3</th>\n",
       "      <td>28</td>\n",
       "      <td>EEA_3161-05-5</td>\n",
       "      <td>2009</td>\n",
       "      <td>2009-01--2009-12</td>\n",
       "      <td>FRDR174</td>\n",
       "      <td>France</td>\n",
       "      <td>122.299437</td>\n",
       "      <td>71176346.0</td>\n",
       "      <td>3.0</td>\n",
       "      <td>0.000000</td>\n",
       "      <td>32.0</td>\n",
       "      <td>10.0</td>\n",
       "      <td>3.0</td>\n",
       "      <td>26.0</td>\n",
       "      <td>20.0</td>\n",
       "      <td>9.0</td>\n",
       "      <td>0.0</td>\n",
       "      <td>0.0</td>\n",
       "      <td>22.26</td>\n",
       "      <td>0.889405</td>\n",
       "    </tr>\n",
       "    <tr>\n",
       "      <th>4</th>\n",
       "      <td>49</td>\n",
       "      <td>EEA_3161-01-1</td>\n",
       "      <td>2009</td>\n",
       "      <td>2009-01--2009-12</td>\n",
       "      <td>FRGR0178A</td>\n",
       "      <td>France</td>\n",
       "      <td>122.299437</td>\n",
       "      <td>71176346.0</td>\n",
       "      <td>5.0</td>\n",
       "      <td>0.000000</td>\n",
       "      <td>32.0</td>\n",
       "      <td>10.0</td>\n",
       "      <td>3.0</td>\n",
       "      <td>26.0</td>\n",
       "      <td>20.0</td>\n",
       "      <td>9.0</td>\n",
       "      <td>0.0</td>\n",
       "      <td>0.0</td>\n",
       "      <td>22.26</td>\n",
       "      <td>0.510826</td>\n",
       "    </tr>\n",
       "    <tr>\n",
       "      <th>...</th>\n",
       "      <td>...</td>\n",
       "      <td>...</td>\n",
       "      <td>...</td>\n",
       "      <td>...</td>\n",
       "      <td>...</td>\n",
       "      <td>...</td>\n",
       "      <td>...</td>\n",
       "      <td>...</td>\n",
       "      <td>...</td>\n",
       "      <td>...</td>\n",
       "      <td>...</td>\n",
       "      <td>...</td>\n",
       "      <td>...</td>\n",
       "      <td>...</td>\n",
       "      <td>...</td>\n",
       "      <td>...</td>\n",
       "      <td>...</td>\n",
       "      <td>...</td>\n",
       "      <td>...</td>\n",
       "      <td>...</td>\n",
       "    </tr>\n",
       "    <tr>\n",
       "      <th>2194</th>\n",
       "      <td>19438</td>\n",
       "      <td>EEA_3161-02-2</td>\n",
       "      <td>2010</td>\n",
       "      <td>2010-01--2010-12</td>\n",
       "      <td>FRHR180</td>\n",
       "      <td>France</td>\n",
       "      <td>122.299437</td>\n",
       "      <td>71176346.0</td>\n",
       "      <td>0.0</td>\n",
       "      <td>0.000000</td>\n",
       "      <td>32.0</td>\n",
       "      <td>10.0</td>\n",
       "      <td>3.0</td>\n",
       "      <td>26.0</td>\n",
       "      <td>20.0</td>\n",
       "      <td>9.0</td>\n",
       "      <td>0.0</td>\n",
       "      <td>0.0</td>\n",
       "      <td>22.26</td>\n",
       "      <td>NaN</td>\n",
       "    </tr>\n",
       "    <tr>\n",
       "      <th>2195</th>\n",
       "      <td>19462</td>\n",
       "      <td>EEA_3161-02-2</td>\n",
       "      <td>2010</td>\n",
       "      <td>2010-01--2010-12</td>\n",
       "      <td>FRHR228A</td>\n",
       "      <td>France</td>\n",
       "      <td>122.299437</td>\n",
       "      <td>71176346.0</td>\n",
       "      <td>0.0</td>\n",
       "      <td>0.000000</td>\n",
       "      <td>32.0</td>\n",
       "      <td>10.0</td>\n",
       "      <td>3.0</td>\n",
       "      <td>26.0</td>\n",
       "      <td>20.0</td>\n",
       "      <td>9.0</td>\n",
       "      <td>0.0</td>\n",
       "      <td>0.0</td>\n",
       "      <td>22.26</td>\n",
       "      <td>NaN</td>\n",
       "    </tr>\n",
       "    <tr>\n",
       "      <th>2196</th>\n",
       "      <td>19625</td>\n",
       "      <td>EEA_3161-02-2</td>\n",
       "      <td>2009</td>\n",
       "      <td>2009-01--2009-12</td>\n",
       "      <td>UKSC020637</td>\n",
       "      <td>United Kingdom</td>\n",
       "      <td>274.708982</td>\n",
       "      <td>25867961.0</td>\n",
       "      <td>0.0</td>\n",
       "      <td>0.000000</td>\n",
       "      <td>16.7</td>\n",
       "      <td>2.2</td>\n",
       "      <td>3.5</td>\n",
       "      <td>28.2</td>\n",
       "      <td>18.9</td>\n",
       "      <td>20.2</td>\n",
       "      <td>0.0</td>\n",
       "      <td>2.7</td>\n",
       "      <td>27.25</td>\n",
       "      <td>NaN</td>\n",
       "    </tr>\n",
       "    <tr>\n",
       "      <th>2197</th>\n",
       "      <td>19690</td>\n",
       "      <td>EEA_3161-05-5</td>\n",
       "      <td>2010</td>\n",
       "      <td>2010-01--2010-12</td>\n",
       "      <td>ES030MSPF1020010</td>\n",
       "      <td>Spain</td>\n",
       "      <td>93.677197</td>\n",
       "      <td>50941692.0</td>\n",
       "      <td>0.0</td>\n",
       "      <td>87.158924</td>\n",
       "      <td>49.0</td>\n",
       "      <td>8.0</td>\n",
       "      <td>3.0</td>\n",
       "      <td>14.0</td>\n",
       "      <td>15.0</td>\n",
       "      <td>9.0</td>\n",
       "      <td>0.0</td>\n",
       "      <td>0.0</td>\n",
       "      <td>16.84</td>\n",
       "      <td>NaN</td>\n",
       "    </tr>\n",
       "    <tr>\n",
       "      <th>2198</th>\n",
       "      <td>19914</td>\n",
       "      <td>EEA_31615-01-7</td>\n",
       "      <td>2015</td>\n",
       "      <td>2015-01-01--2015-12-31</td>\n",
       "      <td>ES030MSPF0602021</td>\n",
       "      <td>Spain</td>\n",
       "      <td>93.677197</td>\n",
       "      <td>50941692.0</td>\n",
       "      <td>0.0</td>\n",
       "      <td>87.158924</td>\n",
       "      <td>49.0</td>\n",
       "      <td>8.0</td>\n",
       "      <td>3.0</td>\n",
       "      <td>14.0</td>\n",
       "      <td>15.0</td>\n",
       "      <td>9.0</td>\n",
       "      <td>0.0</td>\n",
       "      <td>0.0</td>\n",
       "      <td>16.84</td>\n",
       "      <td>NaN</td>\n",
       "    </tr>\n",
       "  </tbody>\n",
       "</table>\n",
       "<p>2199 rows × 20 columns</p>\n",
       "</div>"
      ],
      "text/plain": [
       "      index            code  year                  period                id  \\\n",
       "0        19   EEA_3161-01-1  2009        2009-01--2009-12           FRDR179   \n",
       "1        20   EEA_3161-05-5  2009        2009-01--2009-12           FRDR179   \n",
       "2        27   EEA_3161-01-1  2009        2009-01--2009-12           FRDR174   \n",
       "3        28   EEA_3161-05-5  2009        2009-01--2009-12           FRDR174   \n",
       "4        49   EEA_3161-01-1  2009        2009-01--2009-12         FRGR0178A   \n",
       "...     ...             ...   ...                     ...               ...   \n",
       "2194  19438   EEA_3161-02-2  2010        2010-01--2010-12           FRHR180   \n",
       "2195  19462   EEA_3161-02-2  2010        2010-01--2010-12          FRHR228A   \n",
       "2196  19625   EEA_3161-02-2  2009        2009-01--2009-12        UKSC020637   \n",
       "2197  19690   EEA_3161-05-5  2010        2010-01--2010-12  ES030MSPF1020010   \n",
       "2198  19914  EEA_31615-01-7  2015  2015-01-01--2015-12-31  ES030MSPF0602021   \n",
       "\n",
       "             Country  population    tourists  venue       rate  food  glass  \\\n",
       "0             France  122.299437  71176346.0    3.0   0.000000  32.0   10.0   \n",
       "1             France  122.299437  71176346.0    3.0   0.000000  32.0   10.0   \n",
       "2             France  122.299437  71176346.0    3.0   0.000000  32.0   10.0   \n",
       "3             France  122.299437  71176346.0    3.0   0.000000  32.0   10.0   \n",
       "4             France  122.299437  71176346.0    5.0   0.000000  32.0   10.0   \n",
       "...              ...         ...         ...    ...        ...   ...    ...   \n",
       "2194          France  122.299437  71176346.0    0.0   0.000000  32.0   10.0   \n",
       "2195          France  122.299437  71176346.0    0.0   0.000000  32.0   10.0   \n",
       "2196  United Kingdom  274.708982  25867961.0    0.0   0.000000  16.7    2.2   \n",
       "2197           Spain   93.677197  50941692.0    0.0  87.158924  49.0    8.0   \n",
       "2198           Spain   93.677197  50941692.0    0.0  87.158924  49.0    8.0   \n",
       "\n",
       "      metal  other  paper  plastic  leather  green_waste  waste_recycling  \\\n",
       "0       3.0   26.0   20.0      9.0      0.0          0.0            22.26   \n",
       "1       3.0   26.0   20.0      9.0      0.0          0.0            22.26   \n",
       "2       3.0   26.0   20.0      9.0      0.0          0.0            22.26   \n",
       "3       3.0   26.0   20.0      9.0      0.0          0.0            22.26   \n",
       "4       3.0   26.0   20.0      9.0      0.0          0.0            22.26   \n",
       "...     ...    ...    ...      ...      ...          ...              ...   \n",
       "2194    3.0   26.0   20.0      9.0      0.0          0.0            22.26   \n",
       "2195    3.0   26.0   20.0      9.0      0.0          0.0            22.26   \n",
       "2196    3.5   28.2   18.9     20.2      0.0          2.7            27.25   \n",
       "2197    3.0   14.0   15.0      9.0      0.0          0.0            16.84   \n",
       "2198    3.0   14.0   15.0      9.0      0.0          0.0            16.84   \n",
       "\n",
       "      polution  \n",
       "0     0.693147  \n",
       "1     0.218495  \n",
       "2     0.693147  \n",
       "3     0.889405  \n",
       "4     0.510826  \n",
       "...        ...  \n",
       "2194       NaN  \n",
       "2195       NaN  \n",
       "2196       NaN  \n",
       "2197       NaN  \n",
       "2198       NaN  \n",
       "\n",
       "[2199 rows x 20 columns]"
      ]
     },
     "execution_count": 189,
     "metadata": {},
     "output_type": "execute_result"
    }
   ],
   "source": [
    "df"
   ]
  },
  {
   "cell_type": "code",
   "execution_count": 5,
   "id": "e68fffe3",
   "metadata": {},
   "outputs": [],
   "source": [
    "df[\"waste_all\"] = df[\"plastic\"] + df[\"food\"] + df[\"paper\"] + df[\"green_waste\"] + df[\"glass\"] +df[\"other\"]+ df[\"metal\"] + df[\"leather\"]"
   ]
  },
  {
   "cell_type": "code",
   "execution_count": 6,
   "id": "b2f635fd",
   "metadata": {},
   "outputs": [
    {
     "data": {
      "text/plain": [
       "100.00    1652\n",
       "98.00      221\n",
       "92.40      214\n",
       "99.23       48\n",
       "97.49       36\n",
       "97.80       16\n",
       "100.10       6\n",
       "116.05       6\n",
       "Name: waste_all, dtype: int64"
      ]
     },
     "execution_count": 6,
     "metadata": {},
     "output_type": "execute_result"
    }
   ],
   "source": [
    "df[\"waste_all\"].value_counts()"
   ]
  },
  {
   "cell_type": "code",
   "execution_count": 7,
   "id": "c1f3a932",
   "metadata": {},
   "outputs": [
    {
     "data": {
      "text/plain": [
       "122.299437    1636\n",
       "93.677197      221\n",
       "274.708982     214\n",
       "18.148547       48\n",
       "377.379590      36\n",
       "30.993471       16\n",
       "24.981498       10\n",
       "237.307597       6\n",
       "44.723076        6\n",
       "79.837686        3\n",
       "250.185185       3\n",
       "Name: population, dtype: int64"
      ]
     },
     "execution_count": 7,
     "metadata": {},
     "output_type": "execute_result"
    }
   ],
   "source": [
    "df[\"population\"].value_counts()"
   ]
  },
  {
   "cell_type": "code",
   "execution_count": 8,
   "id": "ecdfa265",
   "metadata": {},
   "outputs": [
    {
     "data": {
      "text/plain": [
       "0.000000     1953\n",
       "87.158924     221\n",
       "22.198357      16\n",
       "11.090622       6\n",
       "21.867102       3\n",
       "Name: rate, dtype: int64"
      ]
     },
     "execution_count": 8,
     "metadata": {},
     "output_type": "execute_result"
    }
   ],
   "source": [
    "df[\"rate\"].value_counts()"
   ]
  },
  {
   "cell_type": "code",
   "execution_count": 9,
   "id": "1e065526",
   "metadata": {},
   "outputs": [
    {
     "name": "stdout",
     "output_type": "stream",
     "text": [
      "<class 'pandas.core.frame.DataFrame'>\n",
      "Int64Index: 2199 entries, 0 to 219\n",
      "Data columns (total 20 columns):\n",
      " #   Column           Non-Null Count  Dtype  \n",
      "---  ------           --------------  -----  \n",
      " 0   index            2199 non-null   int64  \n",
      " 1   code             2199 non-null   object \n",
      " 2   year             2199 non-null   int64  \n",
      " 3   period           2199 non-null   object \n",
      " 4   id               2199 non-null   object \n",
      " 5   Country          2199 non-null   object \n",
      " 6   population       2199 non-null   float64\n",
      " 7   tourists         2199 non-null   float64\n",
      " 8   venue            2199 non-null   float64\n",
      " 9   rate             2199 non-null   float64\n",
      " 10  food             2199 non-null   float64\n",
      " 11  glass            2199 non-null   float64\n",
      " 12  metal            2199 non-null   float64\n",
      " 13  other            2199 non-null   float64\n",
      " 14  paper            2199 non-null   float64\n",
      " 15  plastic          2199 non-null   float64\n",
      " 16  leather          2199 non-null   float64\n",
      " 17  green_waste      2199 non-null   float64\n",
      " 18  waste_recycling  2199 non-null   float64\n",
      " 19  waste_all        2199 non-null   float64\n",
      "dtypes: float64(14), int64(2), object(4)\n",
      "memory usage: 360.8+ KB\n"
     ]
    }
   ],
   "source": [
    "df.info()"
   ]
  },
  {
   "cell_type": "code",
   "execution_count": 10,
   "id": "ac6bc250",
   "metadata": {},
   "outputs": [],
   "source": [
    "cat_column = [\"code\", \"period\", \"id\", \"Country\"]\n",
    "num_column = [\"year\", \"population\", \"tourists\", \"venue\", \"rate\", \"food\", \"glass\", \"metal\", \"other\", \"paper\", \"plastic\", \"leather\", \"green_waste\", \"waste_recycling\"]\n",
    "column_name= cat_column + num_column"
   ]
  },
  {
   "cell_type": "markdown",
   "id": "135e40d4",
   "metadata": {},
   "source": [
    "Матрица корреляции. Рассмотрим связь признаков друг с другом и с таргетом"
   ]
  },
  {
   "cell_type": "code",
   "execution_count": 176,
   "id": "fc9e8eae",
   "metadata": {},
   "outputs": [
    {
     "data": {
      "text/plain": [
       "<AxesSubplot:>"
      ]
     },
     "execution_count": 176,
     "metadata": {},
     "output_type": "execute_result"
    },
    {
     "data": {
      "image/png": "[encoded data removed]",
      "text/plain": [
       "<Figure size 1440x720 with 2 Axes>"
      ]
     },
     "metadata": {
      "needs_background": "light"
     },
     "output_type": "display_data"
    }
   ],
   "source": [
    "plt.figure(figsize=(20, 10))\n",
    "sns.set(font_scale=1.2)\n",
    "corr_matrix = df1.corr()\n",
    "sns.heatmap(corr_matrix, annot=True, linewidths=.5, cmap='coolwarm')"
   ]
  },
  {
   "cell_type": "markdown",
   "id": "b0f8d75c",
   "metadata": {},
   "source": [
    "### Рассмотрим связь коррелирующих  друг с другом признаков"
   ]
  },
  {
   "cell_type": "code",
   "execution_count": 5,
   "id": "d217fc54",
   "metadata": {},
   "outputs": [],
   "source": [
    "df = df.drop(\"green_waste\", axis = 1)\n",
    "# df = df.drop(\"food\", axis = 1)\n",
    "df = df.drop(\"paper\", axis = 1)\n",
    "df = df.drop(\"metal\", axis = 1)\n",
    "df = df.drop(\"leather\", axis = 1)\n",
    "df = df.drop(\"glass\", axis = 1)\n",
    "df = df.drop(\"plastic\", axis = 1)\n",
    "# # df = df.drop(\"other\", axis = 1)"
   ]
  },
  {
   "cell_type": "code",
   "execution_count": 6,
   "id": "76003d84",
   "metadata": {},
   "outputs": [],
   "source": [
    "# df = df.drop(\"population\", axis = 1)"
   ]
  },
  {
   "cell_type": "code",
   "execution_count": 7,
   "id": "c67498f8",
   "metadata": {},
   "outputs": [],
   "source": [
    "# df = df.drop(\"tourists\", axis = 1)"
   ]
  },
  {
   "cell_type": "code",
   "execution_count": 8,
   "id": "c131e0fc",
   "metadata": {},
   "outputs": [],
   "source": [
    "# df = df.drop(\"rate\", axis = 1)"
   ]
  },
  {
   "cell_type": "code",
   "execution_count": 9,
   "id": "064ffa12",
   "metadata": {},
   "outputs": [],
   "source": [
    "df = df.drop(\"venue\", axis = 1)"
   ]
  },
  {
   "cell_type": "code",
   "execution_count": 10,
   "id": "7bf358ea",
   "metadata": {},
   "outputs": [],
   "source": [
    "df = df.drop(\"year\", axis = 1)"
   ]
  },
  {
   "cell_type": "code",
   "execution_count": 11,
   "id": "7ba00c44",
   "metadata": {},
   "outputs": [],
   "source": [
    "df = df.drop(\"index\", axis = 1)"
   ]
  },
  {
   "cell_type": "code",
   "execution_count": 12,
   "id": "07d7edc8",
   "metadata": {},
   "outputs": [
    {
     "data": {
      "text/plain": [
       "<AxesSubplot:>"
      ]
     },
     "execution_count": 12,
     "metadata": {},
     "output_type": "execute_result"
    },
    {
     "data": {
      "image/png": "[encoded data removed]",
      "text/plain": [
       "<Figure size 1440x720 with 2 Axes>"
      ]
     },
     "metadata": {
      "needs_background": "light"
     },
     "output_type": "display_data"
    }
   ],
   "source": [
    "plt.figure(figsize=(20, 10))\n",
    "sns.set(font_scale=1.2)\n",
    "corr_matrix = df.corr()\n",
    "sns.heatmap(corr_matrix, annot=True, linewidths=.5, cmap='coolwarm')"
   ]
  },
  {
   "cell_type": "markdown",
   "id": "6f192f9b",
   "metadata": {},
   "source": [
    "## Категориальные признаки"
   ]
  },
  {
   "cell_type": "code",
   "execution_count": 15,
   "id": "f382f296",
   "metadata": {
    "scrolled": true
   },
   "outputs": [
    {
     "data": {
      "text/html": [
       "<div>\n",
       "<style scoped>\n",
       "    .dataframe tbody tr th:only-of-type {\n",
       "        vertical-align: middle;\n",
       "    }\n",
       "\n",
       "    .dataframe tbody tr th {\n",
       "        vertical-align: top;\n",
       "    }\n",
       "\n",
       "    .dataframe thead th {\n",
       "        text-align: right;\n",
       "    }\n",
       "</style>\n",
       "<table border=\"1\" class=\"dataframe\">\n",
       "  <thead>\n",
       "    <tr style=\"text-align: right;\">\n",
       "      <th></th>\n",
       "      <th>code</th>\n",
       "      <th>period</th>\n",
       "      <th>id</th>\n",
       "      <th>Country</th>\n",
       "      <th>other</th>\n",
       "      <th>waste_recycling</th>\n",
       "      <th>waste_all</th>\n",
       "    </tr>\n",
       "  </thead>\n",
       "  <tbody>\n",
       "    <tr>\n",
       "      <th>0</th>\n",
       "      <td>EEA_3161-01-1</td>\n",
       "      <td>2009-01--2009-12</td>\n",
       "      <td>FRDR179</td>\n",
       "      <td>France</td>\n",
       "      <td>26.0</td>\n",
       "      <td>22.26</td>\n",
       "      <td>100.0</td>\n",
       "    </tr>\n",
       "    <tr>\n",
       "      <th>1</th>\n",
       "      <td>EEA_3161-05-5</td>\n",
       "      <td>2009-01--2009-12</td>\n",
       "      <td>FRDR179</td>\n",
       "      <td>France</td>\n",
       "      <td>26.0</td>\n",
       "      <td>22.26</td>\n",
       "      <td>100.0</td>\n",
       "    </tr>\n",
       "    <tr>\n",
       "      <th>2</th>\n",
       "      <td>EEA_3161-01-1</td>\n",
       "      <td>2009-01--2009-12</td>\n",
       "      <td>FRDR174</td>\n",
       "      <td>France</td>\n",
       "      <td>26.0</td>\n",
       "      <td>22.26</td>\n",
       "      <td>100.0</td>\n",
       "    </tr>\n",
       "    <tr>\n",
       "      <th>3</th>\n",
       "      <td>EEA_3161-05-5</td>\n",
       "      <td>2009-01--2009-12</td>\n",
       "      <td>FRDR174</td>\n",
       "      <td>France</td>\n",
       "      <td>26.0</td>\n",
       "      <td>22.26</td>\n",
       "      <td>100.0</td>\n",
       "    </tr>\n",
       "    <tr>\n",
       "      <th>4</th>\n",
       "      <td>EEA_3161-01-1</td>\n",
       "      <td>2009-01--2009-12</td>\n",
       "      <td>FRGR0178A</td>\n",
       "      <td>France</td>\n",
       "      <td>26.0</td>\n",
       "      <td>22.26</td>\n",
       "      <td>100.0</td>\n",
       "    </tr>\n",
       "    <tr>\n",
       "      <th>...</th>\n",
       "      <td>...</td>\n",
       "      <td>...</td>\n",
       "      <td>...</td>\n",
       "      <td>...</td>\n",
       "      <td>...</td>\n",
       "      <td>...</td>\n",
       "      <td>...</td>\n",
       "    </tr>\n",
       "    <tr>\n",
       "      <th>215</th>\n",
       "      <td>EEA_3161-02-2</td>\n",
       "      <td>2010-01--2010-12</td>\n",
       "      <td>FRHR180</td>\n",
       "      <td>France</td>\n",
       "      <td>26.0</td>\n",
       "      <td>22.26</td>\n",
       "      <td>100.0</td>\n",
       "    </tr>\n",
       "    <tr>\n",
       "      <th>216</th>\n",
       "      <td>EEA_3161-02-2</td>\n",
       "      <td>2010-01--2010-12</td>\n",
       "      <td>FRHR228A</td>\n",
       "      <td>France</td>\n",
       "      <td>26.0</td>\n",
       "      <td>22.26</td>\n",
       "      <td>100.0</td>\n",
       "    </tr>\n",
       "    <tr>\n",
       "      <th>217</th>\n",
       "      <td>EEA_3161-02-2</td>\n",
       "      <td>2009-01--2009-12</td>\n",
       "      <td>UKSC020637</td>\n",
       "      <td>United Kingdom</td>\n",
       "      <td>28.2</td>\n",
       "      <td>27.25</td>\n",
       "      <td>92.4</td>\n",
       "    </tr>\n",
       "    <tr>\n",
       "      <th>218</th>\n",
       "      <td>EEA_3161-05-5</td>\n",
       "      <td>2010-01--2010-12</td>\n",
       "      <td>ES030MSPF1020010</td>\n",
       "      <td>Spain</td>\n",
       "      <td>14.0</td>\n",
       "      <td>16.84</td>\n",
       "      <td>98.0</td>\n",
       "    </tr>\n",
       "    <tr>\n",
       "      <th>219</th>\n",
       "      <td>EEA_31615-01-7</td>\n",
       "      <td>2015-01-01--2015-12-31</td>\n",
       "      <td>ES030MSPF0602021</td>\n",
       "      <td>Spain</td>\n",
       "      <td>14.0</td>\n",
       "      <td>16.84</td>\n",
       "      <td>98.0</td>\n",
       "    </tr>\n",
       "  </tbody>\n",
       "</table>\n",
       "<p>2199 rows × 7 columns</p>\n",
       "</div>"
      ],
      "text/plain": [
       "               code                  period                id         Country  \\\n",
       "0     EEA_3161-01-1        2009-01--2009-12           FRDR179          France   \n",
       "1     EEA_3161-05-5        2009-01--2009-12           FRDR179          France   \n",
       "2     EEA_3161-01-1        2009-01--2009-12           FRDR174          France   \n",
       "3     EEA_3161-05-5        2009-01--2009-12           FRDR174          France   \n",
       "4     EEA_3161-01-1        2009-01--2009-12         FRGR0178A          France   \n",
       "..              ...                     ...               ...             ...   \n",
       "215   EEA_3161-02-2        2010-01--2010-12           FRHR180          France   \n",
       "216   EEA_3161-02-2        2010-01--2010-12          FRHR228A          France   \n",
       "217   EEA_3161-02-2        2009-01--2009-12        UKSC020637  United Kingdom   \n",
       "218   EEA_3161-05-5        2010-01--2010-12  ES030MSPF1020010           Spain   \n",
       "219  EEA_31615-01-7  2015-01-01--2015-12-31  ES030MSPF0602021           Spain   \n",
       "\n",
       "     other  waste_recycling  waste_all  \n",
       "0     26.0            22.26      100.0  \n",
       "1     26.0            22.26      100.0  \n",
       "2     26.0            22.26      100.0  \n",
       "3     26.0            22.26      100.0  \n",
       "4     26.0            22.26      100.0  \n",
       "..     ...              ...        ...  \n",
       "215   26.0            22.26      100.0  \n",
       "216   26.0            22.26      100.0  \n",
       "217   28.2            27.25       92.4  \n",
       "218   14.0            16.84       98.0  \n",
       "219   14.0            16.84       98.0  \n",
       "\n",
       "[2199 rows x 7 columns]"
      ]
     },
     "execution_count": 15,
     "metadata": {},
     "output_type": "execute_result"
    }
   ],
   "source": [
    "### Категориальные\n",
    "df"
   ]
  },
  {
   "cell_type": "markdown",
   "id": "caabb798",
   "metadata": {},
   "source": [
    "### Period"
   ]
  },
  {
   "cell_type": "markdown",
   "id": "324f5da4",
   "metadata": {},
   "source": [
    "Рассчитаем число месяцев в течении которых были произведены измерения"
   ]
  },
  {
   "cell_type": "code",
   "execution_count": 669,
   "id": "871f9f0e",
   "metadata": {},
   "outputs": [],
   "source": [
    "def convert_to_arr(col):\n",
    "    string = str(col)\n",
    "    dates = string.split('--')\n",
    "    arr = []\n",
    "    for i in dates:\n",
    "        ym = i.split('-')\n",
    "        arr.append((int(ym[0]), int(ym[1])))\n",
    "    return arr"
   ]
  },
  {
   "cell_type": "code",
   "execution_count": 670,
   "id": "b26903ba",
   "metadata": {},
   "outputs": [],
   "source": [
    "def convert_to_month(arr):\n",
    "    arr = convert_to_arr(arr)\n",
    "    if arr[0][0] == arr[1][0]:\n",
    "        m = arr[1][1]-arr[0][1]+1\n",
    "    else: \n",
    "        m = 12 - arr[0][1] + arr[1][1] +1\n",
    "    return m"
   ]
  },
  {
   "cell_type": "code",
   "execution_count": 671,
   "id": "fea5a927",
   "metadata": {},
   "outputs": [],
   "source": [
    "df['period_month'] = df['period'].apply(convert_to_month)"
   ]
  },
  {
   "cell_type": "code",
   "execution_count": 672,
   "id": "3c376160",
   "metadata": {},
   "outputs": [],
   "source": [
    "df.drop(\"period\", axis=1, inplace=True)"
   ]
  },
  {
   "cell_type": "markdown",
   "id": "80fe70d2",
   "metadata": {},
   "source": [
    "### Tourists"
   ]
  },
  {
   "cell_type": "markdown",
   "id": "6eef077d",
   "metadata": {},
   "source": [
    "### Сделаем one hot encoding категориальных признаков"
   ]
  },
  {
   "cell_type": "code",
   "execution_count": 883,
   "id": "64d4bd4a",
   "metadata": {},
   "outputs": [],
   "source": [
    "df=df.drop(\"waste_recycling\", axis=1)"
   ]
  },
  {
   "cell_type": "code",
   "execution_count": 926,
   "id": "baeca814",
   "metadata": {},
   "outputs": [
    {
     "data": {
      "text/plain": [
       "22.260    1636\n",
       "16.840     221\n",
       "27.250     214\n",
       "28.120      48\n",
       "34.303      36\n",
       "21.230      16\n",
       "32.370      10\n",
       "47.830       6\n",
       "22.920       6\n",
       "0.760        3\n",
       "28.370       3\n",
       "Name: waste_recycling, dtype: int64"
      ]
     },
     "execution_count": 926,
     "metadata": {},
     "output_type": "execute_result"
    }
   ],
   "source": [
    "df[\"waste_recycling\"].value_counts()"
   ]
  },
  {
   "cell_type": "code",
   "execution_count": 13,
   "id": "e0bbc772",
   "metadata": {},
   "outputs": [],
   "source": [
    "df=df.drop(\"polution\", axis=1)"
   ]
  },
  {
   "cell_type": "code",
   "execution_count": 14,
   "id": "64bf3fa6",
   "metadata": {},
   "outputs": [],
   "source": [
    "# df=df.drop(\"index\", axis=1)"
   ]
  },
  {
   "cell_type": "code",
   "execution_count": 15,
   "id": "e71da184",
   "metadata": {},
   "outputs": [
    {
     "data": {
      "text/html": [
       "<div>\n",
       "<style scoped>\n",
       "    .dataframe tbody tr th:only-of-type {\n",
       "        vertical-align: middle;\n",
       "    }\n",
       "\n",
       "    .dataframe tbody tr th {\n",
       "        vertical-align: top;\n",
       "    }\n",
       "\n",
       "    .dataframe thead th {\n",
       "        text-align: right;\n",
       "    }\n",
       "</style>\n",
       "<table border=\"1\" class=\"dataframe\">\n",
       "  <thead>\n",
       "    <tr style=\"text-align: right;\">\n",
       "      <th></th>\n",
       "      <th>code</th>\n",
       "      <th>period</th>\n",
       "      <th>id</th>\n",
       "      <th>Country</th>\n",
       "      <th>population</th>\n",
       "      <th>tourists</th>\n",
       "      <th>rate</th>\n",
       "      <th>food</th>\n",
       "      <th>other</th>\n",
       "      <th>waste_recycling</th>\n",
       "    </tr>\n",
       "  </thead>\n",
       "  <tbody>\n",
       "    <tr>\n",
       "      <th>0</th>\n",
       "      <td>EEA_3161-01-1</td>\n",
       "      <td>2009-01--2009-12</td>\n",
       "      <td>FRDR179</td>\n",
       "      <td>France</td>\n",
       "      <td>122.299437</td>\n",
       "      <td>71176346.0</td>\n",
       "      <td>0.0</td>\n",
       "      <td>32.0</td>\n",
       "      <td>26.0</td>\n",
       "      <td>22.26</td>\n",
       "    </tr>\n",
       "    <tr>\n",
       "      <th>1</th>\n",
       "      <td>EEA_3161-05-5</td>\n",
       "      <td>2009-01--2009-12</td>\n",
       "      <td>FRDR179</td>\n",
       "      <td>France</td>\n",
       "      <td>122.299437</td>\n",
       "      <td>71176346.0</td>\n",
       "      <td>0.0</td>\n",
       "      <td>32.0</td>\n",
       "      <td>26.0</td>\n",
       "      <td>22.26</td>\n",
       "    </tr>\n",
       "    <tr>\n",
       "      <th>2</th>\n",
       "      <td>EEA_3161-01-1</td>\n",
       "      <td>2009-01--2009-12</td>\n",
       "      <td>FRDR174</td>\n",
       "      <td>France</td>\n",
       "      <td>122.299437</td>\n",
       "      <td>71176346.0</td>\n",
       "      <td>0.0</td>\n",
       "      <td>32.0</td>\n",
       "      <td>26.0</td>\n",
       "      <td>22.26</td>\n",
       "    </tr>\n",
       "    <tr>\n",
       "      <th>3</th>\n",
       "      <td>EEA_3161-05-5</td>\n",
       "      <td>2009-01--2009-12</td>\n",
       "      <td>FRDR174</td>\n",
       "      <td>France</td>\n",
       "      <td>122.299437</td>\n",
       "      <td>71176346.0</td>\n",
       "      <td>0.0</td>\n",
       "      <td>32.0</td>\n",
       "      <td>26.0</td>\n",
       "      <td>22.26</td>\n",
       "    </tr>\n",
       "    <tr>\n",
       "      <th>4</th>\n",
       "      <td>EEA_3161-01-1</td>\n",
       "      <td>2009-01--2009-12</td>\n",
       "      <td>FRGR0178A</td>\n",
       "      <td>France</td>\n",
       "      <td>122.299437</td>\n",
       "      <td>71176346.0</td>\n",
       "      <td>0.0</td>\n",
       "      <td>32.0</td>\n",
       "      <td>26.0</td>\n",
       "      <td>22.26</td>\n",
       "    </tr>\n",
       "  </tbody>\n",
       "</table>\n",
       "</div>"
      ],
      "text/plain": [
       "            code            period         id Country  population    tourists  \\\n",
       "0  EEA_3161-01-1  2009-01--2009-12    FRDR179  France  122.299437  71176346.0   \n",
       "1  EEA_3161-05-5  2009-01--2009-12    FRDR179  France  122.299437  71176346.0   \n",
       "2  EEA_3161-01-1  2009-01--2009-12    FRDR174  France  122.299437  71176346.0   \n",
       "3  EEA_3161-05-5  2009-01--2009-12    FRDR174  France  122.299437  71176346.0   \n",
       "4  EEA_3161-01-1  2009-01--2009-12  FRGR0178A  France  122.299437  71176346.0   \n",
       "\n",
       "   rate  food  other  waste_recycling  \n",
       "0   0.0  32.0   26.0            22.26  \n",
       "1   0.0  32.0   26.0            22.26  \n",
       "2   0.0  32.0   26.0            22.26  \n",
       "3   0.0  32.0   26.0            22.26  \n",
       "4   0.0  32.0   26.0            22.26  "
      ]
     },
     "execution_count": 15,
     "metadata": {},
     "output_type": "execute_result"
    }
   ],
   "source": [
    "df.head()"
   ]
  },
  {
   "cell_type": "code",
   "execution_count": 16,
   "id": "88870850",
   "metadata": {},
   "outputs": [],
   "source": [
    "df = pd.get_dummies(df, columns=[\"code\", \"id\", \"period\", \"Country\"])"
   ]
  },
  {
   "cell_type": "code",
   "execution_count": 17,
   "id": "2fba020e",
   "metadata": {},
   "outputs": [
    {
     "data": {
      "text/html": [
       "<div>\n",
       "<style scoped>\n",
       "    .dataframe tbody tr th:only-of-type {\n",
       "        vertical-align: middle;\n",
       "    }\n",
       "\n",
       "    .dataframe tbody tr th {\n",
       "        vertical-align: top;\n",
       "    }\n",
       "\n",
       "    .dataframe thead th {\n",
       "        text-align: right;\n",
       "    }\n",
       "</style>\n",
       "<table border=\"1\" class=\"dataframe\">\n",
       "  <thead>\n",
       "    <tr style=\"text-align: right;\">\n",
       "      <th></th>\n",
       "      <th>population</th>\n",
       "      <th>tourists</th>\n",
       "      <th>rate</th>\n",
       "      <th>food</th>\n",
       "      <th>other</th>\n",
       "      <th>waste_recycling</th>\n",
       "      <th>code_EEA_3161-01-1</th>\n",
       "      <th>code_EEA_3161-02-2</th>\n",
       "      <th>code_EEA_3161-03-3</th>\n",
       "      <th>code_EEA_3161-05-5</th>\n",
       "      <th>...</th>\n",
       "      <th>Country_Finland</th>\n",
       "      <th>Country_France</th>\n",
       "      <th>Country_Germany</th>\n",
       "      <th>Country_Latvia</th>\n",
       "      <th>Country_Lithuania</th>\n",
       "      <th>Country_Luxembourg</th>\n",
       "      <th>Country_Serbia</th>\n",
       "      <th>Country_Spain</th>\n",
       "      <th>Country_Sweden</th>\n",
       "      <th>Country_United Kingdom</th>\n",
       "    </tr>\n",
       "  </thead>\n",
       "  <tbody>\n",
       "    <tr>\n",
       "      <th>0</th>\n",
       "      <td>122.299437</td>\n",
       "      <td>71176346.0</td>\n",
       "      <td>0.000000</td>\n",
       "      <td>32.0</td>\n",
       "      <td>26.0</td>\n",
       "      <td>22.26</td>\n",
       "      <td>1</td>\n",
       "      <td>0</td>\n",
       "      <td>0</td>\n",
       "      <td>0</td>\n",
       "      <td>...</td>\n",
       "      <td>0</td>\n",
       "      <td>1</td>\n",
       "      <td>0</td>\n",
       "      <td>0</td>\n",
       "      <td>0</td>\n",
       "      <td>0</td>\n",
       "      <td>0</td>\n",
       "      <td>0</td>\n",
       "      <td>0</td>\n",
       "      <td>0</td>\n",
       "    </tr>\n",
       "    <tr>\n",
       "      <th>1</th>\n",
       "      <td>122.299437</td>\n",
       "      <td>71176346.0</td>\n",
       "      <td>0.000000</td>\n",
       "      <td>32.0</td>\n",
       "      <td>26.0</td>\n",
       "      <td>22.26</td>\n",
       "      <td>0</td>\n",
       "      <td>0</td>\n",
       "      <td>0</td>\n",
       "      <td>1</td>\n",
       "      <td>...</td>\n",
       "      <td>0</td>\n",
       "      <td>1</td>\n",
       "      <td>0</td>\n",
       "      <td>0</td>\n",
       "      <td>0</td>\n",
       "      <td>0</td>\n",
       "      <td>0</td>\n",
       "      <td>0</td>\n",
       "      <td>0</td>\n",
       "      <td>0</td>\n",
       "    </tr>\n",
       "    <tr>\n",
       "      <th>2</th>\n",
       "      <td>122.299437</td>\n",
       "      <td>71176346.0</td>\n",
       "      <td>0.000000</td>\n",
       "      <td>32.0</td>\n",
       "      <td>26.0</td>\n",
       "      <td>22.26</td>\n",
       "      <td>1</td>\n",
       "      <td>0</td>\n",
       "      <td>0</td>\n",
       "      <td>0</td>\n",
       "      <td>...</td>\n",
       "      <td>0</td>\n",
       "      <td>1</td>\n",
       "      <td>0</td>\n",
       "      <td>0</td>\n",
       "      <td>0</td>\n",
       "      <td>0</td>\n",
       "      <td>0</td>\n",
       "      <td>0</td>\n",
       "      <td>0</td>\n",
       "      <td>0</td>\n",
       "    </tr>\n",
       "    <tr>\n",
       "      <th>3</th>\n",
       "      <td>122.299437</td>\n",
       "      <td>71176346.0</td>\n",
       "      <td>0.000000</td>\n",
       "      <td>32.0</td>\n",
       "      <td>26.0</td>\n",
       "      <td>22.26</td>\n",
       "      <td>0</td>\n",
       "      <td>0</td>\n",
       "      <td>0</td>\n",
       "      <td>1</td>\n",
       "      <td>...</td>\n",
       "      <td>0</td>\n",
       "      <td>1</td>\n",
       "      <td>0</td>\n",
       "      <td>0</td>\n",
       "      <td>0</td>\n",
       "      <td>0</td>\n",
       "      <td>0</td>\n",
       "      <td>0</td>\n",
       "      <td>0</td>\n",
       "      <td>0</td>\n",
       "    </tr>\n",
       "    <tr>\n",
       "      <th>4</th>\n",
       "      <td>122.299437</td>\n",
       "      <td>71176346.0</td>\n",
       "      <td>0.000000</td>\n",
       "      <td>32.0</td>\n",
       "      <td>26.0</td>\n",
       "      <td>22.26</td>\n",
       "      <td>1</td>\n",
       "      <td>0</td>\n",
       "      <td>0</td>\n",
       "      <td>0</td>\n",
       "      <td>...</td>\n",
       "      <td>0</td>\n",
       "      <td>1</td>\n",
       "      <td>0</td>\n",
       "      <td>0</td>\n",
       "      <td>0</td>\n",
       "      <td>0</td>\n",
       "      <td>0</td>\n",
       "      <td>0</td>\n",
       "      <td>0</td>\n",
       "      <td>0</td>\n",
       "    </tr>\n",
       "    <tr>\n",
       "      <th>...</th>\n",
       "      <td>...</td>\n",
       "      <td>...</td>\n",
       "      <td>...</td>\n",
       "      <td>...</td>\n",
       "      <td>...</td>\n",
       "      <td>...</td>\n",
       "      <td>...</td>\n",
       "      <td>...</td>\n",
       "      <td>...</td>\n",
       "      <td>...</td>\n",
       "      <td>...</td>\n",
       "      <td>...</td>\n",
       "      <td>...</td>\n",
       "      <td>...</td>\n",
       "      <td>...</td>\n",
       "      <td>...</td>\n",
       "      <td>...</td>\n",
       "      <td>...</td>\n",
       "      <td>...</td>\n",
       "      <td>...</td>\n",
       "      <td>...</td>\n",
       "    </tr>\n",
       "    <tr>\n",
       "      <th>2194</th>\n",
       "      <td>122.299437</td>\n",
       "      <td>71176346.0</td>\n",
       "      <td>0.000000</td>\n",
       "      <td>32.0</td>\n",
       "      <td>26.0</td>\n",
       "      <td>22.26</td>\n",
       "      <td>0</td>\n",
       "      <td>1</td>\n",
       "      <td>0</td>\n",
       "      <td>0</td>\n",
       "      <td>...</td>\n",
       "      <td>0</td>\n",
       "      <td>1</td>\n",
       "      <td>0</td>\n",
       "      <td>0</td>\n",
       "      <td>0</td>\n",
       "      <td>0</td>\n",
       "      <td>0</td>\n",
       "      <td>0</td>\n",
       "      <td>0</td>\n",
       "      <td>0</td>\n",
       "    </tr>\n",
       "    <tr>\n",
       "      <th>2195</th>\n",
       "      <td>122.299437</td>\n",
       "      <td>71176346.0</td>\n",
       "      <td>0.000000</td>\n",
       "      <td>32.0</td>\n",
       "      <td>26.0</td>\n",
       "      <td>22.26</td>\n",
       "      <td>0</td>\n",
       "      <td>1</td>\n",
       "      <td>0</td>\n",
       "      <td>0</td>\n",
       "      <td>...</td>\n",
       "      <td>0</td>\n",
       "      <td>1</td>\n",
       "      <td>0</td>\n",
       "      <td>0</td>\n",
       "      <td>0</td>\n",
       "      <td>0</td>\n",
       "      <td>0</td>\n",
       "      <td>0</td>\n",
       "      <td>0</td>\n",
       "      <td>0</td>\n",
       "    </tr>\n",
       "    <tr>\n",
       "      <th>2196</th>\n",
       "      <td>274.708982</td>\n",
       "      <td>25867961.0</td>\n",
       "      <td>0.000000</td>\n",
       "      <td>16.7</td>\n",
       "      <td>28.2</td>\n",
       "      <td>27.25</td>\n",
       "      <td>0</td>\n",
       "      <td>1</td>\n",
       "      <td>0</td>\n",
       "      <td>0</td>\n",
       "      <td>...</td>\n",
       "      <td>0</td>\n",
       "      <td>0</td>\n",
       "      <td>0</td>\n",
       "      <td>0</td>\n",
       "      <td>0</td>\n",
       "      <td>0</td>\n",
       "      <td>0</td>\n",
       "      <td>0</td>\n",
       "      <td>0</td>\n",
       "      <td>1</td>\n",
       "    </tr>\n",
       "    <tr>\n",
       "      <th>2197</th>\n",
       "      <td>93.677197</td>\n",
       "      <td>50941692.0</td>\n",
       "      <td>87.158924</td>\n",
       "      <td>49.0</td>\n",
       "      <td>14.0</td>\n",
       "      <td>16.84</td>\n",
       "      <td>0</td>\n",
       "      <td>0</td>\n",
       "      <td>0</td>\n",
       "      <td>1</td>\n",
       "      <td>...</td>\n",
       "      <td>0</td>\n",
       "      <td>0</td>\n",
       "      <td>0</td>\n",
       "      <td>0</td>\n",
       "      <td>0</td>\n",
       "      <td>0</td>\n",
       "      <td>0</td>\n",
       "      <td>1</td>\n",
       "      <td>0</td>\n",
       "      <td>0</td>\n",
       "    </tr>\n",
       "    <tr>\n",
       "      <th>2198</th>\n",
       "      <td>93.677197</td>\n",
       "      <td>50941692.0</td>\n",
       "      <td>87.158924</td>\n",
       "      <td>49.0</td>\n",
       "      <td>14.0</td>\n",
       "      <td>16.84</td>\n",
       "      <td>0</td>\n",
       "      <td>0</td>\n",
       "      <td>0</td>\n",
       "      <td>0</td>\n",
       "      <td>...</td>\n",
       "      <td>0</td>\n",
       "      <td>0</td>\n",
       "      <td>0</td>\n",
       "      <td>0</td>\n",
       "      <td>0</td>\n",
       "      <td>0</td>\n",
       "      <td>0</td>\n",
       "      <td>1</td>\n",
       "      <td>0</td>\n",
       "      <td>0</td>\n",
       "    </tr>\n",
       "  </tbody>\n",
       "</table>\n",
       "<p>2199 rows × 594 columns</p>\n",
       "</div>"
      ],
      "text/plain": [
       "      population    tourists       rate  food  other  waste_recycling  \\\n",
       "0     122.299437  71176346.0   0.000000  32.0   26.0            22.26   \n",
       "1     122.299437  71176346.0   0.000000  32.0   26.0            22.26   \n",
       "2     122.299437  71176346.0   0.000000  32.0   26.0            22.26   \n",
       "3     122.299437  71176346.0   0.000000  32.0   26.0            22.26   \n",
       "4     122.299437  71176346.0   0.000000  32.0   26.0            22.26   \n",
       "...          ...         ...        ...   ...    ...              ...   \n",
       "2194  122.299437  71176346.0   0.000000  32.0   26.0            22.26   \n",
       "2195  122.299437  71176346.0   0.000000  32.0   26.0            22.26   \n",
       "2196  274.708982  25867961.0   0.000000  16.7   28.2            27.25   \n",
       "2197   93.677197  50941692.0  87.158924  49.0   14.0            16.84   \n",
       "2198   93.677197  50941692.0  87.158924  49.0   14.0            16.84   \n",
       "\n",
       "      code_EEA_3161-01-1  code_EEA_3161-02-2  code_EEA_3161-03-3  \\\n",
       "0                      1                   0                   0   \n",
       "1                      0                   0                   0   \n",
       "2                      1                   0                   0   \n",
       "3                      0                   0                   0   \n",
       "4                      1                   0                   0   \n",
       "...                  ...                 ...                 ...   \n",
       "2194                   0                   1                   0   \n",
       "2195                   0                   1                   0   \n",
       "2196                   0                   1                   0   \n",
       "2197                   0                   0                   0   \n",
       "2198                   0                   0                   0   \n",
       "\n",
       "      code_EEA_3161-05-5  ...  Country_Finland  Country_France  \\\n",
       "0                      0  ...                0               1   \n",
       "1                      1  ...                0               1   \n",
       "2                      0  ...                0               1   \n",
       "3                      1  ...                0               1   \n",
       "4                      0  ...                0               1   \n",
       "...                  ...  ...              ...             ...   \n",
       "2194                   0  ...                0               1   \n",
       "2195                   0  ...                0               1   \n",
       "2196                   0  ...                0               0   \n",
       "2197                   1  ...                0               0   \n",
       "2198                   0  ...                0               0   \n",
       "\n",
       "      Country_Germany  Country_Latvia  Country_Lithuania  Country_Luxembourg  \\\n",
       "0                   0               0                  0                   0   \n",
       "1                   0               0                  0                   0   \n",
       "2                   0               0                  0                   0   \n",
       "3                   0               0                  0                   0   \n",
       "4                   0               0                  0                   0   \n",
       "...               ...             ...                ...                 ...   \n",
       "2194                0               0                  0                   0   \n",
       "2195                0               0                  0                   0   \n",
       "2196                0               0                  0                   0   \n",
       "2197                0               0                  0                   0   \n",
       "2198                0               0                  0                   0   \n",
       "\n",
       "      Country_Serbia  Country_Spain  Country_Sweden  Country_United Kingdom  \n",
       "0                  0              0               0                       0  \n",
       "1                  0              0               0                       0  \n",
       "2                  0              0               0                       0  \n",
       "3                  0              0               0                       0  \n",
       "4                  0              0               0                       0  \n",
       "...              ...            ...             ...                     ...  \n",
       "2194               0              0               0                       0  \n",
       "2195               0              0               0                       0  \n",
       "2196               0              0               0                       1  \n",
       "2197               0              1               0                       0  \n",
       "2198               0              1               0                       0  \n",
       "\n",
       "[2199 rows x 594 columns]"
      ]
     },
     "execution_count": 17,
     "metadata": {},
     "output_type": "execute_result"
    }
   ],
   "source": [
    "df"
   ]
  },
  {
   "cell_type": "code",
   "execution_count": 431,
   "id": "b10892a0",
   "metadata": {},
   "outputs": [],
   "source": [
    "num_column = [\"year\", \"population\", \"tourists\", \"venue\", \"rate\", \"food\", \"glass\", \"metal\", \"other\", \"paper\", \"plastic\", \"leather\", \"green_waste\", \"waste_recycling\"]"
   ]
  },
  {
   "cell_type": "code",
   "execution_count": 18,
   "id": "48258656",
   "metadata": {},
   "outputs": [],
   "source": [
    "num_column = [\"tourists\", \"other\", \"population\", \"rate\",  \"waste_recycling\", \"food\"]"
   ]
  },
  {
   "cell_type": "code",
   "execution_count": null,
   "id": "7e648bf8",
   "metadata": {},
   "outputs": [],
   "source": []
  },
  {
   "cell_type": "markdown",
   "id": "28fbc0d0",
   "metadata": {},
   "source": [
    "#### StandardScaler на всем наборе данных без разбиения"
   ]
  },
  {
   "cell_type": "code",
   "execution_count": 19,
   "id": "9a3ca912",
   "metadata": {},
   "outputs": [],
   "source": [
    "def get_scale(df,col, model):\n",
    "    \n",
    "    scal = model.fit_transform(df[col])\n",
    "    df[col] = scal\n",
    "    return df"
   ]
  },
  {
   "cell_type": "code",
   "execution_count": 22,
   "id": "d3cb3cdd",
   "metadata": {},
   "outputs": [],
   "source": [
    "df = get_scale(df, num_column, MinMaxScaler())"
   ]
  },
  {
   "cell_type": "code",
   "execution_count": null,
   "id": "ad260b44",
   "metadata": {},
   "outputs": [],
   "source": [
    "df"
   ]
  },
  {
   "cell_type": "code",
   "execution_count": 767,
   "id": "2ba81bd1",
   "metadata": {},
   "outputs": [],
   "source": [
    "# df = pd.get_dummies(df, columns=['code','id','Country'])"
   ]
  },
  {
   "cell_type": "code",
   "execution_count": 768,
   "id": "996a15aa",
   "metadata": {},
   "outputs": [],
   "source": [
    "# df = pd.get_dummies(df, columns=['code'])"
   ]
  },
  {
   "cell_type": "code",
   "execution_count": 769,
   "id": "a592d6eb",
   "metadata": {
    "scrolled": true
   },
   "outputs": [],
   "source": [
    "# set(df['Country'].values)"
   ]
  },
  {
   "cell_type": "code",
   "execution_count": 770,
   "id": "d59451d9",
   "metadata": {},
   "outputs": [],
   "source": [
    "# col = [\"Country\", \"id\"]"
   ]
  },
  {
   "cell_type": "code",
   "execution_count": 771,
   "id": "d16cceec",
   "metadata": {},
   "outputs": [],
   "source": [
    "# df_l = df.copy()\n",
    "# df_l[col] = df_l[col].astype('category')\n",
    "\n",
    "# for _, column_name in enumerate(col):\n",
    "#     df_l[column_name] =  df_l[column_name].cat.codes"
   ]
  },
  {
   "cell_type": "code",
   "execution_count": 772,
   "id": "c0069d40",
   "metadata": {},
   "outputs": [],
   "source": [
    "# df_l"
   ]
  },
  {
   "cell_type": "code",
   "execution_count": 773,
   "id": "fa2624dd",
   "metadata": {},
   "outputs": [],
   "source": [
    "# def label_encoder(col):\n",
    "#     arr = list(set(col.values))\n",
    "#     dict_ = {}\n",
    "#     for i in range(1, len(arr)+1):\n",
    "#         dict_[arr[i-1]] = i\n",
    "#     return dict_"
   ]
  },
  {
   "cell_type": "code",
   "execution_count": 774,
   "id": "b6a92684",
   "metadata": {},
   "outputs": [],
   "source": [
    "# dict_ = label_encoder(df['Country'])\n",
    "# print(dict_)"
   ]
  },
  {
   "cell_type": "code",
   "execution_count": 23,
   "id": "c2148ed8",
   "metadata": {},
   "outputs": [],
   "source": [
    "train = df.iloc[0:train.shape[0],:]\n",
    "test = df.iloc[train.shape[0]:,:]"
   ]
  },
  {
   "cell_type": "code",
   "execution_count": 24,
   "id": "cb5c7d33",
   "metadata": {},
   "outputs": [],
   "source": [
    "y_train = target['polution'].values.ravel()"
   ]
  },
  {
   "cell_type": "code",
   "execution_count": 25,
   "id": "178b1a1c",
   "metadata": {},
   "outputs": [],
   "source": [
    "X_train = train.values\n",
    "X_test = test.values"
   ]
  },
  {
   "cell_type": "code",
   "execution_count": 26,
   "id": "f7ac951d",
   "metadata": {},
   "outputs": [],
   "source": [
    "from sklearn.model_selection import train_test_split\n",
    "X_train_, X_val, y_train_, y_val = train_test_split(X_train,y_train,test_size = 0.2, random_state = 42)"
   ]
  },
  {
   "cell_type": "code",
   "execution_count": 341,
   "id": "4fc9f4ef",
   "metadata": {},
   "outputs": [],
   "source": [
    "# from sklearn.model_selection import train_test_split\n",
    "# X,y = df.drop(columns = ['polution']).values,df['polution'].values\n",
    "\n",
    "# features_names = df.drop(columns = ['polution']).columns\n",
    "\n",
    "# X_train, X_test, y_train, y_test = train_test_split(X, y, test_size=0.3, random_state=42)"
   ]
  },
  {
   "cell_type": "markdown",
   "id": "f5d15c7c",
   "metadata": {},
   "source": [
    "### Класс Линейной Регрессии"
   ]
  },
  {
   "cell_type": "code",
   "execution_count": 27,
   "id": "bf16fa6f",
   "metadata": {},
   "outputs": [],
   "source": [
    "class LinearRegression():\n",
    "    def __init__(self, \n",
    "                 learning_rate = 0.5, \n",
    "                 epochs = 100, \n",
    "                 weights = None, \n",
    "                 bias    = None, \n",
    "                 batch_size   = 1000,\n",
    "                 n_batches    = None,\n",
    "                 random_state = 42):\n",
    "        self.lr      = learning_rate\n",
    "        self.epochs  = epochs\n",
    "        self.weights = weights\n",
    "        self.bias    = bias\n",
    "        self.seed    = random_state\n",
    "        self.batch_size = batch_size\n",
    "        self.cost    = np.zeros(epochs)\n",
    "        \n",
    "        self.n_batches = n_batches\n",
    "        \n",
    "        if not(self.weights is None) and (self.bias):\n",
    "            if self.weights.size == X.shape[1]:\n",
    "                self.weights = np.append(self.bias,self.weights)\n",
    "    \n",
    "    #---------------------------------\n",
    "    def forward(self, X):\n",
    "        return np.dot(X, self.weights)\n",
    "    \n",
    "    #---------------------------------\n",
    "    def loss(self,yhat, y):\n",
    "        return np.square(yhat - y).sum()/y.size\n",
    "    \n",
    "    #---------------------------------\n",
    "    def grad_step(self,yhat, y, X):\n",
    "        return 2*np.dot(X.T, (yhat - y)) / y.size\n",
    "    \n",
    "    #---------------------------------\n",
    "    def update(self):    \n",
    "        return self.weights - self.lr*self.grad\n",
    "    \n",
    "    #---------------------------------\n",
    "    def init(self, weights_size):\n",
    "        np.random.seed(self.seed)\n",
    "        return np.random.randn(weights_size)/np.sqrt(weights_size)\n",
    "    \n",
    "    #---------------------------------\n",
    "    def predict(self, X):\n",
    "        yhat = self.forward(self.add_bias(X))\n",
    "        return yhat.squeeze()\n",
    "    \n",
    "    #---------------------------------\n",
    "    def score(self, X, y):        \n",
    "        yhat = self.predict(X)\n",
    "        return 1-np.sum(np.square(y-yhat))/np.sum(np.square(y-np.mean(y)))\n",
    "    \n",
    "    #---------------------------------\n",
    "    def fit(self, X, y):\n",
    "\n",
    "        np.random.seed(self.seed)\n",
    "\n",
    "        if self.weights is None:\n",
    "            self.weights = self.init(X.shape[1])\n",
    "        \n",
    "        if self.bias is None: \n",
    "            self.bias    = self.init(1)\n",
    "        \n",
    "        if self.weights.size == X.shape[1]:\n",
    "            self.weights = np.append(self.bias,self.weights)\n",
    "        \n",
    "        self.grad    = np.zeros(self.weights.shape)\n",
    "        self.cost    = np.zeros(self.epochs)\n",
    "\n",
    "        if self.batch_size is None:            \n",
    "            self.batch_size = y.size\n",
    "            \n",
    "        if self.n_batches is None:\n",
    "            self.n_batches = y.size//self.batch_size\n",
    "            \n",
    "        for i in range(self.epochs): \n",
    "            loss = 0\n",
    "            for cnt,(x_batch, y_batch) in enumerate(self.load_batch(X,y)): \n",
    "\n",
    "                yhat         = self.forward(x_batch)\n",
    "                self.grad    = self.grad_step(yhat,  y_batch, x_batch) \n",
    "                self.weights = self.update() \n",
    "                loss += self.loss(yhat,  y_batch)\n",
    "                \n",
    "                if cnt>= self.n_batches:\n",
    "                    break\n",
    "            self.cost[i] = loss/self.n_batches\n",
    "        \n",
    "        self.bias = self.weights[0]\n",
    "    #--------------------------------\n",
    "\n",
    "    def load_batch(self,X,y):\n",
    "        idxs = np.arange(y.size)\n",
    "        np.random.shuffle(idxs)\n",
    "\n",
    "        for i_batch in range(0,y.size,self.batch_size):\n",
    "            idx_batch = idxs[i_batch:i_batch+self.batch_size]\n",
    "            x_batch   = np.take(X, idx_batch,axis=0)\n",
    "            x_batch   = self.add_bias(x_batch)\n",
    "            y_batch   = np.take(y, idx_batch)\n",
    "            yield  x_batch, y_batch\n",
    "    \n",
    "    #---------------------------------\n",
    "    def add_bias(self, X):\n",
    "        return np.column_stack((np.ones(X.shape[0]), X))\n",
    "    \n",
    "    #---------------------------------\n",
    "    def plot_cost(self, figsize = (12,6), title = ''):\n",
    "        plt.figure(figsize = figsize)\n",
    "        plt.plot(self.cost)\n",
    "        plt.grid()\n",
    "        plt.xlabel('Эпоха', fontsize = 24)\n",
    "        plt.ylabel('Функция Потерь', fontsize = 24)\n",
    "        plt.title(title, fontsize = 24)\n",
    "        plt.show()\n",
    "    \n",
    "    #---------------------------------\n",
    "    def get_w_and_b(self):\n",
    "        return (self.weights[1:], self.bias)"
   ]
  },
  {
   "cell_type": "code",
   "execution_count": 28,
   "id": "9818b428",
   "metadata": {},
   "outputs": [],
   "source": [
    "class ElasticRegression(LinearRegression):\n",
    "    def __init__(self, \n",
    "                 learning_rate = 0.5,\n",
    "                 l1_penalty = 0.001,\n",
    "                 l2_penalty = 0.001,\n",
    "                 epochs = 100, \n",
    "                 weights = None, \n",
    "                 bias    = None, \n",
    "                 batch_size   = 1000, \n",
    "                 random_state = 42):\n",
    "        \n",
    "        super().__init__(learning_rate = learning_rate,\n",
    "                         epochs = epochs, \n",
    "                         weights = weights, \n",
    "                         bias    = bias, \n",
    "                         batch_size   = batch_size, \n",
    "                         random_state = random_state)\n",
    "        self.l1_penalty = l1_penalty\n",
    "        self.l2_penalty = l2_penalty\n",
    "    #---------------------------------\n",
    "    def loss(self,yhat, y):   \n",
    "        l1_term = self.l1_penalty*np.sum(self.weights[1:])/y.size\n",
    "        l2_term = (self.l2_penalty/2)*np.sum(np.square(self.weights[1:]))/y.size\n",
    "        return np.square(yhat - y).mean() + l1_term + l2_term\n",
    "                  \n",
    "    \n",
    "    #---------------------------------\n",
    "    def update(self):    \n",
    "        l2_term = self.l2_penalty*np.sum(self.weights[1:])\n",
    "        return self.weights - self.lr*(self.grad + self.l1_penalty + l2_term)"
   ]
  },
  {
   "cell_type": "code",
   "execution_count": 29,
   "id": "be2d1591",
   "metadata": {},
   "outputs": [],
   "source": [
    "class RidgeRegression(LinearRegression):\n",
    "    def __init__(self, \n",
    "                 learning_rate = 0.5,\n",
    "                 l2_penalty = 0.001,\n",
    "                 epochs = 100, \n",
    "                 weights = None, \n",
    "                 bias    = None, \n",
    "                 batch_size   = 1000, \n",
    "                 n_batches    = None,\n",
    "                 random_state = 42):\n",
    "        \n",
    "        super().__init__(learning_rate = learning_rate,\n",
    "                         epochs = epochs, \n",
    "                         weights = weights, \n",
    "                         bias    = bias, \n",
    "                         batch_size   = batch_size, \n",
    "                         n_batches    = n_batches,\n",
    "                         random_state = random_state)\n",
    "        self.l2_penalty = l2_penalty\n",
    "        \n",
    "    #---------------------------------\n",
    "    def loss(self,yhat, y):   \n",
    "        l2_term = (self.l2_penalty/2)*np.sum(np.square(self.weights[1:]))\n",
    "        return np.square(yhat - y).mean() + l2_term\n",
    "\n",
    "    #---------------------------------\n",
    "    def update(self):    \n",
    "        l2_term = self.l2_penalty*np.mean(self.weights[1:])\n",
    "        return self.weights - self.lr*(self.grad + l2_term)  "
   ]
  },
  {
   "cell_type": "code",
   "execution_count": null,
   "id": "588db52a",
   "metadata": {},
   "outputs": [],
   "source": []
  },
  {
   "cell_type": "code",
   "execution_count": 497,
   "id": "b211e8a1",
   "metadata": {},
   "outputs": [],
   "source": [
    "from sklearn.linear_model import ElasticNet"
   ]
  },
  {
   "cell_type": "code",
   "execution_count": 502,
   "id": "cf98d747",
   "metadata": {},
   "outputs": [],
   "source": [
    "regr = ElasticNet(alpha=0.5, random_state=0)"
   ]
  },
  {
   "cell_type": "code",
   "execution_count": 503,
   "id": "b9004124",
   "metadata": {},
   "outputs": [
    {
     "data": {
      "text/plain": [
       "ElasticNet(alpha=0.5, random_state=0)"
      ]
     },
     "execution_count": 503,
     "metadata": {},
     "output_type": "execute_result"
    }
   ],
   "source": [
    "regr.fit(X_train, y_train)"
   ]
  },
  {
   "cell_type": "code",
   "execution_count": 504,
   "id": "077ed7df",
   "metadata": {},
   "outputs": [],
   "source": [
    "y_pred2 = regr.predict(X_test)"
   ]
  },
  {
   "cell_type": "code",
   "execution_count": 505,
   "id": "c025b875",
   "metadata": {},
   "outputs": [
    {
     "data": {
      "text/plain": [
       "array([1.04245602, 1.04245602, 1.04245602, 1.04245602, 1.04245602,\n",
       "       1.04245602, 1.04245602, 1.04245602, 1.04245602, 1.04245602,\n",
       "       1.04245602, 1.04245602, 1.04245602, 1.04245602, 1.04245602,\n",
       "       1.04245602, 1.04245602, 1.04245602, 1.04245602, 1.04245602,\n",
       "       1.04245602, 1.04245602, 1.04245602, 1.04245602, 1.04245602,\n",
       "       1.04245602, 1.04245602, 1.04245602, 1.04245602, 1.04245602,\n",
       "       1.04245602, 1.04245602, 1.04245602, 1.04245602, 1.04245602,\n",
       "       1.04245602, 1.04245602, 1.04245602, 1.04245602, 1.04245602,\n",
       "       1.04245602, 1.04245602, 1.04245602, 1.04245602, 1.04245602,\n",
       "       1.04245602, 1.04245602, 1.04245602, 1.04245602, 1.04245602,\n",
       "       1.04245602, 1.04245602, 1.04245602, 1.04245602, 1.04245602,\n",
       "       1.04245602, 1.04245602, 1.04245602, 1.04245602, 1.04245602,\n",
       "       1.04245602, 1.04245602, 1.04245602, 1.04245602, 1.04245602,\n",
       "       1.04245602, 1.04245602, 1.04245602, 1.04245602, 1.04245602,\n",
       "       1.04245602, 1.04245602, 1.04245602, 1.04245602, 1.04245602,\n",
       "       1.04245602, 1.04245602, 1.04245602, 1.04245602, 1.04245602,\n",
       "       1.04245602, 1.04245602, 1.04245602, 1.04245602, 1.04245602,\n",
       "       1.04245602, 1.04245602, 1.04245602, 1.04245602, 1.04245602,\n",
       "       1.04245602, 1.04245602, 1.04245602, 1.04245602, 1.04245602,\n",
       "       1.04245602, 1.04245602, 1.04245602, 1.04245602, 1.04245602,\n",
       "       1.04245602, 1.04245602, 1.04245602, 1.04245602, 1.04245602,\n",
       "       1.04245602, 1.04245602, 1.04245602, 1.04245602, 1.04245602,\n",
       "       1.04245602, 1.04245602, 1.04245602, 1.04245602, 1.04245602,\n",
       "       1.04245602, 1.04245602, 1.04245602, 1.04245602, 1.04245602,\n",
       "       1.04245602, 1.04245602, 1.04245602, 1.04245602, 1.04245602,\n",
       "       1.04245602, 1.04245602, 1.04245602, 1.04245602, 1.04245602,\n",
       "       1.04245602, 1.04245602, 1.04245602, 1.04245602, 1.04245602,\n",
       "       1.04245602, 1.04245602, 1.04245602, 1.04245602, 1.04245602,\n",
       "       1.04245602, 1.04245602, 1.04245602, 1.04245602, 1.04245602,\n",
       "       1.04245602, 1.04245602, 1.04245602, 1.04245602, 1.04245602,\n",
       "       1.04245602, 1.04245602, 1.04245602, 1.04245602, 1.04245602,\n",
       "       1.04245602, 1.04245602, 1.04245602, 1.04245602, 1.04245602,\n",
       "       1.04245602, 1.04245602, 1.04245602, 1.04245602, 1.04245602,\n",
       "       1.04245602, 1.04245602, 1.04245602, 1.04245602, 1.04245602,\n",
       "       1.04245602, 1.04245602, 1.04245602, 1.04245602, 1.04245602,\n",
       "       1.04245602, 1.04245602, 1.04245602, 1.04245602, 1.04245602,\n",
       "       1.04245602, 1.04245602, 1.04245602, 1.04245602, 1.04245602,\n",
       "       1.04245602, 1.04245602, 1.04245602, 1.04245602, 1.04245602,\n",
       "       1.04245602, 1.04245602, 1.04245602, 1.04245602, 1.04245602,\n",
       "       1.04245602, 1.04245602, 1.04245602, 1.04245602, 1.04245602,\n",
       "       1.04245602, 1.04245602, 1.04245602, 1.04245602, 1.04245602,\n",
       "       1.04245602, 1.04245602, 1.04245602, 1.04245602, 1.04245602,\n",
       "       1.04245602, 1.04245602, 1.04245602, 1.04245602, 1.04245602,\n",
       "       1.04245602, 1.04245602, 1.04245602, 1.04245602, 1.04245602])"
      ]
     },
     "execution_count": 505,
     "metadata": {},
     "output_type": "execute_result"
    }
   ],
   "source": [
    "y_pred2"
   ]
  },
  {
   "cell_type": "markdown",
   "id": "71092f28",
   "metadata": {},
   "source": [
    "### Стандартизация "
   ]
  },
  {
   "cell_type": "code",
   "execution_count": 30,
   "id": "edcde558",
   "metadata": {},
   "outputs": [],
   "source": [
    "regr_l1l2 = ElasticRegression(learning_rate=0.1,\n",
    "                         epochs=300,batch_size=45,\n",
    "                         l1_penalty = 0.0001,l2_penalty = 0.0001 )\n",
    "regr_l1l2.fit(X_train, y_train)\n"
   ]
  },
  {
   "cell_type": "code",
   "execution_count": 405,
   "id": "a46eabd1",
   "metadata": {
    "scrolled": true
   },
   "outputs": [
    {
     "name": "stdout",
     "output_type": "stream",
     "text": [
      "Test Score = 0.66, Train Score = 0.84\n"
     ]
    },
    {
     "data": {
      "image/png": "[encoded data removed]",
      "text/plain": [
       "<Figure size 864x432 with 1 Axes>"
      ]
     },
     "metadata": {},
     "output_type": "display_data"
    }
   ],
   "source": [
    "regr_l1l2 = ElasticRegression(learning_rate=0.1,\n",
    "                         epochs=300,batch_size=45,\n",
    "                         l1_penalty = 0.0001,l2_penalty = 0.0001 )\n",
    "regr_l1l2.fit(X_train_, y_train_)\n",
    "\n",
    "print(f'Test Score = {regr_l1l2.score(X_val, y_val):.2f}, Train Score = {regr_l1l2.score(X_train_, y_train_):.2f}')\n",
    "regr_l1l2.plot_cost()"
   ]
  },
  {
   "cell_type": "code",
   "execution_count": 31,
   "id": "95e75e74",
   "metadata": {},
   "outputs": [],
   "source": [
    "y_pred1 = regr_l1l2.predict(X_test)"
   ]
  },
  {
   "cell_type": "code",
   "execution_count": 32,
   "id": "5515fd43",
   "metadata": {},
   "outputs": [
    {
     "data": {
      "text/plain": [
       "array([ 1.27408004,  0.82009392,  1.51001228,  1.51711369,  1.31296335,\n",
       "        0.47581857,  0.44693307,  1.21902355,  1.38374972,  0.73776773,\n",
       "        0.58312119,  1.57543071,  2.00747046,  0.3425698 ,  2.27287011,\n",
       "        2.05632725,  2.03008964,  0.93104769,  0.85781632,  0.86479697,\n",
       "        0.89806693,  2.01567973,  1.75445979,  0.88731496,  0.71205012,\n",
       "        0.61016035,  0.70759998,  1.99561266,  0.89680708,  1.55278143,\n",
       "        1.18519102,  0.05956484, -0.52013293,  1.38421872,  0.8272844 ,\n",
       "        0.33436103,  0.84926936,  0.65525897,  1.085991  ,  1.01311921,\n",
       "        1.15325945,  1.78462969,  0.54035113,  0.67176113,  0.2393294 ,\n",
       "        0.81357175,  1.10643093,  1.05874311,  1.5352643 ,  0.97875541,\n",
       "        1.47042516,  0.67214068,  1.18290576,  0.92164978,  1.54725431,\n",
       "        1.45114214,  0.86690085,  0.45491581,  1.66418292,  0.65061057,\n",
       "        1.54189541,  1.15112824,  1.12887079,  0.94737679,  1.07586207,\n",
       "        1.00461273,  1.22025033,  1.65366992,  1.01609999,  0.67057196,\n",
       "        1.24410863,  0.42129891,  1.59568748,  1.00210261,  1.36217765,\n",
       "        0.68711854,  1.46568468,  0.18941092,  0.69680325, -0.07660095,\n",
       "        0.8613929 ,  0.65724256,  0.03293471,  0.51713553,  0.18360131,\n",
       "        0.5980615 ,  1.3787169 ,  0.7504758 ,  0.62179491,  1.36394819,\n",
       "       -0.23775903,  1.11935314,  0.73763919,  0.7687507 ,  1.76628147,\n",
       "        1.10852707,  0.91437317,  1.64993469,  1.02661735,  0.18839069,\n",
       "        1.79089645,  0.90734948,  1.77095232,  0.61639886,  0.39989203,\n",
       "        1.39298796,  1.54707114,  1.57941112,  2.02442273,  1.95914215,\n",
       "        1.55385046,  1.31021312,  1.41620362, -0.05974351,  1.440314  ,\n",
       "        1.665909  ,  1.79089182,  0.86254738,  2.02717246,  1.97151123,\n",
       "        1.11861852,  0.81397347,  1.68396982,  1.13331245,  0.98238854,\n",
       "        1.22483441,  1.37157904,  1.24022269,  1.36969465,  0.28781153,\n",
       "        0.65941375,  1.36355177,  1.62673314,  1.56583948,  1.73177072,\n",
       "        0.50518421,  2.02843871,  2.0519699 ,  1.11626578,  0.31731436,\n",
       "        0.36377675,  0.51073271,  1.48815911,  2.01237188,  1.57201919,\n",
       "        0.36959234,  0.63785838,  0.63265381,  0.83399655,  0.79983914,\n",
       "        1.12585497, -0.21563558,  0.97254842,  1.72594793,  1.21296455,\n",
       "        1.3882294 ,  1.50016762,  0.88214478,  0.72357851,  1.33240392,\n",
       "        0.24871268,  2.12120945,  0.14417878,  1.86912856,  1.51139999,\n",
       "        0.93989437,  0.71488305,  1.14036586,  0.51678589,  1.37005799,\n",
       "        0.89370664,  2.00240347, -0.01236233,  1.43184675,  1.46305301,\n",
       "        0.3286653 ,  1.17068708,  1.9408205 ,  1.58926052,  1.01667968,\n",
       "        0.26133918,  1.37831226,  0.34102288,  1.412533  ,  1.44375017,\n",
       "        1.24085228,  1.44500262,  1.32985124,  0.38767459,  0.23105181,\n",
       "        0.62512706,  0.87747191,  1.43155101,  0.51325101,  0.1916162 ,\n",
       "        0.63471365, -0.15032442,  0.44447665,  1.07017715,  1.8156311 ,\n",
       "        1.6099806 ,  0.44478735,  0.94645123,  0.2212349 ,  0.66968842,\n",
       "        1.78084473,  1.23959983,  1.5047808 ,  1.52996134,  1.37068912,\n",
       "        1.1506882 ,  1.4340675 ,  1.59808339,  0.99965916,  1.6753871 ,\n",
       "        1.88057481,  1.52418632,  0.12174446,  0.37376509,  2.05627222])"
      ]
     },
     "execution_count": 32,
     "metadata": {},
     "output_type": "execute_result"
    }
   ],
   "source": [
    "y_pred1"
   ]
  },
  {
   "cell_type": "code",
   "execution_count": 123,
   "id": "ecd34740",
   "metadata": {},
   "outputs": [],
   "source": [
    "y_pred = regr_l1l2.predict(X_test)"
   ]
  },
  {
   "cell_type": "code",
   "execution_count": 124,
   "id": "12a49be1",
   "metadata": {
    "scrolled": true
   },
   "outputs": [
    {
     "data": {
      "text/plain": [
       "array([ 1.30792424,  0.73438805,  1.5057852 ,  1.56011037,  1.33699157,\n",
       "        0.37863978,  0.33405681,  1.36926993,  1.39094766,  0.84175747,\n",
       "        0.56547005,  1.61110275,  1.85805963,  0.44260146,  2.30122603,\n",
       "        2.07341115,  2.10231158,  0.9129319 ,  0.92628674,  0.85263131,\n",
       "        1.07726036,  2.05929607,  1.70959826,  0.98340472,  0.80486889,\n",
       "        0.60521269,  0.7892215 ,  2.01839608,  0.83333897,  1.60925661,\n",
       "        1.33418422, -0.13756451, -0.53438361,  1.38725651,  1.01647623,\n",
       "        0.64905984,  0.92559898,  0.71915784,  1.09689339,  1.01779873,\n",
       "        1.09434447,  1.8018788 ,  0.59612809,  0.70880366,  0.27667524,\n",
       "        0.84153812,  1.10356902,  1.10666555,  1.61883931,  0.85337189,\n",
       "        1.42689934,  0.74133922,  1.07649069,  0.92077358,  1.56972541,\n",
       "        1.23629412, -0.21901976,  0.4579002 ,  1.81942926,  0.43841429,\n",
       "        1.29975796,  1.19111396,  1.25273556,  0.95988842,  0.98390232,\n",
       "        1.19962118,  1.30553098,  1.54006362,  1.08241218,  0.67537188,\n",
       "        1.22552167,  0.51742364,  1.64327998,  0.85888805,  1.42774344,\n",
       "        0.71102693,  1.4829574 ,  0.3415077 ,  0.72738113, -0.03057554,\n",
       "        1.46783063,  1.24471183,  0.05282374,  0.53338088,  0.42911551,\n",
       "        0.60134661,  0.73848406,  0.85097901,  0.674998  ,  1.38125285,\n",
       "       -0.19478148,  1.14941361,  0.81019893,  0.78666296,  1.75585995,\n",
       "        0.98969689,  0.87089886,  1.41075784,  1.08473412, -0.00361521,\n",
       "        1.86080345,  0.95122521,  1.82181581,  0.62174792,  0.48993684,\n",
       "        1.40592477,  1.54237487,  1.51159629,  2.07968897,  2.02883705,\n",
       "        1.3581355 ,  1.3933559 ,  1.40856882, -0.01444324,  1.44684079,\n",
       "        1.69032376,  1.64143328, -0.00459566,  2.05347201,  2.00051623,\n",
       "        0.88178508,  0.83085471,  1.443329  ,  1.43716718,  1.04066158,\n",
       "        1.26700721,  1.52652689,  1.32367976,  1.35960432,  1.13935858,\n",
       "        0.74109397,  1.3516515 ,  1.70238022,  1.55363281,  1.75833117,\n",
       "        0.64316405,  2.07112076,  1.93231594,  1.1479382 ,  0.35983086,\n",
       "        0.35140247,  0.50025332,  1.57592344,  1.99769861,  1.59156549,\n",
       "        0.16755797,  0.68077988,  0.67628225,  0.72837377,  0.80401269,\n",
       "        1.12665066, -0.20842093,  0.96896948,  1.620121  ,  1.23615887,\n",
       "        1.4146947 ,  1.29297296,  1.07810091,  0.5087961 ,  1.12004023,\n",
       "        0.33377567,  2.23197357,  0.19118782,  1.75751591,  1.52426989,\n",
       "        0.99011372,  0.72337212,  1.13557933,  0.56790323,  1.29523485,\n",
       "        0.69588754,  1.34805556,  0.02052079,  1.45590283,  1.51344335,\n",
       "        0.47555102,  1.15851592,  1.90443548,  1.60670033,  1.0487404 ,\n",
       "        0.31516593,  1.39083698,  0.48132005,  1.68556682,  1.56510674,\n",
       "        1.21409309,  1.43721189,  1.5197419 ,  0.30544052,  0.113778  ,\n",
       "        0.62474261,  0.91080171,  1.23844604,  0.48763134,  0.09046105,\n",
       "        0.73956234, -0.37906138,  0.18592715,  0.96940857,  1.83684774,\n",
       "        1.5912456 ,  0.53223252,  0.57511727, -0.00525852,  0.74250858,\n",
       "        1.93666249,  1.34198794,  1.52022834,  1.60960669,  1.3888549 ,\n",
       "        1.10634991,  1.41172764,  1.5994375 ,  1.01781754,  1.63178843,\n",
       "        1.8796284 ,  1.52739623,  0.25390057,  0.15512485,  1.34381183])"
      ]
     },
     "execution_count": 124,
     "metadata": {},
     "output_type": "execute_result"
    }
   ],
   "source": [
    "y_pred"
   ]
  },
  {
   "cell_type": "code",
   "execution_count": 33,
   "id": "e6f795b5",
   "metadata": {},
   "outputs": [],
   "source": [
    "submission['polution'] = y_pred1"
   ]
  },
  {
   "cell_type": "code",
   "execution_count": 34,
   "id": "d3ee1f5f",
   "metadata": {},
   "outputs": [
    {
     "data": {
      "text/html": [
       "<div>\n",
       "<style scoped>\n",
       "    .dataframe tbody tr th:only-of-type {\n",
       "        vertical-align: middle;\n",
       "    }\n",
       "\n",
       "    .dataframe tbody tr th {\n",
       "        vertical-align: top;\n",
       "    }\n",
       "\n",
       "    .dataframe thead th {\n",
       "        text-align: right;\n",
       "    }\n",
       "</style>\n",
       "<table border=\"1\" class=\"dataframe\">\n",
       "  <thead>\n",
       "    <tr style=\"text-align: right;\">\n",
       "      <th></th>\n",
       "      <th>index</th>\n",
       "      <th>polution</th>\n",
       "    </tr>\n",
       "  </thead>\n",
       "  <tbody>\n",
       "    <tr>\n",
       "      <th>0</th>\n",
       "      <td>202</td>\n",
       "      <td>1.274080</td>\n",
       "    </tr>\n",
       "    <tr>\n",
       "      <th>1</th>\n",
       "      <td>395</td>\n",
       "      <td>0.820094</td>\n",
       "    </tr>\n",
       "    <tr>\n",
       "      <th>2</th>\n",
       "      <td>725</td>\n",
       "      <td>1.510012</td>\n",
       "    </tr>\n",
       "    <tr>\n",
       "      <th>3</th>\n",
       "      <td>770</td>\n",
       "      <td>1.517114</td>\n",
       "    </tr>\n",
       "    <tr>\n",
       "      <th>4</th>\n",
       "      <td>771</td>\n",
       "      <td>1.312963</td>\n",
       "    </tr>\n",
       "    <tr>\n",
       "      <th>...</th>\n",
       "      <td>...</td>\n",
       "      <td>...</td>\n",
       "    </tr>\n",
       "    <tr>\n",
       "      <th>215</th>\n",
       "      <td>19438</td>\n",
       "      <td>1.880575</td>\n",
       "    </tr>\n",
       "    <tr>\n",
       "      <th>216</th>\n",
       "      <td>19462</td>\n",
       "      <td>1.524186</td>\n",
       "    </tr>\n",
       "    <tr>\n",
       "      <th>217</th>\n",
       "      <td>19625</td>\n",
       "      <td>0.121744</td>\n",
       "    </tr>\n",
       "    <tr>\n",
       "      <th>218</th>\n",
       "      <td>19690</td>\n",
       "      <td>0.373765</td>\n",
       "    </tr>\n",
       "    <tr>\n",
       "      <th>219</th>\n",
       "      <td>19914</td>\n",
       "      <td>2.056272</td>\n",
       "    </tr>\n",
       "  </tbody>\n",
       "</table>\n",
       "<p>220 rows × 2 columns</p>\n",
       "</div>"
      ],
      "text/plain": [
       "     index  polution\n",
       "0      202  1.274080\n",
       "1      395  0.820094\n",
       "2      725  1.510012\n",
       "3      770  1.517114\n",
       "4      771  1.312963\n",
       "..     ...       ...\n",
       "215  19438  1.880575\n",
       "216  19462  1.524186\n",
       "217  19625  0.121744\n",
       "218  19690  0.373765\n",
       "219  19914  2.056272\n",
       "\n",
       "[220 rows x 2 columns]"
      ]
     },
     "execution_count": 34,
     "metadata": {},
     "output_type": "execute_result"
    }
   ],
   "source": [
    "submission"
   ]
  },
  {
   "cell_type": "code",
   "execution_count": 147,
   "id": "d75cdd80",
   "metadata": {},
   "outputs": [],
   "source": [
    "submission['polution'] = y_pred"
   ]
  },
  {
   "cell_type": "code",
   "execution_count": 148,
   "id": "c724ac63",
   "metadata": {},
   "outputs": [
    {
     "data": {
      "text/html": [
       "<div>\n",
       "<style scoped>\n",
       "    .dataframe tbody tr th:only-of-type {\n",
       "        vertical-align: middle;\n",
       "    }\n",
       "\n",
       "    .dataframe tbody tr th {\n",
       "        vertical-align: top;\n",
       "    }\n",
       "\n",
       "    .dataframe thead th {\n",
       "        text-align: right;\n",
       "    }\n",
       "</style>\n",
       "<table border=\"1\" class=\"dataframe\">\n",
       "  <thead>\n",
       "    <tr style=\"text-align: right;\">\n",
       "      <th></th>\n",
       "      <th>index</th>\n",
       "      <th>polution</th>\n",
       "    </tr>\n",
       "  </thead>\n",
       "  <tbody>\n",
       "    <tr>\n",
       "      <th>0</th>\n",
       "      <td>202</td>\n",
       "      <td>1.307924</td>\n",
       "    </tr>\n",
       "    <tr>\n",
       "      <th>1</th>\n",
       "      <td>395</td>\n",
       "      <td>0.734388</td>\n",
       "    </tr>\n",
       "    <tr>\n",
       "      <th>2</th>\n",
       "      <td>725</td>\n",
       "      <td>1.505785</td>\n",
       "    </tr>\n",
       "    <tr>\n",
       "      <th>3</th>\n",
       "      <td>770</td>\n",
       "      <td>1.560110</td>\n",
       "    </tr>\n",
       "    <tr>\n",
       "      <th>4</th>\n",
       "      <td>771</td>\n",
       "      <td>1.336992</td>\n",
       "    </tr>\n",
       "    <tr>\n",
       "      <th>...</th>\n",
       "      <td>...</td>\n",
       "      <td>...</td>\n",
       "    </tr>\n",
       "    <tr>\n",
       "      <th>215</th>\n",
       "      <td>19438</td>\n",
       "      <td>1.879628</td>\n",
       "    </tr>\n",
       "    <tr>\n",
       "      <th>216</th>\n",
       "      <td>19462</td>\n",
       "      <td>1.527396</td>\n",
       "    </tr>\n",
       "    <tr>\n",
       "      <th>217</th>\n",
       "      <td>19625</td>\n",
       "      <td>0.253901</td>\n",
       "    </tr>\n",
       "    <tr>\n",
       "      <th>218</th>\n",
       "      <td>19690</td>\n",
       "      <td>0.155125</td>\n",
       "    </tr>\n",
       "    <tr>\n",
       "      <th>219</th>\n",
       "      <td>19914</td>\n",
       "      <td>1.343812</td>\n",
       "    </tr>\n",
       "  </tbody>\n",
       "</table>\n",
       "<p>220 rows × 2 columns</p>\n",
       "</div>"
      ],
      "text/plain": [
       "     index  polution\n",
       "0      202  1.307924\n",
       "1      395  0.734388\n",
       "2      725  1.505785\n",
       "3      770  1.560110\n",
       "4      771  1.336992\n",
       "..     ...       ...\n",
       "215  19438  1.879628\n",
       "216  19462  1.527396\n",
       "217  19625  0.253901\n",
       "218  19690  0.155125\n",
       "219  19914  1.343812\n",
       "\n",
       "[220 rows x 2 columns]"
      ]
     },
     "execution_count": 148,
     "metadata": {},
     "output_type": "execute_result"
    }
   ],
   "source": [
    "submission"
   ]
  },
  {
   "cell_type": "code",
   "execution_count": 35,
   "id": "2bf4af00",
   "metadata": {},
   "outputs": [],
   "source": [
    "submission = submission.set_index('index')"
   ]
  },
  {
   "cell_type": "code",
   "execution_count": 36,
   "id": "a108b253",
   "metadata": {},
   "outputs": [
    {
     "data": {
      "text/html": [
       "<div>\n",
       "<style scoped>\n",
       "    .dataframe tbody tr th:only-of-type {\n",
       "        vertical-align: middle;\n",
       "    }\n",
       "\n",
       "    .dataframe tbody tr th {\n",
       "        vertical-align: top;\n",
       "    }\n",
       "\n",
       "    .dataframe thead th {\n",
       "        text-align: right;\n",
       "    }\n",
       "</style>\n",
       "<table border=\"1\" class=\"dataframe\">\n",
       "  <thead>\n",
       "    <tr style=\"text-align: right;\">\n",
       "      <th></th>\n",
       "      <th>polution</th>\n",
       "    </tr>\n",
       "    <tr>\n",
       "      <th>index</th>\n",
       "      <th></th>\n",
       "    </tr>\n",
       "  </thead>\n",
       "  <tbody>\n",
       "    <tr>\n",
       "      <th>202</th>\n",
       "      <td>1.274080</td>\n",
       "    </tr>\n",
       "    <tr>\n",
       "      <th>395</th>\n",
       "      <td>0.820094</td>\n",
       "    </tr>\n",
       "    <tr>\n",
       "      <th>725</th>\n",
       "      <td>1.510012</td>\n",
       "    </tr>\n",
       "    <tr>\n",
       "      <th>770</th>\n",
       "      <td>1.517114</td>\n",
       "    </tr>\n",
       "    <tr>\n",
       "      <th>771</th>\n",
       "      <td>1.312963</td>\n",
       "    </tr>\n",
       "    <tr>\n",
       "      <th>...</th>\n",
       "      <td>...</td>\n",
       "    </tr>\n",
       "    <tr>\n",
       "      <th>19438</th>\n",
       "      <td>1.880575</td>\n",
       "    </tr>\n",
       "    <tr>\n",
       "      <th>19462</th>\n",
       "      <td>1.524186</td>\n",
       "    </tr>\n",
       "    <tr>\n",
       "      <th>19625</th>\n",
       "      <td>0.121744</td>\n",
       "    </tr>\n",
       "    <tr>\n",
       "      <th>19690</th>\n",
       "      <td>0.373765</td>\n",
       "    </tr>\n",
       "    <tr>\n",
       "      <th>19914</th>\n",
       "      <td>2.056272</td>\n",
       "    </tr>\n",
       "  </tbody>\n",
       "</table>\n",
       "<p>220 rows × 1 columns</p>\n",
       "</div>"
      ],
      "text/plain": [
       "       polution\n",
       "index          \n",
       "202    1.274080\n",
       "395    0.820094\n",
       "725    1.510012\n",
       "770    1.517114\n",
       "771    1.312963\n",
       "...         ...\n",
       "19438  1.880575\n",
       "19462  1.524186\n",
       "19625  0.121744\n",
       "19690  0.373765\n",
       "19914  2.056272\n",
       "\n",
       "[220 rows x 1 columns]"
      ]
     },
     "execution_count": 36,
     "metadata": {},
     "output_type": "execute_result"
    }
   ],
   "source": [
    "submission"
   ]
  },
  {
   "cell_type": "code",
   "execution_count": 37,
   "id": "48d8a3a2",
   "metadata": {},
   "outputs": [],
   "source": [
    "submission.to_csv('My_Submission_row_0_pt_without_val_food.csv',index=True)"
   ]
  },
  {
   "cell_type": "code",
   "execution_count": 420,
   "id": "ec74a403",
   "metadata": {},
   "outputs": [],
   "source": [
    "# regr = LinearRegression(learning_rate=0.5,epochs=300,batch_size=25)\n",
    "# regr.fit(X_train, y_train)\n",
    "\n",
    "# regr.plot_cost()\n",
    "\n",
    "# print( 'train R2: %.4f; test R2: %.4f' % (regr.score(X_train, y_train), regr.score(X_test, y_test)))"
   ]
  },
  {
   "cell_type": "code",
   "execution_count": 108,
   "id": "aac9c59a",
   "metadata": {},
   "outputs": [
    {
     "name": "stdout",
     "output_type": "stream",
     "text": [
      "Test Score = 0.65, Train Score = 0.84\n"
     ]
    },
    {
     "data": {
      "image/png": "[encoded data removed]",
      "text/plain": [
       "<Figure size 864x432 with 1 Axes>"
      ]
     },
     "metadata": {},
     "output_type": "display_data"
    }
   ],
   "source": [
    "regr = LinearRegression(learning_rate=0.1,\n",
    "                        epochs=300,batch_size=45,\n",
    "                        n_batches=None\n",
    "                        )\n",
    "\n",
    "regr_l1l2.fit(X_train_, y_train_)\n",
    "\n",
    "print(f'Test Score = {regr_l1l2.score(X_val, y_val):.2f}, Train Score = {regr_l1l2.score(X_train_, y_train_):.2f}')\n",
    "regr_l1l2.plot_cost()"
   ]
  },
  {
   "cell_type": "code",
   "execution_count": null,
   "id": "bbfe7624",
   "metadata": {},
   "outputs": [],
   "source": []
  },
  {
   "cell_type": "code",
   "execution_count": 109,
   "id": "c10e41e0",
   "metadata": {},
   "outputs": [
    {
     "name": "stdout",
     "output_type": "stream",
     "text": [
      "Test Score = 0.65, Train Score = 0.84\n"
     ]
    },
    {
     "data": {
      "image/png": "[encoded data removed]",
      "text/plain": [
       "<Figure size 864x432 with 1 Axes>"
      ]
     },
     "metadata": {},
     "output_type": "display_data"
    }
   ],
   "source": [
    "regr_l2 = RidgeRegression(learning_rate=0.25,\n",
    "                       epochs=300, batch_size=10,\n",
    "                       l2_penalty = 0.001)\n",
    "regr_l1l2.fit(X_train_, y_train_)\n",
    "\n",
    "print(f'Test Score = {regr_l1l2.score(X_val, y_val):.2f}, Train Score = {regr_l1l2.score(X_train_, y_train_):.2f}')\n",
    "regr_l1l2.plot_cost()"
   ]
  },
  {
   "cell_type": "code",
   "execution_count": null,
   "id": "9e55ca88",
   "metadata": {},
   "outputs": [],
   "source": [
    "X_train_, X_val, y_train_, y_val"
   ]
  },
  {
   "cell_type": "code",
   "execution_count": 413,
   "id": "f821fa93",
   "metadata": {},
   "outputs": [],
   "source": [
    "from sklearn.linear_model import ElasticNet"
   ]
  },
  {
   "cell_type": "code",
   "execution_count": 113,
   "id": "e391dabb",
   "metadata": {},
   "outputs": [],
   "source": [
    "regr = ElasticNet(random_state=42)"
   ]
  },
  {
   "cell_type": "code",
   "execution_count": 114,
   "id": "51234c79",
   "metadata": {},
   "outputs": [
    {
     "data": {
      "text/plain": [
       "ElasticNet(random_state=42)"
      ]
     },
     "execution_count": 114,
     "metadata": {},
     "output_type": "execute_result"
    }
   ],
   "source": [
    "regr.fit(X_train_, y_train_)"
   ]
  },
  {
   "cell_type": "code",
   "execution_count": 117,
   "id": "b3ae9f5c",
   "metadata": {},
   "outputs": [
    {
     "data": {
      "text/plain": [
       "0.0"
      ]
     },
     "execution_count": 117,
     "metadata": {},
     "output_type": "execute_result"
    }
   ],
   "source": [
    "regr.score(X_train_, y_train_)"
   ]
  },
  {
   "cell_type": "code",
   "execution_count": null,
   "id": "a514c97b",
   "metadata": {},
   "outputs": [],
   "source": [
    "X_train_, X_val, y_train_, y_val"
   ]
  },
  {
   "cell_type": "code",
   "execution_count": 129,
   "id": "0774f1eb",
   "metadata": {},
   "outputs": [],
   "source": [
    "from sklearn.linear_model import LinearRegression\n",
    "from sklearn.metrics import classification_report"
   ]
  },
  {
   "cell_type": "code",
   "execution_count": 132,
   "id": "90030c3b",
   "metadata": {},
   "outputs": [],
   "source": [
    "model = LinearRegression()"
   ]
  },
  {
   "cell_type": "code",
   "execution_count": 133,
   "id": "485658bf",
   "metadata": {},
   "outputs": [
    {
     "data": {
      "text/plain": [
       "LinearRegression()"
      ]
     },
     "execution_count": 133,
     "metadata": {},
     "output_type": "execute_result"
    }
   ],
   "source": [
    "model.fit(X_train_, y_train_)"
   ]
  },
  {
   "cell_type": "code",
   "execution_count": 156,
   "id": "43c8bbf2",
   "metadata": {},
   "outputs": [],
   "source": [
    "pred = model.predict(X_test)"
   ]
  },
  {
   "cell_type": "code",
   "execution_count": 151,
   "id": "85786603",
   "metadata": {},
   "outputs": [
    {
     "data": {
      "text/html": [
       "<div>\n",
       "<style scoped>\n",
       "    .dataframe tbody tr th:only-of-type {\n",
       "        vertical-align: middle;\n",
       "    }\n",
       "\n",
       "    .dataframe tbody tr th {\n",
       "        vertical-align: top;\n",
       "    }\n",
       "\n",
       "    .dataframe thead th {\n",
       "        text-align: right;\n",
       "    }\n",
       "</style>\n",
       "<table border=\"1\" class=\"dataframe\">\n",
       "  <thead>\n",
       "    <tr style=\"text-align: right;\">\n",
       "      <th></th>\n",
       "      <th>index</th>\n",
       "      <th>polution</th>\n",
       "    </tr>\n",
       "  </thead>\n",
       "  <tbody>\n",
       "    <tr>\n",
       "      <th>0</th>\n",
       "      <td>202</td>\n",
       "      <td>1.086796</td>\n",
       "    </tr>\n",
       "    <tr>\n",
       "      <th>1</th>\n",
       "      <td>395</td>\n",
       "      <td>1.086796</td>\n",
       "    </tr>\n",
       "    <tr>\n",
       "      <th>2</th>\n",
       "      <td>725</td>\n",
       "      <td>1.086796</td>\n",
       "    </tr>\n",
       "    <tr>\n",
       "      <th>3</th>\n",
       "      <td>770</td>\n",
       "      <td>1.086796</td>\n",
       "    </tr>\n",
       "    <tr>\n",
       "      <th>4</th>\n",
       "      <td>771</td>\n",
       "      <td>1.086796</td>\n",
       "    </tr>\n",
       "    <tr>\n",
       "      <th>...</th>\n",
       "      <td>...</td>\n",
       "      <td>...</td>\n",
       "    </tr>\n",
       "    <tr>\n",
       "      <th>215</th>\n",
       "      <td>19438</td>\n",
       "      <td>1.086796</td>\n",
       "    </tr>\n",
       "    <tr>\n",
       "      <th>216</th>\n",
       "      <td>19462</td>\n",
       "      <td>1.086796</td>\n",
       "    </tr>\n",
       "    <tr>\n",
       "      <th>217</th>\n",
       "      <td>19625</td>\n",
       "      <td>1.086796</td>\n",
       "    </tr>\n",
       "    <tr>\n",
       "      <th>218</th>\n",
       "      <td>19690</td>\n",
       "      <td>1.086796</td>\n",
       "    </tr>\n",
       "    <tr>\n",
       "      <th>219</th>\n",
       "      <td>19914</td>\n",
       "      <td>1.086796</td>\n",
       "    </tr>\n",
       "  </tbody>\n",
       "</table>\n",
       "<p>220 rows × 2 columns</p>\n",
       "</div>"
      ],
      "text/plain": [
       "     index  polution\n",
       "0      202  1.086796\n",
       "1      395  1.086796\n",
       "2      725  1.086796\n",
       "3      770  1.086796\n",
       "4      771  1.086796\n",
       "..     ...       ...\n",
       "215  19438  1.086796\n",
       "216  19462  1.086796\n",
       "217  19625  1.086796\n",
       "218  19690  1.086796\n",
       "219  19914  1.086796\n",
       "\n",
       "[220 rows x 2 columns]"
      ]
     },
     "execution_count": 151,
     "metadata": {},
     "output_type": "execute_result"
    }
   ],
   "source": [
    "submission"
   ]
  },
  {
   "cell_type": "code",
   "execution_count": 157,
   "id": "3daace02",
   "metadata": {},
   "outputs": [],
   "source": [
    "sub=submission.values"
   ]
  },
  {
   "cell_type": "code",
   "execution_count": 158,
   "id": "624456e8",
   "metadata": {},
   "outputs": [],
   "source": [
    "from sklearn.metrics import r2_score"
   ]
  },
  {
   "cell_type": "code",
   "execution_count": 159,
   "id": "b116c89f",
   "metadata": {},
   "outputs": [
    {
     "ename": "ValueError",
     "evalue": "y_true and y_pred have different number of output (2!=1)",
     "output_type": "error",
     "traceback": [
      "\u001b[1;31m---------------------------------------------------------------------------\u001b[0m",
      "\u001b[1;31mValueError\u001b[0m                                Traceback (most recent call last)",
      "Input \u001b[1;32mIn [159]\u001b[0m, in \u001b[0;36m<cell line: 1>\u001b[1;34m()\u001b[0m\n\u001b[1;32m----> 1\u001b[0m \u001b[43mr2_score\u001b[49m\u001b[43m(\u001b[49m\u001b[43msub\u001b[49m\u001b[43m,\u001b[49m\u001b[43m \u001b[49m\u001b[43mpred\u001b[49m\u001b[43m)\u001b[49m\n",
      "File \u001b[1;32m~\\anaconda3\\lib\\site-packages\\sklearn\\metrics\\_regression.py:789\u001b[0m, in \u001b[0;36mr2_score\u001b[1;34m(y_true, y_pred, sample_weight, multioutput)\u001b[0m\n\u001b[0;32m    702\u001b[0m \u001b[38;5;28;01mdef\u001b[39;00m \u001b[38;5;21mr2_score\u001b[39m(y_true, y_pred, \u001b[38;5;241m*\u001b[39m, sample_weight\u001b[38;5;241m=\u001b[39m\u001b[38;5;28;01mNone\u001b[39;00m, multioutput\u001b[38;5;241m=\u001b[39m\u001b[38;5;124m\"\u001b[39m\u001b[38;5;124muniform_average\u001b[39m\u001b[38;5;124m\"\u001b[39m):\n\u001b[0;32m    703\u001b[0m     \u001b[38;5;124;03m\"\"\":math:`R^2` (coefficient of determination) regression score function.\u001b[39;00m\n\u001b[0;32m    704\u001b[0m \n\u001b[0;32m    705\u001b[0m \u001b[38;5;124;03m    Best possible score is 1.0 and it can be negative (because the\u001b[39;00m\n\u001b[1;32m   (...)\u001b[0m\n\u001b[0;32m    787\u001b[0m \u001b[38;5;124;03m    -3.0\u001b[39;00m\n\u001b[0;32m    788\u001b[0m \u001b[38;5;124;03m    \"\"\"\u001b[39;00m\n\u001b[1;32m--> 789\u001b[0m     y_type, y_true, y_pred, multioutput \u001b[38;5;241m=\u001b[39m \u001b[43m_check_reg_targets\u001b[49m\u001b[43m(\u001b[49m\n\u001b[0;32m    790\u001b[0m \u001b[43m        \u001b[49m\u001b[43my_true\u001b[49m\u001b[43m,\u001b[49m\u001b[43m \u001b[49m\u001b[43my_pred\u001b[49m\u001b[43m,\u001b[49m\u001b[43m \u001b[49m\u001b[43mmultioutput\u001b[49m\n\u001b[0;32m    791\u001b[0m \u001b[43m    \u001b[49m\u001b[43m)\u001b[49m\n\u001b[0;32m    792\u001b[0m     check_consistent_length(y_true, y_pred, sample_weight)\n\u001b[0;32m    794\u001b[0m     \u001b[38;5;28;01mif\u001b[39;00m _num_samples(y_pred) \u001b[38;5;241m<\u001b[39m \u001b[38;5;241m2\u001b[39m:\n",
      "File \u001b[1;32m~\\anaconda3\\lib\\site-packages\\sklearn\\metrics\\_regression.py:105\u001b[0m, in \u001b[0;36m_check_reg_targets\u001b[1;34m(y_true, y_pred, multioutput, dtype)\u001b[0m\n\u001b[0;32m    102\u001b[0m     y_pred \u001b[38;5;241m=\u001b[39m y_pred\u001b[38;5;241m.\u001b[39mreshape((\u001b[38;5;241m-\u001b[39m\u001b[38;5;241m1\u001b[39m, \u001b[38;5;241m1\u001b[39m))\n\u001b[0;32m    104\u001b[0m \u001b[38;5;28;01mif\u001b[39;00m y_true\u001b[38;5;241m.\u001b[39mshape[\u001b[38;5;241m1\u001b[39m] \u001b[38;5;241m!=\u001b[39m y_pred\u001b[38;5;241m.\u001b[39mshape[\u001b[38;5;241m1\u001b[39m]:\n\u001b[1;32m--> 105\u001b[0m     \u001b[38;5;28;01mraise\u001b[39;00m \u001b[38;5;167;01mValueError\u001b[39;00m(\n\u001b[0;32m    106\u001b[0m         \u001b[38;5;124m\"\u001b[39m\u001b[38;5;124my_true and y_pred have different number of output (\u001b[39m\u001b[38;5;132;01m{0}\u001b[39;00m\u001b[38;5;124m!=\u001b[39m\u001b[38;5;132;01m{1}\u001b[39;00m\u001b[38;5;124m)\u001b[39m\u001b[38;5;124m\"\u001b[39m\u001b[38;5;241m.\u001b[39mformat(\n\u001b[0;32m    107\u001b[0m             y_true\u001b[38;5;241m.\u001b[39mshape[\u001b[38;5;241m1\u001b[39m], y_pred\u001b[38;5;241m.\u001b[39mshape[\u001b[38;5;241m1\u001b[39m]\n\u001b[0;32m    108\u001b[0m         )\n\u001b[0;32m    109\u001b[0m     )\n\u001b[0;32m    111\u001b[0m n_outputs \u001b[38;5;241m=\u001b[39m y_true\u001b[38;5;241m.\u001b[39mshape[\u001b[38;5;241m1\u001b[39m]\n\u001b[0;32m    112\u001b[0m allowed_multioutput_str \u001b[38;5;241m=\u001b[39m (\u001b[38;5;124m\"\u001b[39m\u001b[38;5;124mraw_values\u001b[39m\u001b[38;5;124m\"\u001b[39m, \u001b[38;5;124m\"\u001b[39m\u001b[38;5;124muniform_average\u001b[39m\u001b[38;5;124m\"\u001b[39m, \u001b[38;5;124m\"\u001b[39m\u001b[38;5;124mvariance_weighted\u001b[39m\u001b[38;5;124m\"\u001b[39m)\n",
      "\u001b[1;31mValueError\u001b[0m: y_true and y_pred have different number of output (2!=1)"
     ]
    }
   ],
   "source": [
    "r2_score(sub, pred)"
   ]
  },
  {
   "cell_type": "code",
   "execution_count": null,
   "id": "f9afc0fc",
   "metadata": {},
   "outputs": [],
   "source": []
  }
 ],
 "metadata": {
  "kernelspec": {
   "display_name": "Python 3 (ipykernel)",
   "language": "python",
   "name": "python3"
  },
  "language_info": {
   "codemirror_mode": {
    "name": "ipython",
    "version": 3
   },
   "file_extension": ".py",
   "mimetype": "text/x-python",
   "name": "python",
   "nbconvert_exporter": "python",
   "pygments_lexer": "ipython3",
   "version": "3.9.12"
  }
 },
 "nbformat": 4,
 "nbformat_minor": 5
}
